{
 "cells": [
  {
   "cell_type": "markdown",
   "source": [
    "# Movie Recommender with Python"
   ],
   "metadata": {
    "collapsed": false
   }
  },
  {
   "cell_type": "markdown",
   "source": [
    "#### DF Capstone Project\n",
    "##### Author: Richard V"
   ],
   "metadata": {
    "collapsed": false
   }
  },
  {
   "cell_type": "markdown",
   "source": [
    "### Importing Libraries"
   ],
   "metadata": {
    "collapsed": false
   }
  },
  {
   "cell_type": "code",
   "execution_count": 2,
   "metadata": {
    "collapsed": true,
    "ExecuteTime": {
     "end_time": "2023-08-22T08:47:59.961893100Z",
     "start_time": "2023-08-22T08:47:57.909919200Z"
    }
   },
   "outputs": [],
   "source": [
    "import pandas as pd\n",
    "from sklearn.metrics.pairwise import cosine_similarity\n",
    "from sklearn.preprocessing import MultiLabelBinarizer\n",
    "from sklearn.cluster import KMeans\n",
    "from sklearn.metrics import pairwise_distances_argmin_min\n",
    "from ast import literal_eval\n",
    "from itertools import chain\n",
    "import matplotlib.pyplot as plt\n",
    "# Visualize clusters (2D PCA for simplicity)\n",
    "from sklearn.decomposition import PCA\n"
   ]
  },
  {
   "cell_type": "markdown",
   "source": [
    "### Preprocessing the dataset\n",
    "Here I explore the dataset, handling any null values or errors within the dataset, look for any correlations between variables and formatting the dataset for modelling later on."
   ],
   "metadata": {
    "collapsed": false
   }
  },
  {
   "cell_type": "code",
   "execution_count": 3,
   "outputs": [],
   "source": [
    "df = pd.read_csv(\"10kmovies.csv\")"
   ],
   "metadata": {
    "collapsed": false,
    "ExecuteTime": {
     "end_time": "2023-08-22T08:48:00.085562300Z",
     "start_time": "2023-08-22T08:47:59.963889100Z"
    }
   }
  },
  {
   "cell_type": "code",
   "execution_count": 4,
   "outputs": [
    {
     "data": {
      "text/plain": "       id                              title release_date  \\\n0  758323                The Pope's Exorcist   2023-04-05   \n1  640146  Ant-Man and the Wasp: Quantumania   2023-02-15   \n2  502356        The Super Mario Bros. Movie   2023-04-05   \n3  868759                            Ghosted   2023-04-18   \n4  594767           Shazam! Fury of the Gods   2023-03-15   \n\n                                              genres original_language  \\\n0                  ['Horror', 'Mystery', 'Thriller']           English   \n1         ['Action', 'Adventure', 'Science Fiction']           English   \n2  ['Animation', 'Adventure', 'Family', 'Fantasy'...           English   \n3                    ['Action', 'Comedy', 'Romance']           English   \n4       ['Action', 'Comedy', 'Fantasy', 'Adventure']           English   \n\n   vote_average  vote_count  popularity  \\\n0           7.4         619    5089.969   \n1           6.6        2294    4665.438   \n2           7.5        1861    3935.550   \n3           7.2         652    2791.532   \n4           6.8        1510    2702.593   \n\n                                            overview     budget  \\\n0  Father Gabriele Amorth, Chief Exorcist of the ...   18000000   \n1  Super-Hero partners Scott Lang and Hope van Dy...  200000000   \n2  While working underground to fix a water main,...  100000000   \n3  Salt-of-the-earth Cole falls head over heels f...          0   \n4  Billy Batson and his foster siblings, who tran...  125000000   \n\n                                production_companies     revenue  runtime  \\\n0  ['Screen Gems', '2.0 Entertainment', 'Jesus & ...    65675816      103   \n1      ['Marvel Studios', 'Kevin Feige Productions']   464566092      125   \n2  ['Universal Pictures', 'Illumination', 'Ninten...  1121048165       92   \n3                ['Skydance Media', 'Apple Studios']           0      120   \n4  ['New Line Cinema', 'The Safran Company', 'DC ...   133437105      130   \n\n                                             tagline  \n0  Inspired by the actual files of Father Gabriel...  \n1            Witness the beginning of a new dynasty.  \n2                                                NaN  \n3  Finding that special someone can be a real adv...  \n4                                      Oh. My. Gods.  ",
      "text/html": "<div>\n<style scoped>\n    .dataframe tbody tr th:only-of-type {\n        vertical-align: middle;\n    }\n\n    .dataframe tbody tr th {\n        vertical-align: top;\n    }\n\n    .dataframe thead th {\n        text-align: right;\n    }\n</style>\n<table border=\"1\" class=\"dataframe\">\n  <thead>\n    <tr style=\"text-align: right;\">\n      <th></th>\n      <th>id</th>\n      <th>title</th>\n      <th>release_date</th>\n      <th>genres</th>\n      <th>original_language</th>\n      <th>vote_average</th>\n      <th>vote_count</th>\n      <th>popularity</th>\n      <th>overview</th>\n      <th>budget</th>\n      <th>production_companies</th>\n      <th>revenue</th>\n      <th>runtime</th>\n      <th>tagline</th>\n    </tr>\n  </thead>\n  <tbody>\n    <tr>\n      <th>0</th>\n      <td>758323</td>\n      <td>The Pope's Exorcist</td>\n      <td>2023-04-05</td>\n      <td>['Horror', 'Mystery', 'Thriller']</td>\n      <td>English</td>\n      <td>7.4</td>\n      <td>619</td>\n      <td>5089.969</td>\n      <td>Father Gabriele Amorth, Chief Exorcist of the ...</td>\n      <td>18000000</td>\n      <td>['Screen Gems', '2.0 Entertainment', 'Jesus &amp; ...</td>\n      <td>65675816</td>\n      <td>103</td>\n      <td>Inspired by the actual files of Father Gabriel...</td>\n    </tr>\n    <tr>\n      <th>1</th>\n      <td>640146</td>\n      <td>Ant-Man and the Wasp: Quantumania</td>\n      <td>2023-02-15</td>\n      <td>['Action', 'Adventure', 'Science Fiction']</td>\n      <td>English</td>\n      <td>6.6</td>\n      <td>2294</td>\n      <td>4665.438</td>\n      <td>Super-Hero partners Scott Lang and Hope van Dy...</td>\n      <td>200000000</td>\n      <td>['Marvel Studios', 'Kevin Feige Productions']</td>\n      <td>464566092</td>\n      <td>125</td>\n      <td>Witness the beginning of a new dynasty.</td>\n    </tr>\n    <tr>\n      <th>2</th>\n      <td>502356</td>\n      <td>The Super Mario Bros. Movie</td>\n      <td>2023-04-05</td>\n      <td>['Animation', 'Adventure', 'Family', 'Fantasy'...</td>\n      <td>English</td>\n      <td>7.5</td>\n      <td>1861</td>\n      <td>3935.550</td>\n      <td>While working underground to fix a water main,...</td>\n      <td>100000000</td>\n      <td>['Universal Pictures', 'Illumination', 'Ninten...</td>\n      <td>1121048165</td>\n      <td>92</td>\n      <td>NaN</td>\n    </tr>\n    <tr>\n      <th>3</th>\n      <td>868759</td>\n      <td>Ghosted</td>\n      <td>2023-04-18</td>\n      <td>['Action', 'Comedy', 'Romance']</td>\n      <td>English</td>\n      <td>7.2</td>\n      <td>652</td>\n      <td>2791.532</td>\n      <td>Salt-of-the-earth Cole falls head over heels f...</td>\n      <td>0</td>\n      <td>['Skydance Media', 'Apple Studios']</td>\n      <td>0</td>\n      <td>120</td>\n      <td>Finding that special someone can be a real adv...</td>\n    </tr>\n    <tr>\n      <th>4</th>\n      <td>594767</td>\n      <td>Shazam! Fury of the Gods</td>\n      <td>2023-03-15</td>\n      <td>['Action', 'Comedy', 'Fantasy', 'Adventure']</td>\n      <td>English</td>\n      <td>6.8</td>\n      <td>1510</td>\n      <td>2702.593</td>\n      <td>Billy Batson and his foster siblings, who tran...</td>\n      <td>125000000</td>\n      <td>['New Line Cinema', 'The Safran Company', 'DC ...</td>\n      <td>133437105</td>\n      <td>130</td>\n      <td>Oh. My. Gods.</td>\n    </tr>\n  </tbody>\n</table>\n</div>"
     },
     "execution_count": 4,
     "metadata": {},
     "output_type": "execute_result"
    }
   ],
   "source": [
    "df.head()"
   ],
   "metadata": {
    "collapsed": false,
    "ExecuteTime": {
     "end_time": "2023-08-22T08:48:00.130442300Z",
     "start_time": "2023-08-22T08:48:00.086560Z"
    }
   }
  },
  {
   "cell_type": "code",
   "execution_count": 5,
   "outputs": [
    {
     "data": {
      "text/plain": "(10000, 14)"
     },
     "execution_count": 5,
     "metadata": {},
     "output_type": "execute_result"
    }
   ],
   "source": [
    "df.shape"
   ],
   "metadata": {
    "collapsed": false,
    "ExecuteTime": {
     "end_time": "2023-08-22T08:48:00.160387200Z",
     "start_time": "2023-08-22T08:48:00.119472300Z"
    }
   }
  },
  {
   "cell_type": "code",
   "execution_count": 6,
   "outputs": [
    {
     "data": {
      "text/plain": "id                         0\ntitle                      0\nrelease_date              21\ngenres                     0\noriginal_language          0\nvote_average               0\nvote_count                 0\npopularity                 0\noverview                  77\nbudget                     0\nproduction_companies       0\nrevenue                    0\nruntime                    0\ntagline                 2759\ndtype: int64"
     },
     "execution_count": 6,
     "metadata": {},
     "output_type": "execute_result"
    }
   ],
   "source": [
    "df.isnull().sum() #tagline,overview and release date have null values. Not interested in this so will drop them."
   ],
   "metadata": {
    "collapsed": false,
    "ExecuteTime": {
     "end_time": "2023-08-22T08:48:00.161361400Z",
     "start_time": "2023-08-22T08:48:00.132437200Z"
    }
   }
  },
  {
   "cell_type": "code",
   "execution_count": 7,
   "outputs": [],
   "source": [
    "df.drop(columns = ['release_date','overview','tagline'], inplace = True) # Dropping the columns will null values."
   ],
   "metadata": {
    "collapsed": false,
    "ExecuteTime": {
     "end_time": "2023-08-22T08:48:00.270097600Z",
     "start_time": "2023-08-22T08:48:00.148395100Z"
    }
   }
  },
  {
   "cell_type": "code",
   "execution_count": 8,
   "outputs": [
    {
     "data": {
      "text/plain": "id                      0\ntitle                   0\ngenres                  0\noriginal_language       0\nvote_average            0\nvote_count              0\npopularity              0\nbudget                  0\nproduction_companies    0\nrevenue                 0\nruntime                 0\ndtype: int64"
     },
     "execution_count": 8,
     "metadata": {},
     "output_type": "execute_result"
    }
   ],
   "source": [
    "df.isnull().sum()"
   ],
   "metadata": {
    "collapsed": false,
    "ExecuteTime": {
     "end_time": "2023-08-22T08:48:00.294005Z",
     "start_time": "2023-08-22T08:48:00.164353300Z"
    }
   }
  },
  {
   "cell_type": "code",
   "execution_count": 9,
   "outputs": [
    {
     "data": {
      "text/plain": "       id                              title  \\\n0  758323                The Pope's Exorcist   \n1  640146  Ant-Man and the Wasp: Quantumania   \n2  502356        The Super Mario Bros. Movie   \n3  868759                            Ghosted   \n4  594767           Shazam! Fury of the Gods   \n\n                                              genres original_language  \\\n0                  ['Horror', 'Mystery', 'Thriller']           English   \n1         ['Action', 'Adventure', 'Science Fiction']           English   \n2  ['Animation', 'Adventure', 'Family', 'Fantasy'...           English   \n3                    ['Action', 'Comedy', 'Romance']           English   \n4       ['Action', 'Comedy', 'Fantasy', 'Adventure']           English   \n\n   vote_average  vote_count  popularity     budget  \\\n0           7.4         619    5089.969   18000000   \n1           6.6        2294    4665.438  200000000   \n2           7.5        1861    3935.550  100000000   \n3           7.2         652    2791.532          0   \n4           6.8        1510    2702.593  125000000   \n\n                                production_companies     revenue  runtime  \n0  ['Screen Gems', '2.0 Entertainment', 'Jesus & ...    65675816      103  \n1      ['Marvel Studios', 'Kevin Feige Productions']   464566092      125  \n2  ['Universal Pictures', 'Illumination', 'Ninten...  1121048165       92  \n3                ['Skydance Media', 'Apple Studios']           0      120  \n4  ['New Line Cinema', 'The Safran Company', 'DC ...   133437105      130  ",
      "text/html": "<div>\n<style scoped>\n    .dataframe tbody tr th:only-of-type {\n        vertical-align: middle;\n    }\n\n    .dataframe tbody tr th {\n        vertical-align: top;\n    }\n\n    .dataframe thead th {\n        text-align: right;\n    }\n</style>\n<table border=\"1\" class=\"dataframe\">\n  <thead>\n    <tr style=\"text-align: right;\">\n      <th></th>\n      <th>id</th>\n      <th>title</th>\n      <th>genres</th>\n      <th>original_language</th>\n      <th>vote_average</th>\n      <th>vote_count</th>\n      <th>popularity</th>\n      <th>budget</th>\n      <th>production_companies</th>\n      <th>revenue</th>\n      <th>runtime</th>\n    </tr>\n  </thead>\n  <tbody>\n    <tr>\n      <th>0</th>\n      <td>758323</td>\n      <td>The Pope's Exorcist</td>\n      <td>['Horror', 'Mystery', 'Thriller']</td>\n      <td>English</td>\n      <td>7.4</td>\n      <td>619</td>\n      <td>5089.969</td>\n      <td>18000000</td>\n      <td>['Screen Gems', '2.0 Entertainment', 'Jesus &amp; ...</td>\n      <td>65675816</td>\n      <td>103</td>\n    </tr>\n    <tr>\n      <th>1</th>\n      <td>640146</td>\n      <td>Ant-Man and the Wasp: Quantumania</td>\n      <td>['Action', 'Adventure', 'Science Fiction']</td>\n      <td>English</td>\n      <td>6.6</td>\n      <td>2294</td>\n      <td>4665.438</td>\n      <td>200000000</td>\n      <td>['Marvel Studios', 'Kevin Feige Productions']</td>\n      <td>464566092</td>\n      <td>125</td>\n    </tr>\n    <tr>\n      <th>2</th>\n      <td>502356</td>\n      <td>The Super Mario Bros. Movie</td>\n      <td>['Animation', 'Adventure', 'Family', 'Fantasy'...</td>\n      <td>English</td>\n      <td>7.5</td>\n      <td>1861</td>\n      <td>3935.550</td>\n      <td>100000000</td>\n      <td>['Universal Pictures', 'Illumination', 'Ninten...</td>\n      <td>1121048165</td>\n      <td>92</td>\n    </tr>\n    <tr>\n      <th>3</th>\n      <td>868759</td>\n      <td>Ghosted</td>\n      <td>['Action', 'Comedy', 'Romance']</td>\n      <td>English</td>\n      <td>7.2</td>\n      <td>652</td>\n      <td>2791.532</td>\n      <td>0</td>\n      <td>['Skydance Media', 'Apple Studios']</td>\n      <td>0</td>\n      <td>120</td>\n    </tr>\n    <tr>\n      <th>4</th>\n      <td>594767</td>\n      <td>Shazam! Fury of the Gods</td>\n      <td>['Action', 'Comedy', 'Fantasy', 'Adventure']</td>\n      <td>English</td>\n      <td>6.8</td>\n      <td>1510</td>\n      <td>2702.593</td>\n      <td>125000000</td>\n      <td>['New Line Cinema', 'The Safran Company', 'DC ...</td>\n      <td>133437105</td>\n      <td>130</td>\n    </tr>\n  </tbody>\n</table>\n</div>"
     },
     "execution_count": 9,
     "metadata": {},
     "output_type": "execute_result"
    }
   ],
   "source": [
    "df.head()"
   ],
   "metadata": {
    "collapsed": false,
    "ExecuteTime": {
     "end_time": "2023-08-22T08:48:00.294005Z",
     "start_time": "2023-08-22T08:48:00.179311900Z"
    }
   }
  },
  {
   "cell_type": "code",
   "execution_count": 10,
   "outputs": [
    {
     "data": {
      "text/plain": "(10000, 11)"
     },
     "execution_count": 10,
     "metadata": {},
     "output_type": "execute_result"
    }
   ],
   "source": [
    "df.shape"
   ],
   "metadata": {
    "collapsed": false,
    "ExecuteTime": {
     "end_time": "2023-08-22T08:48:00.295002500Z",
     "start_time": "2023-08-22T08:48:00.198261Z"
    }
   }
  },
  {
   "cell_type": "code",
   "execution_count": 11,
   "outputs": [
    {
     "data": {
      "text/plain": "array([\"['Horror', 'Mystery', 'Thriller']\",\n       \"['Action', 'Adventure', 'Science Fiction']\",\n       \"['Animation', 'Adventure', 'Family', 'Fantasy', 'Comedy']\", ...,\n       \"['Thriller', 'Drama', 'Music']\",\n       \"['Fantasy', 'Animation', 'Action', 'Adventure', 'Science Fiction', 'Drama', 'Romance']\",\n       \"['TV Movie', 'Fantasy', 'Animation', 'Action', 'Thriller', 'Science Fiction', 'Horror']\"],\n      dtype=object)"
     },
     "execution_count": 11,
     "metadata": {},
     "output_type": "execute_result"
    }
   ],
   "source": [
    "df.genres.unique()"
   ],
   "metadata": {
    "collapsed": false,
    "ExecuteTime": {
     "end_time": "2023-08-22T08:48:00.296000100Z",
     "start_time": "2023-08-22T08:48:00.214218300Z"
    }
   }
  },
  {
   "cell_type": "code",
   "execution_count": 12,
   "outputs": [
    {
     "data": {
      "text/plain": "       id                              title  \\\n0  758323                The Pope's Exorcist   \n1  640146  Ant-Man and the Wasp: Quantumania   \n2  502356        The Super Mario Bros. Movie   \n3  868759                            Ghosted   \n4  594767           Shazam! Fury of the Gods   \n\n                                              genres original_language  \\\n0                  ['Horror', 'Mystery', 'Thriller']           English   \n1         ['Action', 'Adventure', 'Science Fiction']           English   \n2  ['Animation', 'Adventure', 'Family', 'Fantasy'...           English   \n3                    ['Action', 'Comedy', 'Romance']           English   \n4       ['Action', 'Comedy', 'Fantasy', 'Adventure']           English   \n\n   vote_average  vote_count  popularity     budget  \\\n0           7.4         619    5089.969   18000000   \n1           6.6        2294    4665.438  200000000   \n2           7.5        1861    3935.550  100000000   \n3           7.2         652    2791.532          0   \n4           6.8        1510    2702.593  125000000   \n\n                                production_companies     revenue  runtime  \n0  ['Screen Gems', '2.0 Entertainment', 'Jesus & ...    65675816      103  \n1      ['Marvel Studios', 'Kevin Feige Productions']   464566092      125  \n2  ['Universal Pictures', 'Illumination', 'Ninten...  1121048165       92  \n3                ['Skydance Media', 'Apple Studios']           0      120  \n4  ['New Line Cinema', 'The Safran Company', 'DC ...   133437105      130  ",
      "text/html": "<div>\n<style scoped>\n    .dataframe tbody tr th:only-of-type {\n        vertical-align: middle;\n    }\n\n    .dataframe tbody tr th {\n        vertical-align: top;\n    }\n\n    .dataframe thead th {\n        text-align: right;\n    }\n</style>\n<table border=\"1\" class=\"dataframe\">\n  <thead>\n    <tr style=\"text-align: right;\">\n      <th></th>\n      <th>id</th>\n      <th>title</th>\n      <th>genres</th>\n      <th>original_language</th>\n      <th>vote_average</th>\n      <th>vote_count</th>\n      <th>popularity</th>\n      <th>budget</th>\n      <th>production_companies</th>\n      <th>revenue</th>\n      <th>runtime</th>\n    </tr>\n  </thead>\n  <tbody>\n    <tr>\n      <th>0</th>\n      <td>758323</td>\n      <td>The Pope's Exorcist</td>\n      <td>['Horror', 'Mystery', 'Thriller']</td>\n      <td>English</td>\n      <td>7.4</td>\n      <td>619</td>\n      <td>5089.969</td>\n      <td>18000000</td>\n      <td>['Screen Gems', '2.0 Entertainment', 'Jesus &amp; ...</td>\n      <td>65675816</td>\n      <td>103</td>\n    </tr>\n    <tr>\n      <th>1</th>\n      <td>640146</td>\n      <td>Ant-Man and the Wasp: Quantumania</td>\n      <td>['Action', 'Adventure', 'Science Fiction']</td>\n      <td>English</td>\n      <td>6.6</td>\n      <td>2294</td>\n      <td>4665.438</td>\n      <td>200000000</td>\n      <td>['Marvel Studios', 'Kevin Feige Productions']</td>\n      <td>464566092</td>\n      <td>125</td>\n    </tr>\n    <tr>\n      <th>2</th>\n      <td>502356</td>\n      <td>The Super Mario Bros. Movie</td>\n      <td>['Animation', 'Adventure', 'Family', 'Fantasy'...</td>\n      <td>English</td>\n      <td>7.5</td>\n      <td>1861</td>\n      <td>3935.550</td>\n      <td>100000000</td>\n      <td>['Universal Pictures', 'Illumination', 'Ninten...</td>\n      <td>1121048165</td>\n      <td>92</td>\n    </tr>\n    <tr>\n      <th>3</th>\n      <td>868759</td>\n      <td>Ghosted</td>\n      <td>['Action', 'Comedy', 'Romance']</td>\n      <td>English</td>\n      <td>7.2</td>\n      <td>652</td>\n      <td>2791.532</td>\n      <td>0</td>\n      <td>['Skydance Media', 'Apple Studios']</td>\n      <td>0</td>\n      <td>120</td>\n    </tr>\n    <tr>\n      <th>4</th>\n      <td>594767</td>\n      <td>Shazam! Fury of the Gods</td>\n      <td>['Action', 'Comedy', 'Fantasy', 'Adventure']</td>\n      <td>English</td>\n      <td>6.8</td>\n      <td>1510</td>\n      <td>2702.593</td>\n      <td>125000000</td>\n      <td>['New Line Cinema', 'The Safran Company', 'DC ...</td>\n      <td>133437105</td>\n      <td>130</td>\n    </tr>\n  </tbody>\n</table>\n</div>"
     },
     "execution_count": 12,
     "metadata": {},
     "output_type": "execute_result"
    }
   ],
   "source": [
    "df.head()"
   ],
   "metadata": {
    "collapsed": false,
    "ExecuteTime": {
     "end_time": "2023-08-22T08:48:00.296000100Z",
     "start_time": "2023-08-22T08:48:00.228183600Z"
    }
   }
  },
  {
   "cell_type": "code",
   "execution_count": 13,
   "outputs": [
    {
     "name": "stderr",
     "output_type": "stream",
     "text": [
      "C:\\Users\\Richard\\AppData\\Local\\Temp\\ipykernel_33768\\1886530979.py:1: FutureWarning: The default value of numeric_only in DataFrame.corr is deprecated. In a future version, it will default to False. Select only valid columns or specify the value of numeric_only to silence this warning.\n",
      "  df.corr()\n"
     ]
    },
    {
     "data": {
      "text/plain": "                    id  vote_average  vote_count  popularity    budget  \\\nid            1.000000     -0.241569   -0.259859    0.102688 -0.243411   \nvote_average -0.241569      1.000000    0.253543    0.040162  0.074849   \nvote_count   -0.259859      0.253543    1.000000    0.069693  0.600121   \npopularity    0.102688      0.040162    0.069693    1.000000  0.143257   \nbudget       -0.243411      0.074849    0.600121    0.143257  1.000000   \nrevenue      -0.207591      0.149643    0.753206    0.148195  0.735239   \nruntime      -0.256838      0.388440    0.288462    0.038973  0.282498   \n\n               revenue   runtime  \nid           -0.207591 -0.256838  \nvote_average  0.149643  0.388440  \nvote_count    0.753206  0.288462  \npopularity    0.148195  0.038973  \nbudget        0.735239  0.282498  \nrevenue       1.000000  0.253162  \nruntime       0.253162  1.000000  ",
      "text/html": "<div>\n<style scoped>\n    .dataframe tbody tr th:only-of-type {\n        vertical-align: middle;\n    }\n\n    .dataframe tbody tr th {\n        vertical-align: top;\n    }\n\n    .dataframe thead th {\n        text-align: right;\n    }\n</style>\n<table border=\"1\" class=\"dataframe\">\n  <thead>\n    <tr style=\"text-align: right;\">\n      <th></th>\n      <th>id</th>\n      <th>vote_average</th>\n      <th>vote_count</th>\n      <th>popularity</th>\n      <th>budget</th>\n      <th>revenue</th>\n      <th>runtime</th>\n    </tr>\n  </thead>\n  <tbody>\n    <tr>\n      <th>id</th>\n      <td>1.000000</td>\n      <td>-0.241569</td>\n      <td>-0.259859</td>\n      <td>0.102688</td>\n      <td>-0.243411</td>\n      <td>-0.207591</td>\n      <td>-0.256838</td>\n    </tr>\n    <tr>\n      <th>vote_average</th>\n      <td>-0.241569</td>\n      <td>1.000000</td>\n      <td>0.253543</td>\n      <td>0.040162</td>\n      <td>0.074849</td>\n      <td>0.149643</td>\n      <td>0.388440</td>\n    </tr>\n    <tr>\n      <th>vote_count</th>\n      <td>-0.259859</td>\n      <td>0.253543</td>\n      <td>1.000000</td>\n      <td>0.069693</td>\n      <td>0.600121</td>\n      <td>0.753206</td>\n      <td>0.288462</td>\n    </tr>\n    <tr>\n      <th>popularity</th>\n      <td>0.102688</td>\n      <td>0.040162</td>\n      <td>0.069693</td>\n      <td>1.000000</td>\n      <td>0.143257</td>\n      <td>0.148195</td>\n      <td>0.038973</td>\n    </tr>\n    <tr>\n      <th>budget</th>\n      <td>-0.243411</td>\n      <td>0.074849</td>\n      <td>0.600121</td>\n      <td>0.143257</td>\n      <td>1.000000</td>\n      <td>0.735239</td>\n      <td>0.282498</td>\n    </tr>\n    <tr>\n      <th>revenue</th>\n      <td>-0.207591</td>\n      <td>0.149643</td>\n      <td>0.753206</td>\n      <td>0.148195</td>\n      <td>0.735239</td>\n      <td>1.000000</td>\n      <td>0.253162</td>\n    </tr>\n    <tr>\n      <th>runtime</th>\n      <td>-0.256838</td>\n      <td>0.388440</td>\n      <td>0.288462</td>\n      <td>0.038973</td>\n      <td>0.282498</td>\n      <td>0.253162</td>\n      <td>1.000000</td>\n    </tr>\n  </tbody>\n</table>\n</div>"
     },
     "execution_count": 13,
     "metadata": {},
     "output_type": "execute_result"
    }
   ],
   "source": [
    "df.corr()"
   ],
   "metadata": {
    "collapsed": false,
    "ExecuteTime": {
     "end_time": "2023-08-22T08:48:00.296999400Z",
     "start_time": "2023-08-22T08:48:00.245135900Z"
    }
   }
  },
  {
   "cell_type": "code",
   "execution_count": 14,
   "outputs": [
    {
     "data": {
      "text/plain": "id                        int64\ntitle                    object\ngenres                   object\noriginal_language        object\nvote_average            float64\nvote_count                int64\npopularity              float64\nbudget                    int64\nproduction_companies     object\nrevenue                   int64\nruntime                   int64\ndtype: object"
     },
     "execution_count": 14,
     "metadata": {},
     "output_type": "execute_result"
    }
   ],
   "source": [
    "df.dtypes"
   ],
   "metadata": {
    "collapsed": false,
    "ExecuteTime": {
     "end_time": "2023-08-22T08:48:00.296999400Z",
     "start_time": "2023-08-22T08:48:00.270097600Z"
    }
   }
  },
  {
   "cell_type": "code",
   "execution_count": 15,
   "outputs": [
    {
     "data": {
      "text/plain": "       id                              title  \\\n0  758323                The Pope's Exorcist   \n1  640146  Ant-Man and the Wasp: Quantumania   \n2  502356        The Super Mario Bros. Movie   \n3  868759                            Ghosted   \n4  594767           Shazam! Fury of the Gods   \n\n                                              genres original_language  \\\n0                  ['Horror', 'Mystery', 'Thriller']           English   \n1         ['Action', 'Adventure', 'Science Fiction']           English   \n2  ['Animation', 'Adventure', 'Family', 'Fantasy'...           English   \n3                    ['Action', 'Comedy', 'Romance']           English   \n4       ['Action', 'Comedy', 'Fantasy', 'Adventure']           English   \n\n   vote_average  vote_count  popularity     budget  \\\n0           7.4         619    5089.969   18000000   \n1           6.6        2294    4665.438  200000000   \n2           7.5        1861    3935.550  100000000   \n3           7.2         652    2791.532          0   \n4           6.8        1510    2702.593  125000000   \n\n                                production_companies     revenue  runtime  \n0  ['Screen Gems', '2.0 Entertainment', 'Jesus & ...    65675816      103  \n1      ['Marvel Studios', 'Kevin Feige Productions']   464566092      125  \n2  ['Universal Pictures', 'Illumination', 'Ninten...  1121048165       92  \n3                ['Skydance Media', 'Apple Studios']           0      120  \n4  ['New Line Cinema', 'The Safran Company', 'DC ...   133437105      130  ",
      "text/html": "<div>\n<style scoped>\n    .dataframe tbody tr th:only-of-type {\n        vertical-align: middle;\n    }\n\n    .dataframe tbody tr th {\n        vertical-align: top;\n    }\n\n    .dataframe thead th {\n        text-align: right;\n    }\n</style>\n<table border=\"1\" class=\"dataframe\">\n  <thead>\n    <tr style=\"text-align: right;\">\n      <th></th>\n      <th>id</th>\n      <th>title</th>\n      <th>genres</th>\n      <th>original_language</th>\n      <th>vote_average</th>\n      <th>vote_count</th>\n      <th>popularity</th>\n      <th>budget</th>\n      <th>production_companies</th>\n      <th>revenue</th>\n      <th>runtime</th>\n    </tr>\n  </thead>\n  <tbody>\n    <tr>\n      <th>0</th>\n      <td>758323</td>\n      <td>The Pope's Exorcist</td>\n      <td>['Horror', 'Mystery', 'Thriller']</td>\n      <td>English</td>\n      <td>7.4</td>\n      <td>619</td>\n      <td>5089.969</td>\n      <td>18000000</td>\n      <td>['Screen Gems', '2.0 Entertainment', 'Jesus &amp; ...</td>\n      <td>65675816</td>\n      <td>103</td>\n    </tr>\n    <tr>\n      <th>1</th>\n      <td>640146</td>\n      <td>Ant-Man and the Wasp: Quantumania</td>\n      <td>['Action', 'Adventure', 'Science Fiction']</td>\n      <td>English</td>\n      <td>6.6</td>\n      <td>2294</td>\n      <td>4665.438</td>\n      <td>200000000</td>\n      <td>['Marvel Studios', 'Kevin Feige Productions']</td>\n      <td>464566092</td>\n      <td>125</td>\n    </tr>\n    <tr>\n      <th>2</th>\n      <td>502356</td>\n      <td>The Super Mario Bros. Movie</td>\n      <td>['Animation', 'Adventure', 'Family', 'Fantasy'...</td>\n      <td>English</td>\n      <td>7.5</td>\n      <td>1861</td>\n      <td>3935.550</td>\n      <td>100000000</td>\n      <td>['Universal Pictures', 'Illumination', 'Ninten...</td>\n      <td>1121048165</td>\n      <td>92</td>\n    </tr>\n    <tr>\n      <th>3</th>\n      <td>868759</td>\n      <td>Ghosted</td>\n      <td>['Action', 'Comedy', 'Romance']</td>\n      <td>English</td>\n      <td>7.2</td>\n      <td>652</td>\n      <td>2791.532</td>\n      <td>0</td>\n      <td>['Skydance Media', 'Apple Studios']</td>\n      <td>0</td>\n      <td>120</td>\n    </tr>\n    <tr>\n      <th>4</th>\n      <td>594767</td>\n      <td>Shazam! Fury of the Gods</td>\n      <td>['Action', 'Comedy', 'Fantasy', 'Adventure']</td>\n      <td>English</td>\n      <td>6.8</td>\n      <td>1510</td>\n      <td>2702.593</td>\n      <td>125000000</td>\n      <td>['New Line Cinema', 'The Safran Company', 'DC ...</td>\n      <td>133437105</td>\n      <td>130</td>\n    </tr>\n  </tbody>\n</table>\n</div>"
     },
     "execution_count": 15,
     "metadata": {},
     "output_type": "execute_result"
    }
   ],
   "source": [
    "df.head()"
   ],
   "metadata": {
    "collapsed": false,
    "ExecuteTime": {
     "end_time": "2023-08-22T08:48:00.298023200Z",
     "start_time": "2023-08-22T08:48:00.273062400Z"
    }
   }
  },
  {
   "cell_type": "code",
   "execution_count": 16,
   "outputs": [],
   "source": [
    "action_movies = df[df['genres'].str.contains('Action')] # will output rows with action genre in them"
   ],
   "metadata": {
    "collapsed": false,
    "ExecuteTime": {
     "end_time": "2023-08-22T08:48:00.399753400Z",
     "start_time": "2023-08-22T08:48:00.291014100Z"
    }
   }
  },
  {
   "cell_type": "code",
   "execution_count": 17,
   "outputs": [],
   "source": [
    "action_movies = df[df['genres'] == 'Action']# will output rows with ONLY action genre in them. - there are none."
   ],
   "metadata": {
    "collapsed": false,
    "ExecuteTime": {
     "end_time": "2023-08-22T08:48:00.441645500Z",
     "start_time": "2023-08-22T08:48:00.306970800Z"
    }
   }
  },
  {
   "cell_type": "code",
   "execution_count": 18,
   "outputs": [
    {
     "data": {
      "text/plain": "Empty DataFrame\nColumns: [id, title, genres, original_language, vote_average, vote_count, popularity, budget, production_companies, revenue, runtime]\nIndex: []",
      "text/html": "<div>\n<style scoped>\n    .dataframe tbody tr th:only-of-type {\n        vertical-align: middle;\n    }\n\n    .dataframe tbody tr th {\n        vertical-align: top;\n    }\n\n    .dataframe thead th {\n        text-align: right;\n    }\n</style>\n<table border=\"1\" class=\"dataframe\">\n  <thead>\n    <tr style=\"text-align: right;\">\n      <th></th>\n      <th>id</th>\n      <th>title</th>\n      <th>genres</th>\n      <th>original_language</th>\n      <th>vote_average</th>\n      <th>vote_count</th>\n      <th>popularity</th>\n      <th>budget</th>\n      <th>production_companies</th>\n      <th>revenue</th>\n      <th>runtime</th>\n    </tr>\n  </thead>\n  <tbody>\n  </tbody>\n</table>\n</div>"
     },
     "execution_count": 18,
     "metadata": {},
     "output_type": "execute_result"
    }
   ],
   "source": [
    "action_movies"
   ],
   "metadata": {
    "collapsed": false,
    "ExecuteTime": {
     "end_time": "2023-08-22T08:48:00.471530700Z",
     "start_time": "2023-08-22T08:48:00.322929100Z"
    }
   }
  },
  {
   "cell_type": "code",
   "execution_count": 19,
   "outputs": [],
   "source": [
    "# Convert string representations to actual lists\n",
    "df['genres'] = df['genres'].apply(literal_eval)\n"
   ],
   "metadata": {
    "collapsed": false,
    "ExecuteTime": {
     "end_time": "2023-08-22T08:48:00.661051800Z",
     "start_time": "2023-08-22T08:48:00.337888200Z"
    }
   }
  },
  {
   "cell_type": "code",
   "execution_count": 20,
   "outputs": [
    {
     "data": {
      "text/plain": "       id                              title  \\\n0  758323                The Pope's Exorcist   \n1  640146  Ant-Man and the Wasp: Quantumania   \n2  502356        The Super Mario Bros. Movie   \n3  868759                            Ghosted   \n4  594767           Shazam! Fury of the Gods   \n\n                                            genres original_language  \\\n0                      [Horror, Mystery, Thriller]           English   \n1             [Action, Adventure, Science Fiction]           English   \n2  [Animation, Adventure, Family, Fantasy, Comedy]           English   \n3                        [Action, Comedy, Romance]           English   \n4             [Action, Comedy, Fantasy, Adventure]           English   \n\n   vote_average  vote_count  popularity     budget  \\\n0           7.4         619    5089.969   18000000   \n1           6.6        2294    4665.438  200000000   \n2           7.5        1861    3935.550  100000000   \n3           7.2         652    2791.532          0   \n4           6.8        1510    2702.593  125000000   \n\n                                production_companies     revenue  runtime  \n0  ['Screen Gems', '2.0 Entertainment', 'Jesus & ...    65675816      103  \n1      ['Marvel Studios', 'Kevin Feige Productions']   464566092      125  \n2  ['Universal Pictures', 'Illumination', 'Ninten...  1121048165       92  \n3                ['Skydance Media', 'Apple Studios']           0      120  \n4  ['New Line Cinema', 'The Safran Company', 'DC ...   133437105      130  ",
      "text/html": "<div>\n<style scoped>\n    .dataframe tbody tr th:only-of-type {\n        vertical-align: middle;\n    }\n\n    .dataframe tbody tr th {\n        vertical-align: top;\n    }\n\n    .dataframe thead th {\n        text-align: right;\n    }\n</style>\n<table border=\"1\" class=\"dataframe\">\n  <thead>\n    <tr style=\"text-align: right;\">\n      <th></th>\n      <th>id</th>\n      <th>title</th>\n      <th>genres</th>\n      <th>original_language</th>\n      <th>vote_average</th>\n      <th>vote_count</th>\n      <th>popularity</th>\n      <th>budget</th>\n      <th>production_companies</th>\n      <th>revenue</th>\n      <th>runtime</th>\n    </tr>\n  </thead>\n  <tbody>\n    <tr>\n      <th>0</th>\n      <td>758323</td>\n      <td>The Pope's Exorcist</td>\n      <td>[Horror, Mystery, Thriller]</td>\n      <td>English</td>\n      <td>7.4</td>\n      <td>619</td>\n      <td>5089.969</td>\n      <td>18000000</td>\n      <td>['Screen Gems', '2.0 Entertainment', 'Jesus &amp; ...</td>\n      <td>65675816</td>\n      <td>103</td>\n    </tr>\n    <tr>\n      <th>1</th>\n      <td>640146</td>\n      <td>Ant-Man and the Wasp: Quantumania</td>\n      <td>[Action, Adventure, Science Fiction]</td>\n      <td>English</td>\n      <td>6.6</td>\n      <td>2294</td>\n      <td>4665.438</td>\n      <td>200000000</td>\n      <td>['Marvel Studios', 'Kevin Feige Productions']</td>\n      <td>464566092</td>\n      <td>125</td>\n    </tr>\n    <tr>\n      <th>2</th>\n      <td>502356</td>\n      <td>The Super Mario Bros. Movie</td>\n      <td>[Animation, Adventure, Family, Fantasy, Comedy]</td>\n      <td>English</td>\n      <td>7.5</td>\n      <td>1861</td>\n      <td>3935.550</td>\n      <td>100000000</td>\n      <td>['Universal Pictures', 'Illumination', 'Ninten...</td>\n      <td>1121048165</td>\n      <td>92</td>\n    </tr>\n    <tr>\n      <th>3</th>\n      <td>868759</td>\n      <td>Ghosted</td>\n      <td>[Action, Comedy, Romance]</td>\n      <td>English</td>\n      <td>7.2</td>\n      <td>652</td>\n      <td>2791.532</td>\n      <td>0</td>\n      <td>['Skydance Media', 'Apple Studios']</td>\n      <td>0</td>\n      <td>120</td>\n    </tr>\n    <tr>\n      <th>4</th>\n      <td>594767</td>\n      <td>Shazam! Fury of the Gods</td>\n      <td>[Action, Comedy, Fantasy, Adventure]</td>\n      <td>English</td>\n      <td>6.8</td>\n      <td>1510</td>\n      <td>2702.593</td>\n      <td>125000000</td>\n      <td>['New Line Cinema', 'The Safran Company', 'DC ...</td>\n      <td>133437105</td>\n      <td>130</td>\n    </tr>\n  </tbody>\n</table>\n</div>"
     },
     "execution_count": 20,
     "metadata": {},
     "output_type": "execute_result"
    }
   ],
   "source": [
    "df.head()"
   ],
   "metadata": {
    "collapsed": false,
    "ExecuteTime": {
     "end_time": "2023-08-22T08:48:00.661051800Z",
     "start_time": "2023-08-22T08:48:00.452581700Z"
    }
   }
  },
  {
   "cell_type": "code",
   "execution_count": 21,
   "outputs": [
    {
     "name": "stdout",
     "output_type": "stream",
     "text": [
      "['Horror' 'Mystery' 'Thriller' 'Action' 'Adventure' 'Science Fiction'\n",
      " 'Animation' 'Family' 'Fantasy' 'Comedy' 'Romance' 'Drama' 'History' 'War'\n",
      " 'Crime' 'Music' 'Western' 'TV Movie' 'Documentary']\n"
     ]
    }
   ],
   "source": [
    "# Flatten the lists and convert to Series\n",
    "flattened_series = pd.Series(chain.from_iterable(df['genres']))\n",
    "\n",
    "# Get unique genres\n",
    "unique_genres = flattened_series.unique()\n",
    "\n",
    "print(unique_genres)"
   ],
   "metadata": {
    "collapsed": false,
    "ExecuteTime": {
     "end_time": "2023-08-22T08:48:00.662045800Z",
     "start_time": "2023-08-22T08:48:00.462555100Z"
    }
   }
  },
  {
   "cell_type": "code",
   "execution_count": 22,
   "outputs": [
    {
     "data": {
      "text/plain": "19"
     },
     "execution_count": 22,
     "metadata": {},
     "output_type": "execute_result"
    }
   ],
   "source": [
    "len(unique_genres) #This will be my k cluster number"
   ],
   "metadata": {
    "collapsed": false,
    "ExecuteTime": {
     "end_time": "2023-08-22T08:48:00.694959800Z",
     "start_time": "2023-08-22T08:48:00.478512300Z"
    }
   }
  },
  {
   "cell_type": "markdown",
   "source": [
    "### Basic Movie Recommender\n",
    "\n",
    "So the essential idea of my movie recommender is to generate a list of movies to the user based on their genre of interest."
   ],
   "metadata": {
    "collapsed": false
   }
  },
  {
   "cell_type": "code",
   "execution_count": 23,
   "outputs": [
    {
     "name": "stdout",
     "output_type": "stream",
     "text": [
      "Here are the list of genres. ['Horror' 'Mystery' 'Thriller' 'Action' 'Adventure' 'Science Fiction'\n",
      " 'Animation' 'Family' 'Fantasy' 'Comedy' 'Romance' 'Drama' 'History' 'War'\n",
      " 'Crime' 'Music' 'Western' 'TV Movie' 'Documentary']\n",
      "Great choice! Action is a popular genre.\n",
      "Great choice! Romance is a popular genre.\n",
      "Great choice! Horror is a popular genre.\n",
      "Exiting the program.\n"
     ]
    }
   ],
   "source": [
    "#Create a user prompt.\n",
    "print (f\"Here are the list of genres. {unique_genres}\")\n",
    "goi = [] #genres of interest\n",
    "str = \"\"\n",
    "while True:\n",
    "    user_genre = input(\"Please enter a genre of interest (or 'exit' to quit): \").capitalize().strip() # strip in case a user will enter white spaces by accident.\n",
    "\n",
    "    if user_genre == 'Exit':\n",
    "        print(\"Exiting the program.\")\n",
    "\n",
    "        break\n",
    "    elif user_genre in unique_genres:\n",
    "        print(f\"Great choice! {user_genre} is a popular genre.\")\n",
    "        str += user_genre\n",
    "        goi.append(user_genre)\n",
    "    else:\n",
    "        print(\"Sorry, that's not a valid genre. Please choose from the following genres:\")\n",
    "        print(', '.join(unique_genres))"
   ],
   "metadata": {
    "collapsed": false,
    "ExecuteTime": {
     "end_time": "2023-08-22T08:48:09.971026200Z",
     "start_time": "2023-08-22T08:48:00.495466700Z"
    }
   }
  },
  {
   "cell_type": "code",
   "execution_count": 24,
   "outputs": [],
   "source": [
    "# Convert list genres to string for TF-IDF vectorization later on but also to\n",
    "df['genres_str'] = df['genres'].apply(', '.join)"
   ],
   "metadata": {
    "collapsed": false,
    "ExecuteTime": {
     "end_time": "2023-08-22T08:48:09.971026200Z",
     "start_time": "2023-08-22T08:48:09.925173800Z"
    }
   }
  },
  {
   "cell_type": "code",
   "execution_count": 25,
   "outputs": [
    {
     "data": {
      "text/plain": "['Action', 'Romance', 'Horror']"
     },
     "execution_count": 25,
     "metadata": {},
     "output_type": "execute_result"
    }
   ],
   "source": [
    "goi #Our genres of interest from the user."
   ],
   "metadata": {
    "collapsed": false,
    "ExecuteTime": {
     "end_time": "2023-08-22T08:48:09.971026200Z",
     "start_time": "2023-08-22T08:48:09.937118200Z"
    }
   }
  },
  {
   "cell_type": "code",
   "execution_count": 26,
   "outputs": [],
   "source": [
    "# df.groupby('vote_average')['title','genres','vote_average'].head(100).sort_values('vote_average',ascending=False) ## checking how to use sort_values."
   ],
   "metadata": {
    "collapsed": false,
    "ExecuteTime": {
     "end_time": "2023-08-22T08:48:09.972047500Z",
     "start_time": "2023-08-22T08:48:09.954072100Z"
    }
   }
  },
  {
   "cell_type": "code",
   "execution_count": 27,
   "outputs": [
    {
     "data": {
      "text/plain": "        id                                   title  \\\n6   447365        Guardians of the Galaxy Volume 3   \n5    76600                Avatar: The Way of Water   \n0   758323                     The Pope's Exorcist   \n7   934433                               Scream VI   \n8   677179                               Creed III   \n10  948713  The Last Kingdom: Seven Kings Must Die   \n3   868759                                 Ghosted   \n4   594767                Shazam! Fury of the Gods   \n1   640146       Ant-Man and the Wasp: Quantumania   \n11  420808                       Peter Pan & Wendy   \n\n                                      genres original_language  vote_average  \\\n6       [Science Fiction, Adventure, Action]           English           8.3   \n5       [Science Fiction, Adventure, Action]           English           7.7   \n0                [Horror, Mystery, Thriller]           English           7.4   \n7                [Horror, Mystery, Thriller]           English           7.3   \n8                            [Drama, Action]           English           7.3   \n10  [Action, Adventure, History, Drama, War]           English           7.3   \n3                  [Action, Comedy, Romance]           English           7.2   \n4       [Action, Comedy, Fantasy, Adventure]           English           6.8   \n1       [Action, Adventure, Science Fiction]           English           6.6   \n11      [Family, Fantasy, Action, Adventure]           English           5.9   \n\n    vote_count  popularity     budget  \\\n6          683    2520.308  250000000   \n5         7853    2280.912  460000000   \n0          619    5089.969   18000000   \n7         1029    1862.283   35000000   \n8         1298    1894.044   75000000   \n10         317    1436.725          0   \n3          652    2791.532          0   \n4         1510    2702.593  125000000   \n1         2294    4665.438  200000000   \n11         277    1358.468          0   \n\n                                 production_companies     revenue  runtime  \\\n6       ['Marvel Studios', 'Kevin Feige Productions']   289312702      150   \n5   ['20th Century Studios', 'Lightstorm Entertain...  2319331580      192   \n0   ['Screen Gems', '2.0 Entertainment', 'Jesus & ...    65675816      103   \n7   ['Radio Silence', 'Project X Entertainment', '...   168541093      123   \n8   ['Metro-Goldwyn-Mayer', 'Proximity Media', 'Ba...   269000000      116   \n10                                 ['Carnival Films']           0      111   \n3                 ['Skydance Media', 'Apple Studios']           0      120   \n4   ['New Line Cinema', 'The Safran Company', 'DC ...   133437105      130   \n1       ['Marvel Studios', 'Kevin Feige Productions']   464566092      125   \n11  ['Walt Disney Pictures', 'Whitaker Entertainme...           0      106   \n\n                                genres_str  \n6       Science Fiction, Adventure, Action  \n5       Science Fiction, Adventure, Action  \n0                Horror, Mystery, Thriller  \n7                Horror, Mystery, Thriller  \n8                            Drama, Action  \n10  Action, Adventure, History, Drama, War  \n3                  Action, Comedy, Romance  \n4       Action, Comedy, Fantasy, Adventure  \n1       Action, Adventure, Science Fiction  \n11      Family, Fantasy, Action, Adventure  ",
      "text/html": "<div>\n<style scoped>\n    .dataframe tbody tr th:only-of-type {\n        vertical-align: middle;\n    }\n\n    .dataframe tbody tr th {\n        vertical-align: top;\n    }\n\n    .dataframe thead th {\n        text-align: right;\n    }\n</style>\n<table border=\"1\" class=\"dataframe\">\n  <thead>\n    <tr style=\"text-align: right;\">\n      <th></th>\n      <th>id</th>\n      <th>title</th>\n      <th>genres</th>\n      <th>original_language</th>\n      <th>vote_average</th>\n      <th>vote_count</th>\n      <th>popularity</th>\n      <th>budget</th>\n      <th>production_companies</th>\n      <th>revenue</th>\n      <th>runtime</th>\n      <th>genres_str</th>\n    </tr>\n  </thead>\n  <tbody>\n    <tr>\n      <th>6</th>\n      <td>447365</td>\n      <td>Guardians of the Galaxy Volume 3</td>\n      <td>[Science Fiction, Adventure, Action]</td>\n      <td>English</td>\n      <td>8.3</td>\n      <td>683</td>\n      <td>2520.308</td>\n      <td>250000000</td>\n      <td>['Marvel Studios', 'Kevin Feige Productions']</td>\n      <td>289312702</td>\n      <td>150</td>\n      <td>Science Fiction, Adventure, Action</td>\n    </tr>\n    <tr>\n      <th>5</th>\n      <td>76600</td>\n      <td>Avatar: The Way of Water</td>\n      <td>[Science Fiction, Adventure, Action]</td>\n      <td>English</td>\n      <td>7.7</td>\n      <td>7853</td>\n      <td>2280.912</td>\n      <td>460000000</td>\n      <td>['20th Century Studios', 'Lightstorm Entertain...</td>\n      <td>2319331580</td>\n      <td>192</td>\n      <td>Science Fiction, Adventure, Action</td>\n    </tr>\n    <tr>\n      <th>0</th>\n      <td>758323</td>\n      <td>The Pope's Exorcist</td>\n      <td>[Horror, Mystery, Thriller]</td>\n      <td>English</td>\n      <td>7.4</td>\n      <td>619</td>\n      <td>5089.969</td>\n      <td>18000000</td>\n      <td>['Screen Gems', '2.0 Entertainment', 'Jesus &amp; ...</td>\n      <td>65675816</td>\n      <td>103</td>\n      <td>Horror, Mystery, Thriller</td>\n    </tr>\n    <tr>\n      <th>7</th>\n      <td>934433</td>\n      <td>Scream VI</td>\n      <td>[Horror, Mystery, Thriller]</td>\n      <td>English</td>\n      <td>7.3</td>\n      <td>1029</td>\n      <td>1862.283</td>\n      <td>35000000</td>\n      <td>['Radio Silence', 'Project X Entertainment', '...</td>\n      <td>168541093</td>\n      <td>123</td>\n      <td>Horror, Mystery, Thriller</td>\n    </tr>\n    <tr>\n      <th>8</th>\n      <td>677179</td>\n      <td>Creed III</td>\n      <td>[Drama, Action]</td>\n      <td>English</td>\n      <td>7.3</td>\n      <td>1298</td>\n      <td>1894.044</td>\n      <td>75000000</td>\n      <td>['Metro-Goldwyn-Mayer', 'Proximity Media', 'Ba...</td>\n      <td>269000000</td>\n      <td>116</td>\n      <td>Drama, Action</td>\n    </tr>\n    <tr>\n      <th>10</th>\n      <td>948713</td>\n      <td>The Last Kingdom: Seven Kings Must Die</td>\n      <td>[Action, Adventure, History, Drama, War]</td>\n      <td>English</td>\n      <td>7.3</td>\n      <td>317</td>\n      <td>1436.725</td>\n      <td>0</td>\n      <td>['Carnival Films']</td>\n      <td>0</td>\n      <td>111</td>\n      <td>Action, Adventure, History, Drama, War</td>\n    </tr>\n    <tr>\n      <th>3</th>\n      <td>868759</td>\n      <td>Ghosted</td>\n      <td>[Action, Comedy, Romance]</td>\n      <td>English</td>\n      <td>7.2</td>\n      <td>652</td>\n      <td>2791.532</td>\n      <td>0</td>\n      <td>['Skydance Media', 'Apple Studios']</td>\n      <td>0</td>\n      <td>120</td>\n      <td>Action, Comedy, Romance</td>\n    </tr>\n    <tr>\n      <th>4</th>\n      <td>594767</td>\n      <td>Shazam! Fury of the Gods</td>\n      <td>[Action, Comedy, Fantasy, Adventure]</td>\n      <td>English</td>\n      <td>6.8</td>\n      <td>1510</td>\n      <td>2702.593</td>\n      <td>125000000</td>\n      <td>['New Line Cinema', 'The Safran Company', 'DC ...</td>\n      <td>133437105</td>\n      <td>130</td>\n      <td>Action, Comedy, Fantasy, Adventure</td>\n    </tr>\n    <tr>\n      <th>1</th>\n      <td>640146</td>\n      <td>Ant-Man and the Wasp: Quantumania</td>\n      <td>[Action, Adventure, Science Fiction]</td>\n      <td>English</td>\n      <td>6.6</td>\n      <td>2294</td>\n      <td>4665.438</td>\n      <td>200000000</td>\n      <td>['Marvel Studios', 'Kevin Feige Productions']</td>\n      <td>464566092</td>\n      <td>125</td>\n      <td>Action, Adventure, Science Fiction</td>\n    </tr>\n    <tr>\n      <th>11</th>\n      <td>420808</td>\n      <td>Peter Pan &amp; Wendy</td>\n      <td>[Family, Fantasy, Action, Adventure]</td>\n      <td>English</td>\n      <td>5.9</td>\n      <td>277</td>\n      <td>1358.468</td>\n      <td>0</td>\n      <td>['Walt Disney Pictures', 'Whitaker Entertainme...</td>\n      <td>0</td>\n      <td>106</td>\n      <td>Family, Fantasy, Action, Adventure</td>\n    </tr>\n  </tbody>\n</table>\n</div>"
     },
     "execution_count": 27,
     "metadata": {},
     "output_type": "execute_result"
    }
   ],
   "source": [
    "\n",
    "# Create a boolean mask using str.contains for each genre\n",
    "genre_masks = [df['genres_str'].str.contains(genre) for genre in goi]\n",
    "\n",
    "# Combine the masks using logical OR (|)\n",
    "combined_mask = pd.concat(genre_masks, axis=1).any(axis=1)\n",
    "\n",
    "# Apply the combined mask to filter the DataFrame\n",
    "filtered_df = df[combined_mask]\n",
    "\n",
    "filtered_df.head(10).sort_values('vote_average',ascending=False)"
   ],
   "metadata": {
    "collapsed": false,
    "ExecuteTime": {
     "end_time": "2023-08-22T08:48:10.040839200Z",
     "start_time": "2023-08-22T08:48:09.970052400Z"
    }
   }
  },
  {
   "cell_type": "markdown",
   "source": [
    "### Applying Clustering\n",
    "Now that the basic idea of the movie recommender is created. How can we make a better movie recommender? What if we wanted to find movies similar to other movies rather than by genre? What if we were to include all the features we have such as vote_average, popularity, profit (revenue - budget), runtime, and production companies with genre this time?"
   ],
   "metadata": {
    "collapsed": false
   }
  },
  {
   "cell_type": "markdown",
   "source": [
    "##### Revamping the dataframe"
   ],
   "metadata": {
    "collapsed": false
   }
  },
  {
   "cell_type": "code",
   "execution_count": 59,
   "outputs": [],
   "source": [
    "df1 = df.copy()"
   ],
   "metadata": {
    "collapsed": false,
    "ExecuteTime": {
     "end_time": "2023-08-22T08:54:29.736998900Z",
     "start_time": "2023-08-22T08:54:29.714691700Z"
    }
   }
  },
  {
   "cell_type": "code",
   "execution_count": 60,
   "outputs": [],
   "source": [
    "df1['genres'] = df1['genres'].apply(', '.join) # converting the lists of genres into strings.\n",
    "df1['production_companies'] = df1['production_companies'].apply(literal_eval) #Converting the column of list of strings (json like)into actual (python) lists\n",
    "df1['production_companies'] = df1['production_companies'].apply(', '.join) #converting the lists into strings"
   ],
   "metadata": {
    "collapsed": false,
    "ExecuteTime": {
     "end_time": "2023-08-22T08:54:29.967915200Z",
     "start_time": "2023-08-22T08:54:29.848115900Z"
    }
   }
  },
  {
   "cell_type": "code",
   "execution_count": 61,
   "outputs": [
    {
     "data": {
      "text/plain": "       id                              title  \\\n0  758323                The Pope's Exorcist   \n1  640146  Ant-Man and the Wasp: Quantumania   \n2  502356        The Super Mario Bros. Movie   \n3  868759                            Ghosted   \n4  594767           Shazam! Fury of the Gods   \n\n                                          genres original_language  \\\n0                      Horror, Mystery, Thriller           English   \n1             Action, Adventure, Science Fiction           English   \n2  Animation, Adventure, Family, Fantasy, Comedy           English   \n3                        Action, Comedy, Romance           English   \n4             Action, Comedy, Fantasy, Adventure           English   \n\n   vote_average  vote_count  popularity     budget  \\\n0           7.4         619    5089.969   18000000   \n1           6.6        2294    4665.438  200000000   \n2           7.5        1861    3935.550  100000000   \n3           7.2         652    2791.532          0   \n4           6.8        1510    2702.593  125000000   \n\n                                production_companies     revenue  runtime  \\\n0  Screen Gems, 2.0 Entertainment, Jesus & Mary, ...    65675816      103   \n1            Marvel Studios, Kevin Feige Productions   464566092      125   \n2         Universal Pictures, Illumination, Nintendo  1121048165       92   \n3                      Skydance Media, Apple Studios           0      120   \n4  New Line Cinema, The Safran Company, DC Films,...   133437105      130   \n\n                                      genres_str  \n0                      Horror, Mystery, Thriller  \n1             Action, Adventure, Science Fiction  \n2  Animation, Adventure, Family, Fantasy, Comedy  \n3                        Action, Comedy, Romance  \n4             Action, Comedy, Fantasy, Adventure  ",
      "text/html": "<div>\n<style scoped>\n    .dataframe tbody tr th:only-of-type {\n        vertical-align: middle;\n    }\n\n    .dataframe tbody tr th {\n        vertical-align: top;\n    }\n\n    .dataframe thead th {\n        text-align: right;\n    }\n</style>\n<table border=\"1\" class=\"dataframe\">\n  <thead>\n    <tr style=\"text-align: right;\">\n      <th></th>\n      <th>id</th>\n      <th>title</th>\n      <th>genres</th>\n      <th>original_language</th>\n      <th>vote_average</th>\n      <th>vote_count</th>\n      <th>popularity</th>\n      <th>budget</th>\n      <th>production_companies</th>\n      <th>revenue</th>\n      <th>runtime</th>\n      <th>genres_str</th>\n    </tr>\n  </thead>\n  <tbody>\n    <tr>\n      <th>0</th>\n      <td>758323</td>\n      <td>The Pope's Exorcist</td>\n      <td>Horror, Mystery, Thriller</td>\n      <td>English</td>\n      <td>7.4</td>\n      <td>619</td>\n      <td>5089.969</td>\n      <td>18000000</td>\n      <td>Screen Gems, 2.0 Entertainment, Jesus &amp; Mary, ...</td>\n      <td>65675816</td>\n      <td>103</td>\n      <td>Horror, Mystery, Thriller</td>\n    </tr>\n    <tr>\n      <th>1</th>\n      <td>640146</td>\n      <td>Ant-Man and the Wasp: Quantumania</td>\n      <td>Action, Adventure, Science Fiction</td>\n      <td>English</td>\n      <td>6.6</td>\n      <td>2294</td>\n      <td>4665.438</td>\n      <td>200000000</td>\n      <td>Marvel Studios, Kevin Feige Productions</td>\n      <td>464566092</td>\n      <td>125</td>\n      <td>Action, Adventure, Science Fiction</td>\n    </tr>\n    <tr>\n      <th>2</th>\n      <td>502356</td>\n      <td>The Super Mario Bros. Movie</td>\n      <td>Animation, Adventure, Family, Fantasy, Comedy</td>\n      <td>English</td>\n      <td>7.5</td>\n      <td>1861</td>\n      <td>3935.550</td>\n      <td>100000000</td>\n      <td>Universal Pictures, Illumination, Nintendo</td>\n      <td>1121048165</td>\n      <td>92</td>\n      <td>Animation, Adventure, Family, Fantasy, Comedy</td>\n    </tr>\n    <tr>\n      <th>3</th>\n      <td>868759</td>\n      <td>Ghosted</td>\n      <td>Action, Comedy, Romance</td>\n      <td>English</td>\n      <td>7.2</td>\n      <td>652</td>\n      <td>2791.532</td>\n      <td>0</td>\n      <td>Skydance Media, Apple Studios</td>\n      <td>0</td>\n      <td>120</td>\n      <td>Action, Comedy, Romance</td>\n    </tr>\n    <tr>\n      <th>4</th>\n      <td>594767</td>\n      <td>Shazam! Fury of the Gods</td>\n      <td>Action, Comedy, Fantasy, Adventure</td>\n      <td>English</td>\n      <td>6.8</td>\n      <td>1510</td>\n      <td>2702.593</td>\n      <td>125000000</td>\n      <td>New Line Cinema, The Safran Company, DC Films,...</td>\n      <td>133437105</td>\n      <td>130</td>\n      <td>Action, Comedy, Fantasy, Adventure</td>\n    </tr>\n  </tbody>\n</table>\n</div>"
     },
     "execution_count": 61,
     "metadata": {},
     "output_type": "execute_result"
    }
   ],
   "source": [
    "df1.head() #"
   ],
   "metadata": {
    "collapsed": false,
    "ExecuteTime": {
     "end_time": "2023-08-22T08:54:30.555473600Z",
     "start_time": "2023-08-22T08:54:30.511987100Z"
    }
   }
  },
  {
   "cell_type": "code",
   "execution_count": 62,
   "outputs": [],
   "source": [
    "#making a net profit feature\n",
    "df1['net_profit'] = df1['revenue'] - df1['budget']"
   ],
   "metadata": {
    "collapsed": false,
    "ExecuteTime": {
     "end_time": "2023-08-22T08:57:14.681370800Z",
     "start_time": "2023-08-22T08:57:14.647196700Z"
    }
   }
  },
  {
   "cell_type": "code",
   "execution_count": 63,
   "outputs": [
    {
     "data": {
      "text/plain": "       id                              title  \\\n0  758323                The Pope's Exorcist   \n1  640146  Ant-Man and the Wasp: Quantumania   \n2  502356        The Super Mario Bros. Movie   \n3  868759                            Ghosted   \n4  594767           Shazam! Fury of the Gods   \n\n                                          genres original_language  \\\n0                      Horror, Mystery, Thriller           English   \n1             Action, Adventure, Science Fiction           English   \n2  Animation, Adventure, Family, Fantasy, Comedy           English   \n3                        Action, Comedy, Romance           English   \n4             Action, Comedy, Fantasy, Adventure           English   \n\n   vote_average  vote_count  popularity     budget  \\\n0           7.4         619    5089.969   18000000   \n1           6.6        2294    4665.438  200000000   \n2           7.5        1861    3935.550  100000000   \n3           7.2         652    2791.532          0   \n4           6.8        1510    2702.593  125000000   \n\n                                production_companies     revenue  runtime  \\\n0  Screen Gems, 2.0 Entertainment, Jesus & Mary, ...    65675816      103   \n1            Marvel Studios, Kevin Feige Productions   464566092      125   \n2         Universal Pictures, Illumination, Nintendo  1121048165       92   \n3                      Skydance Media, Apple Studios           0      120   \n4  New Line Cinema, The Safran Company, DC Films,...   133437105      130   \n\n                                      genres_str  net_profit  \n0                      Horror, Mystery, Thriller    47675816  \n1             Action, Adventure, Science Fiction   264566092  \n2  Animation, Adventure, Family, Fantasy, Comedy  1021048165  \n3                        Action, Comedy, Romance           0  \n4             Action, Comedy, Fantasy, Adventure     8437105  ",
      "text/html": "<div>\n<style scoped>\n    .dataframe tbody tr th:only-of-type {\n        vertical-align: middle;\n    }\n\n    .dataframe tbody tr th {\n        vertical-align: top;\n    }\n\n    .dataframe thead th {\n        text-align: right;\n    }\n</style>\n<table border=\"1\" class=\"dataframe\">\n  <thead>\n    <tr style=\"text-align: right;\">\n      <th></th>\n      <th>id</th>\n      <th>title</th>\n      <th>genres</th>\n      <th>original_language</th>\n      <th>vote_average</th>\n      <th>vote_count</th>\n      <th>popularity</th>\n      <th>budget</th>\n      <th>production_companies</th>\n      <th>revenue</th>\n      <th>runtime</th>\n      <th>genres_str</th>\n      <th>net_profit</th>\n    </tr>\n  </thead>\n  <tbody>\n    <tr>\n      <th>0</th>\n      <td>758323</td>\n      <td>The Pope's Exorcist</td>\n      <td>Horror, Mystery, Thriller</td>\n      <td>English</td>\n      <td>7.4</td>\n      <td>619</td>\n      <td>5089.969</td>\n      <td>18000000</td>\n      <td>Screen Gems, 2.0 Entertainment, Jesus &amp; Mary, ...</td>\n      <td>65675816</td>\n      <td>103</td>\n      <td>Horror, Mystery, Thriller</td>\n      <td>47675816</td>\n    </tr>\n    <tr>\n      <th>1</th>\n      <td>640146</td>\n      <td>Ant-Man and the Wasp: Quantumania</td>\n      <td>Action, Adventure, Science Fiction</td>\n      <td>English</td>\n      <td>6.6</td>\n      <td>2294</td>\n      <td>4665.438</td>\n      <td>200000000</td>\n      <td>Marvel Studios, Kevin Feige Productions</td>\n      <td>464566092</td>\n      <td>125</td>\n      <td>Action, Adventure, Science Fiction</td>\n      <td>264566092</td>\n    </tr>\n    <tr>\n      <th>2</th>\n      <td>502356</td>\n      <td>The Super Mario Bros. Movie</td>\n      <td>Animation, Adventure, Family, Fantasy, Comedy</td>\n      <td>English</td>\n      <td>7.5</td>\n      <td>1861</td>\n      <td>3935.550</td>\n      <td>100000000</td>\n      <td>Universal Pictures, Illumination, Nintendo</td>\n      <td>1121048165</td>\n      <td>92</td>\n      <td>Animation, Adventure, Family, Fantasy, Comedy</td>\n      <td>1021048165</td>\n    </tr>\n    <tr>\n      <th>3</th>\n      <td>868759</td>\n      <td>Ghosted</td>\n      <td>Action, Comedy, Romance</td>\n      <td>English</td>\n      <td>7.2</td>\n      <td>652</td>\n      <td>2791.532</td>\n      <td>0</td>\n      <td>Skydance Media, Apple Studios</td>\n      <td>0</td>\n      <td>120</td>\n      <td>Action, Comedy, Romance</td>\n      <td>0</td>\n    </tr>\n    <tr>\n      <th>4</th>\n      <td>594767</td>\n      <td>Shazam! Fury of the Gods</td>\n      <td>Action, Comedy, Fantasy, Adventure</td>\n      <td>English</td>\n      <td>6.8</td>\n      <td>1510</td>\n      <td>2702.593</td>\n      <td>125000000</td>\n      <td>New Line Cinema, The Safran Company, DC Films,...</td>\n      <td>133437105</td>\n      <td>130</td>\n      <td>Action, Comedy, Fantasy, Adventure</td>\n      <td>8437105</td>\n    </tr>\n  </tbody>\n</table>\n</div>"
     },
     "execution_count": 63,
     "metadata": {},
     "output_type": "execute_result"
    }
   ],
   "source": [
    "df1.head()"
   ],
   "metadata": {
    "collapsed": false,
    "ExecuteTime": {
     "end_time": "2023-08-22T08:57:18.896910700Z",
     "start_time": "2023-08-22T08:57:18.872868700Z"
    }
   }
  },
  {
   "cell_type": "code",
   "execution_count": 64,
   "outputs": [],
   "source": [
    "#removing unnecessary columns\n",
    "df1.drop(columns = ['genres_str', 'budget','revenue'], inplace = True)\n"
   ],
   "metadata": {
    "collapsed": false,
    "ExecuteTime": {
     "end_time": "2023-08-22T08:58:50.379347300Z",
     "start_time": "2023-08-22T08:58:50.351446200Z"
    }
   }
  },
  {
   "cell_type": "code",
   "execution_count": 65,
   "outputs": [
    {
     "data": {
      "text/plain": "       id                              title  \\\n0  758323                The Pope's Exorcist   \n1  640146  Ant-Man and the Wasp: Quantumania   \n2  502356        The Super Mario Bros. Movie   \n3  868759                            Ghosted   \n4  594767           Shazam! Fury of the Gods   \n\n                                          genres original_language  \\\n0                      Horror, Mystery, Thriller           English   \n1             Action, Adventure, Science Fiction           English   \n2  Animation, Adventure, Family, Fantasy, Comedy           English   \n3                        Action, Comedy, Romance           English   \n4             Action, Comedy, Fantasy, Adventure           English   \n\n   vote_average  vote_count  popularity  \\\n0           7.4         619    5089.969   \n1           6.6        2294    4665.438   \n2           7.5        1861    3935.550   \n3           7.2         652    2791.532   \n4           6.8        1510    2702.593   \n\n                                production_companies  runtime  net_profit  \n0  Screen Gems, 2.0 Entertainment, Jesus & Mary, ...      103    47675816  \n1            Marvel Studios, Kevin Feige Productions      125   264566092  \n2         Universal Pictures, Illumination, Nintendo       92  1021048165  \n3                      Skydance Media, Apple Studios      120           0  \n4  New Line Cinema, The Safran Company, DC Films,...      130     8437105  ",
      "text/html": "<div>\n<style scoped>\n    .dataframe tbody tr th:only-of-type {\n        vertical-align: middle;\n    }\n\n    .dataframe tbody tr th {\n        vertical-align: top;\n    }\n\n    .dataframe thead th {\n        text-align: right;\n    }\n</style>\n<table border=\"1\" class=\"dataframe\">\n  <thead>\n    <tr style=\"text-align: right;\">\n      <th></th>\n      <th>id</th>\n      <th>title</th>\n      <th>genres</th>\n      <th>original_language</th>\n      <th>vote_average</th>\n      <th>vote_count</th>\n      <th>popularity</th>\n      <th>production_companies</th>\n      <th>runtime</th>\n      <th>net_profit</th>\n    </tr>\n  </thead>\n  <tbody>\n    <tr>\n      <th>0</th>\n      <td>758323</td>\n      <td>The Pope's Exorcist</td>\n      <td>Horror, Mystery, Thriller</td>\n      <td>English</td>\n      <td>7.4</td>\n      <td>619</td>\n      <td>5089.969</td>\n      <td>Screen Gems, 2.0 Entertainment, Jesus &amp; Mary, ...</td>\n      <td>103</td>\n      <td>47675816</td>\n    </tr>\n    <tr>\n      <th>1</th>\n      <td>640146</td>\n      <td>Ant-Man and the Wasp: Quantumania</td>\n      <td>Action, Adventure, Science Fiction</td>\n      <td>English</td>\n      <td>6.6</td>\n      <td>2294</td>\n      <td>4665.438</td>\n      <td>Marvel Studios, Kevin Feige Productions</td>\n      <td>125</td>\n      <td>264566092</td>\n    </tr>\n    <tr>\n      <th>2</th>\n      <td>502356</td>\n      <td>The Super Mario Bros. Movie</td>\n      <td>Animation, Adventure, Family, Fantasy, Comedy</td>\n      <td>English</td>\n      <td>7.5</td>\n      <td>1861</td>\n      <td>3935.550</td>\n      <td>Universal Pictures, Illumination, Nintendo</td>\n      <td>92</td>\n      <td>1021048165</td>\n    </tr>\n    <tr>\n      <th>3</th>\n      <td>868759</td>\n      <td>Ghosted</td>\n      <td>Action, Comedy, Romance</td>\n      <td>English</td>\n      <td>7.2</td>\n      <td>652</td>\n      <td>2791.532</td>\n      <td>Skydance Media, Apple Studios</td>\n      <td>120</td>\n      <td>0</td>\n    </tr>\n    <tr>\n      <th>4</th>\n      <td>594767</td>\n      <td>Shazam! Fury of the Gods</td>\n      <td>Action, Comedy, Fantasy, Adventure</td>\n      <td>English</td>\n      <td>6.8</td>\n      <td>1510</td>\n      <td>2702.593</td>\n      <td>New Line Cinema, The Safran Company, DC Films,...</td>\n      <td>130</td>\n      <td>8437105</td>\n    </tr>\n  </tbody>\n</table>\n</div>"
     },
     "execution_count": 65,
     "metadata": {},
     "output_type": "execute_result"
    }
   ],
   "source": [
    "df1.head()"
   ],
   "metadata": {
    "collapsed": false,
    "ExecuteTime": {
     "end_time": "2023-08-22T08:58:53.481381700Z",
     "start_time": "2023-08-22T08:58:53.401568500Z"
    }
   }
  },
  {
   "cell_type": "markdown",
   "source": [],
   "metadata": {
    "collapsed": false
   }
  },
  {
   "cell_type": "code",
   "execution_count": 29,
   "outputs": [
    {
     "ename": "TypeError",
     "evalue": "unhashable type: 'list'",
     "output_type": "error",
     "traceback": [
      "\u001B[1;31m---------------------------------------------------------------------------\u001B[0m",
      "\u001B[1;31mTypeError\u001B[0m                                 Traceback (most recent call last)",
      "Cell \u001B[1;32mIn[29], line 2\u001B[0m\n\u001B[0;32m      1\u001B[0m \u001B[38;5;66;03m# Get movie titles of recommended movies with interest\u001B[39;00m\n\u001B[1;32m----> 2\u001B[0m recommended_titles_with_interest \u001B[38;5;241m=\u001B[39m df[\u001B[43mdf\u001B[49m\u001B[43m[\u001B[49m\u001B[38;5;124;43m'\u001B[39;49m\u001B[38;5;124;43mgenres_str\u001B[39;49m\u001B[38;5;124;43m'\u001B[39;49m\u001B[43m]\u001B[49m\u001B[38;5;241;43m.\u001B[39;49m\u001B[43mstr\u001B[49m\u001B[38;5;241;43m.\u001B[39;49m\u001B[43mcontains\u001B[49m\u001B[43m(\u001B[49m\u001B[43mgoi\u001B[49m\u001B[43m)\u001B[49m][\u001B[38;5;124m'\u001B[39m\u001B[38;5;124mtitle\u001B[39m\u001B[38;5;124m'\u001B[39m]\n\u001B[0;32m      4\u001B[0m \u001B[38;5;66;03m# Print recommended movie titles\u001B[39;00m\n\u001B[0;32m      5\u001B[0m \u001B[38;5;28mprint\u001B[39m(\u001B[38;5;124m\"\u001B[39m\u001B[38;5;124mRecommended movies based on your interest:\u001B[39m\u001B[38;5;124m\"\u001B[39m)\n",
      "File \u001B[1;32m~\\Anaconda june 2023\\lib\\site-packages\\pandas\\core\\strings\\accessor.py:129\u001B[0m, in \u001B[0;36mforbid_nonstring_types.<locals>._forbid_nonstring_types.<locals>.wrapper\u001B[1;34m(self, *args, **kwargs)\u001B[0m\n\u001B[0;32m    124\u001B[0m     msg \u001B[38;5;241m=\u001B[39m (\n\u001B[0;32m    125\u001B[0m         \u001B[38;5;124mf\u001B[39m\u001B[38;5;124m\"\u001B[39m\u001B[38;5;124mCannot use .str.\u001B[39m\u001B[38;5;132;01m{\u001B[39;00mfunc_name\u001B[38;5;132;01m}\u001B[39;00m\u001B[38;5;124m with values of \u001B[39m\u001B[38;5;124m\"\u001B[39m\n\u001B[0;32m    126\u001B[0m         \u001B[38;5;124mf\u001B[39m\u001B[38;5;124m\"\u001B[39m\u001B[38;5;124minferred dtype \u001B[39m\u001B[38;5;124m'\u001B[39m\u001B[38;5;132;01m{\u001B[39;00m\u001B[38;5;28mself\u001B[39m\u001B[38;5;241m.\u001B[39m_inferred_dtype\u001B[38;5;132;01m}\u001B[39;00m\u001B[38;5;124m'\u001B[39m\u001B[38;5;124m.\u001B[39m\u001B[38;5;124m\"\u001B[39m\n\u001B[0;32m    127\u001B[0m     )\n\u001B[0;32m    128\u001B[0m     \u001B[38;5;28;01mraise\u001B[39;00m \u001B[38;5;167;01mTypeError\u001B[39;00m(msg)\n\u001B[1;32m--> 129\u001B[0m \u001B[38;5;28;01mreturn\u001B[39;00m func(\u001B[38;5;28mself\u001B[39m, \u001B[38;5;241m*\u001B[39margs, \u001B[38;5;241m*\u001B[39m\u001B[38;5;241m*\u001B[39mkwargs)\n",
      "File \u001B[1;32m~\\Anaconda june 2023\\lib\\site-packages\\pandas\\core\\strings\\accessor.py:1252\u001B[0m, in \u001B[0;36mStringMethods.contains\u001B[1;34m(self, pat, case, flags, na, regex)\u001B[0m\n\u001B[0;32m   1127\u001B[0m \u001B[38;5;129m@forbid_nonstring_types\u001B[39m([\u001B[38;5;124m\"\u001B[39m\u001B[38;5;124mbytes\u001B[39m\u001B[38;5;124m\"\u001B[39m])\n\u001B[0;32m   1128\u001B[0m \u001B[38;5;28;01mdef\u001B[39;00m \u001B[38;5;21mcontains\u001B[39m(\u001B[38;5;28mself\u001B[39m, pat, case\u001B[38;5;241m=\u001B[39m\u001B[38;5;28;01mTrue\u001B[39;00m, flags\u001B[38;5;241m=\u001B[39m\u001B[38;5;241m0\u001B[39m, na\u001B[38;5;241m=\u001B[39m\u001B[38;5;28;01mNone\u001B[39;00m, regex\u001B[38;5;241m=\u001B[39m\u001B[38;5;28;01mTrue\u001B[39;00m):\n\u001B[0;32m   1129\u001B[0m     \u001B[38;5;124mr\u001B[39m\u001B[38;5;124;03m\"\"\"\u001B[39;00m\n\u001B[0;32m   1130\u001B[0m \u001B[38;5;124;03m    Test if pattern or regex is contained within a string of a Series or Index.\u001B[39;00m\n\u001B[0;32m   1131\u001B[0m \n\u001B[1;32m   (...)\u001B[0m\n\u001B[0;32m   1250\u001B[0m \u001B[38;5;124;03m    dtype: bool\u001B[39;00m\n\u001B[0;32m   1251\u001B[0m \u001B[38;5;124;03m    \"\"\"\u001B[39;00m\n\u001B[1;32m-> 1252\u001B[0m     \u001B[38;5;28;01mif\u001B[39;00m regex \u001B[38;5;129;01mand\u001B[39;00m \u001B[43mre\u001B[49m\u001B[38;5;241;43m.\u001B[39;49m\u001B[43mcompile\u001B[49m\u001B[43m(\u001B[49m\u001B[43mpat\u001B[49m\u001B[43m)\u001B[49m\u001B[38;5;241m.\u001B[39mgroups:\n\u001B[0;32m   1253\u001B[0m         warnings\u001B[38;5;241m.\u001B[39mwarn(\n\u001B[0;32m   1254\u001B[0m             \u001B[38;5;124m\"\u001B[39m\u001B[38;5;124mThis pattern is interpreted as a regular expression, and has \u001B[39m\u001B[38;5;124m\"\u001B[39m\n\u001B[0;32m   1255\u001B[0m             \u001B[38;5;124m\"\u001B[39m\u001B[38;5;124mmatch groups. To actually get the groups, use str.extract.\u001B[39m\u001B[38;5;124m\"\u001B[39m,\n\u001B[0;32m   1256\u001B[0m             \u001B[38;5;167;01mUserWarning\u001B[39;00m,\n\u001B[0;32m   1257\u001B[0m             stacklevel\u001B[38;5;241m=\u001B[39mfind_stack_level(),\n\u001B[0;32m   1258\u001B[0m         )\n\u001B[0;32m   1260\u001B[0m     result \u001B[38;5;241m=\u001B[39m \u001B[38;5;28mself\u001B[39m\u001B[38;5;241m.\u001B[39m_data\u001B[38;5;241m.\u001B[39marray\u001B[38;5;241m.\u001B[39m_str_contains(pat, case, flags, na, regex)\n",
      "File \u001B[1;32m~\\Anaconda june 2023\\lib\\re.py:251\u001B[0m, in \u001B[0;36mcompile\u001B[1;34m(pattern, flags)\u001B[0m\n\u001B[0;32m    249\u001B[0m \u001B[38;5;28;01mdef\u001B[39;00m \u001B[38;5;21mcompile\u001B[39m(pattern, flags\u001B[38;5;241m=\u001B[39m\u001B[38;5;241m0\u001B[39m):\n\u001B[0;32m    250\u001B[0m     \u001B[38;5;124m\"\u001B[39m\u001B[38;5;124mCompile a regular expression pattern, returning a Pattern object.\u001B[39m\u001B[38;5;124m\"\u001B[39m\n\u001B[1;32m--> 251\u001B[0m     \u001B[38;5;28;01mreturn\u001B[39;00m \u001B[43m_compile\u001B[49m\u001B[43m(\u001B[49m\u001B[43mpattern\u001B[49m\u001B[43m,\u001B[49m\u001B[43m \u001B[49m\u001B[43mflags\u001B[49m\u001B[43m)\u001B[49m\n",
      "File \u001B[1;32m~\\Anaconda june 2023\\lib\\re.py:293\u001B[0m, in \u001B[0;36m_compile\u001B[1;34m(pattern, flags)\u001B[0m\n\u001B[0;32m    291\u001B[0m     flags \u001B[38;5;241m=\u001B[39m flags\u001B[38;5;241m.\u001B[39mvalue\n\u001B[0;32m    292\u001B[0m \u001B[38;5;28;01mtry\u001B[39;00m:\n\u001B[1;32m--> 293\u001B[0m     \u001B[38;5;28;01mreturn\u001B[39;00m \u001B[43m_cache\u001B[49m\u001B[43m[\u001B[49m\u001B[38;5;28;43mtype\u001B[39;49m\u001B[43m(\u001B[49m\u001B[43mpattern\u001B[49m\u001B[43m)\u001B[49m\u001B[43m,\u001B[49m\u001B[43m \u001B[49m\u001B[43mpattern\u001B[49m\u001B[43m,\u001B[49m\u001B[43m \u001B[49m\u001B[43mflags\u001B[49m\u001B[43m]\u001B[49m\n\u001B[0;32m    294\u001B[0m \u001B[38;5;28;01mexcept\u001B[39;00m \u001B[38;5;167;01mKeyError\u001B[39;00m:\n\u001B[0;32m    295\u001B[0m     \u001B[38;5;28;01mpass\u001B[39;00m\n",
      "\u001B[1;31mTypeError\u001B[0m: unhashable type: 'list'"
     ]
    }
   ],
   "source": [
    "# Get movie titles of recommended movies with interest\n",
    "recommended_titles_with_interest = df[df['genres_str'].str.contains(goi)]['title']\n",
    "\n",
    "# Print recommended movie titles\n",
    "print(\"Recommended movies based on your interest:\")\n",
    "print(recommended_titles_with_interest.tolist())"
   ],
   "metadata": {
    "collapsed": false,
    "ExecuteTime": {
     "end_time": "2023-08-22T08:48:10.309229100Z",
     "start_time": "2023-08-22T08:48:10.040839200Z"
    }
   }
  },
  {
   "cell_type": "code",
   "execution_count": null,
   "outputs": [],
   "source": [
    "user_genres"
   ],
   "metadata": {
    "collapsed": false
   }
  },
  {
   "cell_type": "code",
   "execution_count": null,
   "outputs": [],
   "source": [
    "# Convert list genres to string for TF-IDF vectorization\n",
    "user_genres = user_genres.apply(', '.join)"
   ],
   "metadata": {
    "collapsed": false
   }
  },
  {
   "cell_type": "code",
   "execution_count": null,
   "outputs": [],
   "source": [
    "df[df['genres_str'].str.contains(user_genres)]"
   ],
   "metadata": {
    "collapsed": false
   }
  },
  {
   "cell_type": "code",
   "execution_count": null,
   "outputs": [],
   "source": [
    "\n",
    "\n",
    "# Create a regular expression pattern for any of the specified genres\n",
    "genre_pattern = '|'.join(user_genres)\n",
    "\n",
    "# Filter movies based on user's genres\n",
    "filtered_movies = df[df['genres'].str.contains(genre_pattern, case=False)]\n",
    "\n",
    "if filtered_movies.empty:\n",
    "    print(f\"No movies found in the specified genres.\")\n",
    "else:\n",
    "    print(f\"Here are the movie titles in the specified genres:\")\n",
    "    for title in filtered_movies['title']:\n",
    "        print(title)"
   ],
   "metadata": {
    "collapsed": false
   }
  },
  {
   "cell_type": "code",
   "execution_count": null,
   "outputs": [],
   "source": [
    "df.head()"
   ],
   "metadata": {
    "collapsed": false
   }
  },
  {
   "cell_type": "code",
   "execution_count": null,
   "outputs": [],
   "source": [],
   "metadata": {
    "collapsed": false
   }
  },
  {
   "cell_type": "code",
   "execution_count": null,
   "outputs": [],
   "source": [
    "# Convert genres to binary encoding\n",
    "mlb = MultiLabelBinarizer()\n",
    "genre_matrix = mlb.fit_transform(df['genres'])\n",
    "\n",
    "# Choose the number of clusters\n",
    "num_clusters = 19\n",
    "\n",
    "# Apply K-Means clustering\n",
    "kmeans = KMeans(n_clusters=num_clusters)\n",
    "df['cluster'] = kmeans.fit_predict(genre_matrix)\n",
    "\n",
    "# Print the results\n",
    "print(df)\n",
    "\n",
    "\n",
    "\n",
    "pca = PCA(n_components=2)\n",
    "pca_result = pca.fit_transform(genre_matrix)\n",
    "df['pca_1'] = pca_result[:, 0]\n",
    "df['pca_2'] = pca_result[:, 1]\n",
    "\n",
    "plt.scatter(df['pca_1'], df['pca_2'], c=df['cluster'], cmap='viridis')\n",
    "plt.xlabel('PCA 1')\n",
    "plt.ylabel('PCA 2')\n",
    "plt.title('Genre Clusters')\n",
    "plt.show()"
   ],
   "metadata": {
    "collapsed": false
   }
  },
  {
   "cell_type": "code",
   "execution_count": null,
   "outputs": [],
   "source": [],
   "metadata": {
    "collapsed": false
   }
  },
  {
   "cell_type": "code",
   "execution_count": null,
   "outputs": [],
   "source": [
    "# Determine the optimal number of clusters using the elbow method\n",
    "wcss = []\n",
    "for i in range(1, 25):  # Trying up to 10 clusters\n",
    "    kmeans = KMeans(n_clusters=i, init='k-means++', max_iter=300, n_init=10, random_state=0)\n",
    "    kmeans.fit(genre_matrix)\n",
    "    wcss.append(kmeans.inertia_)\n",
    "\n",
    "# Plot the elbow method graph\n",
    "plt.plot(range(1, 25), wcss)\n",
    "plt.title('Elbow Method')\n",
    "plt.xlabel('Number of Clusters')\n",
    "plt.ylabel('WCSS')\n",
    "plt.show()"
   ],
   "metadata": {
    "collapsed": false
   }
  },
  {
   "cell_type": "code",
   "execution_count": null,
   "outputs": [],
   "source": [
    "kmeans.inertia_"
   ],
   "metadata": {
    "collapsed": false
   }
  },
  {
   "cell_type": "code",
   "execution_count": null,
   "outputs": [],
   "source": [
    "!pip install scikit-surprise"
   ],
   "metadata": {
    "collapsed": false
   }
  },
  {
   "cell_type": "code",
   "execution_count": null,
   "outputs": [],
   "source": [
    "from sklearn.metrics import silhouette_score"
   ],
   "metadata": {
    "collapsed": false
   }
  },
  {
   "cell_type": "code",
   "execution_count": null,
   "outputs": [],
   "source": [
    "# List to store silhouette scores\n",
    "silhouette_scores = []\n",
    "\n",
    "# Determine silhouette scores for different numbers of clusters\n",
    "for n_clusters in range(2, 25):  # Trying 2 to 10 clusters\n",
    "    kmeans = KMeans(n_clusters=n_clusters, init='k-means++', max_iter=300, n_init=10, random_state=0)\n",
    "    cluster_labels = kmeans.fit_predict(genre_matrix)\n",
    "    silhouette_avg = silhouette_score(genre_matrix, cluster_labels)\n",
    "    silhouette_scores.append(silhouette_avg)\n",
    "\n",
    "# Plot silhouette scores\n",
    "plt.plot(range(2, 25), silhouette_scores)\n",
    "plt.title('Silhouette Method')\n",
    "plt.xlabel('Number of Clusters')\n",
    "plt.ylabel('Silhouette Score')\n",
    "plt.show()"
   ],
   "metadata": {
    "collapsed": false
   }
  },
  {
   "cell_type": "code",
   "execution_count": null,
   "outputs": [],
   "source": [
    "# Get user's input\n",
    "user_interest = input(\"Enter your interest in a movie genre: \")\n",
    "\n",
    "# Find movies with similar genres using the recommender model\n",
    "similar_movies = []\n",
    "for movie_id, genres in zip(df['movie_id'], df['genres']):\n",
    "    if user_interest in genres:\n",
    "        similar_movies.append(movie_id)\n",
    "\n",
    "if not similar_movies:\n",
    "    print(\"No movies found matching your interest.\")\n",
    "else:\n",
    "    print(\"Recommended movies based on your interest:\")\n",
    "    for movie_id in similar_movies:\n",
    "        movie_title = df[df['movie_id'] == movie_id]['title'].values[0]\n",
    "        print(movie_title)"
   ],
   "metadata": {
    "collapsed": false
   }
  },
  {
   "cell_type": "code",
   "execution_count": null,
   "outputs": [],
   "source": [
    "df.head()"
   ],
   "metadata": {
    "collapsed": false
   }
  },
  {
   "cell_type": "code",
   "execution_count": null,
   "outputs": [],
   "source": [
    "from sklearn.feature_extraction.text import TfidfVectorizer"
   ],
   "metadata": {
    "collapsed": false
   }
  },
  {
   "cell_type": "code",
   "execution_count": null,
   "outputs": [],
   "source": [
    "# User input for genre of interest\n",
    "user_interest = input(\"Enter your interest in a movie genre: \")\n",
    "\n",
    "# Convert list genres to string for TF-IDF vectorization\n",
    "df['genres_str'] = df['genres'].apply(', '.join)\n",
    "\n",
    "# Vectorize genres using TF-IDF\n",
    "vectorizer = TfidfVectorizer()\n",
    "genre_matrix = vectorizer.fit_transform(df['genres_str'])\n",
    "\n",
    "# Determine optimal number of clusters using silhouette score\n",
    "silhouette_scores = []\n",
    "for n_clusters in range(2, 11):  # Trying 2 to 10 clusters\n",
    "    kmeans = KMeans(n_clusters=n_clusters, random_state=0)\n",
    "    cluster_labels = kmeans.fit_predict(genre_matrix)\n",
    "    silhouette_avg = silhouette_score(genre_matrix, cluster_labels)\n",
    "    silhouette_scores.append(silhouette_avg)\n",
    "\n",
    "# Choose the optimal number of clusters\n",
    "optimal_num_clusters = silhouette_scores.index(max(silhouette_scores)) + 2\n",
    "\n",
    "# Perform K-Means clustering with optimal number of clusters\n",
    "kmeans = KMeans(n_clusters=optimal_num_clusters, random_state=0)\n",
    "cluster_labels = kmeans.fit_predict(genre_matrix)\n",
    "\n",
    "# Get movies in the same cluster as the user's interest\n",
    "user_cluster = kmeans.predict(vectorizer.transform([user_interest]))\n",
    "recommended_movies = df[df['title'] != user_interest][cluster_labels == user_cluster[0]]\n",
    "\n",
    "# Print recommended movies\n",
    "print(\"Recommended movies based on your interest:\")\n",
    "print(recommended_movies['title'].tolist())"
   ],
   "metadata": {
    "collapsed": false
   }
  },
  {
   "cell_type": "code",
   "execution_count": null,
   "outputs": [],
   "source": [
    "# Count the number of recommended movies that contain the user's interest\n",
    "recommended_with_interest = sum(any(user_interest in genre for genre in genres) for genres in recommended_movies['genres'])\n",
    "\n",
    "# Print recommended movies and the count\n",
    "print(\"Recommended movies based on your interest:\")\n",
    "print(recommended_movies['title'].tolist())\n",
    "print(f\"Number of recommended movies with your interest: {recommended_with_interest}\")\n"
   ],
   "metadata": {
    "collapsed": false
   }
  },
  {
   "cell_type": "code",
   "execution_count": null,
   "outputs": [],
   "source": [
    "recommended_with_interest"
   ],
   "metadata": {
    "collapsed": false
   }
  },
  {
   "cell_type": "code",
   "execution_count": null,
   "outputs": [],
   "source": [
    "len(recommended_movies)"
   ],
   "metadata": {
    "collapsed": false
   }
  },
  {
   "cell_type": "code",
   "execution_count": null,
   "outputs": [],
   "source": [
    "# Get movie titles of recommended movies with interest\n",
    "recommended_titles_with_interest = recommended_movies[recommended_movies['genres_str'].str.contains(user_interest)]['title']\n",
    "\n",
    "# Print recommended movie titles\n",
    "print(\"Recommended movies based on your interest:\")\n",
    "print(recommended_titles_with_interest.tolist())"
   ],
   "metadata": {
    "collapsed": false
   }
  },
  {
   "cell_type": "code",
   "execution_count": null,
   "outputs": [],
   "source": [
    "len(recommended_titles_with_interest)"
   ],
   "metadata": {
    "collapsed": false
   }
  },
  {
   "cell_type": "code",
   "execution_count": null,
   "outputs": [],
   "source": [
    "genres"
   ],
   "metadata": {
    "collapsed": false
   }
  },
  {
   "cell_type": "code",
   "execution_count": null,
   "outputs": [],
   "source": [
    "recommended_titles_with_interest"
   ],
   "metadata": {
    "collapsed": false
   }
  },
  {
   "cell_type": "code",
   "execution_count": null,
   "outputs": [],
   "source": [
    "recommended_movies[recommended_movies['genres_str'].str.contains(user_interest)]"
   ],
   "metadata": {
    "collapsed": false
   }
  },
  {
   "cell_type": "code",
   "execution_count": null,
   "outputs": [],
   "source": [],
   "metadata": {
    "collapsed": false
   }
  }
 ],
 "metadata": {
  "kernelspec": {
   "display_name": "Python 3",
   "language": "python",
   "name": "python3"
  },
  "language_info": {
   "codemirror_mode": {
    "name": "ipython",
    "version": 2
   },
   "file_extension": ".py",
   "mimetype": "text/x-python",
   "name": "python",
   "nbconvert_exporter": "python",
   "pygments_lexer": "ipython2",
   "version": "2.7.6"
  }
 },
 "nbformat": 4,
 "nbformat_minor": 0
}
