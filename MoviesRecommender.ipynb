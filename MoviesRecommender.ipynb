{
 "cells": [
  {
   "cell_type": "markdown",
   "metadata": {
    "collapsed": false
   },
   "source": [
    "# Movie Recommender with Python"
   ]
  },
  {
   "cell_type": "markdown",
   "metadata": {
    "collapsed": false
   },
   "source": [
    "### Importing Libraries"
   ]
  },
  {
   "cell_type": "code",
   "execution_count": 7,
   "metadata": {},
   "outputs": [],
   "source": [
    "# pip install python-Levenshtein"
   ]
  },
  {
   "cell_type": "code",
   "execution_count": 62,
   "metadata": {
    "ExecuteTime": {
     "end_time": "2023-09-02T17:27:20.509798500Z",
     "start_time": "2023-09-02T17:27:20.234298200Z"
    },
    "collapsed": true
   },
   "outputs": [],
   "source": [
    "import pandas as pd\n",
    "from sklearn.metrics.pairwise import cosine_similarity\n",
    "from sklearn.preprocessing import MultiLabelBinarizer\n",
    "from sklearn.preprocessing import StandardScaler\n",
    "from sklearn.cluster import KMeans\n",
    "from sklearn.metrics import pairwise_distances_argmin_min\n",
    "from ast import literal_eval\n",
    "from itertools import chain\n",
    "import matplotlib.pyplot as plt\n",
    "from sklearn.decomposition import PCA\n",
    "import seaborn as sns\n",
    "import re\n",
    "from fuzzywuzzy import fuzz\n",
    "import numpy as np\n",
    "import os\n",
    "import ast\n",
    "from sklearn.feature_extraction.text import CountVectorizer\n",
    "from sklearn.metrics.pairwise import cosine_similarity\n",
    "from sklearn.cluster import KMeans\n",
    "from sklearn.metrics import silhouette_score"
   ]
  },
  {
   "cell_type": "markdown",
   "metadata": {
    "collapsed": false
   },
   "source": [
    "### Preprocessing the dataset\n",
    "Here I explore the dataset, handling any null values or errors within the dataset, look for any correlations between variables and formatting the dataset for modelling later on."
   ]
  },
  {
   "cell_type": "code",
   "execution_count": 9,
   "metadata": {
    "ExecuteTime": {
     "end_time": "2023-09-02T17:27:20.618415400Z",
     "start_time": "2023-09-02T17:27:20.512243300Z"
    },
    "collapsed": false
   },
   "outputs": [],
   "source": [
    "df = pd.read_csv(\"10kmovies.csv\")"
   ]
  },
  {
   "cell_type": "code",
   "execution_count": 10,
   "metadata": {
    "ExecuteTime": {
     "end_time": "2023-09-02T17:27:20.675262900Z",
     "start_time": "2023-09-02T17:27:20.619412800Z"
    },
    "collapsed": false
   },
   "outputs": [
    {
     "data": {
      "text/html": [
       "<div>\n",
       "<style scoped>\n",
       "    .dataframe tbody tr th:only-of-type {\n",
       "        vertical-align: middle;\n",
       "    }\n",
       "\n",
       "    .dataframe tbody tr th {\n",
       "        vertical-align: top;\n",
       "    }\n",
       "\n",
       "    .dataframe thead th {\n",
       "        text-align: right;\n",
       "    }\n",
       "</style>\n",
       "<table border=\"1\" class=\"dataframe\">\n",
       "  <thead>\n",
       "    <tr style=\"text-align: right;\">\n",
       "      <th></th>\n",
       "      <th>id</th>\n",
       "      <th>title</th>\n",
       "      <th>release_date</th>\n",
       "      <th>genres</th>\n",
       "      <th>original_language</th>\n",
       "      <th>vote_average</th>\n",
       "      <th>vote_count</th>\n",
       "      <th>popularity</th>\n",
       "      <th>overview</th>\n",
       "      <th>budget</th>\n",
       "      <th>production_companies</th>\n",
       "      <th>revenue</th>\n",
       "      <th>runtime</th>\n",
       "      <th>tagline</th>\n",
       "    </tr>\n",
       "  </thead>\n",
       "  <tbody>\n",
       "    <tr>\n",
       "      <th>0</th>\n",
       "      <td>758323</td>\n",
       "      <td>The Pope's Exorcist</td>\n",
       "      <td>2023-04-05</td>\n",
       "      <td>['Horror', 'Mystery', 'Thriller']</td>\n",
       "      <td>English</td>\n",
       "      <td>7.4</td>\n",
       "      <td>619</td>\n",
       "      <td>5089.969</td>\n",
       "      <td>Father Gabriele Amorth, Chief Exorcist of the ...</td>\n",
       "      <td>18000000</td>\n",
       "      <td>['Screen Gems', '2.0 Entertainment', 'Jesus &amp; ...</td>\n",
       "      <td>65675816</td>\n",
       "      <td>103</td>\n",
       "      <td>Inspired by the actual files of Father Gabriel...</td>\n",
       "    </tr>\n",
       "    <tr>\n",
       "      <th>1</th>\n",
       "      <td>640146</td>\n",
       "      <td>Ant-Man and the Wasp: Quantumania</td>\n",
       "      <td>2023-02-15</td>\n",
       "      <td>['Action', 'Adventure', 'Science Fiction']</td>\n",
       "      <td>English</td>\n",
       "      <td>6.6</td>\n",
       "      <td>2294</td>\n",
       "      <td>4665.438</td>\n",
       "      <td>Super-Hero partners Scott Lang and Hope van Dy...</td>\n",
       "      <td>200000000</td>\n",
       "      <td>['Marvel Studios', 'Kevin Feige Productions']</td>\n",
       "      <td>464566092</td>\n",
       "      <td>125</td>\n",
       "      <td>Witness the beginning of a new dynasty.</td>\n",
       "    </tr>\n",
       "    <tr>\n",
       "      <th>2</th>\n",
       "      <td>502356</td>\n",
       "      <td>The Super Mario Bros. Movie</td>\n",
       "      <td>2023-04-05</td>\n",
       "      <td>['Animation', 'Adventure', 'Family', 'Fantasy'...</td>\n",
       "      <td>English</td>\n",
       "      <td>7.5</td>\n",
       "      <td>1861</td>\n",
       "      <td>3935.550</td>\n",
       "      <td>While working underground to fix a water main,...</td>\n",
       "      <td>100000000</td>\n",
       "      <td>['Universal Pictures', 'Illumination', 'Ninten...</td>\n",
       "      <td>1121048165</td>\n",
       "      <td>92</td>\n",
       "      <td>NaN</td>\n",
       "    </tr>\n",
       "    <tr>\n",
       "      <th>3</th>\n",
       "      <td>868759</td>\n",
       "      <td>Ghosted</td>\n",
       "      <td>2023-04-18</td>\n",
       "      <td>['Action', 'Comedy', 'Romance']</td>\n",
       "      <td>English</td>\n",
       "      <td>7.2</td>\n",
       "      <td>652</td>\n",
       "      <td>2791.532</td>\n",
       "      <td>Salt-of-the-earth Cole falls head over heels f...</td>\n",
       "      <td>0</td>\n",
       "      <td>['Skydance Media', 'Apple Studios']</td>\n",
       "      <td>0</td>\n",
       "      <td>120</td>\n",
       "      <td>Finding that special someone can be a real adv...</td>\n",
       "    </tr>\n",
       "    <tr>\n",
       "      <th>4</th>\n",
       "      <td>594767</td>\n",
       "      <td>Shazam! Fury of the Gods</td>\n",
       "      <td>2023-03-15</td>\n",
       "      <td>['Action', 'Comedy', 'Fantasy', 'Adventure']</td>\n",
       "      <td>English</td>\n",
       "      <td>6.8</td>\n",
       "      <td>1510</td>\n",
       "      <td>2702.593</td>\n",
       "      <td>Billy Batson and his foster siblings, who tran...</td>\n",
       "      <td>125000000</td>\n",
       "      <td>['New Line Cinema', 'The Safran Company', 'DC ...</td>\n",
       "      <td>133437105</td>\n",
       "      <td>130</td>\n",
       "      <td>Oh. My. Gods.</td>\n",
       "    </tr>\n",
       "  </tbody>\n",
       "</table>\n",
       "</div>"
      ],
      "text/plain": [
       "       id                              title release_date  \\\n",
       "0  758323                The Pope's Exorcist   2023-04-05   \n",
       "1  640146  Ant-Man and the Wasp: Quantumania   2023-02-15   \n",
       "2  502356        The Super Mario Bros. Movie   2023-04-05   \n",
       "3  868759                            Ghosted   2023-04-18   \n",
       "4  594767           Shazam! Fury of the Gods   2023-03-15   \n",
       "\n",
       "                                              genres original_language  \\\n",
       "0                  ['Horror', 'Mystery', 'Thriller']           English   \n",
       "1         ['Action', 'Adventure', 'Science Fiction']           English   \n",
       "2  ['Animation', 'Adventure', 'Family', 'Fantasy'...           English   \n",
       "3                    ['Action', 'Comedy', 'Romance']           English   \n",
       "4       ['Action', 'Comedy', 'Fantasy', 'Adventure']           English   \n",
       "\n",
       "   vote_average  vote_count  popularity  \\\n",
       "0           7.4         619    5089.969   \n",
       "1           6.6        2294    4665.438   \n",
       "2           7.5        1861    3935.550   \n",
       "3           7.2         652    2791.532   \n",
       "4           6.8        1510    2702.593   \n",
       "\n",
       "                                            overview     budget  \\\n",
       "0  Father Gabriele Amorth, Chief Exorcist of the ...   18000000   \n",
       "1  Super-Hero partners Scott Lang and Hope van Dy...  200000000   \n",
       "2  While working underground to fix a water main,...  100000000   \n",
       "3  Salt-of-the-earth Cole falls head over heels f...          0   \n",
       "4  Billy Batson and his foster siblings, who tran...  125000000   \n",
       "\n",
       "                                production_companies     revenue  runtime  \\\n",
       "0  ['Screen Gems', '2.0 Entertainment', 'Jesus & ...    65675816      103   \n",
       "1      ['Marvel Studios', 'Kevin Feige Productions']   464566092      125   \n",
       "2  ['Universal Pictures', 'Illumination', 'Ninten...  1121048165       92   \n",
       "3                ['Skydance Media', 'Apple Studios']           0      120   \n",
       "4  ['New Line Cinema', 'The Safran Company', 'DC ...   133437105      130   \n",
       "\n",
       "                                             tagline  \n",
       "0  Inspired by the actual files of Father Gabriel...  \n",
       "1            Witness the beginning of a new dynasty.  \n",
       "2                                                NaN  \n",
       "3  Finding that special someone can be a real adv...  \n",
       "4                                      Oh. My. Gods.  "
      ]
     },
     "execution_count": 10,
     "metadata": {},
     "output_type": "execute_result"
    }
   ],
   "source": [
    "df.head()"
   ]
  },
  {
   "cell_type": "code",
   "execution_count": 11,
   "metadata": {
    "ExecuteTime": {
     "end_time": "2023-09-02T17:27:20.737160300Z",
     "start_time": "2023-09-02T17:27:20.646341600Z"
    },
    "collapsed": false
   },
   "outputs": [
    {
     "data": {
      "text/plain": [
       "(10000, 14)"
      ]
     },
     "execution_count": 11,
     "metadata": {},
     "output_type": "execute_result"
    }
   ],
   "source": [
    "df.shape"
   ]
  },
  {
   "cell_type": "code",
   "execution_count": 12,
   "metadata": {
    "ExecuteTime": {
     "end_time": "2023-09-02T17:27:20.786101300Z",
     "start_time": "2023-09-02T17:27:20.664292Z"
    },
    "collapsed": false
   },
   "outputs": [
    {
     "data": {
      "text/plain": [
       "id                         0\n",
       "title                      0\n",
       "release_date              21\n",
       "genres                     0\n",
       "original_language          0\n",
       "vote_average               0\n",
       "vote_count                 0\n",
       "popularity                 0\n",
       "overview                  77\n",
       "budget                     0\n",
       "production_companies       0\n",
       "revenue                    0\n",
       "runtime                    0\n",
       "tagline                 2759\n",
       "dtype: int64"
      ]
     },
     "execution_count": 12,
     "metadata": {},
     "output_type": "execute_result"
    }
   ],
   "source": [
    "df.isnull().sum() #tagline,overview and release date have null values. Not interested in this so will drop them."
   ]
  },
  {
   "cell_type": "code",
   "execution_count": 13,
   "metadata": {
    "ExecuteTime": {
     "end_time": "2023-09-02T17:27:20.831991Z",
     "start_time": "2023-09-02T17:27:20.694212400Z"
    },
    "collapsed": false
   },
   "outputs": [],
   "source": [
    "df.drop(columns = ['release_date','overview','tagline'], inplace = True) # Dropping the columns will null values."
   ]
  },
  {
   "cell_type": "code",
   "execution_count": 14,
   "metadata": {
    "ExecuteTime": {
     "end_time": "2023-09-02T17:27:20.862877300Z",
     "start_time": "2023-09-02T17:27:20.709171900Z"
    },
    "collapsed": false
   },
   "outputs": [
    {
     "data": {
      "text/plain": [
       "id                      0\n",
       "title                   0\n",
       "genres                  0\n",
       "original_language       0\n",
       "vote_average            0\n",
       "vote_count              0\n",
       "popularity              0\n",
       "budget                  0\n",
       "production_companies    0\n",
       "revenue                 0\n",
       "runtime                 0\n",
       "dtype: int64"
      ]
     },
     "execution_count": 14,
     "metadata": {},
     "output_type": "execute_result"
    }
   ],
   "source": [
    "df.isnull().sum()"
   ]
  },
  {
   "cell_type": "code",
   "execution_count": 15,
   "metadata": {
    "ExecuteTime": {
     "end_time": "2023-09-02T17:27:20.863874800Z",
     "start_time": "2023-09-02T17:27:20.724132600Z"
    },
    "collapsed": false
   },
   "outputs": [
    {
     "data": {
      "text/html": [
       "<div>\n",
       "<style scoped>\n",
       "    .dataframe tbody tr th:only-of-type {\n",
       "        vertical-align: middle;\n",
       "    }\n",
       "\n",
       "    .dataframe tbody tr th {\n",
       "        vertical-align: top;\n",
       "    }\n",
       "\n",
       "    .dataframe thead th {\n",
       "        text-align: right;\n",
       "    }\n",
       "</style>\n",
       "<table border=\"1\" class=\"dataframe\">\n",
       "  <thead>\n",
       "    <tr style=\"text-align: right;\">\n",
       "      <th></th>\n",
       "      <th>id</th>\n",
       "      <th>title</th>\n",
       "      <th>genres</th>\n",
       "      <th>original_language</th>\n",
       "      <th>vote_average</th>\n",
       "      <th>vote_count</th>\n",
       "      <th>popularity</th>\n",
       "      <th>budget</th>\n",
       "      <th>production_companies</th>\n",
       "      <th>revenue</th>\n",
       "      <th>runtime</th>\n",
       "    </tr>\n",
       "  </thead>\n",
       "  <tbody>\n",
       "    <tr>\n",
       "      <th>0</th>\n",
       "      <td>758323</td>\n",
       "      <td>The Pope's Exorcist</td>\n",
       "      <td>['Horror', 'Mystery', 'Thriller']</td>\n",
       "      <td>English</td>\n",
       "      <td>7.4</td>\n",
       "      <td>619</td>\n",
       "      <td>5089.969</td>\n",
       "      <td>18000000</td>\n",
       "      <td>['Screen Gems', '2.0 Entertainment', 'Jesus &amp; ...</td>\n",
       "      <td>65675816</td>\n",
       "      <td>103</td>\n",
       "    </tr>\n",
       "    <tr>\n",
       "      <th>1</th>\n",
       "      <td>640146</td>\n",
       "      <td>Ant-Man and the Wasp: Quantumania</td>\n",
       "      <td>['Action', 'Adventure', 'Science Fiction']</td>\n",
       "      <td>English</td>\n",
       "      <td>6.6</td>\n",
       "      <td>2294</td>\n",
       "      <td>4665.438</td>\n",
       "      <td>200000000</td>\n",
       "      <td>['Marvel Studios', 'Kevin Feige Productions']</td>\n",
       "      <td>464566092</td>\n",
       "      <td>125</td>\n",
       "    </tr>\n",
       "    <tr>\n",
       "      <th>2</th>\n",
       "      <td>502356</td>\n",
       "      <td>The Super Mario Bros. Movie</td>\n",
       "      <td>['Animation', 'Adventure', 'Family', 'Fantasy'...</td>\n",
       "      <td>English</td>\n",
       "      <td>7.5</td>\n",
       "      <td>1861</td>\n",
       "      <td>3935.550</td>\n",
       "      <td>100000000</td>\n",
       "      <td>['Universal Pictures', 'Illumination', 'Ninten...</td>\n",
       "      <td>1121048165</td>\n",
       "      <td>92</td>\n",
       "    </tr>\n",
       "    <tr>\n",
       "      <th>3</th>\n",
       "      <td>868759</td>\n",
       "      <td>Ghosted</td>\n",
       "      <td>['Action', 'Comedy', 'Romance']</td>\n",
       "      <td>English</td>\n",
       "      <td>7.2</td>\n",
       "      <td>652</td>\n",
       "      <td>2791.532</td>\n",
       "      <td>0</td>\n",
       "      <td>['Skydance Media', 'Apple Studios']</td>\n",
       "      <td>0</td>\n",
       "      <td>120</td>\n",
       "    </tr>\n",
       "    <tr>\n",
       "      <th>4</th>\n",
       "      <td>594767</td>\n",
       "      <td>Shazam! Fury of the Gods</td>\n",
       "      <td>['Action', 'Comedy', 'Fantasy', 'Adventure']</td>\n",
       "      <td>English</td>\n",
       "      <td>6.8</td>\n",
       "      <td>1510</td>\n",
       "      <td>2702.593</td>\n",
       "      <td>125000000</td>\n",
       "      <td>['New Line Cinema', 'The Safran Company', 'DC ...</td>\n",
       "      <td>133437105</td>\n",
       "      <td>130</td>\n",
       "    </tr>\n",
       "  </tbody>\n",
       "</table>\n",
       "</div>"
      ],
      "text/plain": [
       "       id                              title  \\\n",
       "0  758323                The Pope's Exorcist   \n",
       "1  640146  Ant-Man and the Wasp: Quantumania   \n",
       "2  502356        The Super Mario Bros. Movie   \n",
       "3  868759                            Ghosted   \n",
       "4  594767           Shazam! Fury of the Gods   \n",
       "\n",
       "                                              genres original_language  \\\n",
       "0                  ['Horror', 'Mystery', 'Thriller']           English   \n",
       "1         ['Action', 'Adventure', 'Science Fiction']           English   \n",
       "2  ['Animation', 'Adventure', 'Family', 'Fantasy'...           English   \n",
       "3                    ['Action', 'Comedy', 'Romance']           English   \n",
       "4       ['Action', 'Comedy', 'Fantasy', 'Adventure']           English   \n",
       "\n",
       "   vote_average  vote_count  popularity     budget  \\\n",
       "0           7.4         619    5089.969   18000000   \n",
       "1           6.6        2294    4665.438  200000000   \n",
       "2           7.5        1861    3935.550  100000000   \n",
       "3           7.2         652    2791.532          0   \n",
       "4           6.8        1510    2702.593  125000000   \n",
       "\n",
       "                                production_companies     revenue  runtime  \n",
       "0  ['Screen Gems', '2.0 Entertainment', 'Jesus & ...    65675816      103  \n",
       "1      ['Marvel Studios', 'Kevin Feige Productions']   464566092      125  \n",
       "2  ['Universal Pictures', 'Illumination', 'Ninten...  1121048165       92  \n",
       "3                ['Skydance Media', 'Apple Studios']           0      120  \n",
       "4  ['New Line Cinema', 'The Safran Company', 'DC ...   133437105      130  "
      ]
     },
     "execution_count": 15,
     "metadata": {},
     "output_type": "execute_result"
    }
   ],
   "source": [
    "df.head()"
   ]
  },
  {
   "cell_type": "code",
   "execution_count": 16,
   "metadata": {
    "ExecuteTime": {
     "end_time": "2023-09-02T17:27:20.863874800Z",
     "start_time": "2023-09-02T17:27:20.752173600Z"
    },
    "collapsed": false
   },
   "outputs": [
    {
     "data": {
      "text/plain": [
       "(10000, 11)"
      ]
     },
     "execution_count": 16,
     "metadata": {},
     "output_type": "execute_result"
    }
   ],
   "source": [
    "df.shape"
   ]
  },
  {
   "cell_type": "code",
   "execution_count": 17,
   "metadata": {
    "ExecuteTime": {
     "end_time": "2023-09-02T17:27:21.142895100Z",
     "start_time": "2023-09-02T17:27:20.755166100Z"
    },
    "collapsed": false
   },
   "outputs": [
    {
     "data": {
      "image/png": "[encoded data removed]",
      "text/plain": [
       "<Figure size 640x480 with 2 Axes>"
      ]
     },
     "metadata": {},
     "output_type": "display_data"
    }
   ],
   "source": [
    "sns.heatmap(df.corr(numeric_only=True))\n",
    "plt.show()"
   ]
  },
  {
   "cell_type": "code",
   "execution_count": 18,
   "metadata": {
    "ExecuteTime": {
     "end_time": "2023-09-02T17:27:21.142895100Z",
     "start_time": "2023-09-02T17:27:21.137908400Z"
    },
    "collapsed": false
   },
   "outputs": [
    {
     "data": {
      "text/plain": [
       "id                        int64\n",
       "title                    object\n",
       "genres                   object\n",
       "original_language        object\n",
       "vote_average            float64\n",
       "vote_count                int64\n",
       "popularity              float64\n",
       "budget                    int64\n",
       "production_companies     object\n",
       "revenue                   int64\n",
       "runtime                   int64\n",
       "dtype: object"
      ]
     },
     "execution_count": 18,
     "metadata": {},
     "output_type": "execute_result"
    }
   ],
   "source": [
    "df.dtypes"
   ]
  },
  {
   "cell_type": "code",
   "execution_count": 19,
   "metadata": {
    "ExecuteTime": {
     "end_time": "2023-09-02T17:27:21.169823500Z",
     "start_time": "2023-09-02T17:27:21.144891400Z"
    },
    "collapsed": false
   },
   "outputs": [
    {
     "data": {
      "text/html": [
       "<div>\n",
       "<style scoped>\n",
       "    .dataframe tbody tr th:only-of-type {\n",
       "        vertical-align: middle;\n",
       "    }\n",
       "\n",
       "    .dataframe tbody tr th {\n",
       "        vertical-align: top;\n",
       "    }\n",
       "\n",
       "    .dataframe thead th {\n",
       "        text-align: right;\n",
       "    }\n",
       "</style>\n",
       "<table border=\"1\" class=\"dataframe\">\n",
       "  <thead>\n",
       "    <tr style=\"text-align: right;\">\n",
       "      <th></th>\n",
       "      <th>id</th>\n",
       "      <th>title</th>\n",
       "      <th>genres</th>\n",
       "      <th>original_language</th>\n",
       "      <th>vote_average</th>\n",
       "      <th>vote_count</th>\n",
       "      <th>popularity</th>\n",
       "      <th>budget</th>\n",
       "      <th>production_companies</th>\n",
       "      <th>revenue</th>\n",
       "      <th>runtime</th>\n",
       "    </tr>\n",
       "  </thead>\n",
       "  <tbody>\n",
       "    <tr>\n",
       "      <th>0</th>\n",
       "      <td>758323</td>\n",
       "      <td>The Pope's Exorcist</td>\n",
       "      <td>['Horror', 'Mystery', 'Thriller']</td>\n",
       "      <td>English</td>\n",
       "      <td>7.4</td>\n",
       "      <td>619</td>\n",
       "      <td>5089.969</td>\n",
       "      <td>18000000</td>\n",
       "      <td>['Screen Gems', '2.0 Entertainment', 'Jesus &amp; ...</td>\n",
       "      <td>65675816</td>\n",
       "      <td>103</td>\n",
       "    </tr>\n",
       "    <tr>\n",
       "      <th>1</th>\n",
       "      <td>640146</td>\n",
       "      <td>Ant-Man and the Wasp: Quantumania</td>\n",
       "      <td>['Action', 'Adventure', 'Science Fiction']</td>\n",
       "      <td>English</td>\n",
       "      <td>6.6</td>\n",
       "      <td>2294</td>\n",
       "      <td>4665.438</td>\n",
       "      <td>200000000</td>\n",
       "      <td>['Marvel Studios', 'Kevin Feige Productions']</td>\n",
       "      <td>464566092</td>\n",
       "      <td>125</td>\n",
       "    </tr>\n",
       "    <tr>\n",
       "      <th>2</th>\n",
       "      <td>502356</td>\n",
       "      <td>The Super Mario Bros. Movie</td>\n",
       "      <td>['Animation', 'Adventure', 'Family', 'Fantasy'...</td>\n",
       "      <td>English</td>\n",
       "      <td>7.5</td>\n",
       "      <td>1861</td>\n",
       "      <td>3935.550</td>\n",
       "      <td>100000000</td>\n",
       "      <td>['Universal Pictures', 'Illumination', 'Ninten...</td>\n",
       "      <td>1121048165</td>\n",
       "      <td>92</td>\n",
       "    </tr>\n",
       "    <tr>\n",
       "      <th>3</th>\n",
       "      <td>868759</td>\n",
       "      <td>Ghosted</td>\n",
       "      <td>['Action', 'Comedy', 'Romance']</td>\n",
       "      <td>English</td>\n",
       "      <td>7.2</td>\n",
       "      <td>652</td>\n",
       "      <td>2791.532</td>\n",
       "      <td>0</td>\n",
       "      <td>['Skydance Media', 'Apple Studios']</td>\n",
       "      <td>0</td>\n",
       "      <td>120</td>\n",
       "    </tr>\n",
       "    <tr>\n",
       "      <th>4</th>\n",
       "      <td>594767</td>\n",
       "      <td>Shazam! Fury of the Gods</td>\n",
       "      <td>['Action', 'Comedy', 'Fantasy', 'Adventure']</td>\n",
       "      <td>English</td>\n",
       "      <td>6.8</td>\n",
       "      <td>1510</td>\n",
       "      <td>2702.593</td>\n",
       "      <td>125000000</td>\n",
       "      <td>['New Line Cinema', 'The Safran Company', 'DC ...</td>\n",
       "      <td>133437105</td>\n",
       "      <td>130</td>\n",
       "    </tr>\n",
       "  </tbody>\n",
       "</table>\n",
       "</div>"
      ],
      "text/plain": [
       "       id                              title  \\\n",
       "0  758323                The Pope's Exorcist   \n",
       "1  640146  Ant-Man and the Wasp: Quantumania   \n",
       "2  502356        The Super Mario Bros. Movie   \n",
       "3  868759                            Ghosted   \n",
       "4  594767           Shazam! Fury of the Gods   \n",
       "\n",
       "                                              genres original_language  \\\n",
       "0                  ['Horror', 'Mystery', 'Thriller']           English   \n",
       "1         ['Action', 'Adventure', 'Science Fiction']           English   \n",
       "2  ['Animation', 'Adventure', 'Family', 'Fantasy'...           English   \n",
       "3                    ['Action', 'Comedy', 'Romance']           English   \n",
       "4       ['Action', 'Comedy', 'Fantasy', 'Adventure']           English   \n",
       "\n",
       "   vote_average  vote_count  popularity     budget  \\\n",
       "0           7.4         619    5089.969   18000000   \n",
       "1           6.6        2294    4665.438  200000000   \n",
       "2           7.5        1861    3935.550  100000000   \n",
       "3           7.2         652    2791.532          0   \n",
       "4           6.8        1510    2702.593  125000000   \n",
       "\n",
       "                                production_companies     revenue  runtime  \n",
       "0  ['Screen Gems', '2.0 Entertainment', 'Jesus & ...    65675816      103  \n",
       "1      ['Marvel Studios', 'Kevin Feige Productions']   464566092      125  \n",
       "2  ['Universal Pictures', 'Illumination', 'Ninten...  1121048165       92  \n",
       "3                ['Skydance Media', 'Apple Studios']           0      120  \n",
       "4  ['New Line Cinema', 'The Safran Company', 'DC ...   133437105      130  "
      ]
     },
     "execution_count": 19,
     "metadata": {},
     "output_type": "execute_result"
    }
   ],
   "source": [
    "df.head()"
   ]
  },
  {
   "cell_type": "code",
   "execution_count": 20,
   "metadata": {
    "ExecuteTime": {
     "end_time": "2023-09-02T17:27:21.235186700Z",
     "start_time": "2023-09-02T17:27:21.156857100Z"
    },
    "collapsed": false
   },
   "outputs": [],
   "source": [
    "action_movies = df[df['genres'].str.contains('Action')] # will output rows with action genre in them"
   ]
  },
  {
   "cell_type": "code",
   "execution_count": 21,
   "metadata": {
    "ExecuteTime": {
     "end_time": "2023-09-02T17:27:21.235186700Z",
     "start_time": "2023-09-02T17:27:21.171818900Z"
    },
    "collapsed": false
   },
   "outputs": [],
   "source": [
    "action_movies = df[df['genres'] == 'Action']# will output rows with ONLY action genre in them. - there are none."
   ]
  },
  {
   "cell_type": "code",
   "execution_count": 22,
   "metadata": {
    "ExecuteTime": {
     "end_time": "2023-09-02T17:27:21.236182800Z",
     "start_time": "2023-09-02T17:27:21.186778500Z"
    },
    "collapsed": false
   },
   "outputs": [
    {
     "data": {
      "text/html": [
       "<div>\n",
       "<style scoped>\n",
       "    .dataframe tbody tr th:only-of-type {\n",
       "        vertical-align: middle;\n",
       "    }\n",
       "\n",
       "    .dataframe tbody tr th {\n",
       "        vertical-align: top;\n",
       "    }\n",
       "\n",
       "    .dataframe thead th {\n",
       "        text-align: right;\n",
       "    }\n",
       "</style>\n",
       "<table border=\"1\" class=\"dataframe\">\n",
       "  <thead>\n",
       "    <tr style=\"text-align: right;\">\n",
       "      <th></th>\n",
       "      <th>id</th>\n",
       "      <th>title</th>\n",
       "      <th>genres</th>\n",
       "      <th>original_language</th>\n",
       "      <th>vote_average</th>\n",
       "      <th>vote_count</th>\n",
       "      <th>popularity</th>\n",
       "      <th>budget</th>\n",
       "      <th>production_companies</th>\n",
       "      <th>revenue</th>\n",
       "      <th>runtime</th>\n",
       "    </tr>\n",
       "  </thead>\n",
       "  <tbody>\n",
       "  </tbody>\n",
       "</table>\n",
       "</div>"
      ],
      "text/plain": [
       "Empty DataFrame\n",
       "Columns: [id, title, genres, original_language, vote_average, vote_count, popularity, budget, production_companies, revenue, runtime]\n",
       "Index: []"
      ]
     },
     "execution_count": 22,
     "metadata": {},
     "output_type": "execute_result"
    }
   ],
   "source": [
    "action_movies"
   ]
  },
  {
   "cell_type": "code",
   "execution_count": 23,
   "metadata": {
    "ExecuteTime": {
     "end_time": "2023-09-02T17:27:21.400742700Z",
     "start_time": "2023-09-02T17:27:21.203732500Z"
    },
    "collapsed": false
   },
   "outputs": [],
   "source": [
    "# Convert string representations to actual lists\n",
    "df['genres'] = df['genres'].apply(literal_eval)\n"
   ]
  },
  {
   "cell_type": "code",
   "execution_count": 24,
   "metadata": {
    "ExecuteTime": {
     "end_time": "2023-09-02T17:27:21.449010600Z",
     "start_time": "2023-09-02T17:27:21.358855400Z"
    },
    "collapsed": false
   },
   "outputs": [
    {
     "data": {
      "text/html": [
       "<div>\n",
       "<style scoped>\n",
       "    .dataframe tbody tr th:only-of-type {\n",
       "        vertical-align: middle;\n",
       "    }\n",
       "\n",
       "    .dataframe tbody tr th {\n",
       "        vertical-align: top;\n",
       "    }\n",
       "\n",
       "    .dataframe thead th {\n",
       "        text-align: right;\n",
       "    }\n",
       "</style>\n",
       "<table border=\"1\" class=\"dataframe\">\n",
       "  <thead>\n",
       "    <tr style=\"text-align: right;\">\n",
       "      <th></th>\n",
       "      <th>id</th>\n",
       "      <th>title</th>\n",
       "      <th>genres</th>\n",
       "      <th>original_language</th>\n",
       "      <th>vote_average</th>\n",
       "      <th>vote_count</th>\n",
       "      <th>popularity</th>\n",
       "      <th>budget</th>\n",
       "      <th>production_companies</th>\n",
       "      <th>revenue</th>\n",
       "      <th>runtime</th>\n",
       "    </tr>\n",
       "  </thead>\n",
       "  <tbody>\n",
       "    <tr>\n",
       "      <th>0</th>\n",
       "      <td>758323</td>\n",
       "      <td>The Pope's Exorcist</td>\n",
       "      <td>[Horror, Mystery, Thriller]</td>\n",
       "      <td>English</td>\n",
       "      <td>7.4</td>\n",
       "      <td>619</td>\n",
       "      <td>5089.969</td>\n",
       "      <td>18000000</td>\n",
       "      <td>['Screen Gems', '2.0 Entertainment', 'Jesus &amp; ...</td>\n",
       "      <td>65675816</td>\n",
       "      <td>103</td>\n",
       "    </tr>\n",
       "    <tr>\n",
       "      <th>1</th>\n",
       "      <td>640146</td>\n",
       "      <td>Ant-Man and the Wasp: Quantumania</td>\n",
       "      <td>[Action, Adventure, Science Fiction]</td>\n",
       "      <td>English</td>\n",
       "      <td>6.6</td>\n",
       "      <td>2294</td>\n",
       "      <td>4665.438</td>\n",
       "      <td>200000000</td>\n",
       "      <td>['Marvel Studios', 'Kevin Feige Productions']</td>\n",
       "      <td>464566092</td>\n",
       "      <td>125</td>\n",
       "    </tr>\n",
       "    <tr>\n",
       "      <th>2</th>\n",
       "      <td>502356</td>\n",
       "      <td>The Super Mario Bros. Movie</td>\n",
       "      <td>[Animation, Adventure, Family, Fantasy, Comedy]</td>\n",
       "      <td>English</td>\n",
       "      <td>7.5</td>\n",
       "      <td>1861</td>\n",
       "      <td>3935.550</td>\n",
       "      <td>100000000</td>\n",
       "      <td>['Universal Pictures', 'Illumination', 'Ninten...</td>\n",
       "      <td>1121048165</td>\n",
       "      <td>92</td>\n",
       "    </tr>\n",
       "    <tr>\n",
       "      <th>3</th>\n",
       "      <td>868759</td>\n",
       "      <td>Ghosted</td>\n",
       "      <td>[Action, Comedy, Romance]</td>\n",
       "      <td>English</td>\n",
       "      <td>7.2</td>\n",
       "      <td>652</td>\n",
       "      <td>2791.532</td>\n",
       "      <td>0</td>\n",
       "      <td>['Skydance Media', 'Apple Studios']</td>\n",
       "      <td>0</td>\n",
       "      <td>120</td>\n",
       "    </tr>\n",
       "    <tr>\n",
       "      <th>4</th>\n",
       "      <td>594767</td>\n",
       "      <td>Shazam! Fury of the Gods</td>\n",
       "      <td>[Action, Comedy, Fantasy, Adventure]</td>\n",
       "      <td>English</td>\n",
       "      <td>6.8</td>\n",
       "      <td>1510</td>\n",
       "      <td>2702.593</td>\n",
       "      <td>125000000</td>\n",
       "      <td>['New Line Cinema', 'The Safran Company', 'DC ...</td>\n",
       "      <td>133437105</td>\n",
       "      <td>130</td>\n",
       "    </tr>\n",
       "  </tbody>\n",
       "</table>\n",
       "</div>"
      ],
      "text/plain": [
       "       id                              title  \\\n",
       "0  758323                The Pope's Exorcist   \n",
       "1  640146  Ant-Man and the Wasp: Quantumania   \n",
       "2  502356        The Super Mario Bros. Movie   \n",
       "3  868759                            Ghosted   \n",
       "4  594767           Shazam! Fury of the Gods   \n",
       "\n",
       "                                            genres original_language  \\\n",
       "0                      [Horror, Mystery, Thriller]           English   \n",
       "1             [Action, Adventure, Science Fiction]           English   \n",
       "2  [Animation, Adventure, Family, Fantasy, Comedy]           English   \n",
       "3                        [Action, Comedy, Romance]           English   \n",
       "4             [Action, Comedy, Fantasy, Adventure]           English   \n",
       "\n",
       "   vote_average  vote_count  popularity     budget  \\\n",
       "0           7.4         619    5089.969   18000000   \n",
       "1           6.6        2294    4665.438  200000000   \n",
       "2           7.5        1861    3935.550  100000000   \n",
       "3           7.2         652    2791.532          0   \n",
       "4           6.8        1510    2702.593  125000000   \n",
       "\n",
       "                                production_companies     revenue  runtime  \n",
       "0  ['Screen Gems', '2.0 Entertainment', 'Jesus & ...    65675816      103  \n",
       "1      ['Marvel Studios', 'Kevin Feige Productions']   464566092      125  \n",
       "2  ['Universal Pictures', 'Illumination', 'Ninten...  1121048165       92  \n",
       "3                ['Skydance Media', 'Apple Studios']           0      120  \n",
       "4  ['New Line Cinema', 'The Safran Company', 'DC ...   133437105      130  "
      ]
     },
     "execution_count": 24,
     "metadata": {},
     "output_type": "execute_result"
    }
   ],
   "source": [
    "df.head()"
   ]
  },
  {
   "cell_type": "code",
   "execution_count": 25,
   "metadata": {
    "ExecuteTime": {
     "end_time": "2023-09-02T17:27:21.451029300Z",
     "start_time": "2023-09-02T17:27:21.375810500Z"
    },
    "collapsed": false
   },
   "outputs": [
    {
     "name": "stdout",
     "output_type": "stream",
     "text": [
      "['Horror' 'Mystery' 'Thriller' 'Action' 'Adventure' 'Science Fiction'\n",
      " 'Animation' 'Family' 'Fantasy' 'Comedy' 'Romance' 'Drama' 'History' 'War'\n",
      " 'Crime' 'Music' 'Western' 'TV Movie' 'Documentary']\n"
     ]
    }
   ],
   "source": [
    "# Flatten the lists and convert to Series\n",
    "flattened_series = pd.Series(chain.from_iterable(df['genres']))\n",
    "\n",
    "# Get unique genres\n",
    "unique_genres = flattened_series.unique()\n",
    "\n",
    "print(unique_genres)"
   ]
  },
  {
   "cell_type": "code",
   "execution_count": 26,
   "metadata": {
    "ExecuteTime": {
     "end_time": "2023-09-02T17:27:21.451029300Z",
     "start_time": "2023-09-02T17:27:21.390768700Z"
    },
    "collapsed": false
   },
   "outputs": [
    {
     "data": {
      "text/plain": [
       "19"
      ]
     },
     "execution_count": 26,
     "metadata": {},
     "output_type": "execute_result"
    }
   ],
   "source": [
    "len(unique_genres) #This will be my k cluster number"
   ]
  },
  {
   "cell_type": "markdown",
   "metadata": {
    "collapsed": false
   },
   "source": [
    "### Basic Movie Recommender\n",
    "\n",
    "So the essential idea of my movie recommender is to generate a list of movies to the user based on their genre of interest."
   ]
  },
  {
   "cell_type": "code",
   "execution_count": 27,
   "metadata": {
    "ExecuteTime": {
     "end_time": "2023-09-02T17:27:26.185977100Z",
     "start_time": "2023-09-02T17:27:21.417697200Z"
    },
    "collapsed": false
   },
   "outputs": [
    {
     "name": "stdout",
     "output_type": "stream",
     "text": [
      "Here are the list of genres. ['Horror' 'Mystery' 'Thriller' 'Action' 'Adventure' 'Science Fiction'\n",
      " 'Animation' 'Family' 'Fantasy' 'Comedy' 'Romance' 'Drama' 'History' 'War'\n",
      " 'Crime' 'Music' 'Western' 'TV Movie' 'Documentary']\n",
      "Great choice! Action is a popular genre.\n",
      "Sorry, that's not a valid genre. Please choose from the following genres:\n",
      "Horror, Mystery, Thriller, Action, Adventure, Science Fiction, Animation, Family, Fantasy, Comedy, Romance, Drama, History, War, Crime, Music, Western, TV Movie, Documentary\n",
      "Sorry, that's not a valid genre. Please choose from the following genres:\n",
      "Horror, Mystery, Thriller, Action, Adventure, Science Fiction, Animation, Family, Fantasy, Comedy, Romance, Drama, History, War, Crime, Music, Western, TV Movie, Documentary\n",
      "Sorry, that's not a valid genre. Please choose from the following genres:\n",
      "Horror, Mystery, Thriller, Action, Adventure, Science Fiction, Animation, Family, Fantasy, Comedy, Romance, Drama, History, War, Crime, Music, Western, TV Movie, Documentary\n",
      "Sorry, that's not a valid genre. Please choose from the following genres:\n",
      "Horror, Mystery, Thriller, Action, Adventure, Science Fiction, Animation, Family, Fantasy, Comedy, Romance, Drama, History, War, Crime, Music, Western, TV Movie, Documentary\n",
      "Sorry, that's not a valid genre. Please choose from the following genres:\n",
      "Horror, Mystery, Thriller, Action, Adventure, Science Fiction, Animation, Family, Fantasy, Comedy, Romance, Drama, History, War, Crime, Music, Western, TV Movie, Documentary\n",
      "Sorry, that's not a valid genre. Please choose from the following genres:\n",
      "Horror, Mystery, Thriller, Action, Adventure, Science Fiction, Animation, Family, Fantasy, Comedy, Romance, Drama, History, War, Crime, Music, Western, TV Movie, Documentary\n",
      "Sorry, that's not a valid genre. Please choose from the following genres:\n",
      "Horror, Mystery, Thriller, Action, Adventure, Science Fiction, Animation, Family, Fantasy, Comedy, Romance, Drama, History, War, Crime, Music, Western, TV Movie, Documentary\n",
      "Sorry, that's not a valid genre. Please choose from the following genres:\n",
      "Horror, Mystery, Thriller, Action, Adventure, Science Fiction, Animation, Family, Fantasy, Comedy, Romance, Drama, History, War, Crime, Music, Western, TV Movie, Documentary\n",
      "Sorry, that's not a valid genre. Please choose from the following genres:\n",
      "Horror, Mystery, Thriller, Action, Adventure, Science Fiction, Animation, Family, Fantasy, Comedy, Romance, Drama, History, War, Crime, Music, Western, TV Movie, Documentary\n",
      "Exiting the program.\n"
     ]
    }
   ],
   "source": [
    "#Create a user prompt.\n",
    "print (f\"Here are the list of genres. {unique_genres}\")\n",
    "goi = [] #genres of interest\n",
    "str = \"\"\n",
    "while True:\n",
    "    user_genre = input(\"Please enter a genre of interest (or 'Exit' to quit): \").capitalize().strip() # strip in case a user will enter white spaces by accident.\n",
    "\n",
    "    if user_genre == 'Exit':\n",
    "        print(\"Exiting the program.\")\n",
    "\n",
    "        break\n",
    "    elif user_genre in unique_genres:\n",
    "        print(f\"Great choice! {user_genre} is a popular genre.\")\n",
    "        str += user_genre\n",
    "        goi.append(user_genre)\n",
    "    else:\n",
    "        print(\"Sorry, that's not a valid genre. Please choose from the following genres:\")\n",
    "        print(', '.join(unique_genres))"
   ]
  },
  {
   "cell_type": "code",
   "execution_count": 28,
   "metadata": {
    "ExecuteTime": {
     "end_time": "2023-09-02T17:27:26.186986400Z",
     "start_time": "2023-09-02T17:27:26.138105900Z"
    },
    "collapsed": false
   },
   "outputs": [],
   "source": [
    "# Convert list genres to string for TF-IDF vectorization later on but also to\n",
    "df['genres_str'] = df['genres'].apply(', '.join)"
   ]
  },
  {
   "cell_type": "code",
   "execution_count": 29,
   "metadata": {
    "ExecuteTime": {
     "end_time": "2023-09-02T17:27:26.217891600Z",
     "start_time": "2023-09-02T17:27:26.152074600Z"
    },
    "collapsed": false
   },
   "outputs": [
    {
     "data": {
      "text/plain": [
       "['Action']"
      ]
     },
     "execution_count": 29,
     "metadata": {},
     "output_type": "execute_result"
    }
   ],
   "source": [
    "goi #Our genres of interest from the user."
   ]
  },
  {
   "cell_type": "code",
   "execution_count": 30,
   "metadata": {
    "ExecuteTime": {
     "end_time": "2023-09-02T17:27:26.272399100Z",
     "start_time": "2023-09-02T17:27:26.180021Z"
    },
    "collapsed": false
   },
   "outputs": [],
   "source": [
    "# df.groupby('vote_average')['title','genres','vote_average'].head(100).sort_values('vote_average',ascending=False) ## checking how to use sort_values."
   ]
  },
  {
   "cell_type": "code",
   "execution_count": 31,
   "metadata": {
    "ExecuteTime": {
     "end_time": "2023-09-02T17:27:26.287364100Z",
     "start_time": "2023-09-02T17:27:26.184979700Z"
    },
    "collapsed": false
   },
   "outputs": [
    {
     "name": "stdout",
     "output_type": "stream",
     "text": [
      "0          Guardians of the Galaxy Volume 3\n",
      "1                      John Wick: Chapter 4\n",
      "2                  Avatar: The Way of Water\n",
      "3                                 Creed III\n",
      "4    The Last Kingdom: Seven Kings Must Die\n",
      "5                                   Ghosted\n",
      "6                                       AKA\n",
      "7                  Shazam! Fury of the Gods\n",
      "8         Ant-Man and the Wasp: Quantumania\n",
      "9                         Peter Pan & Wendy\n",
      "Name: title, dtype: object\n"
     ]
    }
   ],
   "source": [
    "\n",
    "# Create a boolean mask using str.contains for each genre\n",
    "genre_masks = [df['genres_str'].str.contains(genre) for genre in goi]\n",
    "\n",
    "# Combine the masks using logical OR (|)\n",
    "combined_mask = pd.concat(genre_masks, axis=1).any(axis=1)\n",
    "\n",
    "# Apply the combined mask to filter the DataFrame\n",
    "filtered_df = df[combined_mask]\n",
    "#\n",
    "filter10 = filtered_df.head(10).sort_values('vote_average',ascending=False)\n",
    "\n",
    "filter10['title'].reset_index(drop=True, inplace=True)\n",
    "print(filter10['title'])"
   ]
  },
  {
   "cell_type": "code",
   "execution_count": 36,
   "metadata": {
    "ExecuteTime": {
     "end_time": "2023-09-02T17:27:26.287364100Z",
     "start_time": "2023-09-02T17:27:26.201935800Z"
    },
    "collapsed": false
   },
   "outputs": [],
   "source": [
    "###Filtering Function\n",
    "\n",
    "def filter():\n",
    "    #Create a user prompt.\n",
    "    print (f\"Here are the list of genres. {unique_genres}\")\n",
    "    goi = [] #genres of interest\n",
    "    str = \"\"\n",
    "    while True:\n",
    "        user_genre = input(\"Please enter a genre of interest (or 'Exit' to quit): \").capitalize().strip() # strip in case a user will enter white spaces by accident.\n",
    "\n",
    "        if user_genre == 'Exit':\n",
    "            print(\"Exiting the program.\")\n",
    "\n",
    "            break\n",
    "        elif user_genre in unique_genres:\n",
    "            print(f\"Great choice! {user_genre} is a popular genre.\")\n",
    "            str += user_genre\n",
    "            goi.append(user_genre)\n",
    "        else:\n",
    "            print(\"Sorry, that's not a valid genre. Please choose from the following genres:\")\n",
    "            print(', '.join(unique_genres))\n",
    "\n",
    "\n",
    "    # Create a boolean mask using str.contains for each genre\n",
    "    genre_masks = [df['genres_str'].str.contains(genre) for genre in goi]\n",
    "\n",
    "    # Combine the masks using logical OR (|)\n",
    "    combined_mask = pd.concat(genre_masks, axis=1).any(axis=1)\n",
    "\n",
    "    # Apply the combined mask to filter the DataFrame\n",
    "    filtered_df = df[combined_mask]\n",
    "    #\n",
    "    filter10 = filtered_df.head(10).sort_values('vote_average',ascending=False)\n",
    "\n",
    "    filter10['title'].reset_index(drop=True, inplace=True)\n",
    "    return print(filter10['title'])\n"
   ]
  },
  {
   "cell_type": "code",
   "execution_count": 37,
   "metadata": {
    "ExecuteTime": {
     "end_time": "2023-09-02T17:27:28.486113800Z",
     "start_time": "2023-09-02T17:27:26.214900800Z"
    },
    "collapsed": false
   },
   "outputs": [
    {
     "name": "stdout",
     "output_type": "stream",
     "text": [
      "Here are the list of genres. ['Horror' 'Mystery' 'Thriller' 'Action' 'Adventure' 'Science Fiction'\n",
      " 'Animation' 'Family' 'Fantasy' 'Comedy' 'Romance' 'Drama' 'History' 'War'\n",
      " 'Crime' 'Music' 'Western' 'TV Movie' 'Documentary']\n",
      "Great choice! Action is a popular genre.\n",
      "Exiting the program.\n",
      "0          Guardians of the Galaxy Volume 3\n",
      "1                      John Wick: Chapter 4\n",
      "2                  Avatar: The Way of Water\n",
      "3                                 Creed III\n",
      "4    The Last Kingdom: Seven Kings Must Die\n",
      "5                                   Ghosted\n",
      "6                                       AKA\n",
      "7                  Shazam! Fury of the Gods\n",
      "8         Ant-Man and the Wasp: Quantumania\n",
      "9                         Peter Pan & Wendy\n",
      "Name: title, dtype: object\n"
     ]
    }
   ],
   "source": [
    "filter()"
   ]
  },
  {
   "cell_type": "markdown",
   "metadata": {
    "collapsed": false
   },
   "source": [
    "### Applying Clustering\n",
    "Now that the basic idea of the movie recommender is created. How can we make a better movie recommender? What if we wanted to find movies similar to other movies rather than by genre? What if we were to include all the features we have such as vote_average, popularity, profit (revenue - budget), runtime, and production companies with genre this time?"
   ]
  },
  {
   "cell_type": "markdown",
   "metadata": {
    "collapsed": false
   },
   "source": [
    "##### Revamping the dataframe"
   ]
  },
  {
   "cell_type": "code",
   "execution_count": 38,
   "metadata": {
    "ExecuteTime": {
     "end_time": "2023-09-02T17:27:41.811447400Z",
     "start_time": "2023-09-02T17:27:41.779533200Z"
    },
    "collapsed": false
   },
   "outputs": [],
   "source": [
    "df1 = df.copy()"
   ]
  },
  {
   "cell_type": "code",
   "execution_count": 39,
   "metadata": {
    "ExecuteTime": {
     "end_time": "2023-09-02T17:27:42.061139800Z",
     "start_time": "2023-09-02T17:27:41.941844Z"
    },
    "collapsed": false
   },
   "outputs": [],
   "source": [
    "df1['genres'] = df1['genres'].apply(', '.join) # converting the lists of genres into strings.\n",
    "df1['production_companies'] = df1['production_companies'].apply(literal_eval) #Converting the column of list of strings (json like)into actual (python) lists\n",
    "df1['production_companies'] = df1['production_companies'].apply(', '.join) #converting the lists into strings"
   ]
  },
  {
   "cell_type": "code",
   "execution_count": 40,
   "metadata": {
    "ExecuteTime": {
     "end_time": "2023-09-02T17:27:42.125939900Z",
     "start_time": "2023-09-02T17:27:42.096042800Z"
    },
    "collapsed": false
   },
   "outputs": [
    {
     "data": {
      "text/html": [
       "<div>\n",
       "<style scoped>\n",
       "    .dataframe tbody tr th:only-of-type {\n",
       "        vertical-align: middle;\n",
       "    }\n",
       "\n",
       "    .dataframe tbody tr th {\n",
       "        vertical-align: top;\n",
       "    }\n",
       "\n",
       "    .dataframe thead th {\n",
       "        text-align: right;\n",
       "    }\n",
       "</style>\n",
       "<table border=\"1\" class=\"dataframe\">\n",
       "  <thead>\n",
       "    <tr style=\"text-align: right;\">\n",
       "      <th></th>\n",
       "      <th>id</th>\n",
       "      <th>title</th>\n",
       "      <th>genres</th>\n",
       "      <th>original_language</th>\n",
       "      <th>vote_average</th>\n",
       "      <th>vote_count</th>\n",
       "      <th>popularity</th>\n",
       "      <th>budget</th>\n",
       "      <th>production_companies</th>\n",
       "      <th>revenue</th>\n",
       "      <th>runtime</th>\n",
       "      <th>genres_str</th>\n",
       "    </tr>\n",
       "  </thead>\n",
       "  <tbody>\n",
       "    <tr>\n",
       "      <th>0</th>\n",
       "      <td>758323</td>\n",
       "      <td>The Pope's Exorcist</td>\n",
       "      <td>Horror, Mystery, Thriller</td>\n",
       "      <td>English</td>\n",
       "      <td>7.4</td>\n",
       "      <td>619</td>\n",
       "      <td>5089.969</td>\n",
       "      <td>18000000</td>\n",
       "      <td>Screen Gems, 2.0 Entertainment, Jesus &amp; Mary, ...</td>\n",
       "      <td>65675816</td>\n",
       "      <td>103</td>\n",
       "      <td>Horror, Mystery, Thriller</td>\n",
       "    </tr>\n",
       "    <tr>\n",
       "      <th>1</th>\n",
       "      <td>640146</td>\n",
       "      <td>Ant-Man and the Wasp: Quantumania</td>\n",
       "      <td>Action, Adventure, Science Fiction</td>\n",
       "      <td>English</td>\n",
       "      <td>6.6</td>\n",
       "      <td>2294</td>\n",
       "      <td>4665.438</td>\n",
       "      <td>200000000</td>\n",
       "      <td>Marvel Studios, Kevin Feige Productions</td>\n",
       "      <td>464566092</td>\n",
       "      <td>125</td>\n",
       "      <td>Action, Adventure, Science Fiction</td>\n",
       "    </tr>\n",
       "    <tr>\n",
       "      <th>2</th>\n",
       "      <td>502356</td>\n",
       "      <td>The Super Mario Bros. Movie</td>\n",
       "      <td>Animation, Adventure, Family, Fantasy, Comedy</td>\n",
       "      <td>English</td>\n",
       "      <td>7.5</td>\n",
       "      <td>1861</td>\n",
       "      <td>3935.550</td>\n",
       "      <td>100000000</td>\n",
       "      <td>Universal Pictures, Illumination, Nintendo</td>\n",
       "      <td>1121048165</td>\n",
       "      <td>92</td>\n",
       "      <td>Animation, Adventure, Family, Fantasy, Comedy</td>\n",
       "    </tr>\n",
       "    <tr>\n",
       "      <th>3</th>\n",
       "      <td>868759</td>\n",
       "      <td>Ghosted</td>\n",
       "      <td>Action, Comedy, Romance</td>\n",
       "      <td>English</td>\n",
       "      <td>7.2</td>\n",
       "      <td>652</td>\n",
       "      <td>2791.532</td>\n",
       "      <td>0</td>\n",
       "      <td>Skydance Media, Apple Studios</td>\n",
       "      <td>0</td>\n",
       "      <td>120</td>\n",
       "      <td>Action, Comedy, Romance</td>\n",
       "    </tr>\n",
       "    <tr>\n",
       "      <th>4</th>\n",
       "      <td>594767</td>\n",
       "      <td>Shazam! Fury of the Gods</td>\n",
       "      <td>Action, Comedy, Fantasy, Adventure</td>\n",
       "      <td>English</td>\n",
       "      <td>6.8</td>\n",
       "      <td>1510</td>\n",
       "      <td>2702.593</td>\n",
       "      <td>125000000</td>\n",
       "      <td>New Line Cinema, The Safran Company, DC Films,...</td>\n",
       "      <td>133437105</td>\n",
       "      <td>130</td>\n",
       "      <td>Action, Comedy, Fantasy, Adventure</td>\n",
       "    </tr>\n",
       "  </tbody>\n",
       "</table>\n",
       "</div>"
      ],
      "text/plain": [
       "       id                              title  \\\n",
       "0  758323                The Pope's Exorcist   \n",
       "1  640146  Ant-Man and the Wasp: Quantumania   \n",
       "2  502356        The Super Mario Bros. Movie   \n",
       "3  868759                            Ghosted   \n",
       "4  594767           Shazam! Fury of the Gods   \n",
       "\n",
       "                                          genres original_language  \\\n",
       "0                      Horror, Mystery, Thriller           English   \n",
       "1             Action, Adventure, Science Fiction           English   \n",
       "2  Animation, Adventure, Family, Fantasy, Comedy           English   \n",
       "3                        Action, Comedy, Romance           English   \n",
       "4             Action, Comedy, Fantasy, Adventure           English   \n",
       "\n",
       "   vote_average  vote_count  popularity     budget  \\\n",
       "0           7.4         619    5089.969   18000000   \n",
       "1           6.6        2294    4665.438  200000000   \n",
       "2           7.5        1861    3935.550  100000000   \n",
       "3           7.2         652    2791.532          0   \n",
       "4           6.8        1510    2702.593  125000000   \n",
       "\n",
       "                                production_companies     revenue  runtime  \\\n",
       "0  Screen Gems, 2.0 Entertainment, Jesus & Mary, ...    65675816      103   \n",
       "1            Marvel Studios, Kevin Feige Productions   464566092      125   \n",
       "2         Universal Pictures, Illumination, Nintendo  1121048165       92   \n",
       "3                      Skydance Media, Apple Studios           0      120   \n",
       "4  New Line Cinema, The Safran Company, DC Films,...   133437105      130   \n",
       "\n",
       "                                      genres_str  \n",
       "0                      Horror, Mystery, Thriller  \n",
       "1             Action, Adventure, Science Fiction  \n",
       "2  Animation, Adventure, Family, Fantasy, Comedy  \n",
       "3                        Action, Comedy, Romance  \n",
       "4             Action, Comedy, Fantasy, Adventure  "
      ]
     },
     "execution_count": 40,
     "metadata": {},
     "output_type": "execute_result"
    }
   ],
   "source": [
    "df1.head() #"
   ]
  },
  {
   "cell_type": "code",
   "execution_count": 41,
   "metadata": {
    "ExecuteTime": {
     "end_time": "2023-09-02T17:27:42.294918600Z",
     "start_time": "2023-09-02T17:27:42.250041200Z"
    },
    "collapsed": false
   },
   "outputs": [],
   "source": [
    "#making a net profit feature\n",
    "df1['net_profit'] = df1['revenue'] - df1['budget']"
   ]
  },
  {
   "cell_type": "code",
   "execution_count": 42,
   "metadata": {
    "ExecuteTime": {
     "end_time": "2023-09-02T17:27:42.429151300Z",
     "start_time": "2023-09-02T17:27:42.383686800Z"
    },
    "collapsed": false
   },
   "outputs": [
    {
     "data": {
      "text/html": [
       "<div>\n",
       "<style scoped>\n",
       "    .dataframe tbody tr th:only-of-type {\n",
       "        vertical-align: middle;\n",
       "    }\n",
       "\n",
       "    .dataframe tbody tr th {\n",
       "        vertical-align: top;\n",
       "    }\n",
       "\n",
       "    .dataframe thead th {\n",
       "        text-align: right;\n",
       "    }\n",
       "</style>\n",
       "<table border=\"1\" class=\"dataframe\">\n",
       "  <thead>\n",
       "    <tr style=\"text-align: right;\">\n",
       "      <th></th>\n",
       "      <th>id</th>\n",
       "      <th>title</th>\n",
       "      <th>genres</th>\n",
       "      <th>original_language</th>\n",
       "      <th>vote_average</th>\n",
       "      <th>vote_count</th>\n",
       "      <th>popularity</th>\n",
       "      <th>budget</th>\n",
       "      <th>production_companies</th>\n",
       "      <th>revenue</th>\n",
       "      <th>runtime</th>\n",
       "      <th>genres_str</th>\n",
       "      <th>net_profit</th>\n",
       "    </tr>\n",
       "  </thead>\n",
       "  <tbody>\n",
       "    <tr>\n",
       "      <th>0</th>\n",
       "      <td>758323</td>\n",
       "      <td>The Pope's Exorcist</td>\n",
       "      <td>Horror, Mystery, Thriller</td>\n",
       "      <td>English</td>\n",
       "      <td>7.4</td>\n",
       "      <td>619</td>\n",
       "      <td>5089.969</td>\n",
       "      <td>18000000</td>\n",
       "      <td>Screen Gems, 2.0 Entertainment, Jesus &amp; Mary, ...</td>\n",
       "      <td>65675816</td>\n",
       "      <td>103</td>\n",
       "      <td>Horror, Mystery, Thriller</td>\n",
       "      <td>47675816</td>\n",
       "    </tr>\n",
       "    <tr>\n",
       "      <th>1</th>\n",
       "      <td>640146</td>\n",
       "      <td>Ant-Man and the Wasp: Quantumania</td>\n",
       "      <td>Action, Adventure, Science Fiction</td>\n",
       "      <td>English</td>\n",
       "      <td>6.6</td>\n",
       "      <td>2294</td>\n",
       "      <td>4665.438</td>\n",
       "      <td>200000000</td>\n",
       "      <td>Marvel Studios, Kevin Feige Productions</td>\n",
       "      <td>464566092</td>\n",
       "      <td>125</td>\n",
       "      <td>Action, Adventure, Science Fiction</td>\n",
       "      <td>264566092</td>\n",
       "    </tr>\n",
       "    <tr>\n",
       "      <th>2</th>\n",
       "      <td>502356</td>\n",
       "      <td>The Super Mario Bros. Movie</td>\n",
       "      <td>Animation, Adventure, Family, Fantasy, Comedy</td>\n",
       "      <td>English</td>\n",
       "      <td>7.5</td>\n",
       "      <td>1861</td>\n",
       "      <td>3935.550</td>\n",
       "      <td>100000000</td>\n",
       "      <td>Universal Pictures, Illumination, Nintendo</td>\n",
       "      <td>1121048165</td>\n",
       "      <td>92</td>\n",
       "      <td>Animation, Adventure, Family, Fantasy, Comedy</td>\n",
       "      <td>1021048165</td>\n",
       "    </tr>\n",
       "    <tr>\n",
       "      <th>3</th>\n",
       "      <td>868759</td>\n",
       "      <td>Ghosted</td>\n",
       "      <td>Action, Comedy, Romance</td>\n",
       "      <td>English</td>\n",
       "      <td>7.2</td>\n",
       "      <td>652</td>\n",
       "      <td>2791.532</td>\n",
       "      <td>0</td>\n",
       "      <td>Skydance Media, Apple Studios</td>\n",
       "      <td>0</td>\n",
       "      <td>120</td>\n",
       "      <td>Action, Comedy, Romance</td>\n",
       "      <td>0</td>\n",
       "    </tr>\n",
       "    <tr>\n",
       "      <th>4</th>\n",
       "      <td>594767</td>\n",
       "      <td>Shazam! Fury of the Gods</td>\n",
       "      <td>Action, Comedy, Fantasy, Adventure</td>\n",
       "      <td>English</td>\n",
       "      <td>6.8</td>\n",
       "      <td>1510</td>\n",
       "      <td>2702.593</td>\n",
       "      <td>125000000</td>\n",
       "      <td>New Line Cinema, The Safran Company, DC Films,...</td>\n",
       "      <td>133437105</td>\n",
       "      <td>130</td>\n",
       "      <td>Action, Comedy, Fantasy, Adventure</td>\n",
       "      <td>8437105</td>\n",
       "    </tr>\n",
       "  </tbody>\n",
       "</table>\n",
       "</div>"
      ],
      "text/plain": [
       "       id                              title  \\\n",
       "0  758323                The Pope's Exorcist   \n",
       "1  640146  Ant-Man and the Wasp: Quantumania   \n",
       "2  502356        The Super Mario Bros. Movie   \n",
       "3  868759                            Ghosted   \n",
       "4  594767           Shazam! Fury of the Gods   \n",
       "\n",
       "                                          genres original_language  \\\n",
       "0                      Horror, Mystery, Thriller           English   \n",
       "1             Action, Adventure, Science Fiction           English   \n",
       "2  Animation, Adventure, Family, Fantasy, Comedy           English   \n",
       "3                        Action, Comedy, Romance           English   \n",
       "4             Action, Comedy, Fantasy, Adventure           English   \n",
       "\n",
       "   vote_average  vote_count  popularity     budget  \\\n",
       "0           7.4         619    5089.969   18000000   \n",
       "1           6.6        2294    4665.438  200000000   \n",
       "2           7.5        1861    3935.550  100000000   \n",
       "3           7.2         652    2791.532          0   \n",
       "4           6.8        1510    2702.593  125000000   \n",
       "\n",
       "                                production_companies     revenue  runtime  \\\n",
       "0  Screen Gems, 2.0 Entertainment, Jesus & Mary, ...    65675816      103   \n",
       "1            Marvel Studios, Kevin Feige Productions   464566092      125   \n",
       "2         Universal Pictures, Illumination, Nintendo  1121048165       92   \n",
       "3                      Skydance Media, Apple Studios           0      120   \n",
       "4  New Line Cinema, The Safran Company, DC Films,...   133437105      130   \n",
       "\n",
       "                                      genres_str  net_profit  \n",
       "0                      Horror, Mystery, Thriller    47675816  \n",
       "1             Action, Adventure, Science Fiction   264566092  \n",
       "2  Animation, Adventure, Family, Fantasy, Comedy  1021048165  \n",
       "3                        Action, Comedy, Romance           0  \n",
       "4             Action, Comedy, Fantasy, Adventure     8437105  "
      ]
     },
     "execution_count": 42,
     "metadata": {},
     "output_type": "execute_result"
    }
   ],
   "source": [
    "df1.head()"
   ]
  },
  {
   "cell_type": "code",
   "execution_count": 43,
   "metadata": {
    "ExecuteTime": {
     "end_time": "2023-09-02T17:27:42.628159600Z",
     "start_time": "2023-09-02T17:27:42.544353500Z"
    },
    "collapsed": false
   },
   "outputs": [],
   "source": [
    "#removing unnecessary columns\n",
    "df1.drop(columns = ['genres_str', 'budget','revenue'], inplace = True)\n"
   ]
  },
  {
   "cell_type": "code",
   "execution_count": 44,
   "metadata": {
    "ExecuteTime": {
     "end_time": "2023-09-02T17:27:42.753818100Z",
     "start_time": "2023-09-02T17:27:42.696974800Z"
    },
    "collapsed": false
   },
   "outputs": [],
   "source": [
    "df1['tags'] = df1['genres'] + df1['original_language'] + df1['production_companies']"
   ]
  },
  {
   "cell_type": "code",
   "execution_count": 45,
   "metadata": {
    "ExecuteTime": {
     "end_time": "2023-09-02T17:27:42.863528500Z",
     "start_time": "2023-09-02T17:27:42.799671600Z"
    },
    "collapsed": false
   },
   "outputs": [
    {
     "data": {
      "text/html": [
       "<div>\n",
       "<style scoped>\n",
       "    .dataframe tbody tr th:only-of-type {\n",
       "        vertical-align: middle;\n",
       "    }\n",
       "\n",
       "    .dataframe tbody tr th {\n",
       "        vertical-align: top;\n",
       "    }\n",
       "\n",
       "    .dataframe thead th {\n",
       "        text-align: right;\n",
       "    }\n",
       "</style>\n",
       "<table border=\"1\" class=\"dataframe\">\n",
       "  <thead>\n",
       "    <tr style=\"text-align: right;\">\n",
       "      <th></th>\n",
       "      <th>id</th>\n",
       "      <th>title</th>\n",
       "      <th>genres</th>\n",
       "      <th>original_language</th>\n",
       "      <th>vote_average</th>\n",
       "      <th>vote_count</th>\n",
       "      <th>popularity</th>\n",
       "      <th>production_companies</th>\n",
       "      <th>runtime</th>\n",
       "      <th>net_profit</th>\n",
       "      <th>tags</th>\n",
       "    </tr>\n",
       "  </thead>\n",
       "  <tbody>\n",
       "    <tr>\n",
       "      <th>0</th>\n",
       "      <td>758323</td>\n",
       "      <td>The Pope's Exorcist</td>\n",
       "      <td>Horror, Mystery, Thriller</td>\n",
       "      <td>English</td>\n",
       "      <td>7.4</td>\n",
       "      <td>619</td>\n",
       "      <td>5089.969</td>\n",
       "      <td>Screen Gems, 2.0 Entertainment, Jesus &amp; Mary, ...</td>\n",
       "      <td>103</td>\n",
       "      <td>47675816</td>\n",
       "      <td>Horror, Mystery, ThrillerEnglishScreen Gems, 2...</td>\n",
       "    </tr>\n",
       "    <tr>\n",
       "      <th>1</th>\n",
       "      <td>640146</td>\n",
       "      <td>Ant-Man and the Wasp: Quantumania</td>\n",
       "      <td>Action, Adventure, Science Fiction</td>\n",
       "      <td>English</td>\n",
       "      <td>6.6</td>\n",
       "      <td>2294</td>\n",
       "      <td>4665.438</td>\n",
       "      <td>Marvel Studios, Kevin Feige Productions</td>\n",
       "      <td>125</td>\n",
       "      <td>264566092</td>\n",
       "      <td>Action, Adventure, Science FictionEnglishMarve...</td>\n",
       "    </tr>\n",
       "    <tr>\n",
       "      <th>2</th>\n",
       "      <td>502356</td>\n",
       "      <td>The Super Mario Bros. Movie</td>\n",
       "      <td>Animation, Adventure, Family, Fantasy, Comedy</td>\n",
       "      <td>English</td>\n",
       "      <td>7.5</td>\n",
       "      <td>1861</td>\n",
       "      <td>3935.550</td>\n",
       "      <td>Universal Pictures, Illumination, Nintendo</td>\n",
       "      <td>92</td>\n",
       "      <td>1021048165</td>\n",
       "      <td>Animation, Adventure, Family, Fantasy, ComedyE...</td>\n",
       "    </tr>\n",
       "    <tr>\n",
       "      <th>3</th>\n",
       "      <td>868759</td>\n",
       "      <td>Ghosted</td>\n",
       "      <td>Action, Comedy, Romance</td>\n",
       "      <td>English</td>\n",
       "      <td>7.2</td>\n",
       "      <td>652</td>\n",
       "      <td>2791.532</td>\n",
       "      <td>Skydance Media, Apple Studios</td>\n",
       "      <td>120</td>\n",
       "      <td>0</td>\n",
       "      <td>Action, Comedy, RomanceEnglishSkydance Media, ...</td>\n",
       "    </tr>\n",
       "    <tr>\n",
       "      <th>4</th>\n",
       "      <td>594767</td>\n",
       "      <td>Shazam! Fury of the Gods</td>\n",
       "      <td>Action, Comedy, Fantasy, Adventure</td>\n",
       "      <td>English</td>\n",
       "      <td>6.8</td>\n",
       "      <td>1510</td>\n",
       "      <td>2702.593</td>\n",
       "      <td>New Line Cinema, The Safran Company, DC Films,...</td>\n",
       "      <td>130</td>\n",
       "      <td>8437105</td>\n",
       "      <td>Action, Comedy, Fantasy, AdventureEnglishNew L...</td>\n",
       "    </tr>\n",
       "  </tbody>\n",
       "</table>\n",
       "</div>"
      ],
      "text/plain": [
       "       id                              title  \\\n",
       "0  758323                The Pope's Exorcist   \n",
       "1  640146  Ant-Man and the Wasp: Quantumania   \n",
       "2  502356        The Super Mario Bros. Movie   \n",
       "3  868759                            Ghosted   \n",
       "4  594767           Shazam! Fury of the Gods   \n",
       "\n",
       "                                          genres original_language  \\\n",
       "0                      Horror, Mystery, Thriller           English   \n",
       "1             Action, Adventure, Science Fiction           English   \n",
       "2  Animation, Adventure, Family, Fantasy, Comedy           English   \n",
       "3                        Action, Comedy, Romance           English   \n",
       "4             Action, Comedy, Fantasy, Adventure           English   \n",
       "\n",
       "   vote_average  vote_count  popularity  \\\n",
       "0           7.4         619    5089.969   \n",
       "1           6.6        2294    4665.438   \n",
       "2           7.5        1861    3935.550   \n",
       "3           7.2         652    2791.532   \n",
       "4           6.8        1510    2702.593   \n",
       "\n",
       "                                production_companies  runtime  net_profit  \\\n",
       "0  Screen Gems, 2.0 Entertainment, Jesus & Mary, ...      103    47675816   \n",
       "1            Marvel Studios, Kevin Feige Productions      125   264566092   \n",
       "2         Universal Pictures, Illumination, Nintendo       92  1021048165   \n",
       "3                      Skydance Media, Apple Studios      120           0   \n",
       "4  New Line Cinema, The Safran Company, DC Films,...      130     8437105   \n",
       "\n",
       "                                                tags  \n",
       "0  Horror, Mystery, ThrillerEnglishScreen Gems, 2...  \n",
       "1  Action, Adventure, Science FictionEnglishMarve...  \n",
       "2  Animation, Adventure, Family, Fantasy, ComedyE...  \n",
       "3  Action, Comedy, RomanceEnglishSkydance Media, ...  \n",
       "4  Action, Comedy, Fantasy, AdventureEnglishNew L...  "
      ]
     },
     "execution_count": 45,
     "metadata": {},
     "output_type": "execute_result"
    }
   ],
   "source": [
    "df1.head()"
   ]
  },
  {
   "cell_type": "code",
   "execution_count": 46,
   "metadata": {
    "ExecuteTime": {
     "end_time": "2023-09-02T17:27:43.032079400Z",
     "start_time": "2023-09-02T17:27:42.969217900Z"
    },
    "collapsed": false
   },
   "outputs": [],
   "source": [
    "\n",
    "\n",
    "def separate_words_by_capitals(input_string):\n",
    "    # Use regular expression to split words by two consecutive capital letters\n",
    "    words = re.findall('[A-Z]{2}(?=[a-z])|[A-Z][a-z]*', input_string)\n",
    "    return ', '.join(words)"
   ]
  },
  {
   "cell_type": "code",
   "execution_count": 47,
   "metadata": {
    "ExecuteTime": {
     "end_time": "2023-09-02T17:27:43.203591300Z",
     "start_time": "2023-09-02T17:27:43.137767100Z"
    },
    "collapsed": false
   },
   "outputs": [],
   "source": [
    "df1['tags'] = df1['tags'].apply(separate_words_by_capitals)"
   ]
  },
  {
   "cell_type": "code",
   "execution_count": 48,
   "metadata": {
    "ExecuteTime": {
     "end_time": "2023-09-02T17:27:43.299373900Z",
     "start_time": "2023-09-02T17:27:43.246477900Z"
    },
    "collapsed": false
   },
   "outputs": [
    {
     "data": {
      "text/html": [
       "<div>\n",
       "<style scoped>\n",
       "    .dataframe tbody tr th:only-of-type {\n",
       "        vertical-align: middle;\n",
       "    }\n",
       "\n",
       "    .dataframe tbody tr th {\n",
       "        vertical-align: top;\n",
       "    }\n",
       "\n",
       "    .dataframe thead th {\n",
       "        text-align: right;\n",
       "    }\n",
       "</style>\n",
       "<table border=\"1\" class=\"dataframe\">\n",
       "  <thead>\n",
       "    <tr style=\"text-align: right;\">\n",
       "      <th></th>\n",
       "      <th>id</th>\n",
       "      <th>title</th>\n",
       "      <th>genres</th>\n",
       "      <th>original_language</th>\n",
       "      <th>vote_average</th>\n",
       "      <th>vote_count</th>\n",
       "      <th>popularity</th>\n",
       "      <th>production_companies</th>\n",
       "      <th>runtime</th>\n",
       "      <th>net_profit</th>\n",
       "      <th>tags</th>\n",
       "    </tr>\n",
       "  </thead>\n",
       "  <tbody>\n",
       "    <tr>\n",
       "      <th>0</th>\n",
       "      <td>758323</td>\n",
       "      <td>The Pope's Exorcist</td>\n",
       "      <td>Horror, Mystery, Thriller</td>\n",
       "      <td>English</td>\n",
       "      <td>7.4</td>\n",
       "      <td>619</td>\n",
       "      <td>5089.969</td>\n",
       "      <td>Screen Gems, 2.0 Entertainment, Jesus &amp; Mary, ...</td>\n",
       "      <td>103</td>\n",
       "      <td>47675816</td>\n",
       "      <td>Horror, Mystery, Thriller, English, Screen, Ge...</td>\n",
       "    </tr>\n",
       "    <tr>\n",
       "      <th>1</th>\n",
       "      <td>640146</td>\n",
       "      <td>Ant-Man and the Wasp: Quantumania</td>\n",
       "      <td>Action, Adventure, Science Fiction</td>\n",
       "      <td>English</td>\n",
       "      <td>6.6</td>\n",
       "      <td>2294</td>\n",
       "      <td>4665.438</td>\n",
       "      <td>Marvel Studios, Kevin Feige Productions</td>\n",
       "      <td>125</td>\n",
       "      <td>264566092</td>\n",
       "      <td>Action, Adventure, Science, Fiction, English, ...</td>\n",
       "    </tr>\n",
       "    <tr>\n",
       "      <th>2</th>\n",
       "      <td>502356</td>\n",
       "      <td>The Super Mario Bros. Movie</td>\n",
       "      <td>Animation, Adventure, Family, Fantasy, Comedy</td>\n",
       "      <td>English</td>\n",
       "      <td>7.5</td>\n",
       "      <td>1861</td>\n",
       "      <td>3935.550</td>\n",
       "      <td>Universal Pictures, Illumination, Nintendo</td>\n",
       "      <td>92</td>\n",
       "      <td>1021048165</td>\n",
       "      <td>Animation, Adventure, Family, Fantasy, Comedy,...</td>\n",
       "    </tr>\n",
       "    <tr>\n",
       "      <th>3</th>\n",
       "      <td>868759</td>\n",
       "      <td>Ghosted</td>\n",
       "      <td>Action, Comedy, Romance</td>\n",
       "      <td>English</td>\n",
       "      <td>7.2</td>\n",
       "      <td>652</td>\n",
       "      <td>2791.532</td>\n",
       "      <td>Skydance Media, Apple Studios</td>\n",
       "      <td>120</td>\n",
       "      <td>0</td>\n",
       "      <td>Action, Comedy, Romance, English, Skydance, Me...</td>\n",
       "    </tr>\n",
       "    <tr>\n",
       "      <th>4</th>\n",
       "      <td>594767</td>\n",
       "      <td>Shazam! Fury of the Gods</td>\n",
       "      <td>Action, Comedy, Fantasy, Adventure</td>\n",
       "      <td>English</td>\n",
       "      <td>6.8</td>\n",
       "      <td>1510</td>\n",
       "      <td>2702.593</td>\n",
       "      <td>New Line Cinema, The Safran Company, DC Films,...</td>\n",
       "      <td>130</td>\n",
       "      <td>8437105</td>\n",
       "      <td>Action, Comedy, Fantasy, Adventure, English, N...</td>\n",
       "    </tr>\n",
       "  </tbody>\n",
       "</table>\n",
       "</div>"
      ],
      "text/plain": [
       "       id                              title  \\\n",
       "0  758323                The Pope's Exorcist   \n",
       "1  640146  Ant-Man and the Wasp: Quantumania   \n",
       "2  502356        The Super Mario Bros. Movie   \n",
       "3  868759                            Ghosted   \n",
       "4  594767           Shazam! Fury of the Gods   \n",
       "\n",
       "                                          genres original_language  \\\n",
       "0                      Horror, Mystery, Thriller           English   \n",
       "1             Action, Adventure, Science Fiction           English   \n",
       "2  Animation, Adventure, Family, Fantasy, Comedy           English   \n",
       "3                        Action, Comedy, Romance           English   \n",
       "4             Action, Comedy, Fantasy, Adventure           English   \n",
       "\n",
       "   vote_average  vote_count  popularity  \\\n",
       "0           7.4         619    5089.969   \n",
       "1           6.6        2294    4665.438   \n",
       "2           7.5        1861    3935.550   \n",
       "3           7.2         652    2791.532   \n",
       "4           6.8        1510    2702.593   \n",
       "\n",
       "                                production_companies  runtime  net_profit  \\\n",
       "0  Screen Gems, 2.0 Entertainment, Jesus & Mary, ...      103    47675816   \n",
       "1            Marvel Studios, Kevin Feige Productions      125   264566092   \n",
       "2         Universal Pictures, Illumination, Nintendo       92  1021048165   \n",
       "3                      Skydance Media, Apple Studios      120           0   \n",
       "4  New Line Cinema, The Safran Company, DC Films,...      130     8437105   \n",
       "\n",
       "                                                tags  \n",
       "0  Horror, Mystery, Thriller, English, Screen, Ge...  \n",
       "1  Action, Adventure, Science, Fiction, English, ...  \n",
       "2  Animation, Adventure, Family, Fantasy, Comedy,...  \n",
       "3  Action, Comedy, Romance, English, Skydance, Me...  \n",
       "4  Action, Comedy, Fantasy, Adventure, English, N...  "
      ]
     },
     "execution_count": 48,
     "metadata": {},
     "output_type": "execute_result"
    }
   ],
   "source": [
    "df1.head()"
   ]
  },
  {
   "cell_type": "code",
   "execution_count": 49,
   "metadata": {
    "ExecuteTime": {
     "end_time": "2023-09-02T17:27:43.561673800Z",
     "start_time": "2023-09-02T17:27:43.450939600Z"
    },
    "collapsed": false
   },
   "outputs": [],
   "source": [
    "df1.drop(columns=['genres','production_companies','original_language'], inplace=True)"
   ]
  },
  {
   "cell_type": "code",
   "execution_count": 50,
   "metadata": {
    "ExecuteTime": {
     "end_time": "2023-09-02T17:27:43.656094Z",
     "start_time": "2023-09-02T17:27:43.607522100Z"
    },
    "collapsed": false
   },
   "outputs": [
    {
     "data": {
      "text/html": [
       "<div>\n",
       "<style scoped>\n",
       "    .dataframe tbody tr th:only-of-type {\n",
       "        vertical-align: middle;\n",
       "    }\n",
       "\n",
       "    .dataframe tbody tr th {\n",
       "        vertical-align: top;\n",
       "    }\n",
       "\n",
       "    .dataframe thead th {\n",
       "        text-align: right;\n",
       "    }\n",
       "</style>\n",
       "<table border=\"1\" class=\"dataframe\">\n",
       "  <thead>\n",
       "    <tr style=\"text-align: right;\">\n",
       "      <th></th>\n",
       "      <th>id</th>\n",
       "      <th>title</th>\n",
       "      <th>vote_average</th>\n",
       "      <th>vote_count</th>\n",
       "      <th>popularity</th>\n",
       "      <th>runtime</th>\n",
       "      <th>net_profit</th>\n",
       "      <th>tags</th>\n",
       "    </tr>\n",
       "  </thead>\n",
       "  <tbody>\n",
       "    <tr>\n",
       "      <th>0</th>\n",
       "      <td>758323</td>\n",
       "      <td>The Pope's Exorcist</td>\n",
       "      <td>7.4</td>\n",
       "      <td>619</td>\n",
       "      <td>5089.969</td>\n",
       "      <td>103</td>\n",
       "      <td>47675816</td>\n",
       "      <td>Horror, Mystery, Thriller, English, Screen, Ge...</td>\n",
       "    </tr>\n",
       "    <tr>\n",
       "      <th>1</th>\n",
       "      <td>640146</td>\n",
       "      <td>Ant-Man and the Wasp: Quantumania</td>\n",
       "      <td>6.6</td>\n",
       "      <td>2294</td>\n",
       "      <td>4665.438</td>\n",
       "      <td>125</td>\n",
       "      <td>264566092</td>\n",
       "      <td>Action, Adventure, Science, Fiction, English, ...</td>\n",
       "    </tr>\n",
       "    <tr>\n",
       "      <th>2</th>\n",
       "      <td>502356</td>\n",
       "      <td>The Super Mario Bros. Movie</td>\n",
       "      <td>7.5</td>\n",
       "      <td>1861</td>\n",
       "      <td>3935.550</td>\n",
       "      <td>92</td>\n",
       "      <td>1021048165</td>\n",
       "      <td>Animation, Adventure, Family, Fantasy, Comedy,...</td>\n",
       "    </tr>\n",
       "    <tr>\n",
       "      <th>3</th>\n",
       "      <td>868759</td>\n",
       "      <td>Ghosted</td>\n",
       "      <td>7.2</td>\n",
       "      <td>652</td>\n",
       "      <td>2791.532</td>\n",
       "      <td>120</td>\n",
       "      <td>0</td>\n",
       "      <td>Action, Comedy, Romance, English, Skydance, Me...</td>\n",
       "    </tr>\n",
       "    <tr>\n",
       "      <th>4</th>\n",
       "      <td>594767</td>\n",
       "      <td>Shazam! Fury of the Gods</td>\n",
       "      <td>6.8</td>\n",
       "      <td>1510</td>\n",
       "      <td>2702.593</td>\n",
       "      <td>130</td>\n",
       "      <td>8437105</td>\n",
       "      <td>Action, Comedy, Fantasy, Adventure, English, N...</td>\n",
       "    </tr>\n",
       "  </tbody>\n",
       "</table>\n",
       "</div>"
      ],
      "text/plain": [
       "       id                              title  vote_average  vote_count  \\\n",
       "0  758323                The Pope's Exorcist           7.4         619   \n",
       "1  640146  Ant-Man and the Wasp: Quantumania           6.6        2294   \n",
       "2  502356        The Super Mario Bros. Movie           7.5        1861   \n",
       "3  868759                            Ghosted           7.2         652   \n",
       "4  594767           Shazam! Fury of the Gods           6.8        1510   \n",
       "\n",
       "   popularity  runtime  net_profit  \\\n",
       "0    5089.969      103    47675816   \n",
       "1    4665.438      125   264566092   \n",
       "2    3935.550       92  1021048165   \n",
       "3    2791.532      120           0   \n",
       "4    2702.593      130     8437105   \n",
       "\n",
       "                                                tags  \n",
       "0  Horror, Mystery, Thriller, English, Screen, Ge...  \n",
       "1  Action, Adventure, Science, Fiction, English, ...  \n",
       "2  Animation, Adventure, Family, Fantasy, Comedy,...  \n",
       "3  Action, Comedy, Romance, English, Skydance, Me...  \n",
       "4  Action, Comedy, Fantasy, Adventure, English, N...  "
      ]
     },
     "execution_count": 50,
     "metadata": {},
     "output_type": "execute_result"
    }
   ],
   "source": [
    "df1.head()"
   ]
  },
  {
   "cell_type": "code",
   "execution_count": 51,
   "metadata": {
    "ExecuteTime": {
     "end_time": "2023-09-02T17:27:43.734884300Z",
     "start_time": "2023-09-02T17:27:43.697954100Z"
    },
    "collapsed": false
   },
   "outputs": [],
   "source": [
    "df1['title'] = df1['title'].str.strip()## getting rid of any unnecssary white spaces"
   ]
  },
  {
   "cell_type": "code",
   "execution_count": 52,
   "metadata": {
    "ExecuteTime": {
     "end_time": "2023-09-02T17:27:44.122779200Z",
     "start_time": "2023-09-02T17:27:44.052939800Z"
    },
    "collapsed": false
   },
   "outputs": [
    {
     "name": "stdout",
     "output_type": "stream",
     "text": [
      "8420\n"
     ]
    }
   ],
   "source": [
    "# Extract all words from the 'tags' column\n",
    "all_words = ' '.join(df1['tags']).split()\n",
    "\n",
    "# Create a set of unique words\n",
    "unique_words_set = set(all_words)\n",
    "\n",
    "# Calculate the total number of unique words\n",
    "total_unique_words = len(unique_words_set)\n",
    "\n",
    "print(total_unique_words) # set as our max features"
   ]
  },
  {
   "cell_type": "code",
   "execution_count": 53,
   "metadata": {
    "ExecuteTime": {
     "end_time": "2023-09-02T17:27:44.556681Z",
     "start_time": "2023-09-02T17:27:44.328586600Z"
    },
    "collapsed": false
   },
   "outputs": [
    {
     "data": {
      "text/plain": [
       "(10000, 7590)"
      ]
     },
     "execution_count": 53,
     "metadata": {},
     "output_type": "execute_result"
    }
   ],
   "source": [
    "cv=CountVectorizer(max_features=8420,stop_words='english')\n",
    "vector=cv.fit_transform(df1['tags']).toarray()\n",
    "vector.shape"
   ]
  },
  {
   "cell_type": "code",
   "execution_count": 54,
   "metadata": {
    "ExecuteTime": {
     "end_time": "2023-09-02T17:27:44.580615800Z",
     "start_time": "2023-09-02T17:27:44.545709200Z"
    },
    "collapsed": false
   },
   "outputs": [
    {
     "data": {
      "text/plain": [
       "array([[0, 0, 0, ..., 0, 0, 0],\n",
       "       [0, 0, 0, ..., 0, 0, 0],\n",
       "       [0, 0, 0, ..., 0, 0, 0],\n",
       "       ...,\n",
       "       [0, 0, 0, ..., 0, 0, 0],\n",
       "       [0, 0, 0, ..., 0, 0, 0],\n",
       "       [0, 0, 0, ..., 0, 0, 0]], dtype=int64)"
      ]
     },
     "execution_count": 54,
     "metadata": {},
     "output_type": "execute_result"
    }
   ],
   "source": [
    "vector"
   ]
  },
  {
   "cell_type": "code",
   "execution_count": 55,
   "metadata": {
    "ExecuteTime": {
     "end_time": "2023-09-02T17:27:50.227912500Z",
     "start_time": "2023-09-02T17:27:44.899878700Z"
    },
    "collapsed": false
   },
   "outputs": [
    {
     "data": {
      "text/plain": [
       "array([[1.        , 0.1754116 , 0.0877058 , ..., 0.39223227, 0.        ,\n",
       "        0.09245003],\n",
       "       [0.1754116 , 1.        , 0.2       , ..., 0.1118034 , 0.        ,\n",
       "        0.10540926],\n",
       "       [0.0877058 , 0.2       , 1.        , ..., 0.1118034 , 0.        ,\n",
       "        0.10540926],\n",
       "       ...,\n",
       "       [0.39223227, 0.1118034 , 0.1118034 , ..., 1.        , 0.        ,\n",
       "        0.11785113],\n",
       "       [0.        , 0.        , 0.        , ..., 0.        , 1.        ,\n",
       "        0.19245009],\n",
       "       [0.09245003, 0.10540926, 0.10540926, ..., 0.11785113, 0.19245009,\n",
       "        1.        ]])"
      ]
     },
     "execution_count": 55,
     "metadata": {},
     "output_type": "execute_result"
    }
   ],
   "source": [
    "similarity=cosine_similarity(vector)\n",
    "similarity"
   ]
  },
  {
   "cell_type": "code",
   "execution_count": 57,
   "metadata": {
    "ExecuteTime": {
     "end_time": "2023-09-02T17:27:50.255828500Z",
     "start_time": "2023-09-02T17:27:50.232891100Z"
    },
    "collapsed": false
   },
   "outputs": [],
   "source": [
    "def recommend(movie):\n",
    "    index=df1[df1['title']==movie].index[0]\n",
    "    distances=sorted(list(enumerate(similarity[index])),reverse=True,key=lambda x:x[1])\n",
    "    for i in distances[1:5]: #1 - 5 is the similarity. 0 being the \"movie\" recommended e.g. Aladdin below. Can also use the furthest by changing index to -5, -1 for example to get last 5.\n",
    "        print(df1.iloc[i[0]].title)\n"
   ]
  },
  {
   "cell_type": "code",
   "execution_count": 58,
   "metadata": {
    "ExecuteTime": {
     "end_time": "2023-09-02T17:27:50.265800800Z",
     "start_time": "2023-09-02T17:27:50.245855900Z"
    },
    "collapsed": false
   },
   "outputs": [
    {
     "name": "stdout",
     "output_type": "stream",
     "text": [
      "Slender Man\n",
      "Insidious: Chapter 3\n",
      "When a Stranger Calls\n",
      "Unfriended\n"
     ]
    }
   ],
   "source": [
    "recommend('The Pope\\'s Exorcist')#It works! a list has been returned"
   ]
  },
  {
   "cell_type": "code",
   "execution_count": 59,
   "metadata": {
    "ExecuteTime": {
     "end_time": "2023-09-02T17:27:50.276773400Z",
     "start_time": "2023-09-02T17:27:50.262814Z"
    },
    "collapsed": false
   },
   "outputs": [],
   "source": [
    "def recommender():\n",
    "    movie = input(\"Please enter a movie: \")\n",
    "    return recommend(movie)"
   ]
  },
  {
   "cell_type": "code",
   "execution_count": 60,
   "metadata": {
    "ExecuteTime": {
     "end_time": "2023-09-02T17:27:50.335644Z",
     "start_time": "2023-09-02T17:27:50.282757Z"
    },
    "collapsed": false
   },
   "outputs": [
    {
     "data": {
      "text/html": [
       "<div>\n",
       "<style scoped>\n",
       "    .dataframe tbody tr th:only-of-type {\n",
       "        vertical-align: middle;\n",
       "    }\n",
       "\n",
       "    .dataframe tbody tr th {\n",
       "        vertical-align: top;\n",
       "    }\n",
       "\n",
       "    .dataframe thead th {\n",
       "        text-align: right;\n",
       "    }\n",
       "</style>\n",
       "<table border=\"1\" class=\"dataframe\">\n",
       "  <thead>\n",
       "    <tr style=\"text-align: right;\">\n",
       "      <th></th>\n",
       "      <th>id</th>\n",
       "      <th>title</th>\n",
       "      <th>vote_average</th>\n",
       "      <th>vote_count</th>\n",
       "      <th>popularity</th>\n",
       "      <th>runtime</th>\n",
       "      <th>net_profit</th>\n",
       "      <th>tags</th>\n",
       "    </tr>\n",
       "  </thead>\n",
       "  <tbody>\n",
       "    <tr>\n",
       "      <th>0</th>\n",
       "      <td>758323</td>\n",
       "      <td>The Pope's Exorcist</td>\n",
       "      <td>7.4</td>\n",
       "      <td>619</td>\n",
       "      <td>5089.969</td>\n",
       "      <td>103</td>\n",
       "      <td>47675816</td>\n",
       "      <td>Horror, Mystery, Thriller, English, Screen, Ge...</td>\n",
       "    </tr>\n",
       "    <tr>\n",
       "      <th>1</th>\n",
       "      <td>640146</td>\n",
       "      <td>Ant-Man and the Wasp: Quantumania</td>\n",
       "      <td>6.6</td>\n",
       "      <td>2294</td>\n",
       "      <td>4665.438</td>\n",
       "      <td>125</td>\n",
       "      <td>264566092</td>\n",
       "      <td>Action, Adventure, Science, Fiction, English, ...</td>\n",
       "    </tr>\n",
       "    <tr>\n",
       "      <th>2</th>\n",
       "      <td>502356</td>\n",
       "      <td>The Super Mario Bros. Movie</td>\n",
       "      <td>7.5</td>\n",
       "      <td>1861</td>\n",
       "      <td>3935.550</td>\n",
       "      <td>92</td>\n",
       "      <td>1021048165</td>\n",
       "      <td>Animation, Adventure, Family, Fantasy, Comedy,...</td>\n",
       "    </tr>\n",
       "    <tr>\n",
       "      <th>3</th>\n",
       "      <td>868759</td>\n",
       "      <td>Ghosted</td>\n",
       "      <td>7.2</td>\n",
       "      <td>652</td>\n",
       "      <td>2791.532</td>\n",
       "      <td>120</td>\n",
       "      <td>0</td>\n",
       "      <td>Action, Comedy, Romance, English, Skydance, Me...</td>\n",
       "    </tr>\n",
       "    <tr>\n",
       "      <th>4</th>\n",
       "      <td>594767</td>\n",
       "      <td>Shazam! Fury of the Gods</td>\n",
       "      <td>6.8</td>\n",
       "      <td>1510</td>\n",
       "      <td>2702.593</td>\n",
       "      <td>130</td>\n",
       "      <td>8437105</td>\n",
       "      <td>Action, Comedy, Fantasy, Adventure, English, N...</td>\n",
       "    </tr>\n",
       "  </tbody>\n",
       "</table>\n",
       "</div>"
      ],
      "text/plain": [
       "       id                              title  vote_average  vote_count  \\\n",
       "0  758323                The Pope's Exorcist           7.4         619   \n",
       "1  640146  Ant-Man and the Wasp: Quantumania           6.6        2294   \n",
       "2  502356        The Super Mario Bros. Movie           7.5        1861   \n",
       "3  868759                            Ghosted           7.2         652   \n",
       "4  594767           Shazam! Fury of the Gods           6.8        1510   \n",
       "\n",
       "   popularity  runtime  net_profit  \\\n",
       "0    5089.969      103    47675816   \n",
       "1    4665.438      125   264566092   \n",
       "2    3935.550       92  1021048165   \n",
       "3    2791.532      120           0   \n",
       "4    2702.593      130     8437105   \n",
       "\n",
       "                                                tags  \n",
       "0  Horror, Mystery, Thriller, English, Screen, Ge...  \n",
       "1  Action, Adventure, Science, Fiction, English, ...  \n",
       "2  Animation, Adventure, Family, Fantasy, Comedy,...  \n",
       "3  Action, Comedy, Romance, English, Skydance, Me...  \n",
       "4  Action, Comedy, Fantasy, Adventure, English, N...  "
      ]
     },
     "execution_count": 60,
     "metadata": {},
     "output_type": "execute_result"
    }
   ],
   "source": [
    "df1.head()"
   ]
  },
  {
   "cell_type": "code",
   "execution_count": 63,
   "metadata": {
    "ExecuteTime": {
     "end_time": "2023-09-02T17:27:58.395844600Z",
     "start_time": "2023-09-02T17:27:55.238139600Z"
    },
    "collapsed": false
   },
   "outputs": [
    {
     "name": "stderr",
     "output_type": "stream",
     "text": [
      "d:\\cuda\\lib\\site-packages\\sklearn\\cluster\\_kmeans.py:1416: FutureWarning: The default value of `n_init` will change from 10 to 'auto' in 1.4. Set the value of `n_init` explicitly to suppress the warning\n",
      "  super()._check_params_vs_input(X, default_n_init=10)\n"
     ]
    }
   ],
   "source": [
    "# Select features for clustering\n",
    "selected_features = ['vote_average', 'vote_count', 'popularity', 'runtime', 'net_profit']\n",
    "data_subset = df1[selected_features]\n",
    "\n",
    "# Normalize features\n",
    "scaler = StandardScaler()\n",
    "data_scaled = scaler.fit_transform(data_subset)\n",
    "\n",
    "# Apply K-means clustering\n",
    "num_clusters = 6  # Adjust the number of clusters based on your data\n",
    "kmeans = KMeans(n_clusters=num_clusters, random_state=0)\n",
    "df1['cluster'] = kmeans.fit_predict(data_scaled)\n",
    "\n",
    "# Text vectorization for movie tags\n",
    "cv = CountVectorizer(max_features=8420, stop_words='english')\n",
    "tags_tfidf = cv.fit_transform(df1['tags'])\n",
    "\n",
    "# Calculate cosine similarity between tag vectors\n",
    "similarity = cosine_similarity(tags_tfidf)\n",
    "\n",
    "# Define a function to recommend movies based on clustering and cosine similarity\n",
    "def recommend_movies(movie_title):\n",
    "    index = df1[df1['title'] == movie_title].index[0]\n",
    "    cluster = df1.loc[index, 'cluster']\n",
    "\n",
    "    # Find movies in the same cluster\n",
    "    similar_movies = df1[df1['cluster'] == cluster]\n",
    "\n",
    "    # Calculate cosine similarity scores for the user input movie\n",
    "    movie_similarity_scores = similarity[index]\n",
    "\n",
    "    # Sort movies based on a combination of cluster membership and cosine similarity\n",
    "    similar_movies['similarity_score'] = movie_similarity_scores[similar_movies.index]\n",
    "    recommended_movies = similar_movies.sort_values(by=['cluster', 'similarity_score'], ascending=[True, False])\n",
    "\n",
    "    return recommended_movies[['title', 'vote_average', 'vote_count', 'popularity', 'runtime', 'net_profit']]\n",
    "\n",
    "# # User inputs a movie title\n",
    "# user_input_movie = \"Avatar\"\n",
    "#\n",
    "# # Get movie recommendations for the user input movie\n",
    "# recommendations = recommend_movies(user_input_movie)\n",
    "# print(recommendations.tail(10))  # Print the top recommended movies"
   ]
  },
  {
   "cell_type": "code",
   "execution_count": 64,
   "metadata": {
    "ExecuteTime": {
     "end_time": "2023-09-02T17:27:58.411800200Z",
     "start_time": "2023-09-02T17:27:58.398836700Z"
    },
    "collapsed": false
   },
   "outputs": [
    {
     "data": {
      "text/html": [
       "<div>\n",
       "<style scoped>\n",
       "    .dataframe tbody tr th:only-of-type {\n",
       "        vertical-align: middle;\n",
       "    }\n",
       "\n",
       "    .dataframe tbody tr th {\n",
       "        vertical-align: top;\n",
       "    }\n",
       "\n",
       "    .dataframe thead th {\n",
       "        text-align: right;\n",
       "    }\n",
       "</style>\n",
       "<table border=\"1\" class=\"dataframe\">\n",
       "  <thead>\n",
       "    <tr style=\"text-align: right;\">\n",
       "      <th></th>\n",
       "      <th>id</th>\n",
       "      <th>title</th>\n",
       "      <th>vote_average</th>\n",
       "      <th>vote_count</th>\n",
       "      <th>popularity</th>\n",
       "      <th>runtime</th>\n",
       "      <th>net_profit</th>\n",
       "      <th>tags</th>\n",
       "      <th>cluster</th>\n",
       "    </tr>\n",
       "  </thead>\n",
       "  <tbody>\n",
       "    <tr>\n",
       "      <th>0</th>\n",
       "      <td>758323</td>\n",
       "      <td>The Pope's Exorcist</td>\n",
       "      <td>7.4</td>\n",
       "      <td>619</td>\n",
       "      <td>5089.969</td>\n",
       "      <td>103</td>\n",
       "      <td>47675816</td>\n",
       "      <td>Horror, Mystery, Thriller, English, Screen, Ge...</td>\n",
       "      <td>2</td>\n",
       "    </tr>\n",
       "    <tr>\n",
       "      <th>1</th>\n",
       "      <td>640146</td>\n",
       "      <td>Ant-Man and the Wasp: Quantumania</td>\n",
       "      <td>6.6</td>\n",
       "      <td>2294</td>\n",
       "      <td>4665.438</td>\n",
       "      <td>125</td>\n",
       "      <td>264566092</td>\n",
       "      <td>Action, Adventure, Science, Fiction, English, ...</td>\n",
       "      <td>2</td>\n",
       "    </tr>\n",
       "    <tr>\n",
       "      <th>2</th>\n",
       "      <td>502356</td>\n",
       "      <td>The Super Mario Bros. Movie</td>\n",
       "      <td>7.5</td>\n",
       "      <td>1861</td>\n",
       "      <td>3935.550</td>\n",
       "      <td>92</td>\n",
       "      <td>1021048165</td>\n",
       "      <td>Animation, Adventure, Family, Fantasy, Comedy,...</td>\n",
       "      <td>2</td>\n",
       "    </tr>\n",
       "    <tr>\n",
       "      <th>3</th>\n",
       "      <td>868759</td>\n",
       "      <td>Ghosted</td>\n",
       "      <td>7.2</td>\n",
       "      <td>652</td>\n",
       "      <td>2791.532</td>\n",
       "      <td>120</td>\n",
       "      <td>0</td>\n",
       "      <td>Action, Comedy, Romance, English, Skydance, Me...</td>\n",
       "      <td>2</td>\n",
       "    </tr>\n",
       "    <tr>\n",
       "      <th>4</th>\n",
       "      <td>594767</td>\n",
       "      <td>Shazam! Fury of the Gods</td>\n",
       "      <td>6.8</td>\n",
       "      <td>1510</td>\n",
       "      <td>2702.593</td>\n",
       "      <td>130</td>\n",
       "      <td>8437105</td>\n",
       "      <td>Action, Comedy, Fantasy, Adventure, English, N...</td>\n",
       "      <td>2</td>\n",
       "    </tr>\n",
       "  </tbody>\n",
       "</table>\n",
       "</div>"
      ],
      "text/plain": [
       "       id                              title  vote_average  vote_count  \\\n",
       "0  758323                The Pope's Exorcist           7.4         619   \n",
       "1  640146  Ant-Man and the Wasp: Quantumania           6.6        2294   \n",
       "2  502356        The Super Mario Bros. Movie           7.5        1861   \n",
       "3  868759                            Ghosted           7.2         652   \n",
       "4  594767           Shazam! Fury of the Gods           6.8        1510   \n",
       "\n",
       "   popularity  runtime  net_profit  \\\n",
       "0    5089.969      103    47675816   \n",
       "1    4665.438      125   264566092   \n",
       "2    3935.550       92  1021048165   \n",
       "3    2791.532      120           0   \n",
       "4    2702.593      130     8437105   \n",
       "\n",
       "                                                tags  cluster  \n",
       "0  Horror, Mystery, Thriller, English, Screen, Ge...        2  \n",
       "1  Action, Adventure, Science, Fiction, English, ...        2  \n",
       "2  Animation, Adventure, Family, Fantasy, Comedy,...        2  \n",
       "3  Action, Comedy, Romance, English, Skydance, Me...        2  \n",
       "4  Action, Comedy, Fantasy, Adventure, English, N...        2  "
      ]
     },
     "execution_count": 64,
     "metadata": {},
     "output_type": "execute_result"
    }
   ],
   "source": [
    "df1.head()"
   ]
  },
  {
   "cell_type": "code",
   "execution_count": 65,
   "metadata": {
    "ExecuteTime": {
     "end_time": "2023-09-02T17:27:58.451292700Z",
     "start_time": "2023-09-02T17:27:58.414794200Z"
    },
    "collapsed": false
   },
   "outputs": [],
   "source": [
    "def recommender1():\n",
    "    inp = input(\"Please enter a movie:\").title()\n",
    "    return recommend_movies(inp).head(10) #Remove the first entry as it will be the users movie suggestion.\n"
   ]
  },
  {
   "cell_type": "code",
   "execution_count": 66,
   "metadata": {
    "ExecuteTime": {
     "end_time": "2023-09-02T17:28:03.473806800Z",
     "start_time": "2023-09-02T17:27:59.551589800Z"
    },
    "collapsed": false
   },
   "outputs": [
    {
     "name": "stderr",
     "output_type": "stream",
     "text": [
      "C:\\Users\\Richard\\AppData\\Local\\Temp\\ipykernel_15928\\1419038385.py:33: SettingWithCopyWarning: \n",
      "A value is trying to be set on a copy of a slice from a DataFrame.\n",
      "Try using .loc[row_indexer,col_indexer] = value instead\n",
      "\n",
      "See the caveats in the documentation: https://pandas.pydata.org/pandas-docs/stable/user_guide/indexing.html#returning-a-view-versus-a-copy\n",
      "  similar_movies['similarity_score'] = movie_similarity_scores[similar_movies.index]\n"
     ]
    },
    {
     "data": {
      "text/html": [
       "<div>\n",
       "<style scoped>\n",
       "    .dataframe tbody tr th:only-of-type {\n",
       "        vertical-align: middle;\n",
       "    }\n",
       "\n",
       "    .dataframe tbody tr th {\n",
       "        vertical-align: top;\n",
       "    }\n",
       "\n",
       "    .dataframe thead th {\n",
       "        text-align: right;\n",
       "    }\n",
       "</style>\n",
       "<table border=\"1\" class=\"dataframe\">\n",
       "  <thead>\n",
       "    <tr style=\"text-align: right;\">\n",
       "      <th></th>\n",
       "      <th>title</th>\n",
       "      <th>vote_average</th>\n",
       "      <th>vote_count</th>\n",
       "      <th>popularity</th>\n",
       "      <th>runtime</th>\n",
       "      <th>net_profit</th>\n",
       "    </tr>\n",
       "  </thead>\n",
       "  <tbody>\n",
       "    <tr>\n",
       "      <th>293</th>\n",
       "      <td>Toy Story</td>\n",
       "      <td>8.0</td>\n",
       "      <td>16655</td>\n",
       "      <td>92.768</td>\n",
       "      <td>81</td>\n",
       "      <td>343554033</td>\n",
       "    </tr>\n",
       "    <tr>\n",
       "      <th>488</th>\n",
       "      <td>Up</td>\n",
       "      <td>7.9</td>\n",
       "      <td>18365</td>\n",
       "      <td>69.609</td>\n",
       "      <td>96</td>\n",
       "      <td>560099082</td>\n",
       "    </tr>\n",
       "    <tr>\n",
       "      <th>264</th>\n",
       "      <td>Monsters, Inc.</td>\n",
       "      <td>7.8</td>\n",
       "      <td>16727</td>\n",
       "      <td>97.793</td>\n",
       "      <td>92</td>\n",
       "      <td>464707738</td>\n",
       "    </tr>\n",
       "    <tr>\n",
       "      <th>468</th>\n",
       "      <td>Toy Story 2</td>\n",
       "      <td>7.6</td>\n",
       "      <td>12535</td>\n",
       "      <td>69.125</td>\n",
       "      <td>92</td>\n",
       "      <td>407366869</td>\n",
       "    </tr>\n",
       "    <tr>\n",
       "      <th>513</th>\n",
       "      <td>Finding Nemo</td>\n",
       "      <td>7.8</td>\n",
       "      <td>17623</td>\n",
       "      <td>68.898</td>\n",
       "      <td>100</td>\n",
       "      <td>846335536</td>\n",
       "    </tr>\n",
       "    <tr>\n",
       "      <th>1677</th>\n",
       "      <td>Finding Dory</td>\n",
       "      <td>7.0</td>\n",
       "      <td>11185</td>\n",
       "      <td>32.284</td>\n",
       "      <td>97</td>\n",
       "      <td>828570889</td>\n",
       "    </tr>\n",
       "    <tr>\n",
       "      <th>459</th>\n",
       "      <td>Toy Story 4</td>\n",
       "      <td>7.5</td>\n",
       "      <td>8799</td>\n",
       "      <td>68.042</td>\n",
       "      <td>100</td>\n",
       "      <td>898394593</td>\n",
       "    </tr>\n",
       "    <tr>\n",
       "      <th>552</th>\n",
       "      <td>Inside Out</td>\n",
       "      <td>7.9</td>\n",
       "      <td>18986</td>\n",
       "      <td>62.145</td>\n",
       "      <td>95</td>\n",
       "      <td>682611174</td>\n",
       "    </tr>\n",
       "    <tr>\n",
       "      <th>320</th>\n",
       "      <td>Coco</td>\n",
       "      <td>8.2</td>\n",
       "      <td>17159</td>\n",
       "      <td>86.284</td>\n",
       "      <td>105</td>\n",
       "      <td>625526015</td>\n",
       "    </tr>\n",
       "    <tr>\n",
       "      <th>609</th>\n",
       "      <td>Toy Story 3</td>\n",
       "      <td>7.8</td>\n",
       "      <td>13415</td>\n",
       "      <td>61.350</td>\n",
       "      <td>103</td>\n",
       "      <td>866969703</td>\n",
       "    </tr>\n",
       "  </tbody>\n",
       "</table>\n",
       "</div>"
      ],
      "text/plain": [
       "               title  vote_average  vote_count  popularity  runtime  \\\n",
       "293        Toy Story           8.0       16655      92.768       81   \n",
       "488               Up           7.9       18365      69.609       96   \n",
       "264   Monsters, Inc.           7.8       16727      97.793       92   \n",
       "468      Toy Story 2           7.6       12535      69.125       92   \n",
       "513     Finding Nemo           7.8       17623      68.898      100   \n",
       "1677    Finding Dory           7.0       11185      32.284       97   \n",
       "459      Toy Story 4           7.5        8799      68.042      100   \n",
       "552       Inside Out           7.9       18986      62.145       95   \n",
       "320             Coco           8.2       17159      86.284      105   \n",
       "609      Toy Story 3           7.8       13415      61.350      103   \n",
       "\n",
       "      net_profit  \n",
       "293    343554033  \n",
       "488    560099082  \n",
       "264    464707738  \n",
       "468    407366869  \n",
       "513    846335536  \n",
       "1677   828570889  \n",
       "459    898394593  \n",
       "552    682611174  \n",
       "320    625526015  \n",
       "609    866969703  "
      ]
     },
     "execution_count": 66,
     "metadata": {},
     "output_type": "execute_result"
    }
   ],
   "source": [
    "recommender1()"
   ]
  },
  {
   "cell_type": "code",
   "execution_count": 67,
   "metadata": {
    "ExecuteTime": {
     "end_time": "2023-09-02T17:28:38.042495400Z",
     "start_time": "2023-09-02T17:28:38.023042Z"
    },
    "collapsed": false
   },
   "outputs": [],
   "source": [
    "def preprocess_title(title):\n",
    "    # Convert to lowercase and remove punctuation\n",
    "    normalized_title = re.sub(r'[^\\w\\s]', '', title).lower()\n",
    "    return normalized_title\n",
    "\n",
    "def find_best_match(user_input, movie_titles):\n",
    "    user_input = preprocess_title(user_input)\n",
    "    best_match = max(movie_titles, key=lambda x: fuzz.ratio(user_input, x)) #Fuzzy wuzzy things\n",
    "    return best_match\n",
    "\n",
    "def recommender2():\n",
    "    inp = input(\"Please enter a movie:\").title()\n",
    "\n",
    "    # Find the best matching movie title from your dataset\n",
    "    movie_titles = df1['title'] #.tolist()\n",
    "    best_matching_title = find_best_match(inp, movie_titles)\n",
    "\n",
    "    # Get recommendations based on the best matching title\n",
    "    return recommend_movies(best_matching_title).head(10)[1:]# Remove the first entry as it will be the user's movie suggestion."
   ]
  },
  {
   "cell_type": "code",
   "execution_count": 68,
   "metadata": {
    "ExecuteTime": {
     "end_time": "2023-09-02T17:28:39.716998100Z",
     "start_time": "2023-09-02T17:28:38.193514600Z"
    },
    "collapsed": false
   },
   "outputs": [
    {
     "name": "stderr",
     "output_type": "stream",
     "text": [
      "C:\\Users\\Richard\\AppData\\Local\\Temp\\ipykernel_15928\\1419038385.py:33: SettingWithCopyWarning: \n",
      "A value is trying to be set on a copy of a slice from a DataFrame.\n",
      "Try using .loc[row_indexer,col_indexer] = value instead\n",
      "\n",
      "See the caveats in the documentation: https://pandas.pydata.org/pandas-docs/stable/user_guide/indexing.html#returning-a-view-versus-a-copy\n",
      "  similar_movies['similarity_score'] = movie_similarity_scores[similar_movies.index]\n"
     ]
    },
    {
     "data": {
      "text/html": [
       "<div>\n",
       "<style scoped>\n",
       "    .dataframe tbody tr th:only-of-type {\n",
       "        vertical-align: middle;\n",
       "    }\n",
       "\n",
       "    .dataframe tbody tr th {\n",
       "        vertical-align: top;\n",
       "    }\n",
       "\n",
       "    .dataframe thead th {\n",
       "        text-align: right;\n",
       "    }\n",
       "</style>\n",
       "<table border=\"1\" class=\"dataframe\">\n",
       "  <thead>\n",
       "    <tr style=\"text-align: right;\">\n",
       "      <th></th>\n",
       "      <th>title</th>\n",
       "      <th>vote_average</th>\n",
       "      <th>vote_count</th>\n",
       "      <th>popularity</th>\n",
       "      <th>runtime</th>\n",
       "      <th>net_profit</th>\n",
       "    </tr>\n",
       "  </thead>\n",
       "  <tbody>\n",
       "    <tr>\n",
       "      <th>488</th>\n",
       "      <td>Up</td>\n",
       "      <td>7.9</td>\n",
       "      <td>18365</td>\n",
       "      <td>69.609</td>\n",
       "      <td>96</td>\n",
       "      <td>560099082</td>\n",
       "    </tr>\n",
       "    <tr>\n",
       "      <th>264</th>\n",
       "      <td>Monsters, Inc.</td>\n",
       "      <td>7.8</td>\n",
       "      <td>16727</td>\n",
       "      <td>97.793</td>\n",
       "      <td>92</td>\n",
       "      <td>464707738</td>\n",
       "    </tr>\n",
       "    <tr>\n",
       "      <th>468</th>\n",
       "      <td>Toy Story 2</td>\n",
       "      <td>7.6</td>\n",
       "      <td>12535</td>\n",
       "      <td>69.125</td>\n",
       "      <td>92</td>\n",
       "      <td>407366869</td>\n",
       "    </tr>\n",
       "    <tr>\n",
       "      <th>513</th>\n",
       "      <td>Finding Nemo</td>\n",
       "      <td>7.8</td>\n",
       "      <td>17623</td>\n",
       "      <td>68.898</td>\n",
       "      <td>100</td>\n",
       "      <td>846335536</td>\n",
       "    </tr>\n",
       "    <tr>\n",
       "      <th>1677</th>\n",
       "      <td>Finding Dory</td>\n",
       "      <td>7.0</td>\n",
       "      <td>11185</td>\n",
       "      <td>32.284</td>\n",
       "      <td>97</td>\n",
       "      <td>828570889</td>\n",
       "    </tr>\n",
       "    <tr>\n",
       "      <th>459</th>\n",
       "      <td>Toy Story 4</td>\n",
       "      <td>7.5</td>\n",
       "      <td>8799</td>\n",
       "      <td>68.042</td>\n",
       "      <td>100</td>\n",
       "      <td>898394593</td>\n",
       "    </tr>\n",
       "    <tr>\n",
       "      <th>552</th>\n",
       "      <td>Inside Out</td>\n",
       "      <td>7.9</td>\n",
       "      <td>18986</td>\n",
       "      <td>62.145</td>\n",
       "      <td>95</td>\n",
       "      <td>682611174</td>\n",
       "    </tr>\n",
       "    <tr>\n",
       "      <th>320</th>\n",
       "      <td>Coco</td>\n",
       "      <td>8.2</td>\n",
       "      <td>17159</td>\n",
       "      <td>86.284</td>\n",
       "      <td>105</td>\n",
       "      <td>625526015</td>\n",
       "    </tr>\n",
       "    <tr>\n",
       "      <th>609</th>\n",
       "      <td>Toy Story 3</td>\n",
       "      <td>7.8</td>\n",
       "      <td>13415</td>\n",
       "      <td>61.350</td>\n",
       "      <td>103</td>\n",
       "      <td>866969703</td>\n",
       "    </tr>\n",
       "  </tbody>\n",
       "</table>\n",
       "</div>"
      ],
      "text/plain": [
       "               title  vote_average  vote_count  popularity  runtime  \\\n",
       "488               Up           7.9       18365      69.609       96   \n",
       "264   Monsters, Inc.           7.8       16727      97.793       92   \n",
       "468      Toy Story 2           7.6       12535      69.125       92   \n",
       "513     Finding Nemo           7.8       17623      68.898      100   \n",
       "1677    Finding Dory           7.0       11185      32.284       97   \n",
       "459      Toy Story 4           7.5        8799      68.042      100   \n",
       "552       Inside Out           7.9       18986      62.145       95   \n",
       "320             Coco           8.2       17159      86.284      105   \n",
       "609      Toy Story 3           7.8       13415      61.350      103   \n",
       "\n",
       "      net_profit  \n",
       "488    560099082  \n",
       "264    464707738  \n",
       "468    407366869  \n",
       "513    846335536  \n",
       "1677   828570889  \n",
       "459    898394593  \n",
       "552    682611174  \n",
       "320    625526015  \n",
       "609    866969703  "
      ]
     },
     "execution_count": 68,
     "metadata": {},
     "output_type": "execute_result"
    }
   ],
   "source": [
    "recommender2()"
   ]
  },
  {
   "cell_type": "markdown",
   "metadata": {
    "collapsed": false
   },
   "source": [
    "# The least recommended movie"
   ]
  },
  {
   "cell_type": "code",
   "execution_count": 69,
   "metadata": {
    "collapsed": false
   },
   "outputs": [],
   "source": [
    "def lrecommender():\n",
    "    inp = input(\"Please enter a movie:\").title()\n",
    "\n",
    "    # Find the best matching movie title from your dataset\n",
    "    movie_titles = df1['title'] #.tolist()\n",
    "    best_matching_title = find_best_match(inp, movie_titles)\n",
    "\n",
    "    # Get recommendations based on the best matching title\n",
    "    return recommend_movies(best_matching_title).tail(10)"
   ]
  },
  {
   "cell_type": "code",
   "execution_count": 70,
   "metadata": {
    "collapsed": false
   },
   "outputs": [
    {
     "name": "stderr",
     "output_type": "stream",
     "text": [
      "C:\\Users\\Richard\\AppData\\Local\\Temp\\ipykernel_15928\\1419038385.py:33: SettingWithCopyWarning: \n",
      "A value is trying to be set on a copy of a slice from a DataFrame.\n",
      "Try using .loc[row_indexer,col_indexer] = value instead\n",
      "\n",
      "See the caveats in the documentation: https://pandas.pydata.org/pandas-docs/stable/user_guide/indexing.html#returning-a-view-versus-a-copy\n",
      "  similar_movies['similarity_score'] = movie_similarity_scores[similar_movies.index]\n"
     ]
    },
    {
     "data": {
      "text/html": [
       "<div>\n",
       "<style scoped>\n",
       "    .dataframe tbody tr th:only-of-type {\n",
       "        vertical-align: middle;\n",
       "    }\n",
       "\n",
       "    .dataframe tbody tr th {\n",
       "        vertical-align: top;\n",
       "    }\n",
       "\n",
       "    .dataframe thead th {\n",
       "        text-align: right;\n",
       "    }\n",
       "</style>\n",
       "<table border=\"1\" class=\"dataframe\">\n",
       "  <thead>\n",
       "    <tr style=\"text-align: right;\">\n",
       "      <th></th>\n",
       "      <th>title</th>\n",
       "      <th>vote_average</th>\n",
       "      <th>vote_count</th>\n",
       "      <th>popularity</th>\n",
       "      <th>runtime</th>\n",
       "      <th>net_profit</th>\n",
       "    </tr>\n",
       "  </thead>\n",
       "  <tbody>\n",
       "    <tr>\n",
       "      <th>821</th>\n",
       "      <td>Saving Private Ryan</td>\n",
       "      <td>8.2</td>\n",
       "      <td>14163</td>\n",
       "      <td>54.961</td>\n",
       "      <td>169</td>\n",
       "      <td>411840909</td>\n",
       "    </tr>\n",
       "    <tr>\n",
       "      <th>1508</th>\n",
       "      <td>Gone Girl</td>\n",
       "      <td>7.9</td>\n",
       "      <td>16911</td>\n",
       "      <td>49.026</td>\n",
       "      <td>149</td>\n",
       "      <td>308330363</td>\n",
       "    </tr>\n",
       "    <tr>\n",
       "      <th>345</th>\n",
       "      <td>The Maze Runner</td>\n",
       "      <td>7.2</td>\n",
       "      <td>15543</td>\n",
       "      <td>85.947</td>\n",
       "      <td>113</td>\n",
       "      <td>314319861</td>\n",
       "    </tr>\n",
       "    <tr>\n",
       "      <th>660</th>\n",
       "      <td>Venom</td>\n",
       "      <td>6.8</td>\n",
       "      <td>14350</td>\n",
       "      <td>58.375</td>\n",
       "      <td>112</td>\n",
       "      <td>739013954</td>\n",
       "    </tr>\n",
       "    <tr>\n",
       "      <th>1752</th>\n",
       "      <td>Bohemian Rhapsody</td>\n",
       "      <td>8.0</td>\n",
       "      <td>15640</td>\n",
       "      <td>34.792</td>\n",
       "      <td>135</td>\n",
       "      <td>851992901</td>\n",
       "    </tr>\n",
       "    <tr>\n",
       "      <th>709</th>\n",
       "      <td>The Matrix</td>\n",
       "      <td>8.2</td>\n",
       "      <td>23140</td>\n",
       "      <td>57.324</td>\n",
       "      <td>136</td>\n",
       "      <td>400517383</td>\n",
       "    </tr>\n",
       "    <tr>\n",
       "      <th>541</th>\n",
       "      <td>World War Z</td>\n",
       "      <td>6.8</td>\n",
       "      <td>14026</td>\n",
       "      <td>74.792</td>\n",
       "      <td>116</td>\n",
       "      <td>331865000</td>\n",
       "    </tr>\n",
       "    <tr>\n",
       "      <th>491</th>\n",
       "      <td>American Sniper</td>\n",
       "      <td>7.4</td>\n",
       "      <td>11817</td>\n",
       "      <td>91.498</td>\n",
       "      <td>133</td>\n",
       "      <td>483507423</td>\n",
       "    </tr>\n",
       "    <tr>\n",
       "      <th>1036</th>\n",
       "      <td>I Am Legend</td>\n",
       "      <td>7.2</td>\n",
       "      <td>14301</td>\n",
       "      <td>45.785</td>\n",
       "      <td>101</td>\n",
       "      <td>435410052</td>\n",
       "    </tr>\n",
       "    <tr>\n",
       "      <th>6261</th>\n",
       "      <td>Wolf Warrior 2</td>\n",
       "      <td>6.6</td>\n",
       "      <td>223</td>\n",
       "      <td>17.135</td>\n",
       "      <td>124</td>\n",
       "      <td>840622670</td>\n",
       "    </tr>\n",
       "  </tbody>\n",
       "</table>\n",
       "</div>"
      ],
      "text/plain": [
       "                    title  vote_average  vote_count  popularity  runtime  \\\n",
       "821   Saving Private Ryan           8.2       14163      54.961      169   \n",
       "1508            Gone Girl           7.9       16911      49.026      149   \n",
       "345       The Maze Runner           7.2       15543      85.947      113   \n",
       "660                 Venom           6.8       14350      58.375      112   \n",
       "1752    Bohemian Rhapsody           8.0       15640      34.792      135   \n",
       "709            The Matrix           8.2       23140      57.324      136   \n",
       "541           World War Z           6.8       14026      74.792      116   \n",
       "491       American Sniper           7.4       11817      91.498      133   \n",
       "1036          I Am Legend           7.2       14301      45.785      101   \n",
       "6261       Wolf Warrior 2           6.6         223      17.135      124   \n",
       "\n",
       "      net_profit  \n",
       "821    411840909  \n",
       "1508   308330363  \n",
       "345    314319861  \n",
       "660    739013954  \n",
       "1752   851992901  \n",
       "709    400517383  \n",
       "541    331865000  \n",
       "491    483507423  \n",
       "1036   435410052  \n",
       "6261   840622670  "
      ]
     },
     "execution_count": 70,
     "metadata": {},
     "output_type": "execute_result"
    }
   ],
   "source": [
    "lrecommender()"
   ]
  },
  {
   "cell_type": "markdown",
   "metadata": {
    "collapsed": false
   },
   "source": [
    "### Main Issues with this model\n",
    "\n",
    "The user input needs to be accurate. If the movie title doesn't match a movie in the dataset, it won't run, so if the user types it in wrong by adding an extra space it wont run.\n",
    "\n",
    "Going further with this point, the user's movie may not be in the dataset, so it wouldn't work with their movie. Dataset needs to be larger. perhaps move onto the 20M dataset.\n",
    "\n",
    "The prompt doesn't take into consideration multiple movies, just one movie.\n"
   ]
  },
  {
   "cell_type": "markdown",
   "metadata": {
    "collapsed": false
   },
   "source": [
    "### Evaluating the performance of this model\n",
    "\n",
    "Evaluating the performance of unsupervised learning models are different to supervised learning cases. You can't use traditional metrics such as Accuracy to determine the models performance as there is no target. For my model, I used K-Means clustering"
   ]
  },
  {
   "cell_type": "markdown",
   "metadata": {
    "collapsed": false
   },
   "source": [
    "#Things to investigate\n",
    "#precision at k\n",
    "#recall at k\n",
    "#mean average precision at k"
   ]
  },
  {
   "cell_type": "markdown",
   "metadata": {
    "collapsed": false
   },
   "source": [
    "#Precision at K\n"
   ]
  },
  {
   "cell_type": "markdown",
   "metadata": {
    "collapsed": false
   },
   "source": [
    "#look at the vectorizor and change the number of features\n",
    "#silhouette coefficient to evaluate the performance of K\n"
   ]
  },
  {
   "cell_type": "code",
   "execution_count": 71,
   "metadata": {
    "collapsed": false
   },
   "outputs": [
    {
     "name": "stderr",
     "output_type": "stream",
     "text": [
      "d:\\cuda\\lib\\site-packages\\sklearn\\cluster\\_kmeans.py:1416: FutureWarning: The default value of `n_init` will change from 10 to 'auto' in 1.4. Set the value of `n_init` explicitly to suppress the warning\n",
      "  super()._check_params_vs_input(X, default_n_init=10)\n",
      "d:\\cuda\\lib\\site-packages\\sklearn\\cluster\\_kmeans.py:1416: FutureWarning: The default value of `n_init` will change from 10 to 'auto' in 1.4. Set the value of `n_init` explicitly to suppress the warning\n",
      "  super()._check_params_vs_input(X, default_n_init=10)\n",
      "d:\\cuda\\lib\\site-packages\\sklearn\\cluster\\_kmeans.py:1416: FutureWarning: The default value of `n_init` will change from 10 to 'auto' in 1.4. Set the value of `n_init` explicitly to suppress the warning\n",
      "  super()._check_params_vs_input(X, default_n_init=10)\n",
      "d:\\cuda\\lib\\site-packages\\sklearn\\cluster\\_kmeans.py:1416: FutureWarning: The default value of `n_init` will change from 10 to 'auto' in 1.4. Set the value of `n_init` explicitly to suppress the warning\n",
      "  super()._check_params_vs_input(X, default_n_init=10)\n",
      "d:\\cuda\\lib\\site-packages\\sklearn\\cluster\\_kmeans.py:1416: FutureWarning: The default value of `n_init` will change from 10 to 'auto' in 1.4. Set the value of `n_init` explicitly to suppress the warning\n",
      "  super()._check_params_vs_input(X, default_n_init=10)\n",
      "d:\\cuda\\lib\\site-packages\\sklearn\\cluster\\_kmeans.py:1416: FutureWarning: The default value of `n_init` will change from 10 to 'auto' in 1.4. Set the value of `n_init` explicitly to suppress the warning\n",
      "  super()._check_params_vs_input(X, default_n_init=10)\n",
      "d:\\cuda\\lib\\site-packages\\sklearn\\cluster\\_kmeans.py:1416: FutureWarning: The default value of `n_init` will change from 10 to 'auto' in 1.4. Set the value of `n_init` explicitly to suppress the warning\n",
      "  super()._check_params_vs_input(X, default_n_init=10)\n",
      "d:\\cuda\\lib\\site-packages\\sklearn\\cluster\\_kmeans.py:1416: FutureWarning: The default value of `n_init` will change from 10 to 'auto' in 1.4. Set the value of `n_init` explicitly to suppress the warning\n",
      "  super()._check_params_vs_input(X, default_n_init=10)\n",
      "d:\\cuda\\lib\\site-packages\\sklearn\\cluster\\_kmeans.py:1416: FutureWarning: The default value of `n_init` will change from 10 to 'auto' in 1.4. Set the value of `n_init` explicitly to suppress the warning\n",
      "  super()._check_params_vs_input(X, default_n_init=10)\n",
      "d:\\cuda\\lib\\site-packages\\sklearn\\cluster\\_kmeans.py:1416: FutureWarning: The default value of `n_init` will change from 10 to 'auto' in 1.4. Set the value of `n_init` explicitly to suppress the warning\n",
      "  super()._check_params_vs_input(X, default_n_init=10)\n",
      "d:\\cuda\\lib\\site-packages\\sklearn\\cluster\\_kmeans.py:1416: FutureWarning: The default value of `n_init` will change from 10 to 'auto' in 1.4. Set the value of `n_init` explicitly to suppress the warning\n",
      "  super()._check_params_vs_input(X, default_n_init=10)\n",
      "d:\\cuda\\lib\\site-packages\\sklearn\\cluster\\_kmeans.py:1416: FutureWarning: The default value of `n_init` will change from 10 to 'auto' in 1.4. Set the value of `n_init` explicitly to suppress the warning\n",
      "  super()._check_params_vs_input(X, default_n_init=10)\n",
      "d:\\cuda\\lib\\site-packages\\sklearn\\cluster\\_kmeans.py:1416: FutureWarning: The default value of `n_init` will change from 10 to 'auto' in 1.4. Set the value of `n_init` explicitly to suppress the warning\n",
      "  super()._check_params_vs_input(X, default_n_init=10)\n",
      "d:\\cuda\\lib\\site-packages\\sklearn\\cluster\\_kmeans.py:1416: FutureWarning: The default value of `n_init` will change from 10 to 'auto' in 1.4. Set the value of `n_init` explicitly to suppress the warning\n",
      "  super()._check_params_vs_input(X, default_n_init=10)\n",
      "d:\\cuda\\lib\\site-packages\\sklearn\\cluster\\_kmeans.py:1416: FutureWarning: The default value of `n_init` will change from 10 to 'auto' in 1.4. Set the value of `n_init` explicitly to suppress the warning\n",
      "  super()._check_params_vs_input(X, default_n_init=10)\n",
      "d:\\cuda\\lib\\site-packages\\sklearn\\cluster\\_kmeans.py:1416: FutureWarning: The default value of `n_init` will change from 10 to 'auto' in 1.4. Set the value of `n_init` explicitly to suppress the warning\n",
      "  super()._check_params_vs_input(X, default_n_init=10)\n",
      "d:\\cuda\\lib\\site-packages\\sklearn\\cluster\\_kmeans.py:1416: FutureWarning: The default value of `n_init` will change from 10 to 'auto' in 1.4. Set the value of `n_init` explicitly to suppress the warning\n",
      "  super()._check_params_vs_input(X, default_n_init=10)\n",
      "d:\\cuda\\lib\\site-packages\\sklearn\\cluster\\_kmeans.py:1416: FutureWarning: The default value of `n_init` will change from 10 to 'auto' in 1.4. Set the value of `n_init` explicitly to suppress the warning\n",
      "  super()._check_params_vs_input(X, default_n_init=10)\n",
      "d:\\cuda\\lib\\site-packages\\sklearn\\cluster\\_kmeans.py:1416: FutureWarning: The default value of `n_init` will change from 10 to 'auto' in 1.4. Set the value of `n_init` explicitly to suppress the warning\n",
      "  super()._check_params_vs_input(X, default_n_init=10)\n",
      "d:\\cuda\\lib\\site-packages\\sklearn\\cluster\\_kmeans.py:1416: FutureWarning: The default value of `n_init` will change from 10 to 'auto' in 1.4. Set the value of `n_init` explicitly to suppress the warning\n",
      "  super()._check_params_vs_input(X, default_n_init=10)\n",
      "d:\\cuda\\lib\\site-packages\\sklearn\\cluster\\_kmeans.py:1416: FutureWarning: The default value of `n_init` will change from 10 to 'auto' in 1.4. Set the value of `n_init` explicitly to suppress the warning\n",
      "  super()._check_params_vs_input(X, default_n_init=10)\n",
      "d:\\cuda\\lib\\site-packages\\sklearn\\cluster\\_kmeans.py:1416: FutureWarning: The default value of `n_init` will change from 10 to 'auto' in 1.4. Set the value of `n_init` explicitly to suppress the warning\n",
      "  super()._check_params_vs_input(X, default_n_init=10)\n",
      "d:\\cuda\\lib\\site-packages\\sklearn\\cluster\\_kmeans.py:1416: FutureWarning: The default value of `n_init` will change from 10 to 'auto' in 1.4. Set the value of `n_init` explicitly to suppress the warning\n",
      "  super()._check_params_vs_input(X, default_n_init=10)\n",
      "d:\\cuda\\lib\\site-packages\\sklearn\\cluster\\_kmeans.py:1416: FutureWarning: The default value of `n_init` will change from 10 to 'auto' in 1.4. Set the value of `n_init` explicitly to suppress the warning\n",
      "  super()._check_params_vs_input(X, default_n_init=10)\n",
      "d:\\cuda\\lib\\site-packages\\sklearn\\cluster\\_kmeans.py:1416: FutureWarning: The default value of `n_init` will change from 10 to 'auto' in 1.4. Set the value of `n_init` explicitly to suppress the warning\n",
      "  super()._check_params_vs_input(X, default_n_init=10)\n",
      "d:\\cuda\\lib\\site-packages\\sklearn\\cluster\\_kmeans.py:1416: FutureWarning: The default value of `n_init` will change from 10 to 'auto' in 1.4. Set the value of `n_init` explicitly to suppress the warning\n",
      "  super()._check_params_vs_input(X, default_n_init=10)\n",
      "d:\\cuda\\lib\\site-packages\\sklearn\\cluster\\_kmeans.py:1416: FutureWarning: The default value of `n_init` will change from 10 to 'auto' in 1.4. Set the value of `n_init` explicitly to suppress the warning\n",
      "  super()._check_params_vs_input(X, default_n_init=10)\n",
      "d:\\cuda\\lib\\site-packages\\sklearn\\cluster\\_kmeans.py:1416: FutureWarning: The default value of `n_init` will change from 10 to 'auto' in 1.4. Set the value of `n_init` explicitly to suppress the warning\n",
      "  super()._check_params_vs_input(X, default_n_init=10)\n"
     ]
    },
    {
     "data": {
      "image/png": "[encoded data removed]",
      "text/plain": [
       "<Figure size 800x600 with 1 Axes>"
      ]
     },
     "metadata": {},
     "output_type": "display_data"
    }
   ],
   "source": [
    "silhouette_scores = []\n",
    "for k in range(2, 30):  # Try different k values\n",
    "    kmeans = KMeans(n_clusters=k, random_state=0)\n",
    "    kmeans.fit(data_subset)\n",
    "    labels = kmeans.labels_\n",
    "    silhouette_avg = silhouette_score(data_subset, labels)\n",
    "    silhouette_scores.append(silhouette_avg)\n",
    "# Plotting the silhouette scores\n",
    "plt.figure(figsize=(8, 6))\n",
    "plt.plot(range(2, 30), silhouette_scores, marker='o')\n",
    "plt.title('Silhouette Score for Different k Values')\n",
    "plt.xlabel('Number of Clusters (k)')\n",
    "plt.ylabel('Silhouette Score')\n",
    "plt.xticks(np.arange(2, 30))\n",
    "plt.grid(True)\n",
    "plt.show()"
   ]
  },
  {
   "cell_type": "code",
   "execution_count": 72,
   "metadata": {
    "collapsed": false
   },
   "outputs": [],
   "source": [
    "best_k = np.argmax(silhouette_scores) + 2  # Adding 2 since k loop starts from 2\n",
    "#bubbles split."
   ]
  },
  {
   "cell_type": "code",
   "execution_count": 73,
   "metadata": {
    "collapsed": false
   },
   "outputs": [
    {
     "name": "stdout",
     "output_type": "stream",
     "text": [
      "2\n"
     ]
    }
   ],
   "source": [
    "print(best_k)"
   ]
  },
  {
   "cell_type": "code",
   "execution_count": 74,
   "metadata": {
    "collapsed": false
   },
   "outputs": [
    {
     "name": "stderr",
     "output_type": "stream",
     "text": [
      "d:\\cuda\\lib\\site-packages\\sklearn\\cluster\\_kmeans.py:1416: FutureWarning: The default value of `n_init` will change from 10 to 'auto' in 1.4. Set the value of `n_init` explicitly to suppress the warning\n",
      "  super()._check_params_vs_input(X, default_n_init=10)\n",
      "d:\\cuda\\lib\\site-packages\\sklearn\\cluster\\_kmeans.py:1416: FutureWarning: The default value of `n_init` will change from 10 to 'auto' in 1.4. Set the value of `n_init` explicitly to suppress the warning\n",
      "  super()._check_params_vs_input(X, default_n_init=10)\n",
      "d:\\cuda\\lib\\site-packages\\sklearn\\cluster\\_kmeans.py:1416: FutureWarning: The default value of `n_init` will change from 10 to 'auto' in 1.4. Set the value of `n_init` explicitly to suppress the warning\n",
      "  super()._check_params_vs_input(X, default_n_init=10)\n",
      "d:\\cuda\\lib\\site-packages\\sklearn\\cluster\\_kmeans.py:1416: FutureWarning: The default value of `n_init` will change from 10 to 'auto' in 1.4. Set the value of `n_init` explicitly to suppress the warning\n",
      "  super()._check_params_vs_input(X, default_n_init=10)\n",
      "d:\\cuda\\lib\\site-packages\\sklearn\\cluster\\_kmeans.py:1416: FutureWarning: The default value of `n_init` will change from 10 to 'auto' in 1.4. Set the value of `n_init` explicitly to suppress the warning\n",
      "  super()._check_params_vs_input(X, default_n_init=10)\n",
      "d:\\cuda\\lib\\site-packages\\sklearn\\cluster\\_kmeans.py:1416: FutureWarning: The default value of `n_init` will change from 10 to 'auto' in 1.4. Set the value of `n_init` explicitly to suppress the warning\n",
      "  super()._check_params_vs_input(X, default_n_init=10)\n",
      "d:\\cuda\\lib\\site-packages\\sklearn\\cluster\\_kmeans.py:1416: FutureWarning: The default value of `n_init` will change from 10 to 'auto' in 1.4. Set the value of `n_init` explicitly to suppress the warning\n",
      "  super()._check_params_vs_input(X, default_n_init=10)\n",
      "d:\\cuda\\lib\\site-packages\\sklearn\\cluster\\_kmeans.py:1416: FutureWarning: The default value of `n_init` will change from 10 to 'auto' in 1.4. Set the value of `n_init` explicitly to suppress the warning\n",
      "  super()._check_params_vs_input(X, default_n_init=10)\n",
      "d:\\cuda\\lib\\site-packages\\sklearn\\cluster\\_kmeans.py:1416: FutureWarning: The default value of `n_init` will change from 10 to 'auto' in 1.4. Set the value of `n_init` explicitly to suppress the warning\n",
      "  super()._check_params_vs_input(X, default_n_init=10)\n",
      "d:\\cuda\\lib\\site-packages\\sklearn\\cluster\\_kmeans.py:1416: FutureWarning: The default value of `n_init` will change from 10 to 'auto' in 1.4. Set the value of `n_init` explicitly to suppress the warning\n",
      "  super()._check_params_vs_input(X, default_n_init=10)\n",
      "d:\\cuda\\lib\\site-packages\\sklearn\\cluster\\_kmeans.py:1416: FutureWarning: The default value of `n_init` will change from 10 to 'auto' in 1.4. Set the value of `n_init` explicitly to suppress the warning\n",
      "  super()._check_params_vs_input(X, default_n_init=10)\n",
      "d:\\cuda\\lib\\site-packages\\sklearn\\cluster\\_kmeans.py:1416: FutureWarning: The default value of `n_init` will change from 10 to 'auto' in 1.4. Set the value of `n_init` explicitly to suppress the warning\n",
      "  super()._check_params_vs_input(X, default_n_init=10)\n",
      "d:\\cuda\\lib\\site-packages\\sklearn\\cluster\\_kmeans.py:1416: FutureWarning: The default value of `n_init` will change from 10 to 'auto' in 1.4. Set the value of `n_init` explicitly to suppress the warning\n",
      "  super()._check_params_vs_input(X, default_n_init=10)\n",
      "d:\\cuda\\lib\\site-packages\\sklearn\\cluster\\_kmeans.py:1416: FutureWarning: The default value of `n_init` will change from 10 to 'auto' in 1.4. Set the value of `n_init` explicitly to suppress the warning\n",
      "  super()._check_params_vs_input(X, default_n_init=10)\n",
      "d:\\cuda\\lib\\site-packages\\sklearn\\cluster\\_kmeans.py:1416: FutureWarning: The default value of `n_init` will change from 10 to 'auto' in 1.4. Set the value of `n_init` explicitly to suppress the warning\n",
      "  super()._check_params_vs_input(X, default_n_init=10)\n",
      "d:\\cuda\\lib\\site-packages\\sklearn\\cluster\\_kmeans.py:1416: FutureWarning: The default value of `n_init` will change from 10 to 'auto' in 1.4. Set the value of `n_init` explicitly to suppress the warning\n",
      "  super()._check_params_vs_input(X, default_n_init=10)\n",
      "d:\\cuda\\lib\\site-packages\\sklearn\\cluster\\_kmeans.py:1416: FutureWarning: The default value of `n_init` will change from 10 to 'auto' in 1.4. Set the value of `n_init` explicitly to suppress the warning\n",
      "  super()._check_params_vs_input(X, default_n_init=10)\n",
      "d:\\cuda\\lib\\site-packages\\sklearn\\cluster\\_kmeans.py:1416: FutureWarning: The default value of `n_init` will change from 10 to 'auto' in 1.4. Set the value of `n_init` explicitly to suppress the warning\n",
      "  super()._check_params_vs_input(X, default_n_init=10)\n",
      "d:\\cuda\\lib\\site-packages\\sklearn\\cluster\\_kmeans.py:1416: FutureWarning: The default value of `n_init` will change from 10 to 'auto' in 1.4. Set the value of `n_init` explicitly to suppress the warning\n",
      "  super()._check_params_vs_input(X, default_n_init=10)\n",
      "d:\\cuda\\lib\\site-packages\\sklearn\\cluster\\_kmeans.py:1416: FutureWarning: The default value of `n_init` will change from 10 to 'auto' in 1.4. Set the value of `n_init` explicitly to suppress the warning\n",
      "  super()._check_params_vs_input(X, default_n_init=10)\n",
      "d:\\cuda\\lib\\site-packages\\sklearn\\cluster\\_kmeans.py:1416: FutureWarning: The default value of `n_init` will change from 10 to 'auto' in 1.4. Set the value of `n_init` explicitly to suppress the warning\n",
      "  super()._check_params_vs_input(X, default_n_init=10)\n",
      "d:\\cuda\\lib\\site-packages\\sklearn\\cluster\\_kmeans.py:1416: FutureWarning: The default value of `n_init` will change from 10 to 'auto' in 1.4. Set the value of `n_init` explicitly to suppress the warning\n",
      "  super()._check_params_vs_input(X, default_n_init=10)\n",
      "d:\\cuda\\lib\\site-packages\\sklearn\\cluster\\_kmeans.py:1416: FutureWarning: The default value of `n_init` will change from 10 to 'auto' in 1.4. Set the value of `n_init` explicitly to suppress the warning\n",
      "  super()._check_params_vs_input(X, default_n_init=10)\n",
      "d:\\cuda\\lib\\site-packages\\sklearn\\cluster\\_kmeans.py:1416: FutureWarning: The default value of `n_init` will change from 10 to 'auto' in 1.4. Set the value of `n_init` explicitly to suppress the warning\n",
      "  super()._check_params_vs_input(X, default_n_init=10)\n",
      "d:\\cuda\\lib\\site-packages\\sklearn\\cluster\\_kmeans.py:1416: FutureWarning: The default value of `n_init` will change from 10 to 'auto' in 1.4. Set the value of `n_init` explicitly to suppress the warning\n",
      "  super()._check_params_vs_input(X, default_n_init=10)\n",
      "d:\\cuda\\lib\\site-packages\\sklearn\\cluster\\_kmeans.py:1416: FutureWarning: The default value of `n_init` will change from 10 to 'auto' in 1.4. Set the value of `n_init` explicitly to suppress the warning\n",
      "  super()._check_params_vs_input(X, default_n_init=10)\n",
      "d:\\cuda\\lib\\site-packages\\sklearn\\cluster\\_kmeans.py:1416: FutureWarning: The default value of `n_init` will change from 10 to 'auto' in 1.4. Set the value of `n_init` explicitly to suppress the warning\n",
      "  super()._check_params_vs_input(X, default_n_init=10)\n",
      "d:\\cuda\\lib\\site-packages\\sklearn\\cluster\\_kmeans.py:1416: FutureWarning: The default value of `n_init` will change from 10 to 'auto' in 1.4. Set the value of `n_init` explicitly to suppress the warning\n",
      "  super()._check_params_vs_input(X, default_n_init=10)\n"
     ]
    },
    {
     "data": {
      "image/png": "[encoded data removed]",
      "text/plain": [
       "<Figure size 800x600 with 1 Axes>"
      ]
     },
     "metadata": {},
     "output_type": "display_data"
    }
   ],
   "source": [
    "# Calculate WCSS for different k values\n",
    "wcss = []\n",
    "for k in range(2, 30):\n",
    "    kmeans = KMeans(n_clusters=k, random_state=42)\n",
    "    kmeans.fit(data_subset)\n",
    "    wcss.append(kmeans.inertia_)  # Inertia is the WCSS value\n",
    "\n",
    "# Plotting the elbow curve\n",
    "plt.figure(figsize=(8, 6))\n",
    "plt.plot(range(2, 30), wcss, marker='o')\n",
    "plt.title('Elbow Method for Optimal k')\n",
    "plt.xlabel('Number of Clusters (k)')\n",
    "plt.ylabel('Within-Cluster Sum of Squares (WCSS)')\n",
    "plt.xticks(np.arange(2, 30))\n",
    "plt.grid(True)\n",
    "plt.show()"
   ]
  },
  {
   "cell_type": "code",
   "execution_count": null,
   "metadata": {
    "collapsed": false
   },
   "outputs": [],
   "source": []
  },
  {
   "cell_type": "markdown",
   "metadata": {
    "collapsed": false
   },
   "source": [
    "# Filter"
   ]
  },
  {
   "cell_type": "code",
   "execution_count": 75,
   "metadata": {
    "collapsed": false
   },
   "outputs": [
    {
     "name": "stdout",
     "output_type": "stream",
     "text": [
      "['Horror' 'Mystery' 'Thriller' 'Action' 'Adventure' 'Science Fiction'\n",
      " 'Animation' 'Family' 'Fantasy' 'Comedy' 'Romance' 'Drama' 'History' 'War'\n",
      " 'Crime' 'Music' 'Western' 'TV Movie' 'Documentary']\n"
     ]
    }
   ],
   "source": [
    "print(unique_genres)"
   ]
  },
  {
   "cell_type": "code",
   "execution_count": 76,
   "metadata": {
    "collapsed": false
   },
   "outputs": [
    {
     "name": "stdout",
     "output_type": "stream",
     "text": [
      "Here are the list of genres. ['Horror' 'Mystery' 'Thriller' 'Action' 'Adventure' 'Science Fiction'\n",
      " 'Animation' 'Family' 'Fantasy' 'Comedy' 'Romance' 'Drama' 'History' 'War'\n",
      " 'Crime' 'Music' 'Western' 'TV Movie' 'Documentary']\n",
      "Great choice! Action is a popular genre.\n",
      "Exiting the program.\n",
      "0          Guardians of the Galaxy Volume 3\n",
      "1                      John Wick: Chapter 4\n",
      "2                  Avatar: The Way of Water\n",
      "3                                 Creed III\n",
      "4    The Last Kingdom: Seven Kings Must Die\n",
      "5                                   Ghosted\n",
      "6                                       AKA\n",
      "7                  Shazam! Fury of the Gods\n",
      "8         Ant-Man and the Wasp: Quantumania\n",
      "9                         Peter Pan & Wendy\n",
      "Name: title, dtype: object\n"
     ]
    }
   ],
   "source": [
    "filter()"
   ]
  },
  {
   "cell_type": "markdown",
   "metadata": {
    "collapsed": false
   },
   "source": [
    "\n",
    "\n",
    "\n",
    "\n",
    "\n",
    "\n",
    "\n",
    "\n",
    "\n",
    "\n",
    "\n",
    "\n",
    "\n",
    "\n",
    "\n",
    "\n",
    "\n",
    "\n",
    "\n",
    "\n",
    "\n",
    "\n",
    "\n",
    "\n",
    "\n",
    "\n",
    "\n",
    "\n",
    "\n",
    "\n",
    "\n",
    "\n",
    "\n",
    "\n",
    "\n",
    "\n",
    "\n",
    "\n",
    "\n",
    "\n",
    "\n",
    "\n",
    "\n",
    "\n",
    "\n",
    "\n",
    "\n",
    "\n",
    "\n",
    "\n"
   ]
  },
  {
   "cell_type": "markdown",
   "metadata": {
    "collapsed": false
   },
   "source": [
    "\n",
    "\n",
    "# Recommender using text"
   ]
  },
  {
   "cell_type": "code",
   "execution_count": 77,
   "metadata": {
    "collapsed": false
   },
   "outputs": [
    {
     "name": "stdout",
     "output_type": "stream",
     "text": [
      "Cars 3\n",
      "Up\n",
      "Toy Story That Time Forgot\n",
      "Monsters, Inc.\n"
     ]
    }
   ],
   "source": [
    "recommender()"
   ]
  },
  {
   "cell_type": "markdown",
   "metadata": {
    "collapsed": false
   },
   "source": [
    "\n",
    "\n",
    "\n",
    "\n",
    "\n",
    "\n",
    "\n",
    "\n",
    "\n",
    "\n",
    "\n",
    "\n",
    "\n",
    "\n",
    "\n",
    "\n",
    "\n",
    "\n",
    "\n",
    "\n",
    "\n",
    "\n",
    "\n",
    "\n",
    "\n",
    "\n",
    "\n",
    "\n",
    "\n",
    "\n",
    "\n",
    "\n",
    "\n",
    "\n",
    "\n",
    "\n",
    "\n",
    "\n",
    "\n",
    "\n",
    "\n",
    "\n",
    "\n",
    "\n",
    "\n",
    "\n",
    "\n",
    "\n"
   ]
  },
  {
   "cell_type": "markdown",
   "metadata": {
    "collapsed": false
   },
   "source": [
    "# Recommender K-Means"
   ]
  },
  {
   "cell_type": "code",
   "execution_count": 78,
   "metadata": {
    "collapsed": false
   },
   "outputs": [
    {
     "name": "stderr",
     "output_type": "stream",
     "text": [
      "C:\\Users\\Richard\\AppData\\Local\\Temp\\ipykernel_15928\\1419038385.py:33: SettingWithCopyWarning: \n",
      "A value is trying to be set on a copy of a slice from a DataFrame.\n",
      "Try using .loc[row_indexer,col_indexer] = value instead\n",
      "\n",
      "See the caveats in the documentation: https://pandas.pydata.org/pandas-docs/stable/user_guide/indexing.html#returning-a-view-versus-a-copy\n",
      "  similar_movies['similarity_score'] = movie_similarity_scores[similar_movies.index]\n"
     ]
    },
    {
     "data": {
      "text/html": [
       "<div>\n",
       "<style scoped>\n",
       "    .dataframe tbody tr th:only-of-type {\n",
       "        vertical-align: middle;\n",
       "    }\n",
       "\n",
       "    .dataframe tbody tr th {\n",
       "        vertical-align: top;\n",
       "    }\n",
       "\n",
       "    .dataframe thead th {\n",
       "        text-align: right;\n",
       "    }\n",
       "</style>\n",
       "<table border=\"1\" class=\"dataframe\">\n",
       "  <thead>\n",
       "    <tr style=\"text-align: right;\">\n",
       "      <th></th>\n",
       "      <th>title</th>\n",
       "      <th>vote_average</th>\n",
       "      <th>vote_count</th>\n",
       "      <th>popularity</th>\n",
       "      <th>runtime</th>\n",
       "      <th>net_profit</th>\n",
       "    </tr>\n",
       "  </thead>\n",
       "  <tbody>\n",
       "    <tr>\n",
       "      <th>293</th>\n",
       "      <td>Toy Story</td>\n",
       "      <td>8.0</td>\n",
       "      <td>16655</td>\n",
       "      <td>92.768</td>\n",
       "      <td>81</td>\n",
       "      <td>343554033</td>\n",
       "    </tr>\n",
       "    <tr>\n",
       "      <th>488</th>\n",
       "      <td>Up</td>\n",
       "      <td>7.9</td>\n",
       "      <td>18365</td>\n",
       "      <td>69.609</td>\n",
       "      <td>96</td>\n",
       "      <td>560099082</td>\n",
       "    </tr>\n",
       "    <tr>\n",
       "      <th>264</th>\n",
       "      <td>Monsters, Inc.</td>\n",
       "      <td>7.8</td>\n",
       "      <td>16727</td>\n",
       "      <td>97.793</td>\n",
       "      <td>92</td>\n",
       "      <td>464707738</td>\n",
       "    </tr>\n",
       "    <tr>\n",
       "      <th>468</th>\n",
       "      <td>Toy Story 2</td>\n",
       "      <td>7.6</td>\n",
       "      <td>12535</td>\n",
       "      <td>69.125</td>\n",
       "      <td>92</td>\n",
       "      <td>407366869</td>\n",
       "    </tr>\n",
       "    <tr>\n",
       "      <th>513</th>\n",
       "      <td>Finding Nemo</td>\n",
       "      <td>7.8</td>\n",
       "      <td>17623</td>\n",
       "      <td>68.898</td>\n",
       "      <td>100</td>\n",
       "      <td>846335536</td>\n",
       "    </tr>\n",
       "    <tr>\n",
       "      <th>1677</th>\n",
       "      <td>Finding Dory</td>\n",
       "      <td>7.0</td>\n",
       "      <td>11185</td>\n",
       "      <td>32.284</td>\n",
       "      <td>97</td>\n",
       "      <td>828570889</td>\n",
       "    </tr>\n",
       "    <tr>\n",
       "      <th>459</th>\n",
       "      <td>Toy Story 4</td>\n",
       "      <td>7.5</td>\n",
       "      <td>8799</td>\n",
       "      <td>68.042</td>\n",
       "      <td>100</td>\n",
       "      <td>898394593</td>\n",
       "    </tr>\n",
       "    <tr>\n",
       "      <th>552</th>\n",
       "      <td>Inside Out</td>\n",
       "      <td>7.9</td>\n",
       "      <td>18986</td>\n",
       "      <td>62.145</td>\n",
       "      <td>95</td>\n",
       "      <td>682611174</td>\n",
       "    </tr>\n",
       "    <tr>\n",
       "      <th>320</th>\n",
       "      <td>Coco</td>\n",
       "      <td>8.2</td>\n",
       "      <td>17159</td>\n",
       "      <td>86.284</td>\n",
       "      <td>105</td>\n",
       "      <td>625526015</td>\n",
       "    </tr>\n",
       "    <tr>\n",
       "      <th>609</th>\n",
       "      <td>Toy Story 3</td>\n",
       "      <td>7.8</td>\n",
       "      <td>13415</td>\n",
       "      <td>61.350</td>\n",
       "      <td>103</td>\n",
       "      <td>866969703</td>\n",
       "    </tr>\n",
       "  </tbody>\n",
       "</table>\n",
       "</div>"
      ],
      "text/plain": [
       "               title  vote_average  vote_count  popularity  runtime  \\\n",
       "293        Toy Story           8.0       16655      92.768       81   \n",
       "488               Up           7.9       18365      69.609       96   \n",
       "264   Monsters, Inc.           7.8       16727      97.793       92   \n",
       "468      Toy Story 2           7.6       12535      69.125       92   \n",
       "513     Finding Nemo           7.8       17623      68.898      100   \n",
       "1677    Finding Dory           7.0       11185      32.284       97   \n",
       "459      Toy Story 4           7.5        8799      68.042      100   \n",
       "552       Inside Out           7.9       18986      62.145       95   \n",
       "320             Coco           8.2       17159      86.284      105   \n",
       "609      Toy Story 3           7.8       13415      61.350      103   \n",
       "\n",
       "      net_profit  \n",
       "293    343554033  \n",
       "488    560099082  \n",
       "264    464707738  \n",
       "468    407366869  \n",
       "513    846335536  \n",
       "1677   828570889  \n",
       "459    898394593  \n",
       "552    682611174  \n",
       "320    625526015  \n",
       "609    866969703  "
      ]
     },
     "execution_count": 78,
     "metadata": {},
     "output_type": "execute_result"
    }
   ],
   "source": [
    "recommender1()"
   ]
  },
  {
   "cell_type": "markdown",
   "metadata": {
    "collapsed": false
   },
   "source": [
    "\n",
    "\n",
    "\n",
    "\n",
    "\n",
    "\n",
    "\n",
    "\n",
    "\n",
    "\n",
    "\n",
    "\n",
    "\n",
    "\n",
    "\n",
    "\n",
    "\n",
    "\n",
    "\n",
    "\n",
    "\n",
    "\n",
    "\n",
    "\n",
    "\n",
    "\n",
    "\n",
    "\n",
    "\n",
    "\n",
    "\n",
    "\n",
    "\n",
    "\n",
    "\n",
    "\n",
    "\n",
    "\n",
    "\n",
    "\n",
    "\n",
    "\n",
    "\n",
    "\n",
    "\n",
    "\n",
    "\n",
    "\n",
    "\n",
    "\n",
    "\n",
    "\n",
    "\n",
    "\n",
    "\n",
    "\n"
   ]
  },
  {
   "cell_type": "markdown",
   "metadata": {
    "collapsed": false
   },
   "source": [
    "# Recommender  Fuzz Wuzz"
   ]
  },
  {
   "cell_type": "markdown",
   "metadata": {
    "collapsed": false
   },
   "source": []
  },
  {
   "cell_type": "code",
   "execution_count": 79,
   "metadata": {
    "collapsed": false
   },
   "outputs": [
    {
     "name": "stderr",
     "output_type": "stream",
     "text": [
      "C:\\Users\\Richard\\AppData\\Local\\Temp\\ipykernel_15928\\1419038385.py:33: SettingWithCopyWarning: \n",
      "A value is trying to be set on a copy of a slice from a DataFrame.\n",
      "Try using .loc[row_indexer,col_indexer] = value instead\n",
      "\n",
      "See the caveats in the documentation: https://pandas.pydata.org/pandas-docs/stable/user_guide/indexing.html#returning-a-view-versus-a-copy\n",
      "  similar_movies['similarity_score'] = movie_similarity_scores[similar_movies.index]\n"
     ]
    },
    {
     "data": {
      "text/html": [
       "<div>\n",
       "<style scoped>\n",
       "    .dataframe tbody tr th:only-of-type {\n",
       "        vertical-align: middle;\n",
       "    }\n",
       "\n",
       "    .dataframe tbody tr th {\n",
       "        vertical-align: top;\n",
       "    }\n",
       "\n",
       "    .dataframe thead th {\n",
       "        text-align: right;\n",
       "    }\n",
       "</style>\n",
       "<table border=\"1\" class=\"dataframe\">\n",
       "  <thead>\n",
       "    <tr style=\"text-align: right;\">\n",
       "      <th></th>\n",
       "      <th>title</th>\n",
       "      <th>vote_average</th>\n",
       "      <th>vote_count</th>\n",
       "      <th>popularity</th>\n",
       "      <th>runtime</th>\n",
       "      <th>net_profit</th>\n",
       "    </tr>\n",
       "  </thead>\n",
       "  <tbody>\n",
       "    <tr>\n",
       "      <th>488</th>\n",
       "      <td>Up</td>\n",
       "      <td>7.9</td>\n",
       "      <td>18365</td>\n",
       "      <td>69.609</td>\n",
       "      <td>96</td>\n",
       "      <td>560099082</td>\n",
       "    </tr>\n",
       "    <tr>\n",
       "      <th>264</th>\n",
       "      <td>Monsters, Inc.</td>\n",
       "      <td>7.8</td>\n",
       "      <td>16727</td>\n",
       "      <td>97.793</td>\n",
       "      <td>92</td>\n",
       "      <td>464707738</td>\n",
       "    </tr>\n",
       "    <tr>\n",
       "      <th>468</th>\n",
       "      <td>Toy Story 2</td>\n",
       "      <td>7.6</td>\n",
       "      <td>12535</td>\n",
       "      <td>69.125</td>\n",
       "      <td>92</td>\n",
       "      <td>407366869</td>\n",
       "    </tr>\n",
       "    <tr>\n",
       "      <th>513</th>\n",
       "      <td>Finding Nemo</td>\n",
       "      <td>7.8</td>\n",
       "      <td>17623</td>\n",
       "      <td>68.898</td>\n",
       "      <td>100</td>\n",
       "      <td>846335536</td>\n",
       "    </tr>\n",
       "    <tr>\n",
       "      <th>1677</th>\n",
       "      <td>Finding Dory</td>\n",
       "      <td>7.0</td>\n",
       "      <td>11185</td>\n",
       "      <td>32.284</td>\n",
       "      <td>97</td>\n",
       "      <td>828570889</td>\n",
       "    </tr>\n",
       "    <tr>\n",
       "      <th>459</th>\n",
       "      <td>Toy Story 4</td>\n",
       "      <td>7.5</td>\n",
       "      <td>8799</td>\n",
       "      <td>68.042</td>\n",
       "      <td>100</td>\n",
       "      <td>898394593</td>\n",
       "    </tr>\n",
       "    <tr>\n",
       "      <th>552</th>\n",
       "      <td>Inside Out</td>\n",
       "      <td>7.9</td>\n",
       "      <td>18986</td>\n",
       "      <td>62.145</td>\n",
       "      <td>95</td>\n",
       "      <td>682611174</td>\n",
       "    </tr>\n",
       "    <tr>\n",
       "      <th>320</th>\n",
       "      <td>Coco</td>\n",
       "      <td>8.2</td>\n",
       "      <td>17159</td>\n",
       "      <td>86.284</td>\n",
       "      <td>105</td>\n",
       "      <td>625526015</td>\n",
       "    </tr>\n",
       "    <tr>\n",
       "      <th>609</th>\n",
       "      <td>Toy Story 3</td>\n",
       "      <td>7.8</td>\n",
       "      <td>13415</td>\n",
       "      <td>61.350</td>\n",
       "      <td>103</td>\n",
       "      <td>866969703</td>\n",
       "    </tr>\n",
       "  </tbody>\n",
       "</table>\n",
       "</div>"
      ],
      "text/plain": [
       "               title  vote_average  vote_count  popularity  runtime  \\\n",
       "488               Up           7.9       18365      69.609       96   \n",
       "264   Monsters, Inc.           7.8       16727      97.793       92   \n",
       "468      Toy Story 2           7.6       12535      69.125       92   \n",
       "513     Finding Nemo           7.8       17623      68.898      100   \n",
       "1677    Finding Dory           7.0       11185      32.284       97   \n",
       "459      Toy Story 4           7.5        8799      68.042      100   \n",
       "552       Inside Out           7.9       18986      62.145       95   \n",
       "320             Coco           8.2       17159      86.284      105   \n",
       "609      Toy Story 3           7.8       13415      61.350      103   \n",
       "\n",
       "      net_profit  \n",
       "488    560099082  \n",
       "264    464707738  \n",
       "468    407366869  \n",
       "513    846335536  \n",
       "1677   828570889  \n",
       "459    898394593  \n",
       "552    682611174  \n",
       "320    625526015  \n",
       "609    866969703  "
      ]
     },
     "execution_count": 79,
     "metadata": {},
     "output_type": "execute_result"
    }
   ],
   "source": [
    "recommender2()"
   ]
  },
  {
   "cell_type": "markdown",
   "metadata": {
    "collapsed": false
   },
   "source": [
    "\n",
    "\n",
    "\n",
    "\n",
    "\n",
    "\n",
    "\n",
    "\n",
    "\n",
    "\n",
    "\n",
    "\n",
    "\n",
    "\n",
    "\n",
    "\n",
    "\n",
    "\n",
    "\n",
    "\n",
    "\n",
    "\n",
    "\n",
    "\n",
    "\n",
    "\n",
    "\n",
    "\n",
    "\n",
    "\n",
    "\n",
    "\n",
    "\n",
    "\n",
    "\n",
    "\n",
    "\n",
    "\n",
    "\n",
    "\n",
    "\n",
    "\n",
    "\n",
    "\n",
    "\n",
    "\n",
    "\n",
    "\n",
    "\n",
    "\n",
    "\n",
    "\n",
    "\n",
    "\n",
    "\n",
    "\n",
    "\n"
   ]
  },
  {
   "cell_type": "markdown",
   "metadata": {
    "collapsed": false
   },
   "source": [
    "# LRecommender"
   ]
  },
  {
   "cell_type": "code",
   "execution_count": 80,
   "metadata": {
    "collapsed": false
   },
   "outputs": [
    {
     "name": "stderr",
     "output_type": "stream",
     "text": [
      "C:\\Users\\Richard\\AppData\\Local\\Temp\\ipykernel_15928\\1419038385.py:33: SettingWithCopyWarning: \n",
      "A value is trying to be set on a copy of a slice from a DataFrame.\n",
      "Try using .loc[row_indexer,col_indexer] = value instead\n",
      "\n",
      "See the caveats in the documentation: https://pandas.pydata.org/pandas-docs/stable/user_guide/indexing.html#returning-a-view-versus-a-copy\n",
      "  similar_movies['similarity_score'] = movie_similarity_scores[similar_movies.index]\n"
     ]
    },
    {
     "data": {
      "text/html": [
       "<div>\n",
       "<style scoped>\n",
       "    .dataframe tbody tr th:only-of-type {\n",
       "        vertical-align: middle;\n",
       "    }\n",
       "\n",
       "    .dataframe tbody tr th {\n",
       "        vertical-align: top;\n",
       "    }\n",
       "\n",
       "    .dataframe thead th {\n",
       "        text-align: right;\n",
       "    }\n",
       "</style>\n",
       "<table border=\"1\" class=\"dataframe\">\n",
       "  <thead>\n",
       "    <tr style=\"text-align: right;\">\n",
       "      <th></th>\n",
       "      <th>title</th>\n",
       "      <th>vote_average</th>\n",
       "      <th>vote_count</th>\n",
       "      <th>popularity</th>\n",
       "      <th>runtime</th>\n",
       "      <th>net_profit</th>\n",
       "    </tr>\n",
       "  </thead>\n",
       "  <tbody>\n",
       "    <tr>\n",
       "      <th>821</th>\n",
       "      <td>Saving Private Ryan</td>\n",
       "      <td>8.2</td>\n",
       "      <td>14163</td>\n",
       "      <td>54.961</td>\n",
       "      <td>169</td>\n",
       "      <td>411840909</td>\n",
       "    </tr>\n",
       "    <tr>\n",
       "      <th>1508</th>\n",
       "      <td>Gone Girl</td>\n",
       "      <td>7.9</td>\n",
       "      <td>16911</td>\n",
       "      <td>49.026</td>\n",
       "      <td>149</td>\n",
       "      <td>308330363</td>\n",
       "    </tr>\n",
       "    <tr>\n",
       "      <th>345</th>\n",
       "      <td>The Maze Runner</td>\n",
       "      <td>7.2</td>\n",
       "      <td>15543</td>\n",
       "      <td>85.947</td>\n",
       "      <td>113</td>\n",
       "      <td>314319861</td>\n",
       "    </tr>\n",
       "    <tr>\n",
       "      <th>660</th>\n",
       "      <td>Venom</td>\n",
       "      <td>6.8</td>\n",
       "      <td>14350</td>\n",
       "      <td>58.375</td>\n",
       "      <td>112</td>\n",
       "      <td>739013954</td>\n",
       "    </tr>\n",
       "    <tr>\n",
       "      <th>1752</th>\n",
       "      <td>Bohemian Rhapsody</td>\n",
       "      <td>8.0</td>\n",
       "      <td>15640</td>\n",
       "      <td>34.792</td>\n",
       "      <td>135</td>\n",
       "      <td>851992901</td>\n",
       "    </tr>\n",
       "    <tr>\n",
       "      <th>709</th>\n",
       "      <td>The Matrix</td>\n",
       "      <td>8.2</td>\n",
       "      <td>23140</td>\n",
       "      <td>57.324</td>\n",
       "      <td>136</td>\n",
       "      <td>400517383</td>\n",
       "    </tr>\n",
       "    <tr>\n",
       "      <th>541</th>\n",
       "      <td>World War Z</td>\n",
       "      <td>6.8</td>\n",
       "      <td>14026</td>\n",
       "      <td>74.792</td>\n",
       "      <td>116</td>\n",
       "      <td>331865000</td>\n",
       "    </tr>\n",
       "    <tr>\n",
       "      <th>491</th>\n",
       "      <td>American Sniper</td>\n",
       "      <td>7.4</td>\n",
       "      <td>11817</td>\n",
       "      <td>91.498</td>\n",
       "      <td>133</td>\n",
       "      <td>483507423</td>\n",
       "    </tr>\n",
       "    <tr>\n",
       "      <th>1036</th>\n",
       "      <td>I Am Legend</td>\n",
       "      <td>7.2</td>\n",
       "      <td>14301</td>\n",
       "      <td>45.785</td>\n",
       "      <td>101</td>\n",
       "      <td>435410052</td>\n",
       "    </tr>\n",
       "    <tr>\n",
       "      <th>6261</th>\n",
       "      <td>Wolf Warrior 2</td>\n",
       "      <td>6.6</td>\n",
       "      <td>223</td>\n",
       "      <td>17.135</td>\n",
       "      <td>124</td>\n",
       "      <td>840622670</td>\n",
       "    </tr>\n",
       "  </tbody>\n",
       "</table>\n",
       "</div>"
      ],
      "text/plain": [
       "                    title  vote_average  vote_count  popularity  runtime  \\\n",
       "821   Saving Private Ryan           8.2       14163      54.961      169   \n",
       "1508            Gone Girl           7.9       16911      49.026      149   \n",
       "345       The Maze Runner           7.2       15543      85.947      113   \n",
       "660                 Venom           6.8       14350      58.375      112   \n",
       "1752    Bohemian Rhapsody           8.0       15640      34.792      135   \n",
       "709            The Matrix           8.2       23140      57.324      136   \n",
       "541           World War Z           6.8       14026      74.792      116   \n",
       "491       American Sniper           7.4       11817      91.498      133   \n",
       "1036          I Am Legend           7.2       14301      45.785      101   \n",
       "6261       Wolf Warrior 2           6.6         223      17.135      124   \n",
       "\n",
       "      net_profit  \n",
       "821    411840909  \n",
       "1508   308330363  \n",
       "345    314319861  \n",
       "660    739013954  \n",
       "1752   851992901  \n",
       "709    400517383  \n",
       "541    331865000  \n",
       "491    483507423  \n",
       "1036   435410052  \n",
       "6261   840622670  "
      ]
     },
     "execution_count": 80,
     "metadata": {},
     "output_type": "execute_result"
    }
   ],
   "source": [
    "lrecommender()"
   ]
  },
  {
   "cell_type": "code",
   "execution_count": null,
   "metadata": {
    "collapsed": false
   },
   "outputs": [],
   "source": []
  }
 ],
 "metadata": {
  "kernelspec": {
   "display_name": "Python 3",
   "language": "python",
   "name": "python3"
  },
  "language_info": {
   "codemirror_mode": {
    "name": "ipython",
    "version": 3
   },
   "file_extension": ".py",
   "mimetype": "text/x-python",
   "name": "python",
   "nbconvert_exporter": "python",
   "pygments_lexer": "ipython3",
   "version": "3.10.9"
  }
 },
 "nbformat": 4,
 "nbformat_minor": 0
}
