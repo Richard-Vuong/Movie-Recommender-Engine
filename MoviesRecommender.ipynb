{
 "cells": [
  {
   "cell_type": "code",
   "execution_count": 3,
   "metadata": {
    "collapsed": true,
    "ExecuteTime": {
     "end_time": "2023-08-20T17:27:15.334799300Z",
     "start_time": "2023-08-20T17:27:11.279464200Z"
    }
   },
   "outputs": [],
   "source": [
    "import pandas as pd\n",
    "from sklearn.metrics.pairwise import cosine_similarity\n",
    "from sklearn.preprocessing import MultiLabelBinarizer\n",
    "from sklearn.cluster import KMeans\n",
    "from sklearn.metrics import pairwise_distances_argmin_min"
   ]
  },
  {
   "cell_type": "code",
   "execution_count": 4,
   "outputs": [],
   "source": [
    "df = pd.read_csv(\"10kmovies.csv\")"
   ],
   "metadata": {
    "collapsed": false,
    "ExecuteTime": {
     "end_time": "2023-08-20T17:27:15.485341300Z",
     "start_time": "2023-08-20T17:27:15.336769500Z"
    }
   }
  },
  {
   "cell_type": "code",
   "execution_count": 5,
   "outputs": [
    {
     "data": {
      "text/plain": "       id                              title release_date  \\\n0  758323                The Pope's Exorcist   2023-04-05   \n1  640146  Ant-Man and the Wasp: Quantumania   2023-02-15   \n2  502356        The Super Mario Bros. Movie   2023-04-05   \n3  868759                            Ghosted   2023-04-18   \n4  594767           Shazam! Fury of the Gods   2023-03-15   \n\n                                              genres original_language  \\\n0                  ['Horror', 'Mystery', 'Thriller']           English   \n1         ['Action', 'Adventure', 'Science Fiction']           English   \n2  ['Animation', 'Adventure', 'Family', 'Fantasy'...           English   \n3                    ['Action', 'Comedy', 'Romance']           English   \n4       ['Action', 'Comedy', 'Fantasy', 'Adventure']           English   \n\n   vote_average  vote_count  popularity  \\\n0           7.4         619    5089.969   \n1           6.6        2294    4665.438   \n2           7.5        1861    3935.550   \n3           7.2         652    2791.532   \n4           6.8        1510    2702.593   \n\n                                            overview     budget  \\\n0  Father Gabriele Amorth, Chief Exorcist of the ...   18000000   \n1  Super-Hero partners Scott Lang and Hope van Dy...  200000000   \n2  While working underground to fix a water main,...  100000000   \n3  Salt-of-the-earth Cole falls head over heels f...          0   \n4  Billy Batson and his foster siblings, who tran...  125000000   \n\n                                production_companies     revenue  runtime  \\\n0  ['Screen Gems', '2.0 Entertainment', 'Jesus & ...    65675816      103   \n1      ['Marvel Studios', 'Kevin Feige Productions']   464566092      125   \n2  ['Universal Pictures', 'Illumination', 'Ninten...  1121048165       92   \n3                ['Skydance Media', 'Apple Studios']           0      120   \n4  ['New Line Cinema', 'The Safran Company', 'DC ...   133437105      130   \n\n                                             tagline  \n0  Inspired by the actual files of Father Gabriel...  \n1            Witness the beginning of a new dynasty.  \n2                                                NaN  \n3  Finding that special someone can be a real adv...  \n4                                      Oh. My. Gods.  ",
      "text/html": "<div>\n<style scoped>\n    .dataframe tbody tr th:only-of-type {\n        vertical-align: middle;\n    }\n\n    .dataframe tbody tr th {\n        vertical-align: top;\n    }\n\n    .dataframe thead th {\n        text-align: right;\n    }\n</style>\n<table border=\"1\" class=\"dataframe\">\n  <thead>\n    <tr style=\"text-align: right;\">\n      <th></th>\n      <th>id</th>\n      <th>title</th>\n      <th>release_date</th>\n      <th>genres</th>\n      <th>original_language</th>\n      <th>vote_average</th>\n      <th>vote_count</th>\n      <th>popularity</th>\n      <th>overview</th>\n      <th>budget</th>\n      <th>production_companies</th>\n      <th>revenue</th>\n      <th>runtime</th>\n      <th>tagline</th>\n    </tr>\n  </thead>\n  <tbody>\n    <tr>\n      <th>0</th>\n      <td>758323</td>\n      <td>The Pope's Exorcist</td>\n      <td>2023-04-05</td>\n      <td>['Horror', 'Mystery', 'Thriller']</td>\n      <td>English</td>\n      <td>7.4</td>\n      <td>619</td>\n      <td>5089.969</td>\n      <td>Father Gabriele Amorth, Chief Exorcist of the ...</td>\n      <td>18000000</td>\n      <td>['Screen Gems', '2.0 Entertainment', 'Jesus &amp; ...</td>\n      <td>65675816</td>\n      <td>103</td>\n      <td>Inspired by the actual files of Father Gabriel...</td>\n    </tr>\n    <tr>\n      <th>1</th>\n      <td>640146</td>\n      <td>Ant-Man and the Wasp: Quantumania</td>\n      <td>2023-02-15</td>\n      <td>['Action', 'Adventure', 'Science Fiction']</td>\n      <td>English</td>\n      <td>6.6</td>\n      <td>2294</td>\n      <td>4665.438</td>\n      <td>Super-Hero partners Scott Lang and Hope van Dy...</td>\n      <td>200000000</td>\n      <td>['Marvel Studios', 'Kevin Feige Productions']</td>\n      <td>464566092</td>\n      <td>125</td>\n      <td>Witness the beginning of a new dynasty.</td>\n    </tr>\n    <tr>\n      <th>2</th>\n      <td>502356</td>\n      <td>The Super Mario Bros. Movie</td>\n      <td>2023-04-05</td>\n      <td>['Animation', 'Adventure', 'Family', 'Fantasy'...</td>\n      <td>English</td>\n      <td>7.5</td>\n      <td>1861</td>\n      <td>3935.550</td>\n      <td>While working underground to fix a water main,...</td>\n      <td>100000000</td>\n      <td>['Universal Pictures', 'Illumination', 'Ninten...</td>\n      <td>1121048165</td>\n      <td>92</td>\n      <td>NaN</td>\n    </tr>\n    <tr>\n      <th>3</th>\n      <td>868759</td>\n      <td>Ghosted</td>\n      <td>2023-04-18</td>\n      <td>['Action', 'Comedy', 'Romance']</td>\n      <td>English</td>\n      <td>7.2</td>\n      <td>652</td>\n      <td>2791.532</td>\n      <td>Salt-of-the-earth Cole falls head over heels f...</td>\n      <td>0</td>\n      <td>['Skydance Media', 'Apple Studios']</td>\n      <td>0</td>\n      <td>120</td>\n      <td>Finding that special someone can be a real adv...</td>\n    </tr>\n    <tr>\n      <th>4</th>\n      <td>594767</td>\n      <td>Shazam! Fury of the Gods</td>\n      <td>2023-03-15</td>\n      <td>['Action', 'Comedy', 'Fantasy', 'Adventure']</td>\n      <td>English</td>\n      <td>6.8</td>\n      <td>1510</td>\n      <td>2702.593</td>\n      <td>Billy Batson and his foster siblings, who tran...</td>\n      <td>125000000</td>\n      <td>['New Line Cinema', 'The Safran Company', 'DC ...</td>\n      <td>133437105</td>\n      <td>130</td>\n      <td>Oh. My. Gods.</td>\n    </tr>\n  </tbody>\n</table>\n</div>"
     },
     "execution_count": 5,
     "metadata": {},
     "output_type": "execute_result"
    }
   ],
   "source": [
    "df.head()"
   ],
   "metadata": {
    "collapsed": false,
    "ExecuteTime": {
     "end_time": "2023-08-20T17:27:15.507397200Z",
     "start_time": "2023-08-20T17:27:15.479357400Z"
    }
   }
  },
  {
   "cell_type": "code",
   "execution_count": 6,
   "outputs": [
    {
     "data": {
      "text/plain": "(10000, 14)"
     },
     "execution_count": 6,
     "metadata": {},
     "output_type": "execute_result"
    }
   ],
   "source": [
    "df.shape"
   ],
   "metadata": {
    "collapsed": false,
    "ExecuteTime": {
     "end_time": "2023-08-20T17:27:15.560637700Z",
     "start_time": "2023-08-20T17:27:15.508394200Z"
    }
   }
  },
  {
   "cell_type": "code",
   "execution_count": 7,
   "outputs": [
    {
     "data": {
      "text/plain": "id                         0\ntitle                      0\nrelease_date              21\ngenres                     0\noriginal_language          0\nvote_average               0\nvote_count                 0\npopularity                 0\noverview                  77\nbudget                     0\nproduction_companies       0\nrevenue                    0\nruntime                    0\ntagline                 2759\ndtype: int64"
     },
     "execution_count": 7,
     "metadata": {},
     "output_type": "execute_result"
    }
   ],
   "source": [
    "df.isnull().sum() #tagline,overview and release date have null values. Not interested in this so will drop them."
   ],
   "metadata": {
    "collapsed": false,
    "ExecuteTime": {
     "end_time": "2023-08-20T17:27:15.645411700Z",
     "start_time": "2023-08-20T17:27:15.525732200Z"
    }
   }
  },
  {
   "cell_type": "code",
   "execution_count": 8,
   "outputs": [],
   "source": [
    "df.drop(columns = ['release_date','overview','tagline'], inplace = True) # Dropping the columns will null values."
   ],
   "metadata": {
    "collapsed": false,
    "ExecuteTime": {
     "end_time": "2023-08-20T17:27:15.662367100Z",
     "start_time": "2023-08-20T17:27:15.556648800Z"
    }
   }
  },
  {
   "cell_type": "code",
   "execution_count": 9,
   "outputs": [
    {
     "data": {
      "text/plain": "id                      0\ntitle                   0\ngenres                  0\noriginal_language       0\nvote_average            0\nvote_count              0\npopularity              0\nbudget                  0\nproduction_companies    0\nrevenue                 0\nruntime                 0\ndtype: int64"
     },
     "execution_count": 9,
     "metadata": {},
     "output_type": "execute_result"
    }
   ],
   "source": [
    "df.isnull().sum()"
   ],
   "metadata": {
    "collapsed": false,
    "ExecuteTime": {
     "end_time": "2023-08-20T17:27:15.742259400Z",
     "start_time": "2023-08-20T17:27:15.573603500Z"
    }
   }
  },
  {
   "cell_type": "code",
   "execution_count": 10,
   "outputs": [
    {
     "data": {
      "text/plain": "       id                              title  \\\n0  758323                The Pope's Exorcist   \n1  640146  Ant-Man and the Wasp: Quantumania   \n2  502356        The Super Mario Bros. Movie   \n3  868759                            Ghosted   \n4  594767           Shazam! Fury of the Gods   \n\n                                              genres original_language  \\\n0                  ['Horror', 'Mystery', 'Thriller']           English   \n1         ['Action', 'Adventure', 'Science Fiction']           English   \n2  ['Animation', 'Adventure', 'Family', 'Fantasy'...           English   \n3                    ['Action', 'Comedy', 'Romance']           English   \n4       ['Action', 'Comedy', 'Fantasy', 'Adventure']           English   \n\n   vote_average  vote_count  popularity     budget  \\\n0           7.4         619    5089.969   18000000   \n1           6.6        2294    4665.438  200000000   \n2           7.5        1861    3935.550  100000000   \n3           7.2         652    2791.532          0   \n4           6.8        1510    2702.593  125000000   \n\n                                production_companies     revenue  runtime  \n0  ['Screen Gems', '2.0 Entertainment', 'Jesus & ...    65675816      103  \n1      ['Marvel Studios', 'Kevin Feige Productions']   464566092      125  \n2  ['Universal Pictures', 'Illumination', 'Ninten...  1121048165       92  \n3                ['Skydance Media', 'Apple Studios']           0      120  \n4  ['New Line Cinema', 'The Safran Company', 'DC ...   133437105      130  ",
      "text/html": "<div>\n<style scoped>\n    .dataframe tbody tr th:only-of-type {\n        vertical-align: middle;\n    }\n\n    .dataframe tbody tr th {\n        vertical-align: top;\n    }\n\n    .dataframe thead th {\n        text-align: right;\n    }\n</style>\n<table border=\"1\" class=\"dataframe\">\n  <thead>\n    <tr style=\"text-align: right;\">\n      <th></th>\n      <th>id</th>\n      <th>title</th>\n      <th>genres</th>\n      <th>original_language</th>\n      <th>vote_average</th>\n      <th>vote_count</th>\n      <th>popularity</th>\n      <th>budget</th>\n      <th>production_companies</th>\n      <th>revenue</th>\n      <th>runtime</th>\n    </tr>\n  </thead>\n  <tbody>\n    <tr>\n      <th>0</th>\n      <td>758323</td>\n      <td>The Pope's Exorcist</td>\n      <td>['Horror', 'Mystery', 'Thriller']</td>\n      <td>English</td>\n      <td>7.4</td>\n      <td>619</td>\n      <td>5089.969</td>\n      <td>18000000</td>\n      <td>['Screen Gems', '2.0 Entertainment', 'Jesus &amp; ...</td>\n      <td>65675816</td>\n      <td>103</td>\n    </tr>\n    <tr>\n      <th>1</th>\n      <td>640146</td>\n      <td>Ant-Man and the Wasp: Quantumania</td>\n      <td>['Action', 'Adventure', 'Science Fiction']</td>\n      <td>English</td>\n      <td>6.6</td>\n      <td>2294</td>\n      <td>4665.438</td>\n      <td>200000000</td>\n      <td>['Marvel Studios', 'Kevin Feige Productions']</td>\n      <td>464566092</td>\n      <td>125</td>\n    </tr>\n    <tr>\n      <th>2</th>\n      <td>502356</td>\n      <td>The Super Mario Bros. Movie</td>\n      <td>['Animation', 'Adventure', 'Family', 'Fantasy'...</td>\n      <td>English</td>\n      <td>7.5</td>\n      <td>1861</td>\n      <td>3935.550</td>\n      <td>100000000</td>\n      <td>['Universal Pictures', 'Illumination', 'Ninten...</td>\n      <td>1121048165</td>\n      <td>92</td>\n    </tr>\n    <tr>\n      <th>3</th>\n      <td>868759</td>\n      <td>Ghosted</td>\n      <td>['Action', 'Comedy', 'Romance']</td>\n      <td>English</td>\n      <td>7.2</td>\n      <td>652</td>\n      <td>2791.532</td>\n      <td>0</td>\n      <td>['Skydance Media', 'Apple Studios']</td>\n      <td>0</td>\n      <td>120</td>\n    </tr>\n    <tr>\n      <th>4</th>\n      <td>594767</td>\n      <td>Shazam! Fury of the Gods</td>\n      <td>['Action', 'Comedy', 'Fantasy', 'Adventure']</td>\n      <td>English</td>\n      <td>6.8</td>\n      <td>1510</td>\n      <td>2702.593</td>\n      <td>125000000</td>\n      <td>['New Line Cinema', 'The Safran Company', 'DC ...</td>\n      <td>133437105</td>\n      <td>130</td>\n    </tr>\n  </tbody>\n</table>\n</div>"
     },
     "execution_count": 10,
     "metadata": {},
     "output_type": "execute_result"
    }
   ],
   "source": [
    "df.head()"
   ],
   "metadata": {
    "collapsed": false,
    "ExecuteTime": {
     "end_time": "2023-08-20T17:27:15.743257500Z",
     "start_time": "2023-08-20T17:27:15.601529800Z"
    }
   }
  },
  {
   "cell_type": "code",
   "execution_count": 11,
   "outputs": [
    {
     "data": {
      "text/plain": "(10000, 11)"
     },
     "execution_count": 11,
     "metadata": {},
     "output_type": "execute_result"
    }
   ],
   "source": [
    "df.shape"
   ],
   "metadata": {
    "collapsed": false,
    "ExecuteTime": {
     "end_time": "2023-08-20T17:27:15.743257500Z",
     "start_time": "2023-08-20T17:27:15.617486700Z"
    }
   }
  },
  {
   "cell_type": "code",
   "execution_count": 12,
   "outputs": [
    {
     "data": {
      "text/plain": "array([\"['Horror', 'Mystery', 'Thriller']\",\n       \"['Action', 'Adventure', 'Science Fiction']\",\n       \"['Animation', 'Adventure', 'Family', 'Fantasy', 'Comedy']\", ...,\n       \"['Thriller', 'Drama', 'Music']\",\n       \"['Fantasy', 'Animation', 'Action', 'Adventure', 'Science Fiction', 'Drama', 'Romance']\",\n       \"['TV Movie', 'Fantasy', 'Animation', 'Action', 'Thriller', 'Science Fiction', 'Horror']\"],\n      dtype=object)"
     },
     "execution_count": 12,
     "metadata": {},
     "output_type": "execute_result"
    }
   ],
   "source": [
    "df.genres.unique()"
   ],
   "metadata": {
    "collapsed": false,
    "ExecuteTime": {
     "end_time": "2023-08-20T17:27:15.743257500Z",
     "start_time": "2023-08-20T17:27:15.632446800Z"
    }
   }
  },
  {
   "cell_type": "code",
   "execution_count": 13,
   "outputs": [
    {
     "data": {
      "text/plain": "       id                              title  \\\n0  758323                The Pope's Exorcist   \n1  640146  Ant-Man and the Wasp: Quantumania   \n2  502356        The Super Mario Bros. Movie   \n3  868759                            Ghosted   \n4  594767           Shazam! Fury of the Gods   \n\n                                              genres original_language  \\\n0                  ['Horror', 'Mystery', 'Thriller']           English   \n1         ['Action', 'Adventure', 'Science Fiction']           English   \n2  ['Animation', 'Adventure', 'Family', 'Fantasy'...           English   \n3                    ['Action', 'Comedy', 'Romance']           English   \n4       ['Action', 'Comedy', 'Fantasy', 'Adventure']           English   \n\n   vote_average  vote_count  popularity     budget  \\\n0           7.4         619    5089.969   18000000   \n1           6.6        2294    4665.438  200000000   \n2           7.5        1861    3935.550  100000000   \n3           7.2         652    2791.532          0   \n4           6.8        1510    2702.593  125000000   \n\n                                production_companies     revenue  runtime  \n0  ['Screen Gems', '2.0 Entertainment', 'Jesus & ...    65675816      103  \n1      ['Marvel Studios', 'Kevin Feige Productions']   464566092      125  \n2  ['Universal Pictures', 'Illumination', 'Ninten...  1121048165       92  \n3                ['Skydance Media', 'Apple Studios']           0      120  \n4  ['New Line Cinema', 'The Safran Company', 'DC ...   133437105      130  ",
      "text/html": "<div>\n<style scoped>\n    .dataframe tbody tr th:only-of-type {\n        vertical-align: middle;\n    }\n\n    .dataframe tbody tr th {\n        vertical-align: top;\n    }\n\n    .dataframe thead th {\n        text-align: right;\n    }\n</style>\n<table border=\"1\" class=\"dataframe\">\n  <thead>\n    <tr style=\"text-align: right;\">\n      <th></th>\n      <th>id</th>\n      <th>title</th>\n      <th>genres</th>\n      <th>original_language</th>\n      <th>vote_average</th>\n      <th>vote_count</th>\n      <th>popularity</th>\n      <th>budget</th>\n      <th>production_companies</th>\n      <th>revenue</th>\n      <th>runtime</th>\n    </tr>\n  </thead>\n  <tbody>\n    <tr>\n      <th>0</th>\n      <td>758323</td>\n      <td>The Pope's Exorcist</td>\n      <td>['Horror', 'Mystery', 'Thriller']</td>\n      <td>English</td>\n      <td>7.4</td>\n      <td>619</td>\n      <td>5089.969</td>\n      <td>18000000</td>\n      <td>['Screen Gems', '2.0 Entertainment', 'Jesus &amp; ...</td>\n      <td>65675816</td>\n      <td>103</td>\n    </tr>\n    <tr>\n      <th>1</th>\n      <td>640146</td>\n      <td>Ant-Man and the Wasp: Quantumania</td>\n      <td>['Action', 'Adventure', 'Science Fiction']</td>\n      <td>English</td>\n      <td>6.6</td>\n      <td>2294</td>\n      <td>4665.438</td>\n      <td>200000000</td>\n      <td>['Marvel Studios', 'Kevin Feige Productions']</td>\n      <td>464566092</td>\n      <td>125</td>\n    </tr>\n    <tr>\n      <th>2</th>\n      <td>502356</td>\n      <td>The Super Mario Bros. Movie</td>\n      <td>['Animation', 'Adventure', 'Family', 'Fantasy'...</td>\n      <td>English</td>\n      <td>7.5</td>\n      <td>1861</td>\n      <td>3935.550</td>\n      <td>100000000</td>\n      <td>['Universal Pictures', 'Illumination', 'Ninten...</td>\n      <td>1121048165</td>\n      <td>92</td>\n    </tr>\n    <tr>\n      <th>3</th>\n      <td>868759</td>\n      <td>Ghosted</td>\n      <td>['Action', 'Comedy', 'Romance']</td>\n      <td>English</td>\n      <td>7.2</td>\n      <td>652</td>\n      <td>2791.532</td>\n      <td>0</td>\n      <td>['Skydance Media', 'Apple Studios']</td>\n      <td>0</td>\n      <td>120</td>\n    </tr>\n    <tr>\n      <th>4</th>\n      <td>594767</td>\n      <td>Shazam! Fury of the Gods</td>\n      <td>['Action', 'Comedy', 'Fantasy', 'Adventure']</td>\n      <td>English</td>\n      <td>6.8</td>\n      <td>1510</td>\n      <td>2702.593</td>\n      <td>125000000</td>\n      <td>['New Line Cinema', 'The Safran Company', 'DC ...</td>\n      <td>133437105</td>\n      <td>130</td>\n    </tr>\n  </tbody>\n</table>\n</div>"
     },
     "execution_count": 13,
     "metadata": {},
     "output_type": "execute_result"
    }
   ],
   "source": [
    "df.head()"
   ],
   "metadata": {
    "collapsed": false,
    "ExecuteTime": {
     "end_time": "2023-08-20T17:27:15.744254100Z",
     "start_time": "2023-08-20T17:27:15.649401600Z"
    }
   }
  },
  {
   "cell_type": "code",
   "execution_count": 14,
   "outputs": [
    {
     "name": "stderr",
     "output_type": "stream",
     "text": [
      "C:\\Users\\Richard\\AppData\\Local\\Temp\\ipykernel_6704\\1886530979.py:1: FutureWarning: The default value of numeric_only in DataFrame.corr is deprecated. In a future version, it will default to False. Select only valid columns or specify the value of numeric_only to silence this warning.\n",
      "  df.corr()\n"
     ]
    },
    {
     "data": {
      "text/plain": "                    id  vote_average  vote_count  popularity    budget  \\\nid            1.000000     -0.241569   -0.259859    0.102688 -0.243411   \nvote_average -0.241569      1.000000    0.253543    0.040162  0.074849   \nvote_count   -0.259859      0.253543    1.000000    0.069693  0.600121   \npopularity    0.102688      0.040162    0.069693    1.000000  0.143257   \nbudget       -0.243411      0.074849    0.600121    0.143257  1.000000   \nrevenue      -0.207591      0.149643    0.753206    0.148195  0.735239   \nruntime      -0.256838      0.388440    0.288462    0.038973  0.282498   \n\n               revenue   runtime  \nid           -0.207591 -0.256838  \nvote_average  0.149643  0.388440  \nvote_count    0.753206  0.288462  \npopularity    0.148195  0.038973  \nbudget        0.735239  0.282498  \nrevenue       1.000000  0.253162  \nruntime       0.253162  1.000000  ",
      "text/html": "<div>\n<style scoped>\n    .dataframe tbody tr th:only-of-type {\n        vertical-align: middle;\n    }\n\n    .dataframe tbody tr th {\n        vertical-align: top;\n    }\n\n    .dataframe thead th {\n        text-align: right;\n    }\n</style>\n<table border=\"1\" class=\"dataframe\">\n  <thead>\n    <tr style=\"text-align: right;\">\n      <th></th>\n      <th>id</th>\n      <th>vote_average</th>\n      <th>vote_count</th>\n      <th>popularity</th>\n      <th>budget</th>\n      <th>revenue</th>\n      <th>runtime</th>\n    </tr>\n  </thead>\n  <tbody>\n    <tr>\n      <th>id</th>\n      <td>1.000000</td>\n      <td>-0.241569</td>\n      <td>-0.259859</td>\n      <td>0.102688</td>\n      <td>-0.243411</td>\n      <td>-0.207591</td>\n      <td>-0.256838</td>\n    </tr>\n    <tr>\n      <th>vote_average</th>\n      <td>-0.241569</td>\n      <td>1.000000</td>\n      <td>0.253543</td>\n      <td>0.040162</td>\n      <td>0.074849</td>\n      <td>0.149643</td>\n      <td>0.388440</td>\n    </tr>\n    <tr>\n      <th>vote_count</th>\n      <td>-0.259859</td>\n      <td>0.253543</td>\n      <td>1.000000</td>\n      <td>0.069693</td>\n      <td>0.600121</td>\n      <td>0.753206</td>\n      <td>0.288462</td>\n    </tr>\n    <tr>\n      <th>popularity</th>\n      <td>0.102688</td>\n      <td>0.040162</td>\n      <td>0.069693</td>\n      <td>1.000000</td>\n      <td>0.143257</td>\n      <td>0.148195</td>\n      <td>0.038973</td>\n    </tr>\n    <tr>\n      <th>budget</th>\n      <td>-0.243411</td>\n      <td>0.074849</td>\n      <td>0.600121</td>\n      <td>0.143257</td>\n      <td>1.000000</td>\n      <td>0.735239</td>\n      <td>0.282498</td>\n    </tr>\n    <tr>\n      <th>revenue</th>\n      <td>-0.207591</td>\n      <td>0.149643</td>\n      <td>0.753206</td>\n      <td>0.148195</td>\n      <td>0.735239</td>\n      <td>1.000000</td>\n      <td>0.253162</td>\n    </tr>\n    <tr>\n      <th>runtime</th>\n      <td>-0.256838</td>\n      <td>0.388440</td>\n      <td>0.288462</td>\n      <td>0.038973</td>\n      <td>0.282498</td>\n      <td>0.253162</td>\n      <td>1.000000</td>\n    </tr>\n  </tbody>\n</table>\n</div>"
     },
     "execution_count": 14,
     "metadata": {},
     "output_type": "execute_result"
    }
   ],
   "source": [
    "df.corr()"
   ],
   "metadata": {
    "collapsed": false,
    "ExecuteTime": {
     "end_time": "2023-08-20T17:27:15.744254100Z",
     "start_time": "2023-08-20T17:27:15.665358900Z"
    }
   }
  },
  {
   "cell_type": "code",
   "execution_count": 15,
   "outputs": [
    {
     "data": {
      "text/plain": "id                        int64\ntitle                    object\ngenres                   object\noriginal_language        object\nvote_average            float64\nvote_count                int64\npopularity              float64\nbudget                    int64\nproduction_companies     object\nrevenue                   int64\nruntime                   int64\ndtype: object"
     },
     "execution_count": 15,
     "metadata": {},
     "output_type": "execute_result"
    }
   ],
   "source": [
    "df.dtypes"
   ],
   "metadata": {
    "collapsed": false,
    "ExecuteTime": {
     "end_time": "2023-08-20T17:27:15.744254100Z",
     "start_time": "2023-08-20T17:27:15.695277700Z"
    }
   }
  },
  {
   "cell_type": "code",
   "execution_count": 16,
   "outputs": [],
   "source": [
    "data = df.copy()"
   ],
   "metadata": {
    "collapsed": false,
    "ExecuteTime": {
     "end_time": "2023-08-20T17:27:15.745251100Z",
     "start_time": "2023-08-20T17:27:15.713337800Z"
    }
   }
  },
  {
   "cell_type": "code",
   "execution_count": 17,
   "outputs": [
    {
     "data": {
      "text/plain": "       id                              title  \\\n0  758323                The Pope's Exorcist   \n1  640146  Ant-Man and the Wasp: Quantumania   \n2  502356        The Super Mario Bros. Movie   \n3  868759                            Ghosted   \n4  594767           Shazam! Fury of the Gods   \n\n                                              genres original_language  \\\n0                  ['Horror', 'Mystery', 'Thriller']           English   \n1         ['Action', 'Adventure', 'Science Fiction']           English   \n2  ['Animation', 'Adventure', 'Family', 'Fantasy'...           English   \n3                    ['Action', 'Comedy', 'Romance']           English   \n4       ['Action', 'Comedy', 'Fantasy', 'Adventure']           English   \n\n   vote_average  vote_count  popularity     budget  \\\n0           7.4         619    5089.969   18000000   \n1           6.6        2294    4665.438  200000000   \n2           7.5        1861    3935.550  100000000   \n3           7.2         652    2791.532          0   \n4           6.8        1510    2702.593  125000000   \n\n                                production_companies     revenue  runtime  \n0  ['Screen Gems', '2.0 Entertainment', 'Jesus & ...    65675816      103  \n1      ['Marvel Studios', 'Kevin Feige Productions']   464566092      125  \n2  ['Universal Pictures', 'Illumination', 'Ninten...  1121048165       92  \n3                ['Skydance Media', 'Apple Studios']           0      120  \n4  ['New Line Cinema', 'The Safran Company', 'DC ...   133437105      130  ",
      "text/html": "<div>\n<style scoped>\n    .dataframe tbody tr th:only-of-type {\n        vertical-align: middle;\n    }\n\n    .dataframe tbody tr th {\n        vertical-align: top;\n    }\n\n    .dataframe thead th {\n        text-align: right;\n    }\n</style>\n<table border=\"1\" class=\"dataframe\">\n  <thead>\n    <tr style=\"text-align: right;\">\n      <th></th>\n      <th>id</th>\n      <th>title</th>\n      <th>genres</th>\n      <th>original_language</th>\n      <th>vote_average</th>\n      <th>vote_count</th>\n      <th>popularity</th>\n      <th>budget</th>\n      <th>production_companies</th>\n      <th>revenue</th>\n      <th>runtime</th>\n    </tr>\n  </thead>\n  <tbody>\n    <tr>\n      <th>0</th>\n      <td>758323</td>\n      <td>The Pope's Exorcist</td>\n      <td>['Horror', 'Mystery', 'Thriller']</td>\n      <td>English</td>\n      <td>7.4</td>\n      <td>619</td>\n      <td>5089.969</td>\n      <td>18000000</td>\n      <td>['Screen Gems', '2.0 Entertainment', 'Jesus &amp; ...</td>\n      <td>65675816</td>\n      <td>103</td>\n    </tr>\n    <tr>\n      <th>1</th>\n      <td>640146</td>\n      <td>Ant-Man and the Wasp: Quantumania</td>\n      <td>['Action', 'Adventure', 'Science Fiction']</td>\n      <td>English</td>\n      <td>6.6</td>\n      <td>2294</td>\n      <td>4665.438</td>\n      <td>200000000</td>\n      <td>['Marvel Studios', 'Kevin Feige Productions']</td>\n      <td>464566092</td>\n      <td>125</td>\n    </tr>\n    <tr>\n      <th>2</th>\n      <td>502356</td>\n      <td>The Super Mario Bros. Movie</td>\n      <td>['Animation', 'Adventure', 'Family', 'Fantasy'...</td>\n      <td>English</td>\n      <td>7.5</td>\n      <td>1861</td>\n      <td>3935.550</td>\n      <td>100000000</td>\n      <td>['Universal Pictures', 'Illumination', 'Ninten...</td>\n      <td>1121048165</td>\n      <td>92</td>\n    </tr>\n    <tr>\n      <th>3</th>\n      <td>868759</td>\n      <td>Ghosted</td>\n      <td>['Action', 'Comedy', 'Romance']</td>\n      <td>English</td>\n      <td>7.2</td>\n      <td>652</td>\n      <td>2791.532</td>\n      <td>0</td>\n      <td>['Skydance Media', 'Apple Studios']</td>\n      <td>0</td>\n      <td>120</td>\n    </tr>\n    <tr>\n      <th>4</th>\n      <td>594767</td>\n      <td>Shazam! Fury of the Gods</td>\n      <td>['Action', 'Comedy', 'Fantasy', 'Adventure']</td>\n      <td>English</td>\n      <td>6.8</td>\n      <td>1510</td>\n      <td>2702.593</td>\n      <td>125000000</td>\n      <td>['New Line Cinema', 'The Safran Company', 'DC ...</td>\n      <td>133437105</td>\n      <td>130</td>\n    </tr>\n  </tbody>\n</table>\n</div>"
     },
     "execution_count": 17,
     "metadata": {},
     "output_type": "execute_result"
    }
   ],
   "source": [
    "df.head()"
   ],
   "metadata": {
    "collapsed": false,
    "ExecuteTime": {
     "end_time": "2023-08-20T17:27:15.745251100Z",
     "start_time": "2023-08-20T17:27:15.727299400Z"
    }
   }
  },
  {
   "cell_type": "code",
   "execution_count": 25,
   "outputs": [],
   "source": [
    "action_movies = df[df['genres'].str.contains('Action')] # will output rows with action genre in them"
   ],
   "metadata": {
    "collapsed": false,
    "ExecuteTime": {
     "end_time": "2023-08-20T17:28:42.887539500Z",
     "start_time": "2023-08-20T17:28:42.865599300Z"
    }
   }
  },
  {
   "cell_type": "code",
   "execution_count": 23,
   "outputs": [],
   "source": [
    "action_movies = df[df['genres'] == 'Action']# will output rows with ONLY action genre in them. - there are none."
   ],
   "metadata": {
    "collapsed": false,
    "ExecuteTime": {
     "end_time": "2023-08-20T17:28:29.885407500Z",
     "start_time": "2023-08-20T17:28:29.862468800Z"
    }
   }
  },
  {
   "cell_type": "code",
   "execution_count": 26,
   "outputs": [
    {
     "data": {
      "text/plain": "          id                                           title  \\\n1     640146               Ant-Man and the Wasp: Quantumania   \n3     868759                                         Ghosted   \n4     594767                        Shazam! Fury of the Gods   \n5      76600                        Avatar: The Way of Water   \n6     447365                Guardians of the Galaxy Volume 3   \n...      ...                                             ...   \n9964  560527                                  The Dude in Me   \n9967   53894  Lupin the Third: The Secret of Twilight Gemini   \n9968    8398                                     The Hitcher   \n9994   94503  Tsubasa RESERVoir CHRoNiCLE: Tokyo Revelations   \n9996   16774               Hellboy Animated: Sword of Storms   \n\n                                                 genres original_language  \\\n1            ['Action', 'Adventure', 'Science Fiction']           English   \n3                       ['Action', 'Comedy', 'Romance']           English   \n4          ['Action', 'Comedy', 'Fantasy', 'Adventure']           English   \n5            ['Science Fiction', 'Adventure', 'Action']           English   \n6            ['Science Fiction', 'Adventure', 'Action']           English   \n...                                                 ...               ...   \n9964       ['Fantasy', 'Comedy', 'Action', 'Adventure']            Korean   \n9967      ['Animation', 'TV Movie', 'Action', 'Comedy']          Japanese   \n9968          ['Action', 'Horror', 'Crime', 'Thriller']           English   \n9994  ['Fantasy', 'Animation', 'Action', 'Adventure'...          Japanese   \n9996  ['TV Movie', 'Fantasy', 'Animation', 'Action',...           English   \n\n      vote_average  vote_count  popularity     budget  \\\n1              6.6        2294    4665.438  200000000   \n3              7.2         652    2791.532          0   \n4              6.8        1510    2702.593  125000000   \n5              7.7        7853    2280.912  460000000   \n6              8.3         683    2520.308  250000000   \n...            ...         ...         ...        ...   \n9964           7.9         113      16.282          0   \n9967           6.6          38       8.161          0   \n9968           5.9         810      14.272   10000000   \n9994           7.2           6       7.949          0   \n9996           6.3          99      12.739          0   \n\n                                   production_companies     revenue  runtime  \n1         ['Marvel Studios', 'Kevin Feige Productions']   464566092      125  \n3                   ['Skydance Media', 'Apple Studios']           0      120  \n4     ['New Line Cinema', 'The Safran Company', 'DC ...   133437105      130  \n5     ['20th Century Studios', 'Lightstorm Entertain...  2319331580      192  \n6         ['Marvel Studios', 'Kevin Feige Productions']   289312702      150  \n...                                                 ...         ...      ...  \n9964  ['The Contents On', 'EchoFilm', 'Merry Christm...    14651772      122  \n9967  ['Nippon Television Network Corporation', 'VAP...           0       90  \n9968  ['Intrepid Pictures', 'Platinum Dunes', 'Focus...    25399945       84  \n9994                                       ['Kodansha']           0       75  \n9996                ['IDT Entertainment', 'Film Roman']           0       73  \n\n[2695 rows x 11 columns]",
      "text/html": "<div>\n<style scoped>\n    .dataframe tbody tr th:only-of-type {\n        vertical-align: middle;\n    }\n\n    .dataframe tbody tr th {\n        vertical-align: top;\n    }\n\n    .dataframe thead th {\n        text-align: right;\n    }\n</style>\n<table border=\"1\" class=\"dataframe\">\n  <thead>\n    <tr style=\"text-align: right;\">\n      <th></th>\n      <th>id</th>\n      <th>title</th>\n      <th>genres</th>\n      <th>original_language</th>\n      <th>vote_average</th>\n      <th>vote_count</th>\n      <th>popularity</th>\n      <th>budget</th>\n      <th>production_companies</th>\n      <th>revenue</th>\n      <th>runtime</th>\n    </tr>\n  </thead>\n  <tbody>\n    <tr>\n      <th>1</th>\n      <td>640146</td>\n      <td>Ant-Man and the Wasp: Quantumania</td>\n      <td>['Action', 'Adventure', 'Science Fiction']</td>\n      <td>English</td>\n      <td>6.6</td>\n      <td>2294</td>\n      <td>4665.438</td>\n      <td>200000000</td>\n      <td>['Marvel Studios', 'Kevin Feige Productions']</td>\n      <td>464566092</td>\n      <td>125</td>\n    </tr>\n    <tr>\n      <th>3</th>\n      <td>868759</td>\n      <td>Ghosted</td>\n      <td>['Action', 'Comedy', 'Romance']</td>\n      <td>English</td>\n      <td>7.2</td>\n      <td>652</td>\n      <td>2791.532</td>\n      <td>0</td>\n      <td>['Skydance Media', 'Apple Studios']</td>\n      <td>0</td>\n      <td>120</td>\n    </tr>\n    <tr>\n      <th>4</th>\n      <td>594767</td>\n      <td>Shazam! Fury of the Gods</td>\n      <td>['Action', 'Comedy', 'Fantasy', 'Adventure']</td>\n      <td>English</td>\n      <td>6.8</td>\n      <td>1510</td>\n      <td>2702.593</td>\n      <td>125000000</td>\n      <td>['New Line Cinema', 'The Safran Company', 'DC ...</td>\n      <td>133437105</td>\n      <td>130</td>\n    </tr>\n    <tr>\n      <th>5</th>\n      <td>76600</td>\n      <td>Avatar: The Way of Water</td>\n      <td>['Science Fiction', 'Adventure', 'Action']</td>\n      <td>English</td>\n      <td>7.7</td>\n      <td>7853</td>\n      <td>2280.912</td>\n      <td>460000000</td>\n      <td>['20th Century Studios', 'Lightstorm Entertain...</td>\n      <td>2319331580</td>\n      <td>192</td>\n    </tr>\n    <tr>\n      <th>6</th>\n      <td>447365</td>\n      <td>Guardians of the Galaxy Volume 3</td>\n      <td>['Science Fiction', 'Adventure', 'Action']</td>\n      <td>English</td>\n      <td>8.3</td>\n      <td>683</td>\n      <td>2520.308</td>\n      <td>250000000</td>\n      <td>['Marvel Studios', 'Kevin Feige Productions']</td>\n      <td>289312702</td>\n      <td>150</td>\n    </tr>\n    <tr>\n      <th>...</th>\n      <td>...</td>\n      <td>...</td>\n      <td>...</td>\n      <td>...</td>\n      <td>...</td>\n      <td>...</td>\n      <td>...</td>\n      <td>...</td>\n      <td>...</td>\n      <td>...</td>\n      <td>...</td>\n    </tr>\n    <tr>\n      <th>9964</th>\n      <td>560527</td>\n      <td>The Dude in Me</td>\n      <td>['Fantasy', 'Comedy', 'Action', 'Adventure']</td>\n      <td>Korean</td>\n      <td>7.9</td>\n      <td>113</td>\n      <td>16.282</td>\n      <td>0</td>\n      <td>['The Contents On', 'EchoFilm', 'Merry Christm...</td>\n      <td>14651772</td>\n      <td>122</td>\n    </tr>\n    <tr>\n      <th>9967</th>\n      <td>53894</td>\n      <td>Lupin the Third: The Secret of Twilight Gemini</td>\n      <td>['Animation', 'TV Movie', 'Action', 'Comedy']</td>\n      <td>Japanese</td>\n      <td>6.6</td>\n      <td>38</td>\n      <td>8.161</td>\n      <td>0</td>\n      <td>['Nippon Television Network Corporation', 'VAP...</td>\n      <td>0</td>\n      <td>90</td>\n    </tr>\n    <tr>\n      <th>9968</th>\n      <td>8398</td>\n      <td>The Hitcher</td>\n      <td>['Action', 'Horror', 'Crime', 'Thriller']</td>\n      <td>English</td>\n      <td>5.9</td>\n      <td>810</td>\n      <td>14.272</td>\n      <td>10000000</td>\n      <td>['Intrepid Pictures', 'Platinum Dunes', 'Focus...</td>\n      <td>25399945</td>\n      <td>84</td>\n    </tr>\n    <tr>\n      <th>9994</th>\n      <td>94503</td>\n      <td>Tsubasa RESERVoir CHRoNiCLE: Tokyo Revelations</td>\n      <td>['Fantasy', 'Animation', 'Action', 'Adventure'...</td>\n      <td>Japanese</td>\n      <td>7.2</td>\n      <td>6</td>\n      <td>7.949</td>\n      <td>0</td>\n      <td>['Kodansha']</td>\n      <td>0</td>\n      <td>75</td>\n    </tr>\n    <tr>\n      <th>9996</th>\n      <td>16774</td>\n      <td>Hellboy Animated: Sword of Storms</td>\n      <td>['TV Movie', 'Fantasy', 'Animation', 'Action',...</td>\n      <td>English</td>\n      <td>6.3</td>\n      <td>99</td>\n      <td>12.739</td>\n      <td>0</td>\n      <td>['IDT Entertainment', 'Film Roman']</td>\n      <td>0</td>\n      <td>73</td>\n    </tr>\n  </tbody>\n</table>\n<p>2695 rows × 11 columns</p>\n</div>"
     },
     "execution_count": 26,
     "metadata": {},
     "output_type": "execute_result"
    }
   ],
   "source": [
    "action_movies"
   ],
   "metadata": {
    "collapsed": false,
    "ExecuteTime": {
     "end_time": "2023-08-20T17:28:45.179666500Z",
     "start_time": "2023-08-20T17:28:45.134035400Z"
    }
   }
  },
  {
   "cell_type": "code",
   "execution_count": 33,
   "outputs": [],
   "source": [
    "from itertools import chain"
   ],
   "metadata": {
    "collapsed": false,
    "ExecuteTime": {
     "end_time": "2023-08-20T17:33:46.827862500Z",
     "start_time": "2023-08-20T17:33:46.797915100Z"
    }
   }
  },
  {
   "cell_type": "code",
   "execution_count": 34,
   "outputs": [
    {
     "name": "stdout",
     "output_type": "stream",
     "text": [
      "['[' \"'\" 'H' 'o' 'r' ',' ' ' 'M' 'y' 's' 't' 'e' 'T' 'h' 'i' 'l' ']' 'A'\n",
      " 'c' 'n' 'd' 'v' 'u' 'S' 'F' 'm' 'a' 'C' 'R' 'D' 'W' 'V']\n"
     ]
    }
   ],
   "source": [
    "# Flatten the lists and convert to Series\n",
    "flattened_series = pd.Series(chain.from_iterable(df['genres']))\n",
    "\n",
    "# Get unique genres\n",
    "unique_genres = flattened_series.unique()\n",
    "\n",
    "print(unique_genres)"
   ],
   "metadata": {
    "collapsed": false,
    "ExecuteTime": {
     "end_time": "2023-08-20T17:33:46.974766100Z",
     "start_time": "2023-08-20T17:33:46.941854700Z"
    }
   }
  },
  {
   "cell_type": "code",
   "execution_count": null,
   "outputs": [],
   "source": [],
   "metadata": {
    "collapsed": false
   }
  }
 ],
 "metadata": {
  "kernelspec": {
   "display_name": "Python 3",
   "language": "python",
   "name": "python3"
  },
  "language_info": {
   "codemirror_mode": {
    "name": "ipython",
    "version": 2
   },
   "file_extension": ".py",
   "mimetype": "text/x-python",
   "name": "python",
   "nbconvert_exporter": "python",
   "pygments_lexer": "ipython2",
   "version": "2.7.6"
  }
 },
 "nbformat": 4,
 "nbformat_minor": 0
}
