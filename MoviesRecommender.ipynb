{
 "cells": [
  {
   "cell_type": "markdown",
   "source": [
    "# Movie Recommender with Python"
   ],
   "metadata": {
    "collapsed": false
   }
  },
  {
   "cell_type": "markdown",
   "source": [
    "#### DF Capstone Project\n",
    "##### Author: Richard V"
   ],
   "metadata": {
    "collapsed": false
   }
  },
  {
   "cell_type": "markdown",
   "source": [
    "### Importing Libraries"
   ],
   "metadata": {
    "collapsed": false
   }
  },
  {
   "cell_type": "code",
   "execution_count": 2,
   "metadata": {
    "collapsed": true,
    "ExecuteTime": {
     "end_time": "2023-08-22T08:47:59.961893100Z",
     "start_time": "2023-08-22T08:47:57.909919200Z"
    }
   },
   "outputs": [],
   "source": [
    "import pandas as pd\n",
    "from sklearn.metrics.pairwise import cosine_similarity\n",
    "from sklearn.preprocessing import MultiLabelBinarizer\n",
    "from sklearn.cluster import KMeans\n",
    "from sklearn.metrics import pairwise_distances_argmin_min\n",
    "from ast import literal_eval\n",
    "from itertools import chain\n",
    "import matplotlib.pyplot as plt\n",
    "# Visualize clusters (2D PCA for simplicity)\n",
    "from sklearn.decomposition import PCA\n"
   ]
  },
  {
   "cell_type": "markdown",
   "source": [
    "### Preprocessing the dataset\n",
    "Here I explore the dataset, handling any null values or errors within the dataset, look for any correlations between variables and formatting the dataset for modelling later on."
   ],
   "metadata": {
    "collapsed": false
   }
  },
  {
   "cell_type": "code",
   "execution_count": 3,
   "outputs": [],
   "source": [
    "df = pd.read_csv(\"10kmovies.csv\")"
   ],
   "metadata": {
    "collapsed": false,
    "ExecuteTime": {
     "end_time": "2023-08-22T08:48:00.085562300Z",
     "start_time": "2023-08-22T08:47:59.963889100Z"
    }
   }
  },
  {
   "cell_type": "code",
   "execution_count": 4,
   "outputs": [
    {
     "data": {
      "text/plain": "       id                              title release_date  \\\n0  758323                The Pope's Exorcist   2023-04-05   \n1  640146  Ant-Man and the Wasp: Quantumania   2023-02-15   \n2  502356        The Super Mario Bros. Movie   2023-04-05   \n3  868759                            Ghosted   2023-04-18   \n4  594767           Shazam! Fury of the Gods   2023-03-15   \n\n                                              genres original_language  \\\n0                  ['Horror', 'Mystery', 'Thriller']           English   \n1         ['Action', 'Adventure', 'Science Fiction']           English   \n2  ['Animation', 'Adventure', 'Family', 'Fantasy'...           English   \n3                    ['Action', 'Comedy', 'Romance']           English   \n4       ['Action', 'Comedy', 'Fantasy', 'Adventure']           English   \n\n   vote_average  vote_count  popularity  \\\n0           7.4         619    5089.969   \n1           6.6        2294    4665.438   \n2           7.5        1861    3935.550   \n3           7.2         652    2791.532   \n4           6.8        1510    2702.593   \n\n                                            overview     budget  \\\n0  Father Gabriele Amorth, Chief Exorcist of the ...   18000000   \n1  Super-Hero partners Scott Lang and Hope van Dy...  200000000   \n2  While working underground to fix a water main,...  100000000   \n3  Salt-of-the-earth Cole falls head over heels f...          0   \n4  Billy Batson and his foster siblings, who tran...  125000000   \n\n                                production_companies     revenue  runtime  \\\n0  ['Screen Gems', '2.0 Entertainment', 'Jesus & ...    65675816      103   \n1      ['Marvel Studios', 'Kevin Feige Productions']   464566092      125   \n2  ['Universal Pictures', 'Illumination', 'Ninten...  1121048165       92   \n3                ['Skydance Media', 'Apple Studios']           0      120   \n4  ['New Line Cinema', 'The Safran Company', 'DC ...   133437105      130   \n\n                                             tagline  \n0  Inspired by the actual files of Father Gabriel...  \n1            Witness the beginning of a new dynasty.  \n2                                                NaN  \n3  Finding that special someone can be a real adv...  \n4                                      Oh. My. Gods.  ",
      "text/html": "<div>\n<style scoped>\n    .dataframe tbody tr th:only-of-type {\n        vertical-align: middle;\n    }\n\n    .dataframe tbody tr th {\n        vertical-align: top;\n    }\n\n    .dataframe thead th {\n        text-align: right;\n    }\n</style>\n<table border=\"1\" class=\"dataframe\">\n  <thead>\n    <tr style=\"text-align: right;\">\n      <th></th>\n      <th>id</th>\n      <th>title</th>\n      <th>release_date</th>\n      <th>genres</th>\n      <th>original_language</th>\n      <th>vote_average</th>\n      <th>vote_count</th>\n      <th>popularity</th>\n      <th>overview</th>\n      <th>budget</th>\n      <th>production_companies</th>\n      <th>revenue</th>\n      <th>runtime</th>\n      <th>tagline</th>\n    </tr>\n  </thead>\n  <tbody>\n    <tr>\n      <th>0</th>\n      <td>758323</td>\n      <td>The Pope's Exorcist</td>\n      <td>2023-04-05</td>\n      <td>['Horror', 'Mystery', 'Thriller']</td>\n      <td>English</td>\n      <td>7.4</td>\n      <td>619</td>\n      <td>5089.969</td>\n      <td>Father Gabriele Amorth, Chief Exorcist of the ...</td>\n      <td>18000000</td>\n      <td>['Screen Gems', '2.0 Entertainment', 'Jesus &amp; ...</td>\n      <td>65675816</td>\n      <td>103</td>\n      <td>Inspired by the actual files of Father Gabriel...</td>\n    </tr>\n    <tr>\n      <th>1</th>\n      <td>640146</td>\n      <td>Ant-Man and the Wasp: Quantumania</td>\n      <td>2023-02-15</td>\n      <td>['Action', 'Adventure', 'Science Fiction']</td>\n      <td>English</td>\n      <td>6.6</td>\n      <td>2294</td>\n      <td>4665.438</td>\n      <td>Super-Hero partners Scott Lang and Hope van Dy...</td>\n      <td>200000000</td>\n      <td>['Marvel Studios', 'Kevin Feige Productions']</td>\n      <td>464566092</td>\n      <td>125</td>\n      <td>Witness the beginning of a new dynasty.</td>\n    </tr>\n    <tr>\n      <th>2</th>\n      <td>502356</td>\n      <td>The Super Mario Bros. Movie</td>\n      <td>2023-04-05</td>\n      <td>['Animation', 'Adventure', 'Family', 'Fantasy'...</td>\n      <td>English</td>\n      <td>7.5</td>\n      <td>1861</td>\n      <td>3935.550</td>\n      <td>While working underground to fix a water main,...</td>\n      <td>100000000</td>\n      <td>['Universal Pictures', 'Illumination', 'Ninten...</td>\n      <td>1121048165</td>\n      <td>92</td>\n      <td>NaN</td>\n    </tr>\n    <tr>\n      <th>3</th>\n      <td>868759</td>\n      <td>Ghosted</td>\n      <td>2023-04-18</td>\n      <td>['Action', 'Comedy', 'Romance']</td>\n      <td>English</td>\n      <td>7.2</td>\n      <td>652</td>\n      <td>2791.532</td>\n      <td>Salt-of-the-earth Cole falls head over heels f...</td>\n      <td>0</td>\n      <td>['Skydance Media', 'Apple Studios']</td>\n      <td>0</td>\n      <td>120</td>\n      <td>Finding that special someone can be a real adv...</td>\n    </tr>\n    <tr>\n      <th>4</th>\n      <td>594767</td>\n      <td>Shazam! Fury of the Gods</td>\n      <td>2023-03-15</td>\n      <td>['Action', 'Comedy', 'Fantasy', 'Adventure']</td>\n      <td>English</td>\n      <td>6.8</td>\n      <td>1510</td>\n      <td>2702.593</td>\n      <td>Billy Batson and his foster siblings, who tran...</td>\n      <td>125000000</td>\n      <td>['New Line Cinema', 'The Safran Company', 'DC ...</td>\n      <td>133437105</td>\n      <td>130</td>\n      <td>Oh. My. Gods.</td>\n    </tr>\n  </tbody>\n</table>\n</div>"
     },
     "execution_count": 4,
     "metadata": {},
     "output_type": "execute_result"
    }
   ],
   "source": [
    "df.head()"
   ],
   "metadata": {
    "collapsed": false,
    "ExecuteTime": {
     "end_time": "2023-08-22T08:48:00.130442300Z",
     "start_time": "2023-08-22T08:48:00.086560Z"
    }
   }
  },
  {
   "cell_type": "code",
   "execution_count": 5,
   "outputs": [
    {
     "data": {
      "text/plain": "(10000, 14)"
     },
     "execution_count": 5,
     "metadata": {},
     "output_type": "execute_result"
    }
   ],
   "source": [
    "df.shape"
   ],
   "metadata": {
    "collapsed": false,
    "ExecuteTime": {
     "end_time": "2023-08-22T08:48:00.160387200Z",
     "start_time": "2023-08-22T08:48:00.119472300Z"
    }
   }
  },
  {
   "cell_type": "code",
   "execution_count": 6,
   "outputs": [
    {
     "data": {
      "text/plain": "id                         0\ntitle                      0\nrelease_date              21\ngenres                     0\noriginal_language          0\nvote_average               0\nvote_count                 0\npopularity                 0\noverview                  77\nbudget                     0\nproduction_companies       0\nrevenue                    0\nruntime                    0\ntagline                 2759\ndtype: int64"
     },
     "execution_count": 6,
     "metadata": {},
     "output_type": "execute_result"
    }
   ],
   "source": [
    "df.isnull().sum() #tagline,overview and release date have null values. Not interested in this so will drop them."
   ],
   "metadata": {
    "collapsed": false,
    "ExecuteTime": {
     "end_time": "2023-08-22T08:48:00.161361400Z",
     "start_time": "2023-08-22T08:48:00.132437200Z"
    }
   }
  },
  {
   "cell_type": "code",
   "execution_count": 7,
   "outputs": [],
   "source": [
    "df.drop(columns = ['release_date','overview','tagline'], inplace = True) # Dropping the columns will null values."
   ],
   "metadata": {
    "collapsed": false,
    "ExecuteTime": {
     "end_time": "2023-08-22T08:48:00.270097600Z",
     "start_time": "2023-08-22T08:48:00.148395100Z"
    }
   }
  },
  {
   "cell_type": "code",
   "execution_count": 8,
   "outputs": [
    {
     "data": {
      "text/plain": "id                      0\ntitle                   0\ngenres                  0\noriginal_language       0\nvote_average            0\nvote_count              0\npopularity              0\nbudget                  0\nproduction_companies    0\nrevenue                 0\nruntime                 0\ndtype: int64"
     },
     "execution_count": 8,
     "metadata": {},
     "output_type": "execute_result"
    }
   ],
   "source": [
    "df.isnull().sum()"
   ],
   "metadata": {
    "collapsed": false,
    "ExecuteTime": {
     "end_time": "2023-08-22T08:48:00.294005Z",
     "start_time": "2023-08-22T08:48:00.164353300Z"
    }
   }
  },
  {
   "cell_type": "code",
   "execution_count": 9,
   "outputs": [
    {
     "data": {
      "text/plain": "       id                              title  \\\n0  758323                The Pope's Exorcist   \n1  640146  Ant-Man and the Wasp: Quantumania   \n2  502356        The Super Mario Bros. Movie   \n3  868759                            Ghosted   \n4  594767           Shazam! Fury of the Gods   \n\n                                              genres original_language  \\\n0                  ['Horror', 'Mystery', 'Thriller']           English   \n1         ['Action', 'Adventure', 'Science Fiction']           English   \n2  ['Animation', 'Adventure', 'Family', 'Fantasy'...           English   \n3                    ['Action', 'Comedy', 'Romance']           English   \n4       ['Action', 'Comedy', 'Fantasy', 'Adventure']           English   \n\n   vote_average  vote_count  popularity     budget  \\\n0           7.4         619    5089.969   18000000   \n1           6.6        2294    4665.438  200000000   \n2           7.5        1861    3935.550  100000000   \n3           7.2         652    2791.532          0   \n4           6.8        1510    2702.593  125000000   \n\n                                production_companies     revenue  runtime  \n0  ['Screen Gems', '2.0 Entertainment', 'Jesus & ...    65675816      103  \n1      ['Marvel Studios', 'Kevin Feige Productions']   464566092      125  \n2  ['Universal Pictures', 'Illumination', 'Ninten...  1121048165       92  \n3                ['Skydance Media', 'Apple Studios']           0      120  \n4  ['New Line Cinema', 'The Safran Company', 'DC ...   133437105      130  ",
      "text/html": "<div>\n<style scoped>\n    .dataframe tbody tr th:only-of-type {\n        vertical-align: middle;\n    }\n\n    .dataframe tbody tr th {\n        vertical-align: top;\n    }\n\n    .dataframe thead th {\n        text-align: right;\n    }\n</style>\n<table border=\"1\" class=\"dataframe\">\n  <thead>\n    <tr style=\"text-align: right;\">\n      <th></th>\n      <th>id</th>\n      <th>title</th>\n      <th>genres</th>\n      <th>original_language</th>\n      <th>vote_average</th>\n      <th>vote_count</th>\n      <th>popularity</th>\n      <th>budget</th>\n      <th>production_companies</th>\n      <th>revenue</th>\n      <th>runtime</th>\n    </tr>\n  </thead>\n  <tbody>\n    <tr>\n      <th>0</th>\n      <td>758323</td>\n      <td>The Pope's Exorcist</td>\n      <td>['Horror', 'Mystery', 'Thriller']</td>\n      <td>English</td>\n      <td>7.4</td>\n      <td>619</td>\n      <td>5089.969</td>\n      <td>18000000</td>\n      <td>['Screen Gems', '2.0 Entertainment', 'Jesus &amp; ...</td>\n      <td>65675816</td>\n      <td>103</td>\n    </tr>\n    <tr>\n      <th>1</th>\n      <td>640146</td>\n      <td>Ant-Man and the Wasp: Quantumania</td>\n      <td>['Action', 'Adventure', 'Science Fiction']</td>\n      <td>English</td>\n      <td>6.6</td>\n      <td>2294</td>\n      <td>4665.438</td>\n      <td>200000000</td>\n      <td>['Marvel Studios', 'Kevin Feige Productions']</td>\n      <td>464566092</td>\n      <td>125</td>\n    </tr>\n    <tr>\n      <th>2</th>\n      <td>502356</td>\n      <td>The Super Mario Bros. Movie</td>\n      <td>['Animation', 'Adventure', 'Family', 'Fantasy'...</td>\n      <td>English</td>\n      <td>7.5</td>\n      <td>1861</td>\n      <td>3935.550</td>\n      <td>100000000</td>\n      <td>['Universal Pictures', 'Illumination', 'Ninten...</td>\n      <td>1121048165</td>\n      <td>92</td>\n    </tr>\n    <tr>\n      <th>3</th>\n      <td>868759</td>\n      <td>Ghosted</td>\n      <td>['Action', 'Comedy', 'Romance']</td>\n      <td>English</td>\n      <td>7.2</td>\n      <td>652</td>\n      <td>2791.532</td>\n      <td>0</td>\n      <td>['Skydance Media', 'Apple Studios']</td>\n      <td>0</td>\n      <td>120</td>\n    </tr>\n    <tr>\n      <th>4</th>\n      <td>594767</td>\n      <td>Shazam! Fury of the Gods</td>\n      <td>['Action', 'Comedy', 'Fantasy', 'Adventure']</td>\n      <td>English</td>\n      <td>6.8</td>\n      <td>1510</td>\n      <td>2702.593</td>\n      <td>125000000</td>\n      <td>['New Line Cinema', 'The Safran Company', 'DC ...</td>\n      <td>133437105</td>\n      <td>130</td>\n    </tr>\n  </tbody>\n</table>\n</div>"
     },
     "execution_count": 9,
     "metadata": {},
     "output_type": "execute_result"
    }
   ],
   "source": [
    "df.head()"
   ],
   "metadata": {
    "collapsed": false,
    "ExecuteTime": {
     "end_time": "2023-08-22T08:48:00.294005Z",
     "start_time": "2023-08-22T08:48:00.179311900Z"
    }
   }
  },
  {
   "cell_type": "code",
   "execution_count": 10,
   "outputs": [
    {
     "data": {
      "text/plain": "(10000, 11)"
     },
     "execution_count": 10,
     "metadata": {},
     "output_type": "execute_result"
    }
   ],
   "source": [
    "df.shape"
   ],
   "metadata": {
    "collapsed": false,
    "ExecuteTime": {
     "end_time": "2023-08-22T08:48:00.295002500Z",
     "start_time": "2023-08-22T08:48:00.198261Z"
    }
   }
  },
  {
   "cell_type": "code",
   "execution_count": 13,
   "outputs": [
    {
     "name": "stderr",
     "output_type": "stream",
     "text": [
      "C:\\Users\\Richard\\AppData\\Local\\Temp\\ipykernel_33768\\1886530979.py:1: FutureWarning: The default value of numeric_only in DataFrame.corr is deprecated. In a future version, it will default to False. Select only valid columns or specify the value of numeric_only to silence this warning.\n",
      "  df.corr()\n"
     ]
    },
    {
     "data": {
      "text/plain": "                    id  vote_average  vote_count  popularity    budget  \\\nid            1.000000     -0.241569   -0.259859    0.102688 -0.243411   \nvote_average -0.241569      1.000000    0.253543    0.040162  0.074849   \nvote_count   -0.259859      0.253543    1.000000    0.069693  0.600121   \npopularity    0.102688      0.040162    0.069693    1.000000  0.143257   \nbudget       -0.243411      0.074849    0.600121    0.143257  1.000000   \nrevenue      -0.207591      0.149643    0.753206    0.148195  0.735239   \nruntime      -0.256838      0.388440    0.288462    0.038973  0.282498   \n\n               revenue   runtime  \nid           -0.207591 -0.256838  \nvote_average  0.149643  0.388440  \nvote_count    0.753206  0.288462  \npopularity    0.148195  0.038973  \nbudget        0.735239  0.282498  \nrevenue       1.000000  0.253162  \nruntime       0.253162  1.000000  ",
      "text/html": "<div>\n<style scoped>\n    .dataframe tbody tr th:only-of-type {\n        vertical-align: middle;\n    }\n\n    .dataframe tbody tr th {\n        vertical-align: top;\n    }\n\n    .dataframe thead th {\n        text-align: right;\n    }\n</style>\n<table border=\"1\" class=\"dataframe\">\n  <thead>\n    <tr style=\"text-align: right;\">\n      <th></th>\n      <th>id</th>\n      <th>vote_average</th>\n      <th>vote_count</th>\n      <th>popularity</th>\n      <th>budget</th>\n      <th>revenue</th>\n      <th>runtime</th>\n    </tr>\n  </thead>\n  <tbody>\n    <tr>\n      <th>id</th>\n      <td>1.000000</td>\n      <td>-0.241569</td>\n      <td>-0.259859</td>\n      <td>0.102688</td>\n      <td>-0.243411</td>\n      <td>-0.207591</td>\n      <td>-0.256838</td>\n    </tr>\n    <tr>\n      <th>vote_average</th>\n      <td>-0.241569</td>\n      <td>1.000000</td>\n      <td>0.253543</td>\n      <td>0.040162</td>\n      <td>0.074849</td>\n      <td>0.149643</td>\n      <td>0.388440</td>\n    </tr>\n    <tr>\n      <th>vote_count</th>\n      <td>-0.259859</td>\n      <td>0.253543</td>\n      <td>1.000000</td>\n      <td>0.069693</td>\n      <td>0.600121</td>\n      <td>0.753206</td>\n      <td>0.288462</td>\n    </tr>\n    <tr>\n      <th>popularity</th>\n      <td>0.102688</td>\n      <td>0.040162</td>\n      <td>0.069693</td>\n      <td>1.000000</td>\n      <td>0.143257</td>\n      <td>0.148195</td>\n      <td>0.038973</td>\n    </tr>\n    <tr>\n      <th>budget</th>\n      <td>-0.243411</td>\n      <td>0.074849</td>\n      <td>0.600121</td>\n      <td>0.143257</td>\n      <td>1.000000</td>\n      <td>0.735239</td>\n      <td>0.282498</td>\n    </tr>\n    <tr>\n      <th>revenue</th>\n      <td>-0.207591</td>\n      <td>0.149643</td>\n      <td>0.753206</td>\n      <td>0.148195</td>\n      <td>0.735239</td>\n      <td>1.000000</td>\n      <td>0.253162</td>\n    </tr>\n    <tr>\n      <th>runtime</th>\n      <td>-0.256838</td>\n      <td>0.388440</td>\n      <td>0.288462</td>\n      <td>0.038973</td>\n      <td>0.282498</td>\n      <td>0.253162</td>\n      <td>1.000000</td>\n    </tr>\n  </tbody>\n</table>\n</div>"
     },
     "execution_count": 13,
     "metadata": {},
     "output_type": "execute_result"
    }
   ],
   "source": [
    "df.corr()"
   ],
   "metadata": {
    "collapsed": false,
    "ExecuteTime": {
     "end_time": "2023-08-22T08:48:00.296999400Z",
     "start_time": "2023-08-22T08:48:00.245135900Z"
    }
   }
  },
  {
   "cell_type": "code",
   "execution_count": 14,
   "outputs": [
    {
     "data": {
      "text/plain": "id                        int64\ntitle                    object\ngenres                   object\noriginal_language        object\nvote_average            float64\nvote_count                int64\npopularity              float64\nbudget                    int64\nproduction_companies     object\nrevenue                   int64\nruntime                   int64\ndtype: object"
     },
     "execution_count": 14,
     "metadata": {},
     "output_type": "execute_result"
    }
   ],
   "source": [
    "df.dtypes"
   ],
   "metadata": {
    "collapsed": false,
    "ExecuteTime": {
     "end_time": "2023-08-22T08:48:00.296999400Z",
     "start_time": "2023-08-22T08:48:00.270097600Z"
    }
   }
  },
  {
   "cell_type": "code",
   "execution_count": 15,
   "outputs": [
    {
     "data": {
      "text/plain": "       id                              title  \\\n0  758323                The Pope's Exorcist   \n1  640146  Ant-Man and the Wasp: Quantumania   \n2  502356        The Super Mario Bros. Movie   \n3  868759                            Ghosted   \n4  594767           Shazam! Fury of the Gods   \n\n                                              genres original_language  \\\n0                  ['Horror', 'Mystery', 'Thriller']           English   \n1         ['Action', 'Adventure', 'Science Fiction']           English   \n2  ['Animation', 'Adventure', 'Family', 'Fantasy'...           English   \n3                    ['Action', 'Comedy', 'Romance']           English   \n4       ['Action', 'Comedy', 'Fantasy', 'Adventure']           English   \n\n   vote_average  vote_count  popularity     budget  \\\n0           7.4         619    5089.969   18000000   \n1           6.6        2294    4665.438  200000000   \n2           7.5        1861    3935.550  100000000   \n3           7.2         652    2791.532          0   \n4           6.8        1510    2702.593  125000000   \n\n                                production_companies     revenue  runtime  \n0  ['Screen Gems', '2.0 Entertainment', 'Jesus & ...    65675816      103  \n1      ['Marvel Studios', 'Kevin Feige Productions']   464566092      125  \n2  ['Universal Pictures', 'Illumination', 'Ninten...  1121048165       92  \n3                ['Skydance Media', 'Apple Studios']           0      120  \n4  ['New Line Cinema', 'The Safran Company', 'DC ...   133437105      130  ",
      "text/html": "<div>\n<style scoped>\n    .dataframe tbody tr th:only-of-type {\n        vertical-align: middle;\n    }\n\n    .dataframe tbody tr th {\n        vertical-align: top;\n    }\n\n    .dataframe thead th {\n        text-align: right;\n    }\n</style>\n<table border=\"1\" class=\"dataframe\">\n  <thead>\n    <tr style=\"text-align: right;\">\n      <th></th>\n      <th>id</th>\n      <th>title</th>\n      <th>genres</th>\n      <th>original_language</th>\n      <th>vote_average</th>\n      <th>vote_count</th>\n      <th>popularity</th>\n      <th>budget</th>\n      <th>production_companies</th>\n      <th>revenue</th>\n      <th>runtime</th>\n    </tr>\n  </thead>\n  <tbody>\n    <tr>\n      <th>0</th>\n      <td>758323</td>\n      <td>The Pope's Exorcist</td>\n      <td>['Horror', 'Mystery', 'Thriller']</td>\n      <td>English</td>\n      <td>7.4</td>\n      <td>619</td>\n      <td>5089.969</td>\n      <td>18000000</td>\n      <td>['Screen Gems', '2.0 Entertainment', 'Jesus &amp; ...</td>\n      <td>65675816</td>\n      <td>103</td>\n    </tr>\n    <tr>\n      <th>1</th>\n      <td>640146</td>\n      <td>Ant-Man and the Wasp: Quantumania</td>\n      <td>['Action', 'Adventure', 'Science Fiction']</td>\n      <td>English</td>\n      <td>6.6</td>\n      <td>2294</td>\n      <td>4665.438</td>\n      <td>200000000</td>\n      <td>['Marvel Studios', 'Kevin Feige Productions']</td>\n      <td>464566092</td>\n      <td>125</td>\n    </tr>\n    <tr>\n      <th>2</th>\n      <td>502356</td>\n      <td>The Super Mario Bros. Movie</td>\n      <td>['Animation', 'Adventure', 'Family', 'Fantasy'...</td>\n      <td>English</td>\n      <td>7.5</td>\n      <td>1861</td>\n      <td>3935.550</td>\n      <td>100000000</td>\n      <td>['Universal Pictures', 'Illumination', 'Ninten...</td>\n      <td>1121048165</td>\n      <td>92</td>\n    </tr>\n    <tr>\n      <th>3</th>\n      <td>868759</td>\n      <td>Ghosted</td>\n      <td>['Action', 'Comedy', 'Romance']</td>\n      <td>English</td>\n      <td>7.2</td>\n      <td>652</td>\n      <td>2791.532</td>\n      <td>0</td>\n      <td>['Skydance Media', 'Apple Studios']</td>\n      <td>0</td>\n      <td>120</td>\n    </tr>\n    <tr>\n      <th>4</th>\n      <td>594767</td>\n      <td>Shazam! Fury of the Gods</td>\n      <td>['Action', 'Comedy', 'Fantasy', 'Adventure']</td>\n      <td>English</td>\n      <td>6.8</td>\n      <td>1510</td>\n      <td>2702.593</td>\n      <td>125000000</td>\n      <td>['New Line Cinema', 'The Safran Company', 'DC ...</td>\n      <td>133437105</td>\n      <td>130</td>\n    </tr>\n  </tbody>\n</table>\n</div>"
     },
     "execution_count": 15,
     "metadata": {},
     "output_type": "execute_result"
    }
   ],
   "source": [
    "df.head()"
   ],
   "metadata": {
    "collapsed": false,
    "ExecuteTime": {
     "end_time": "2023-08-22T08:48:00.298023200Z",
     "start_time": "2023-08-22T08:48:00.273062400Z"
    }
   }
  },
  {
   "cell_type": "code",
   "execution_count": 16,
   "outputs": [],
   "source": [
    "action_movies = df[df['genres'].str.contains('Action')] # will output rows with action genre in them"
   ],
   "metadata": {
    "collapsed": false,
    "ExecuteTime": {
     "end_time": "2023-08-22T08:48:00.399753400Z",
     "start_time": "2023-08-22T08:48:00.291014100Z"
    }
   }
  },
  {
   "cell_type": "code",
   "execution_count": 17,
   "outputs": [],
   "source": [
    "action_movies = df[df['genres'] == 'Action']# will output rows with ONLY action genre in them. - there are none."
   ],
   "metadata": {
    "collapsed": false,
    "ExecuteTime": {
     "end_time": "2023-08-22T08:48:00.441645500Z",
     "start_time": "2023-08-22T08:48:00.306970800Z"
    }
   }
  },
  {
   "cell_type": "code",
   "execution_count": 18,
   "outputs": [
    {
     "data": {
      "text/plain": "Empty DataFrame\nColumns: [id, title, genres, original_language, vote_average, vote_count, popularity, budget, production_companies, revenue, runtime]\nIndex: []",
      "text/html": "<div>\n<style scoped>\n    .dataframe tbody tr th:only-of-type {\n        vertical-align: middle;\n    }\n\n    .dataframe tbody tr th {\n        vertical-align: top;\n    }\n\n    .dataframe thead th {\n        text-align: right;\n    }\n</style>\n<table border=\"1\" class=\"dataframe\">\n  <thead>\n    <tr style=\"text-align: right;\">\n      <th></th>\n      <th>id</th>\n      <th>title</th>\n      <th>genres</th>\n      <th>original_language</th>\n      <th>vote_average</th>\n      <th>vote_count</th>\n      <th>popularity</th>\n      <th>budget</th>\n      <th>production_companies</th>\n      <th>revenue</th>\n      <th>runtime</th>\n    </tr>\n  </thead>\n  <tbody>\n  </tbody>\n</table>\n</div>"
     },
     "execution_count": 18,
     "metadata": {},
     "output_type": "execute_result"
    }
   ],
   "source": [
    "action_movies"
   ],
   "metadata": {
    "collapsed": false,
    "ExecuteTime": {
     "end_time": "2023-08-22T08:48:00.471530700Z",
     "start_time": "2023-08-22T08:48:00.322929100Z"
    }
   }
  },
  {
   "cell_type": "code",
   "execution_count": 19,
   "outputs": [],
   "source": [
    "# Convert string representations to actual lists\n",
    "df['genres'] = df['genres'].apply(literal_eval)\n"
   ],
   "metadata": {
    "collapsed": false,
    "ExecuteTime": {
     "end_time": "2023-08-22T08:48:00.661051800Z",
     "start_time": "2023-08-22T08:48:00.337888200Z"
    }
   }
  },
  {
   "cell_type": "code",
   "execution_count": 20,
   "outputs": [
    {
     "data": {
      "text/plain": "       id                              title  \\\n0  758323                The Pope's Exorcist   \n1  640146  Ant-Man and the Wasp: Quantumania   \n2  502356        The Super Mario Bros. Movie   \n3  868759                            Ghosted   \n4  594767           Shazam! Fury of the Gods   \n\n                                            genres original_language  \\\n0                      [Horror, Mystery, Thriller]           English   \n1             [Action, Adventure, Science Fiction]           English   \n2  [Animation, Adventure, Family, Fantasy, Comedy]           English   \n3                        [Action, Comedy, Romance]           English   \n4             [Action, Comedy, Fantasy, Adventure]           English   \n\n   vote_average  vote_count  popularity     budget  \\\n0           7.4         619    5089.969   18000000   \n1           6.6        2294    4665.438  200000000   \n2           7.5        1861    3935.550  100000000   \n3           7.2         652    2791.532          0   \n4           6.8        1510    2702.593  125000000   \n\n                                production_companies     revenue  runtime  \n0  ['Screen Gems', '2.0 Entertainment', 'Jesus & ...    65675816      103  \n1      ['Marvel Studios', 'Kevin Feige Productions']   464566092      125  \n2  ['Universal Pictures', 'Illumination', 'Ninten...  1121048165       92  \n3                ['Skydance Media', 'Apple Studios']           0      120  \n4  ['New Line Cinema', 'The Safran Company', 'DC ...   133437105      130  ",
      "text/html": "<div>\n<style scoped>\n    .dataframe tbody tr th:only-of-type {\n        vertical-align: middle;\n    }\n\n    .dataframe tbody tr th {\n        vertical-align: top;\n    }\n\n    .dataframe thead th {\n        text-align: right;\n    }\n</style>\n<table border=\"1\" class=\"dataframe\">\n  <thead>\n    <tr style=\"text-align: right;\">\n      <th></th>\n      <th>id</th>\n      <th>title</th>\n      <th>genres</th>\n      <th>original_language</th>\n      <th>vote_average</th>\n      <th>vote_count</th>\n      <th>popularity</th>\n      <th>budget</th>\n      <th>production_companies</th>\n      <th>revenue</th>\n      <th>runtime</th>\n    </tr>\n  </thead>\n  <tbody>\n    <tr>\n      <th>0</th>\n      <td>758323</td>\n      <td>The Pope's Exorcist</td>\n      <td>[Horror, Mystery, Thriller]</td>\n      <td>English</td>\n      <td>7.4</td>\n      <td>619</td>\n      <td>5089.969</td>\n      <td>18000000</td>\n      <td>['Screen Gems', '2.0 Entertainment', 'Jesus &amp; ...</td>\n      <td>65675816</td>\n      <td>103</td>\n    </tr>\n    <tr>\n      <th>1</th>\n      <td>640146</td>\n      <td>Ant-Man and the Wasp: Quantumania</td>\n      <td>[Action, Adventure, Science Fiction]</td>\n      <td>English</td>\n      <td>6.6</td>\n      <td>2294</td>\n      <td>4665.438</td>\n      <td>200000000</td>\n      <td>['Marvel Studios', 'Kevin Feige Productions']</td>\n      <td>464566092</td>\n      <td>125</td>\n    </tr>\n    <tr>\n      <th>2</th>\n      <td>502356</td>\n      <td>The Super Mario Bros. Movie</td>\n      <td>[Animation, Adventure, Family, Fantasy, Comedy]</td>\n      <td>English</td>\n      <td>7.5</td>\n      <td>1861</td>\n      <td>3935.550</td>\n      <td>100000000</td>\n      <td>['Universal Pictures', 'Illumination', 'Ninten...</td>\n      <td>1121048165</td>\n      <td>92</td>\n    </tr>\n    <tr>\n      <th>3</th>\n      <td>868759</td>\n      <td>Ghosted</td>\n      <td>[Action, Comedy, Romance]</td>\n      <td>English</td>\n      <td>7.2</td>\n      <td>652</td>\n      <td>2791.532</td>\n      <td>0</td>\n      <td>['Skydance Media', 'Apple Studios']</td>\n      <td>0</td>\n      <td>120</td>\n    </tr>\n    <tr>\n      <th>4</th>\n      <td>594767</td>\n      <td>Shazam! Fury of the Gods</td>\n      <td>[Action, Comedy, Fantasy, Adventure]</td>\n      <td>English</td>\n      <td>6.8</td>\n      <td>1510</td>\n      <td>2702.593</td>\n      <td>125000000</td>\n      <td>['New Line Cinema', 'The Safran Company', 'DC ...</td>\n      <td>133437105</td>\n      <td>130</td>\n    </tr>\n  </tbody>\n</table>\n</div>"
     },
     "execution_count": 20,
     "metadata": {},
     "output_type": "execute_result"
    }
   ],
   "source": [
    "df.head()"
   ],
   "metadata": {
    "collapsed": false,
    "ExecuteTime": {
     "end_time": "2023-08-22T08:48:00.661051800Z",
     "start_time": "2023-08-22T08:48:00.452581700Z"
    }
   }
  },
  {
   "cell_type": "code",
   "execution_count": 21,
   "outputs": [
    {
     "name": "stdout",
     "output_type": "stream",
     "text": [
      "['Horror' 'Mystery' 'Thriller' 'Action' 'Adventure' 'Science Fiction'\n",
      " 'Animation' 'Family' 'Fantasy' 'Comedy' 'Romance' 'Drama' 'History' 'War'\n",
      " 'Crime' 'Music' 'Western' 'TV Movie' 'Documentary']\n"
     ]
    }
   ],
   "source": [
    "# Flatten the lists and convert to Series\n",
    "flattened_series = pd.Series(chain.from_iterable(df['genres']))\n",
    "\n",
    "# Get unique genres\n",
    "unique_genres = flattened_series.unique()\n",
    "\n",
    "print(unique_genres)"
   ],
   "metadata": {
    "collapsed": false,
    "ExecuteTime": {
     "end_time": "2023-08-22T08:48:00.662045800Z",
     "start_time": "2023-08-22T08:48:00.462555100Z"
    }
   }
  },
  {
   "cell_type": "code",
   "execution_count": 22,
   "outputs": [
    {
     "data": {
      "text/plain": "19"
     },
     "execution_count": 22,
     "metadata": {},
     "output_type": "execute_result"
    }
   ],
   "source": [
    "len(unique_genres) #This will be my k cluster number"
   ],
   "metadata": {
    "collapsed": false,
    "ExecuteTime": {
     "end_time": "2023-08-22T08:48:00.694959800Z",
     "start_time": "2023-08-22T08:48:00.478512300Z"
    }
   }
  },
  {
   "cell_type": "markdown",
   "source": [
    "### Basic Movie Recommender\n",
    "\n",
    "So the essential idea of my movie recommender is to generate a list of movies to the user based on their genre of interest."
   ],
   "metadata": {
    "collapsed": false
   }
  },
  {
   "cell_type": "code",
   "execution_count": 23,
   "outputs": [
    {
     "name": "stdout",
     "output_type": "stream",
     "text": [
      "Here are the list of genres. ['Horror' 'Mystery' 'Thriller' 'Action' 'Adventure' 'Science Fiction'\n",
      " 'Animation' 'Family' 'Fantasy' 'Comedy' 'Romance' 'Drama' 'History' 'War'\n",
      " 'Crime' 'Music' 'Western' 'TV Movie' 'Documentary']\n",
      "Great choice! Action is a popular genre.\n",
      "Great choice! Romance is a popular genre.\n",
      "Great choice! Horror is a popular genre.\n",
      "Exiting the program.\n"
     ]
    }
   ],
   "source": [
    "#Create a user prompt.\n",
    "print (f\"Here are the list of genres. {unique_genres}\")\n",
    "goi = [] #genres of interest\n",
    "str = \"\"\n",
    "while True:\n",
    "    user_genre = input(\"Please enter a genre of interest (or 'exit' to quit): \").capitalize().strip() # strip in case a user will enter white spaces by accident.\n",
    "\n",
    "    if user_genre == 'Exit':\n",
    "        print(\"Exiting the program.\")\n",
    "\n",
    "        break\n",
    "    elif user_genre in unique_genres:\n",
    "        print(f\"Great choice! {user_genre} is a popular genre.\")\n",
    "        str += user_genre\n",
    "        goi.append(user_genre)\n",
    "    else:\n",
    "        print(\"Sorry, that's not a valid genre. Please choose from the following genres:\")\n",
    "        print(', '.join(unique_genres))"
   ],
   "metadata": {
    "collapsed": false,
    "ExecuteTime": {
     "end_time": "2023-08-22T08:48:09.971026200Z",
     "start_time": "2023-08-22T08:48:00.495466700Z"
    }
   }
  },
  {
   "cell_type": "code",
   "execution_count": 24,
   "outputs": [],
   "source": [
    "# Convert list genres to string for TF-IDF vectorization later on but also to\n",
    "df['genres_str'] = df['genres'].apply(', '.join)"
   ],
   "metadata": {
    "collapsed": false,
    "ExecuteTime": {
     "end_time": "2023-08-22T08:48:09.971026200Z",
     "start_time": "2023-08-22T08:48:09.925173800Z"
    }
   }
  },
  {
   "cell_type": "code",
   "execution_count": 25,
   "outputs": [
    {
     "data": {
      "text/plain": "['Action', 'Romance', 'Horror']"
     },
     "execution_count": 25,
     "metadata": {},
     "output_type": "execute_result"
    }
   ],
   "source": [
    "goi #Our genres of interest from the user."
   ],
   "metadata": {
    "collapsed": false,
    "ExecuteTime": {
     "end_time": "2023-08-22T08:48:09.971026200Z",
     "start_time": "2023-08-22T08:48:09.937118200Z"
    }
   }
  },
  {
   "cell_type": "code",
   "execution_count": 26,
   "outputs": [],
   "source": [
    "# df.groupby('vote_average')['title','genres','vote_average'].head(100).sort_values('vote_average',ascending=False) ## checking how to use sort_values."
   ],
   "metadata": {
    "collapsed": false,
    "ExecuteTime": {
     "end_time": "2023-08-22T08:48:09.972047500Z",
     "start_time": "2023-08-22T08:48:09.954072100Z"
    }
   }
  },
  {
   "cell_type": "code",
   "execution_count": 86,
   "outputs": [
    {
     "name": "stdout",
     "output_type": "stream",
     "text": [
      "0          Guardians of the Galaxy Volume 3\n",
      "1                  Avatar: The Way of Water\n",
      "2                       The Pope's Exorcist\n",
      "3                                 Scream VI\n",
      "4                                 Creed III\n",
      "5    The Last Kingdom: Seven Kings Must Die\n",
      "6                                   Ghosted\n",
      "7                  Shazam! Fury of the Gods\n",
      "8         Ant-Man and the Wasp: Quantumania\n",
      "9                         Peter Pan & Wendy\n",
      "Name: title, dtype: object\n"
     ]
    }
   ],
   "source": [
    "\n",
    "# Create a boolean mask using str.contains for each genre\n",
    "genre_masks = [df['genres_str'].str.contains(genre) for genre in goi]\n",
    "\n",
    "# Combine the masks using logical OR (|)\n",
    "combined_mask = pd.concat(genre_masks, axis=1).any(axis=1)\n",
    "\n",
    "# Apply the combined mask to filter the DataFrame\n",
    "filtered_df = df[combined_mask]\n",
    "#\n",
    "filter10 = filtered_df.head(10).sort_values('vote_average',ascending=False)\n",
    "\n",
    "filter10['title'].reset_index(drop=True, inplace=True)\n",
    "print(filter10['title'])"
   ],
   "metadata": {
    "collapsed": false,
    "ExecuteTime": {
     "end_time": "2023-08-22T10:22:31.060737600Z",
     "start_time": "2023-08-22T10:22:31.007770300Z"
    }
   }
  },
  {
   "cell_type": "markdown",
   "source": [
    "### Applying Clustering\n",
    "Now that the basic idea of the movie recommender is created. How can we make a better movie recommender? What if we wanted to find movies similar to other movies rather than by genre? What if we were to include all the features we have such as vote_average, popularity, profit (revenue - budget), runtime, and production companies with genre this time?"
   ],
   "metadata": {
    "collapsed": false
   }
  },
  {
   "cell_type": "markdown",
   "source": [
    "##### Revamping the dataframe"
   ],
   "metadata": {
    "collapsed": false
   }
  },
  {
   "cell_type": "code",
   "execution_count": 104,
   "outputs": [],
   "source": [
    "df1 = df.copy()"
   ],
   "metadata": {
    "collapsed": false,
    "ExecuteTime": {
     "end_time": "2023-08-22T10:39:16.616544100Z",
     "start_time": "2023-08-22T10:39:16.585252900Z"
    }
   }
  },
  {
   "cell_type": "code",
   "execution_count": 105,
   "outputs": [],
   "source": [
    "df1['genres'] = df1['genres'].apply(', '.join) # converting the lists of genres into strings.\n",
    "df1['production_companies'] = df1['production_companies'].apply(literal_eval) #Converting the column of list of strings (json like)into actual (python) lists\n",
    "df1['production_companies'] = df1['production_companies'].apply(', '.join) #converting the lists into strings"
   ],
   "metadata": {
    "collapsed": false,
    "ExecuteTime": {
     "end_time": "2023-08-22T10:39:16.859193100Z",
     "start_time": "2023-08-22T10:39:16.722041900Z"
    }
   }
  },
  {
   "cell_type": "code",
   "execution_count": 106,
   "outputs": [
    {
     "data": {
      "text/plain": "       id                              title  \\\n0  758323                The Pope's Exorcist   \n1  640146  Ant-Man and the Wasp: Quantumania   \n2  502356        The Super Mario Bros. Movie   \n3  868759                            Ghosted   \n4  594767           Shazam! Fury of the Gods   \n\n                                          genres original_language  \\\n0                      Horror, Mystery, Thriller           English   \n1             Action, Adventure, Science Fiction           English   \n2  Animation, Adventure, Family, Fantasy, Comedy           English   \n3                        Action, Comedy, Romance           English   \n4             Action, Comedy, Fantasy, Adventure           English   \n\n   vote_average  vote_count  popularity     budget  \\\n0           7.4         619    5089.969   18000000   \n1           6.6        2294    4665.438  200000000   \n2           7.5        1861    3935.550  100000000   \n3           7.2         652    2791.532          0   \n4           6.8        1510    2702.593  125000000   \n\n                                production_companies     revenue  runtime  \\\n0  Screen Gems, 2.0 Entertainment, Jesus & Mary, ...    65675816      103   \n1            Marvel Studios, Kevin Feige Productions   464566092      125   \n2         Universal Pictures, Illumination, Nintendo  1121048165       92   \n3                      Skydance Media, Apple Studios           0      120   \n4  New Line Cinema, The Safran Company, DC Films,...   133437105      130   \n\n                                      genres_str  \n0                      Horror, Mystery, Thriller  \n1             Action, Adventure, Science Fiction  \n2  Animation, Adventure, Family, Fantasy, Comedy  \n3                        Action, Comedy, Romance  \n4             Action, Comedy, Fantasy, Adventure  ",
      "text/html": "<div>\n<style scoped>\n    .dataframe tbody tr th:only-of-type {\n        vertical-align: middle;\n    }\n\n    .dataframe tbody tr th {\n        vertical-align: top;\n    }\n\n    .dataframe thead th {\n        text-align: right;\n    }\n</style>\n<table border=\"1\" class=\"dataframe\">\n  <thead>\n    <tr style=\"text-align: right;\">\n      <th></th>\n      <th>id</th>\n      <th>title</th>\n      <th>genres</th>\n      <th>original_language</th>\n      <th>vote_average</th>\n      <th>vote_count</th>\n      <th>popularity</th>\n      <th>budget</th>\n      <th>production_companies</th>\n      <th>revenue</th>\n      <th>runtime</th>\n      <th>genres_str</th>\n    </tr>\n  </thead>\n  <tbody>\n    <tr>\n      <th>0</th>\n      <td>758323</td>\n      <td>The Pope's Exorcist</td>\n      <td>Horror, Mystery, Thriller</td>\n      <td>English</td>\n      <td>7.4</td>\n      <td>619</td>\n      <td>5089.969</td>\n      <td>18000000</td>\n      <td>Screen Gems, 2.0 Entertainment, Jesus &amp; Mary, ...</td>\n      <td>65675816</td>\n      <td>103</td>\n      <td>Horror, Mystery, Thriller</td>\n    </tr>\n    <tr>\n      <th>1</th>\n      <td>640146</td>\n      <td>Ant-Man and the Wasp: Quantumania</td>\n      <td>Action, Adventure, Science Fiction</td>\n      <td>English</td>\n      <td>6.6</td>\n      <td>2294</td>\n      <td>4665.438</td>\n      <td>200000000</td>\n      <td>Marvel Studios, Kevin Feige Productions</td>\n      <td>464566092</td>\n      <td>125</td>\n      <td>Action, Adventure, Science Fiction</td>\n    </tr>\n    <tr>\n      <th>2</th>\n      <td>502356</td>\n      <td>The Super Mario Bros. Movie</td>\n      <td>Animation, Adventure, Family, Fantasy, Comedy</td>\n      <td>English</td>\n      <td>7.5</td>\n      <td>1861</td>\n      <td>3935.550</td>\n      <td>100000000</td>\n      <td>Universal Pictures, Illumination, Nintendo</td>\n      <td>1121048165</td>\n      <td>92</td>\n      <td>Animation, Adventure, Family, Fantasy, Comedy</td>\n    </tr>\n    <tr>\n      <th>3</th>\n      <td>868759</td>\n      <td>Ghosted</td>\n      <td>Action, Comedy, Romance</td>\n      <td>English</td>\n      <td>7.2</td>\n      <td>652</td>\n      <td>2791.532</td>\n      <td>0</td>\n      <td>Skydance Media, Apple Studios</td>\n      <td>0</td>\n      <td>120</td>\n      <td>Action, Comedy, Romance</td>\n    </tr>\n    <tr>\n      <th>4</th>\n      <td>594767</td>\n      <td>Shazam! Fury of the Gods</td>\n      <td>Action, Comedy, Fantasy, Adventure</td>\n      <td>English</td>\n      <td>6.8</td>\n      <td>1510</td>\n      <td>2702.593</td>\n      <td>125000000</td>\n      <td>New Line Cinema, The Safran Company, DC Films,...</td>\n      <td>133437105</td>\n      <td>130</td>\n      <td>Action, Comedy, Fantasy, Adventure</td>\n    </tr>\n  </tbody>\n</table>\n</div>"
     },
     "execution_count": 106,
     "metadata": {},
     "output_type": "execute_result"
    }
   ],
   "source": [
    "df1.head() #"
   ],
   "metadata": {
    "collapsed": false,
    "ExecuteTime": {
     "end_time": "2023-08-22T10:39:16.882159700Z",
     "start_time": "2023-08-22T10:39:16.853209500Z"
    }
   }
  },
  {
   "cell_type": "code",
   "execution_count": 107,
   "outputs": [],
   "source": [
    "#making a net profit feature\n",
    "df1['net_profit'] = df1['revenue'] - df1['budget']"
   ],
   "metadata": {
    "collapsed": false,
    "ExecuteTime": {
     "end_time": "2023-08-22T10:39:17.110525200Z",
     "start_time": "2023-08-22T10:39:16.974889700Z"
    }
   }
  },
  {
   "cell_type": "code",
   "execution_count": 108,
   "outputs": [
    {
     "data": {
      "text/plain": "       id                              title  \\\n0  758323                The Pope's Exorcist   \n1  640146  Ant-Man and the Wasp: Quantumania   \n2  502356        The Super Mario Bros. Movie   \n3  868759                            Ghosted   \n4  594767           Shazam! Fury of the Gods   \n\n                                          genres original_language  \\\n0                      Horror, Mystery, Thriller           English   \n1             Action, Adventure, Science Fiction           English   \n2  Animation, Adventure, Family, Fantasy, Comedy           English   \n3                        Action, Comedy, Romance           English   \n4             Action, Comedy, Fantasy, Adventure           English   \n\n   vote_average  vote_count  popularity     budget  \\\n0           7.4         619    5089.969   18000000   \n1           6.6        2294    4665.438  200000000   \n2           7.5        1861    3935.550  100000000   \n3           7.2         652    2791.532          0   \n4           6.8        1510    2702.593  125000000   \n\n                                production_companies     revenue  runtime  \\\n0  Screen Gems, 2.0 Entertainment, Jesus & Mary, ...    65675816      103   \n1            Marvel Studios, Kevin Feige Productions   464566092      125   \n2         Universal Pictures, Illumination, Nintendo  1121048165       92   \n3                      Skydance Media, Apple Studios           0      120   \n4  New Line Cinema, The Safran Company, DC Films,...   133437105      130   \n\n                                      genres_str  net_profit  \n0                      Horror, Mystery, Thriller    47675816  \n1             Action, Adventure, Science Fiction   264566092  \n2  Animation, Adventure, Family, Fantasy, Comedy  1021048165  \n3                        Action, Comedy, Romance           0  \n4             Action, Comedy, Fantasy, Adventure     8437105  ",
      "text/html": "<div>\n<style scoped>\n    .dataframe tbody tr th:only-of-type {\n        vertical-align: middle;\n    }\n\n    .dataframe tbody tr th {\n        vertical-align: top;\n    }\n\n    .dataframe thead th {\n        text-align: right;\n    }\n</style>\n<table border=\"1\" class=\"dataframe\">\n  <thead>\n    <tr style=\"text-align: right;\">\n      <th></th>\n      <th>id</th>\n      <th>title</th>\n      <th>genres</th>\n      <th>original_language</th>\n      <th>vote_average</th>\n      <th>vote_count</th>\n      <th>popularity</th>\n      <th>budget</th>\n      <th>production_companies</th>\n      <th>revenue</th>\n      <th>runtime</th>\n      <th>genres_str</th>\n      <th>net_profit</th>\n    </tr>\n  </thead>\n  <tbody>\n    <tr>\n      <th>0</th>\n      <td>758323</td>\n      <td>The Pope's Exorcist</td>\n      <td>Horror, Mystery, Thriller</td>\n      <td>English</td>\n      <td>7.4</td>\n      <td>619</td>\n      <td>5089.969</td>\n      <td>18000000</td>\n      <td>Screen Gems, 2.0 Entertainment, Jesus &amp; Mary, ...</td>\n      <td>65675816</td>\n      <td>103</td>\n      <td>Horror, Mystery, Thriller</td>\n      <td>47675816</td>\n    </tr>\n    <tr>\n      <th>1</th>\n      <td>640146</td>\n      <td>Ant-Man and the Wasp: Quantumania</td>\n      <td>Action, Adventure, Science Fiction</td>\n      <td>English</td>\n      <td>6.6</td>\n      <td>2294</td>\n      <td>4665.438</td>\n      <td>200000000</td>\n      <td>Marvel Studios, Kevin Feige Productions</td>\n      <td>464566092</td>\n      <td>125</td>\n      <td>Action, Adventure, Science Fiction</td>\n      <td>264566092</td>\n    </tr>\n    <tr>\n      <th>2</th>\n      <td>502356</td>\n      <td>The Super Mario Bros. Movie</td>\n      <td>Animation, Adventure, Family, Fantasy, Comedy</td>\n      <td>English</td>\n      <td>7.5</td>\n      <td>1861</td>\n      <td>3935.550</td>\n      <td>100000000</td>\n      <td>Universal Pictures, Illumination, Nintendo</td>\n      <td>1121048165</td>\n      <td>92</td>\n      <td>Animation, Adventure, Family, Fantasy, Comedy</td>\n      <td>1021048165</td>\n    </tr>\n    <tr>\n      <th>3</th>\n      <td>868759</td>\n      <td>Ghosted</td>\n      <td>Action, Comedy, Romance</td>\n      <td>English</td>\n      <td>7.2</td>\n      <td>652</td>\n      <td>2791.532</td>\n      <td>0</td>\n      <td>Skydance Media, Apple Studios</td>\n      <td>0</td>\n      <td>120</td>\n      <td>Action, Comedy, Romance</td>\n      <td>0</td>\n    </tr>\n    <tr>\n      <th>4</th>\n      <td>594767</td>\n      <td>Shazam! Fury of the Gods</td>\n      <td>Action, Comedy, Fantasy, Adventure</td>\n      <td>English</td>\n      <td>6.8</td>\n      <td>1510</td>\n      <td>2702.593</td>\n      <td>125000000</td>\n      <td>New Line Cinema, The Safran Company, DC Films,...</td>\n      <td>133437105</td>\n      <td>130</td>\n      <td>Action, Comedy, Fantasy, Adventure</td>\n      <td>8437105</td>\n    </tr>\n  </tbody>\n</table>\n</div>"
     },
     "execution_count": 108,
     "metadata": {},
     "output_type": "execute_result"
    }
   ],
   "source": [
    "df1.head()"
   ],
   "metadata": {
    "collapsed": false,
    "ExecuteTime": {
     "end_time": "2023-08-22T10:39:17.220046300Z",
     "start_time": "2023-08-22T10:39:17.106536400Z"
    }
   }
  },
  {
   "cell_type": "code",
   "execution_count": 109,
   "outputs": [],
   "source": [
    "#removing unnecessary columns\n",
    "df1.drop(columns = ['genres_str', 'budget','revenue'], inplace = True)\n"
   ],
   "metadata": {
    "collapsed": false,
    "ExecuteTime": {
     "end_time": "2023-08-22T10:39:17.366650300Z",
     "start_time": "2023-08-22T10:39:17.203045900Z"
    }
   }
  },
  {
   "cell_type": "code",
   "execution_count": 110,
   "outputs": [],
   "source": [
    "df1['tags'] = df1['genres'] + df1['original_language'] + df1['production_companies']"
   ],
   "metadata": {
    "collapsed": false,
    "ExecuteTime": {
     "end_time": "2023-08-22T10:39:17.410350200Z",
     "start_time": "2023-08-22T10:39:17.323765700Z"
    }
   }
  },
  {
   "cell_type": "code",
   "execution_count": 111,
   "outputs": [
    {
     "data": {
      "text/plain": "       id                              title  \\\n0  758323                The Pope's Exorcist   \n1  640146  Ant-Man and the Wasp: Quantumania   \n2  502356        The Super Mario Bros. Movie   \n3  868759                            Ghosted   \n4  594767           Shazam! Fury of the Gods   \n\n                                          genres original_language  \\\n0                      Horror, Mystery, Thriller           English   \n1             Action, Adventure, Science Fiction           English   \n2  Animation, Adventure, Family, Fantasy, Comedy           English   \n3                        Action, Comedy, Romance           English   \n4             Action, Comedy, Fantasy, Adventure           English   \n\n   vote_average  vote_count  popularity  \\\n0           7.4         619    5089.969   \n1           6.6        2294    4665.438   \n2           7.5        1861    3935.550   \n3           7.2         652    2791.532   \n4           6.8        1510    2702.593   \n\n                                production_companies  runtime  net_profit  \\\n0  Screen Gems, 2.0 Entertainment, Jesus & Mary, ...      103    47675816   \n1            Marvel Studios, Kevin Feige Productions      125   264566092   \n2         Universal Pictures, Illumination, Nintendo       92  1021048165   \n3                      Skydance Media, Apple Studios      120           0   \n4  New Line Cinema, The Safran Company, DC Films,...      130     8437105   \n\n                                                tags  \n0  Horror, Mystery, ThrillerEnglishScreen Gems, 2...  \n1  Action, Adventure, Science FictionEnglishMarve...  \n2  Animation, Adventure, Family, Fantasy, ComedyE...  \n3  Action, Comedy, RomanceEnglishSkydance Media, ...  \n4  Action, Comedy, Fantasy, AdventureEnglishNew L...  ",
      "text/html": "<div>\n<style scoped>\n    .dataframe tbody tr th:only-of-type {\n        vertical-align: middle;\n    }\n\n    .dataframe tbody tr th {\n        vertical-align: top;\n    }\n\n    .dataframe thead th {\n        text-align: right;\n    }\n</style>\n<table border=\"1\" class=\"dataframe\">\n  <thead>\n    <tr style=\"text-align: right;\">\n      <th></th>\n      <th>id</th>\n      <th>title</th>\n      <th>genres</th>\n      <th>original_language</th>\n      <th>vote_average</th>\n      <th>vote_count</th>\n      <th>popularity</th>\n      <th>production_companies</th>\n      <th>runtime</th>\n      <th>net_profit</th>\n      <th>tags</th>\n    </tr>\n  </thead>\n  <tbody>\n    <tr>\n      <th>0</th>\n      <td>758323</td>\n      <td>The Pope's Exorcist</td>\n      <td>Horror, Mystery, Thriller</td>\n      <td>English</td>\n      <td>7.4</td>\n      <td>619</td>\n      <td>5089.969</td>\n      <td>Screen Gems, 2.0 Entertainment, Jesus &amp; Mary, ...</td>\n      <td>103</td>\n      <td>47675816</td>\n      <td>Horror, Mystery, ThrillerEnglishScreen Gems, 2...</td>\n    </tr>\n    <tr>\n      <th>1</th>\n      <td>640146</td>\n      <td>Ant-Man and the Wasp: Quantumania</td>\n      <td>Action, Adventure, Science Fiction</td>\n      <td>English</td>\n      <td>6.6</td>\n      <td>2294</td>\n      <td>4665.438</td>\n      <td>Marvel Studios, Kevin Feige Productions</td>\n      <td>125</td>\n      <td>264566092</td>\n      <td>Action, Adventure, Science FictionEnglishMarve...</td>\n    </tr>\n    <tr>\n      <th>2</th>\n      <td>502356</td>\n      <td>The Super Mario Bros. Movie</td>\n      <td>Animation, Adventure, Family, Fantasy, Comedy</td>\n      <td>English</td>\n      <td>7.5</td>\n      <td>1861</td>\n      <td>3935.550</td>\n      <td>Universal Pictures, Illumination, Nintendo</td>\n      <td>92</td>\n      <td>1021048165</td>\n      <td>Animation, Adventure, Family, Fantasy, ComedyE...</td>\n    </tr>\n    <tr>\n      <th>3</th>\n      <td>868759</td>\n      <td>Ghosted</td>\n      <td>Action, Comedy, Romance</td>\n      <td>English</td>\n      <td>7.2</td>\n      <td>652</td>\n      <td>2791.532</td>\n      <td>Skydance Media, Apple Studios</td>\n      <td>120</td>\n      <td>0</td>\n      <td>Action, Comedy, RomanceEnglishSkydance Media, ...</td>\n    </tr>\n    <tr>\n      <th>4</th>\n      <td>594767</td>\n      <td>Shazam! Fury of the Gods</td>\n      <td>Action, Comedy, Fantasy, Adventure</td>\n      <td>English</td>\n      <td>6.8</td>\n      <td>1510</td>\n      <td>2702.593</td>\n      <td>New Line Cinema, The Safran Company, DC Films,...</td>\n      <td>130</td>\n      <td>8437105</td>\n      <td>Action, Comedy, Fantasy, AdventureEnglishNew L...</td>\n    </tr>\n  </tbody>\n</table>\n</div>"
     },
     "execution_count": 111,
     "metadata": {},
     "output_type": "execute_result"
    }
   ],
   "source": [
    "df1.head()"
   ],
   "metadata": {
    "collapsed": false,
    "ExecuteTime": {
     "end_time": "2023-08-22T10:39:17.491155100Z",
     "start_time": "2023-08-22T10:39:17.404366Z"
    }
   }
  },
  {
   "cell_type": "code",
   "execution_count": 112,
   "outputs": [],
   "source": [
    "import re\n",
    "\n",
    "def separate_words_by_capitals(input_string):\n",
    "    # Use regular expression to split words by two consecutive capital letters\n",
    "    words = re.findall('[A-Z]{2}(?=[a-z])|[A-Z][a-z]*', input_string)\n",
    "    return ', '.join(words)"
   ],
   "metadata": {
    "collapsed": false,
    "ExecuteTime": {
     "end_time": "2023-08-22T10:39:18.368732700Z",
     "start_time": "2023-08-22T10:39:18.342300900Z"
    }
   }
  },
  {
   "cell_type": "code",
   "execution_count": 113,
   "outputs": [],
   "source": [
    "df1['tags'] = df1['tags'].apply(separate_words_by_capitals)"
   ],
   "metadata": {
    "collapsed": false,
    "ExecuteTime": {
     "end_time": "2023-08-22T10:39:18.744641Z",
     "start_time": "2023-08-22T10:39:18.689759400Z"
    }
   }
  },
  {
   "cell_type": "code",
   "execution_count": 114,
   "outputs": [
    {
     "data": {
      "text/plain": "       id                              title  \\\n0  758323                The Pope's Exorcist   \n1  640146  Ant-Man and the Wasp: Quantumania   \n2  502356        The Super Mario Bros. Movie   \n3  868759                            Ghosted   \n4  594767           Shazam! Fury of the Gods   \n\n                                          genres original_language  \\\n0                      Horror, Mystery, Thriller           English   \n1             Action, Adventure, Science Fiction           English   \n2  Animation, Adventure, Family, Fantasy, Comedy           English   \n3                        Action, Comedy, Romance           English   \n4             Action, Comedy, Fantasy, Adventure           English   \n\n   vote_average  vote_count  popularity  \\\n0           7.4         619    5089.969   \n1           6.6        2294    4665.438   \n2           7.5        1861    3935.550   \n3           7.2         652    2791.532   \n4           6.8        1510    2702.593   \n\n                                production_companies  runtime  net_profit  \\\n0  Screen Gems, 2.0 Entertainment, Jesus & Mary, ...      103    47675816   \n1            Marvel Studios, Kevin Feige Productions      125   264566092   \n2         Universal Pictures, Illumination, Nintendo       92  1021048165   \n3                      Skydance Media, Apple Studios      120           0   \n4  New Line Cinema, The Safran Company, DC Films,...      130     8437105   \n\n                                                tags  \n0  Horror, Mystery, Thriller, English, Screen, Ge...  \n1  Action, Adventure, Science, Fiction, English, ...  \n2  Animation, Adventure, Family, Fantasy, Comedy,...  \n3  Action, Comedy, Romance, English, Skydance, Me...  \n4  Action, Comedy, Fantasy, Adventure, English, N...  ",
      "text/html": "<div>\n<style scoped>\n    .dataframe tbody tr th:only-of-type {\n        vertical-align: middle;\n    }\n\n    .dataframe tbody tr th {\n        vertical-align: top;\n    }\n\n    .dataframe thead th {\n        text-align: right;\n    }\n</style>\n<table border=\"1\" class=\"dataframe\">\n  <thead>\n    <tr style=\"text-align: right;\">\n      <th></th>\n      <th>id</th>\n      <th>title</th>\n      <th>genres</th>\n      <th>original_language</th>\n      <th>vote_average</th>\n      <th>vote_count</th>\n      <th>popularity</th>\n      <th>production_companies</th>\n      <th>runtime</th>\n      <th>net_profit</th>\n      <th>tags</th>\n    </tr>\n  </thead>\n  <tbody>\n    <tr>\n      <th>0</th>\n      <td>758323</td>\n      <td>The Pope's Exorcist</td>\n      <td>Horror, Mystery, Thriller</td>\n      <td>English</td>\n      <td>7.4</td>\n      <td>619</td>\n      <td>5089.969</td>\n      <td>Screen Gems, 2.0 Entertainment, Jesus &amp; Mary, ...</td>\n      <td>103</td>\n      <td>47675816</td>\n      <td>Horror, Mystery, Thriller, English, Screen, Ge...</td>\n    </tr>\n    <tr>\n      <th>1</th>\n      <td>640146</td>\n      <td>Ant-Man and the Wasp: Quantumania</td>\n      <td>Action, Adventure, Science Fiction</td>\n      <td>English</td>\n      <td>6.6</td>\n      <td>2294</td>\n      <td>4665.438</td>\n      <td>Marvel Studios, Kevin Feige Productions</td>\n      <td>125</td>\n      <td>264566092</td>\n      <td>Action, Adventure, Science, Fiction, English, ...</td>\n    </tr>\n    <tr>\n      <th>2</th>\n      <td>502356</td>\n      <td>The Super Mario Bros. Movie</td>\n      <td>Animation, Adventure, Family, Fantasy, Comedy</td>\n      <td>English</td>\n      <td>7.5</td>\n      <td>1861</td>\n      <td>3935.550</td>\n      <td>Universal Pictures, Illumination, Nintendo</td>\n      <td>92</td>\n      <td>1021048165</td>\n      <td>Animation, Adventure, Family, Fantasy, Comedy,...</td>\n    </tr>\n    <tr>\n      <th>3</th>\n      <td>868759</td>\n      <td>Ghosted</td>\n      <td>Action, Comedy, Romance</td>\n      <td>English</td>\n      <td>7.2</td>\n      <td>652</td>\n      <td>2791.532</td>\n      <td>Skydance Media, Apple Studios</td>\n      <td>120</td>\n      <td>0</td>\n      <td>Action, Comedy, Romance, English, Skydance, Me...</td>\n    </tr>\n    <tr>\n      <th>4</th>\n      <td>594767</td>\n      <td>Shazam! Fury of the Gods</td>\n      <td>Action, Comedy, Fantasy, Adventure</td>\n      <td>English</td>\n      <td>6.8</td>\n      <td>1510</td>\n      <td>2702.593</td>\n      <td>New Line Cinema, The Safran Company, DC Films,...</td>\n      <td>130</td>\n      <td>8437105</td>\n      <td>Action, Comedy, Fantasy, Adventure, English, N...</td>\n    </tr>\n  </tbody>\n</table>\n</div>"
     },
     "execution_count": 114,
     "metadata": {},
     "output_type": "execute_result"
    }
   ],
   "source": [
    "df1.head()"
   ],
   "metadata": {
    "collapsed": false,
    "ExecuteTime": {
     "end_time": "2023-08-22T10:39:19.113235800Z",
     "start_time": "2023-08-22T10:39:19.087304300Z"
    }
   }
  },
  {
   "cell_type": "code",
   "execution_count": 115,
   "outputs": [],
   "source": [
    "df1.drop(columns=['genres','production_companies','original_language'], inplace=True)"
   ],
   "metadata": {
    "collapsed": false,
    "ExecuteTime": {
     "end_time": "2023-08-22T10:39:55.657860400Z",
     "start_time": "2023-08-22T10:39:55.629930400Z"
    }
   }
  },
  {
   "cell_type": "code",
   "execution_count": 116,
   "outputs": [
    {
     "data": {
      "text/plain": "       id                              title  vote_average  vote_count  \\\n0  758323                The Pope's Exorcist           7.4         619   \n1  640146  Ant-Man and the Wasp: Quantumania           6.6        2294   \n2  502356        The Super Mario Bros. Movie           7.5        1861   \n3  868759                            Ghosted           7.2         652   \n4  594767           Shazam! Fury of the Gods           6.8        1510   \n\n   popularity  runtime  net_profit  \\\n0    5089.969      103    47675816   \n1    4665.438      125   264566092   \n2    3935.550       92  1021048165   \n3    2791.532      120           0   \n4    2702.593      130     8437105   \n\n                                                tags  \n0  Horror, Mystery, Thriller, English, Screen, Ge...  \n1  Action, Adventure, Science, Fiction, English, ...  \n2  Animation, Adventure, Family, Fantasy, Comedy,...  \n3  Action, Comedy, Romance, English, Skydance, Me...  \n4  Action, Comedy, Fantasy, Adventure, English, N...  ",
      "text/html": "<div>\n<style scoped>\n    .dataframe tbody tr th:only-of-type {\n        vertical-align: middle;\n    }\n\n    .dataframe tbody tr th {\n        vertical-align: top;\n    }\n\n    .dataframe thead th {\n        text-align: right;\n    }\n</style>\n<table border=\"1\" class=\"dataframe\">\n  <thead>\n    <tr style=\"text-align: right;\">\n      <th></th>\n      <th>id</th>\n      <th>title</th>\n      <th>vote_average</th>\n      <th>vote_count</th>\n      <th>popularity</th>\n      <th>runtime</th>\n      <th>net_profit</th>\n      <th>tags</th>\n    </tr>\n  </thead>\n  <tbody>\n    <tr>\n      <th>0</th>\n      <td>758323</td>\n      <td>The Pope's Exorcist</td>\n      <td>7.4</td>\n      <td>619</td>\n      <td>5089.969</td>\n      <td>103</td>\n      <td>47675816</td>\n      <td>Horror, Mystery, Thriller, English, Screen, Ge...</td>\n    </tr>\n    <tr>\n      <th>1</th>\n      <td>640146</td>\n      <td>Ant-Man and the Wasp: Quantumania</td>\n      <td>6.6</td>\n      <td>2294</td>\n      <td>4665.438</td>\n      <td>125</td>\n      <td>264566092</td>\n      <td>Action, Adventure, Science, Fiction, English, ...</td>\n    </tr>\n    <tr>\n      <th>2</th>\n      <td>502356</td>\n      <td>The Super Mario Bros. Movie</td>\n      <td>7.5</td>\n      <td>1861</td>\n      <td>3935.550</td>\n      <td>92</td>\n      <td>1021048165</td>\n      <td>Animation, Adventure, Family, Fantasy, Comedy,...</td>\n    </tr>\n    <tr>\n      <th>3</th>\n      <td>868759</td>\n      <td>Ghosted</td>\n      <td>7.2</td>\n      <td>652</td>\n      <td>2791.532</td>\n      <td>120</td>\n      <td>0</td>\n      <td>Action, Comedy, Romance, English, Skydance, Me...</td>\n    </tr>\n    <tr>\n      <th>4</th>\n      <td>594767</td>\n      <td>Shazam! Fury of the Gods</td>\n      <td>6.8</td>\n      <td>1510</td>\n      <td>2702.593</td>\n      <td>130</td>\n      <td>8437105</td>\n      <td>Action, Comedy, Fantasy, Adventure, English, N...</td>\n    </tr>\n  </tbody>\n</table>\n</div>"
     },
     "execution_count": 116,
     "metadata": {},
     "output_type": "execute_result"
    }
   ],
   "source": [
    "df1.head()"
   ],
   "metadata": {
    "collapsed": false,
    "ExecuteTime": {
     "end_time": "2023-08-22T10:39:58.975007400Z",
     "start_time": "2023-08-22T10:39:58.947970300Z"
    }
   }
  },
  {
   "cell_type": "code",
   "execution_count": null,
   "outputs": [],
   "source": [
    "import pandas as pd\n",
    "import numpy as np\n",
    "import matplotlib.pyplot as plt\n",
    "import seaborn as sns\n",
    "import os\n",
    "import ast\n",
    "from sklearn.feature_extraction.text import CountVectorizer\n",
    "from sklearn.metrics.pairwise import cosine_similarity"
   ],
   "metadata": {
    "collapsed": false
   }
  },
  {
   "cell_type": "code",
   "execution_count": 126,
   "outputs": [],
   "source": [
    "\n",
    "from sklearn.feature_extraction.text import CountVectorizer\n"
   ],
   "metadata": {
    "collapsed": false,
    "ExecuteTime": {
     "end_time": "2023-08-22T10:51:07.605137400Z",
     "start_time": "2023-08-22T10:51:07.416225200Z"
    }
   }
  },
  {
   "cell_type": "code",
   "execution_count": 127,
   "outputs": [
    {
     "data": {
      "text/plain": "(10000, 5000)"
     },
     "execution_count": 127,
     "metadata": {},
     "output_type": "execute_result"
    }
   ],
   "source": [
    "cv=CountVectorizer(max_features=5000,stop_words='english')\n",
    "vector=cv.fit_transform(df1['tags']).toarray()\n",
    "vector.shape"
   ],
   "metadata": {
    "collapsed": false,
    "ExecuteTime": {
     "end_time": "2023-08-22T10:51:23.786796100Z",
     "start_time": "2023-08-22T10:51:23.599186400Z"
    }
   }
  },
  {
   "cell_type": "code",
   "execution_count": 128,
   "outputs": [
    {
     "data": {
      "text/plain": "array([[1.        , 0.19069252, 0.09534626, ..., 0.42640143, 0.        ,\n        0.10050378],\n       [0.19069252, 1.        , 0.2       , ..., 0.1118034 , 0.        ,\n        0.10540926],\n       [0.09534626, 0.2       , 1.        , ..., 0.1118034 , 0.        ,\n        0.10540926],\n       ...,\n       [0.42640143, 0.1118034 , 0.1118034 , ..., 1.        , 0.        ,\n        0.11785113],\n       [0.        , 0.        , 0.        , ..., 0.        , 1.        ,\n        0.19245009],\n       [0.10050378, 0.10540926, 0.10540926, ..., 0.11785113, 0.19245009,\n        1.        ]])"
     },
     "execution_count": 128,
     "metadata": {},
     "output_type": "execute_result"
    }
   ],
   "source": [
    "similarity=cosine_similarity(vector)\n",
    "similarity"
   ],
   "metadata": {
    "collapsed": false,
    "ExecuteTime": {
     "end_time": "2023-08-22T10:51:50.692605Z",
     "start_time": "2023-08-22T10:51:47.265004400Z"
    }
   }
  },
  {
   "cell_type": "code",
   "execution_count": 134,
   "outputs": [],
   "source": [
    "def recommend(movie):\n",
    "    index=df1[df1['title']==movie].index[0]\n",
    "    distances=sorted(list(enumerate(similarity[index])),reverse=True,key=lambda x:x[1])\n",
    "    for i in distances[1:10]:\n",
    "        print(df1.iloc[i[0]].title)\n"
   ],
   "metadata": {
    "collapsed": false,
    "ExecuteTime": {
     "end_time": "2023-08-22T10:52:53.773747400Z",
     "start_time": "2023-08-22T10:52:53.747521900Z"
    }
   }
  },
  {
   "cell_type": "code",
   "execution_count": 135,
   "outputs": [
    {
     "name": "stdout",
     "output_type": "stream",
     "text": [
      "Christopher Robin\n",
      "Darby O'Gill and the Little People\n",
      "Tuck Everlasting\n",
      "Togo\n",
      "Maleficent\n",
      "Mighty Joe Young\n",
      "Beauty and the Beast\n",
      "Oz the Great and Powerful\n",
      "Olaf's Frozen Adventure\n"
     ]
    }
   ],
   "source": [
    "recommend('Aladdin')"
   ],
   "metadata": {
    "collapsed": false,
    "ExecuteTime": {
     "end_time": "2023-08-22T10:52:54.413411300Z",
     "start_time": "2023-08-22T10:52:54.373215200Z"
    }
   }
  },
  {
   "cell_type": "code",
   "execution_count": 117,
   "outputs": [],
   "source": [
    "from sklearn.preprocessing import StandardScaler"
   ],
   "metadata": {
    "collapsed": false,
    "ExecuteTime": {
     "end_time": "2023-08-22T10:42:36.424494900Z",
     "start_time": "2023-08-22T10:42:36.398461Z"
    }
   }
  },
  {
   "cell_type": "code",
   "execution_count": 122,
   "outputs": [
    {
     "name": "stderr",
     "output_type": "stream",
     "text": [
      "C:\\Users\\Richard\\Anaconda june 2023\\lib\\site-packages\\sklearn\\cluster\\_kmeans.py:870: FutureWarning: The default value of `n_init` will change from 10 to 'auto' in 1.4. Set the value of `n_init` explicitly to suppress the warning\n",
      "  warnings.warn(\n"
     ]
    },
    {
     "name": "stdout",
     "output_type": "stream",
     "text": [
      "                               title  popularity\n",
      "15      Puss in Boots: The Last Wish    1025.915\n",
      "24    Black Panther: Wakanda Forever     620.645\n",
      "37    Guardians of the Galaxy Vol. 2     492.950\n",
      "55            Thor: Love and Thunder     297.321\n",
      "64                 Top Gun: Maverick     277.473\n",
      "...                              ...         ...\n",
      "5250                          Ne Zha      16.684\n",
      "4047                           Moana      15.305\n",
      "5569                   The Boss Baby      15.231\n",
      "5971                         Jumanji      12.360\n",
      "7196         The Secret Life of Pets      11.553\n",
      "\n",
      "[394 rows x 2 columns]\n"
     ]
    }
   ],
   "source": [
    "# Select features for clustering\n",
    "selected_features = ['vote_average', 'vote_count', 'popularity', 'runtime', 'net_profit']\n",
    "data_subset = df1[selected_features]\n",
    "\n",
    "# Normalize features\n",
    "scaler = StandardScaler()\n",
    "data_scaled = scaler.fit_transform(data_subset)\n",
    "\n",
    "# Choose the number of clusters (K)\n",
    "num_clusters = 5\n",
    "\n",
    "# Apply K-means clustering\n",
    "kmeans = KMeans(n_clusters=num_clusters, random_state=0)\n",
    "df1['cluster'] = kmeans.fit_predict(data_scaled)\n",
    "\n",
    "# Get recommendations for a given movie\n",
    "def recommend_movies(movie_title):\n",
    "    cluster = df1[df1['title'] == movie_title]['cluster'].iloc[0]\n",
    "    recommended_movies = df1[df1['cluster'] == cluster]\n",
    "    recommended_movies = recommended_movies.sort_values(by='popularity', ascending=False)\n",
    "    return recommended_movies[['title', 'popularity']]\n",
    "\n",
    "# User inputs a movie title\n",
    "user_input_movie = \"Finding Nemo\"\n",
    "\n",
    "# Get recommendations for the user input movie\n",
    "recommendations = recommend_movies(user_input_movie)\n",
    "print(recommendations)"
   ],
   "metadata": {
    "collapsed": false,
    "ExecuteTime": {
     "end_time": "2023-08-22T10:48:19.045225100Z",
     "start_time": "2023-08-22T10:48:17.980824100Z"
    }
   }
  },
  {
   "cell_type": "code",
   "execution_count": 123,
   "outputs": [
    {
     "name": "stderr",
     "output_type": "stream",
     "text": [
      "C:\\Users\\Richard\\Anaconda june 2023\\lib\\site-packages\\sklearn\\cluster\\_kmeans.py:870: FutureWarning: The default value of `n_init` will change from 10 to 'auto' in 1.4. Set the value of `n_init` explicitly to suppress the warning\n",
      "  warnings.warn(\n"
     ]
    },
    {
     "name": "stdout",
     "output_type": "stream",
     "text": [
      "                                  title  popularity\n",
      "0                   The Pope's Exorcist    5089.969\n",
      "1     Ant-Man and the Wasp: Quantumania    4665.438\n",
      "2           The Super Mario Bros. Movie    3935.550\n",
      "3                               Ghosted    2791.532\n",
      "4              Shazam! Fury of the Gods    2702.593\n",
      "...                                 ...         ...\n",
      "9170                       Wolf Creek 3       7.462\n",
      "9217                   Behind the Trees       7.438\n",
      "9283                      Autumn Sonata       7.411\n",
      "9369                 Top Secret Pursuit       7.367\n",
      "9664                         Elena 1944       7.219\n",
      "\n",
      "[9989 rows x 2 columns]\n"
     ]
    }
   ],
   "source": [
    "import pandas as pd\n",
    "from sklearn.feature_extraction.text import TfidfVectorizer\n",
    "from sklearn.cluster import KMeans\n",
    "from sklearn.preprocessing import StandardScaler\n",
    "from scipy.sparse import hstack\n",
    "\n",
    "# Load and preprocess your dataset\n",
    "# ...\n",
    "\n",
    "# Text vectorization using TF-IDF\n",
    "tfidf_vectorizer = TfidfVectorizer()\n",
    "tags_tfidf = tfidf_vectorizer.fit_transform(df1['tags'])\n",
    "\n",
    "# Select numerical features for clustering\n",
    "selected_features = ['vote_average', 'vote_count', 'popularity', 'runtime', 'net_profit']\n",
    "numerical_features = df1[selected_features]\n",
    "\n",
    "# Concatenate numerical features with TF-IDF tags\n",
    "combined_features = hstack((numerical_features, tags_tfidf))\n",
    "\n",
    "# Normalize combined features\n",
    "scaler = StandardScaler()\n",
    "combined_features_scaled = scaler.fit_transform(combined_features.toarray())\n",
    "\n",
    "# Choose the number of clusters (K)\n",
    "num_clusters = 5\n",
    "\n",
    "# Apply K-means clustering\n",
    "kmeans = KMeans(n_clusters=num_clusters, random_state=0)\n",
    "df1['cluster'] = kmeans.fit_predict(combined_features_scaled)\n",
    "\n",
    "# Get recommendations for a given movie\n",
    "def recommend_movies(movie_title):\n",
    "    cluster = df1[df1['title'] == movie_title]['cluster'].iloc[0]\n",
    "    recommended_movies = df1[df1['cluster'] == cluster]\n",
    "    recommended_movies = recommended_movies.sort_values(by='popularity', ascending=False)\n",
    "    return recommended_movies[['title', 'popularity']]\n",
    "\n",
    "# User inputs a movie title\n",
    "user_input_movie = \"Wolf Creek 3\"\n",
    "\n",
    "# Get recommendations for the user input movie\n",
    "recommendations = recommend_movies(user_input_movie)\n",
    "print(recommendations)"
   ],
   "metadata": {
    "collapsed": false,
    "ExecuteTime": {
     "end_time": "2023-08-22T10:48:34.220665900Z",
     "start_time": "2023-08-22T10:48:27.537589300Z"
    }
   }
  },
  {
   "cell_type": "code",
   "execution_count": null,
   "outputs": [],
   "source": [],
   "metadata": {
    "collapsed": false
   }
  }
 ],
 "metadata": {
  "kernelspec": {
   "display_name": "Python 3",
   "language": "python",
   "name": "python3"
  },
  "language_info": {
   "codemirror_mode": {
    "name": "ipython",
    "version": 2
   },
   "file_extension": ".py",
   "mimetype": "text/x-python",
   "name": "python",
   "nbconvert_exporter": "python",
   "pygments_lexer": "ipython2",
   "version": "2.7.6"
  }
 },
 "nbformat": 4,
 "nbformat_minor": 0
}
