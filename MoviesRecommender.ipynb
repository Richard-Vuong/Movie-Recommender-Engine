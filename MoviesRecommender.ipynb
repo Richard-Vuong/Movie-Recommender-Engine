{
 "cells": [
  {
   "cell_type": "markdown",
   "source": [
    "# Movie Recommender with Python"
   ],
   "metadata": {
    "collapsed": false
   }
  },
  {
   "cell_type": "markdown",
   "source": [
    "#### DF Capstone Project\n",
    "##### Author: Richard V"
   ],
   "metadata": {
    "collapsed": false
   }
  },
  {
   "cell_type": "markdown",
   "source": [
    "### Importing Libraries"
   ],
   "metadata": {
    "collapsed": false
   }
  },
  {
   "cell_type": "code",
   "execution_count": 64,
   "metadata": {
    "collapsed": true,
    "ExecuteTime": {
     "end_time": "2023-08-24T20:28:34.080713700Z",
     "start_time": "2023-08-24T20:28:34.046803800Z"
    }
   },
   "outputs": [],
   "source": [
    "import pandas as pd\n",
    "from sklearn.metrics.pairwise import cosine_similarity\n",
    "from sklearn.preprocessing import MultiLabelBinarizer\n",
    "from sklearn.cluster import KMeans\n",
    "from sklearn.metrics import pairwise_distances_argmin_min\n",
    "from ast import literal_eval\n",
    "from itertools import chain\n",
    "import matplotlib.pyplot as plt\n",
    "# Visualize clusters (2D PCA for simplicity)\n",
    "from sklearn.decomposition import PCA\n",
    "import seaborn as sns\n"
   ]
  },
  {
   "cell_type": "markdown",
   "source": [
    "### Preprocessing the dataset\n",
    "Here I explore the dataset, handling any null values or errors within the dataset, look for any correlations between variables and formatting the dataset for modelling later on."
   ],
   "metadata": {
    "collapsed": false
   }
  },
  {
   "cell_type": "code",
   "execution_count": 3,
   "outputs": [],
   "source": [
    "df = pd.read_csv(\"10kmovies.csv\")"
   ],
   "metadata": {
    "collapsed": false,
    "ExecuteTime": {
     "end_time": "2023-08-24T20:18:20.332779100Z",
     "start_time": "2023-08-24T20:18:20.230477400Z"
    }
   }
  },
  {
   "cell_type": "code",
   "execution_count": 4,
   "outputs": [
    {
     "data": {
      "text/plain": "       id                              title release_date  \\\n0  758323                The Pope's Exorcist   2023-04-05   \n1  640146  Ant-Man and the Wasp: Quantumania   2023-02-15   \n2  502356        The Super Mario Bros. Movie   2023-04-05   \n3  868759                            Ghosted   2023-04-18   \n4  594767           Shazam! Fury of the Gods   2023-03-15   \n\n                                              genres original_language  \\\n0                  ['Horror', 'Mystery', 'Thriller']           English   \n1         ['Action', 'Adventure', 'Science Fiction']           English   \n2  ['Animation', 'Adventure', 'Family', 'Fantasy'...           English   \n3                    ['Action', 'Comedy', 'Romance']           English   \n4       ['Action', 'Comedy', 'Fantasy', 'Adventure']           English   \n\n   vote_average  vote_count  popularity  \\\n0           7.4         619    5089.969   \n1           6.6        2294    4665.438   \n2           7.5        1861    3935.550   \n3           7.2         652    2791.532   \n4           6.8        1510    2702.593   \n\n                                            overview     budget  \\\n0  Father Gabriele Amorth, Chief Exorcist of the ...   18000000   \n1  Super-Hero partners Scott Lang and Hope van Dy...  200000000   \n2  While working underground to fix a water main,...  100000000   \n3  Salt-of-the-earth Cole falls head over heels f...          0   \n4  Billy Batson and his foster siblings, who tran...  125000000   \n\n                                production_companies     revenue  runtime  \\\n0  ['Screen Gems', '2.0 Entertainment', 'Jesus & ...    65675816      103   \n1      ['Marvel Studios', 'Kevin Feige Productions']   464566092      125   \n2  ['Universal Pictures', 'Illumination', 'Ninten...  1121048165       92   \n3                ['Skydance Media', 'Apple Studios']           0      120   \n4  ['New Line Cinema', 'The Safran Company', 'DC ...   133437105      130   \n\n                                             tagline  \n0  Inspired by the actual files of Father Gabriel...  \n1            Witness the beginning of a new dynasty.  \n2                                                NaN  \n3  Finding that special someone can be a real adv...  \n4                                      Oh. My. Gods.  ",
      "text/html": "<div>\n<style scoped>\n    .dataframe tbody tr th:only-of-type {\n        vertical-align: middle;\n    }\n\n    .dataframe tbody tr th {\n        vertical-align: top;\n    }\n\n    .dataframe thead th {\n        text-align: right;\n    }\n</style>\n<table border=\"1\" class=\"dataframe\">\n  <thead>\n    <tr style=\"text-align: right;\">\n      <th></th>\n      <th>id</th>\n      <th>title</th>\n      <th>release_date</th>\n      <th>genres</th>\n      <th>original_language</th>\n      <th>vote_average</th>\n      <th>vote_count</th>\n      <th>popularity</th>\n      <th>overview</th>\n      <th>budget</th>\n      <th>production_companies</th>\n      <th>revenue</th>\n      <th>runtime</th>\n      <th>tagline</th>\n    </tr>\n  </thead>\n  <tbody>\n    <tr>\n      <th>0</th>\n      <td>758323</td>\n      <td>The Pope's Exorcist</td>\n      <td>2023-04-05</td>\n      <td>['Horror', 'Mystery', 'Thriller']</td>\n      <td>English</td>\n      <td>7.4</td>\n      <td>619</td>\n      <td>5089.969</td>\n      <td>Father Gabriele Amorth, Chief Exorcist of the ...</td>\n      <td>18000000</td>\n      <td>['Screen Gems', '2.0 Entertainment', 'Jesus &amp; ...</td>\n      <td>65675816</td>\n      <td>103</td>\n      <td>Inspired by the actual files of Father Gabriel...</td>\n    </tr>\n    <tr>\n      <th>1</th>\n      <td>640146</td>\n      <td>Ant-Man and the Wasp: Quantumania</td>\n      <td>2023-02-15</td>\n      <td>['Action', 'Adventure', 'Science Fiction']</td>\n      <td>English</td>\n      <td>6.6</td>\n      <td>2294</td>\n      <td>4665.438</td>\n      <td>Super-Hero partners Scott Lang and Hope van Dy...</td>\n      <td>200000000</td>\n      <td>['Marvel Studios', 'Kevin Feige Productions']</td>\n      <td>464566092</td>\n      <td>125</td>\n      <td>Witness the beginning of a new dynasty.</td>\n    </tr>\n    <tr>\n      <th>2</th>\n      <td>502356</td>\n      <td>The Super Mario Bros. Movie</td>\n      <td>2023-04-05</td>\n      <td>['Animation', 'Adventure', 'Family', 'Fantasy'...</td>\n      <td>English</td>\n      <td>7.5</td>\n      <td>1861</td>\n      <td>3935.550</td>\n      <td>While working underground to fix a water main,...</td>\n      <td>100000000</td>\n      <td>['Universal Pictures', 'Illumination', 'Ninten...</td>\n      <td>1121048165</td>\n      <td>92</td>\n      <td>NaN</td>\n    </tr>\n    <tr>\n      <th>3</th>\n      <td>868759</td>\n      <td>Ghosted</td>\n      <td>2023-04-18</td>\n      <td>['Action', 'Comedy', 'Romance']</td>\n      <td>English</td>\n      <td>7.2</td>\n      <td>652</td>\n      <td>2791.532</td>\n      <td>Salt-of-the-earth Cole falls head over heels f...</td>\n      <td>0</td>\n      <td>['Skydance Media', 'Apple Studios']</td>\n      <td>0</td>\n      <td>120</td>\n      <td>Finding that special someone can be a real adv...</td>\n    </tr>\n    <tr>\n      <th>4</th>\n      <td>594767</td>\n      <td>Shazam! Fury of the Gods</td>\n      <td>2023-03-15</td>\n      <td>['Action', 'Comedy', 'Fantasy', 'Adventure']</td>\n      <td>English</td>\n      <td>6.8</td>\n      <td>1510</td>\n      <td>2702.593</td>\n      <td>Billy Batson and his foster siblings, who tran...</td>\n      <td>125000000</td>\n      <td>['New Line Cinema', 'The Safran Company', 'DC ...</td>\n      <td>133437105</td>\n      <td>130</td>\n      <td>Oh. My. Gods.</td>\n    </tr>\n  </tbody>\n</table>\n</div>"
     },
     "execution_count": 4,
     "metadata": {},
     "output_type": "execute_result"
    }
   ],
   "source": [
    "df.head()"
   ],
   "metadata": {
    "collapsed": false,
    "ExecuteTime": {
     "end_time": "2023-08-24T20:18:20.381560800Z",
     "start_time": "2023-08-24T20:18:20.338845700Z"
    }
   }
  },
  {
   "cell_type": "code",
   "execution_count": 5,
   "outputs": [
    {
     "data": {
      "text/plain": "(10000, 14)"
     },
     "execution_count": 5,
     "metadata": {},
     "output_type": "execute_result"
    }
   ],
   "source": [
    "df.shape"
   ],
   "metadata": {
    "collapsed": false,
    "ExecuteTime": {
     "end_time": "2023-08-24T20:18:20.424564200Z",
     "start_time": "2023-08-24T20:18:20.366600600Z"
    }
   }
  },
  {
   "cell_type": "code",
   "execution_count": 6,
   "outputs": [
    {
     "data": {
      "text/plain": "id                         0\ntitle                      0\nrelease_date              21\ngenres                     0\noriginal_language          0\nvote_average               0\nvote_count                 0\npopularity                 0\noverview                  77\nbudget                     0\nproduction_companies       0\nrevenue                    0\nruntime                    0\ntagline                 2759\ndtype: int64"
     },
     "execution_count": 6,
     "metadata": {},
     "output_type": "execute_result"
    }
   ],
   "source": [
    "df.isnull().sum() #tagline,overview and release date have null values. Not interested in this so will drop them."
   ],
   "metadata": {
    "collapsed": false,
    "ExecuteTime": {
     "end_time": "2023-08-24T20:18:20.552225600Z",
     "start_time": "2023-08-24T20:18:20.383556Z"
    }
   }
  },
  {
   "cell_type": "code",
   "execution_count": 7,
   "outputs": [],
   "source": [
    "df.drop(columns = ['release_date','overview','tagline'], inplace = True) # Dropping the columns will null values."
   ],
   "metadata": {
    "collapsed": false,
    "ExecuteTime": {
     "end_time": "2023-08-24T20:18:20.552225600Z",
     "start_time": "2023-08-24T20:18:20.424564200Z"
    }
   }
  },
  {
   "cell_type": "code",
   "execution_count": 8,
   "outputs": [
    {
     "data": {
      "text/plain": "id                      0\ntitle                   0\ngenres                  0\noriginal_language       0\nvote_average            0\nvote_count              0\npopularity              0\nbudget                  0\nproduction_companies    0\nrevenue                 0\nruntime                 0\ndtype: int64"
     },
     "execution_count": 8,
     "metadata": {},
     "output_type": "execute_result"
    }
   ],
   "source": [
    "df.isnull().sum()"
   ],
   "metadata": {
    "collapsed": false,
    "ExecuteTime": {
     "end_time": "2023-08-24T20:18:20.553222100Z",
     "start_time": "2023-08-24T20:18:20.428556200Z"
    }
   }
  },
  {
   "cell_type": "code",
   "execution_count": 9,
   "outputs": [
    {
     "data": {
      "text/plain": "       id                              title  \\\n0  758323                The Pope's Exorcist   \n1  640146  Ant-Man and the Wasp: Quantumania   \n2  502356        The Super Mario Bros. Movie   \n3  868759                            Ghosted   \n4  594767           Shazam! Fury of the Gods   \n\n                                              genres original_language  \\\n0                  ['Horror', 'Mystery', 'Thriller']           English   \n1         ['Action', 'Adventure', 'Science Fiction']           English   \n2  ['Animation', 'Adventure', 'Family', 'Fantasy'...           English   \n3                    ['Action', 'Comedy', 'Romance']           English   \n4       ['Action', 'Comedy', 'Fantasy', 'Adventure']           English   \n\n   vote_average  vote_count  popularity     budget  \\\n0           7.4         619    5089.969   18000000   \n1           6.6        2294    4665.438  200000000   \n2           7.5        1861    3935.550  100000000   \n3           7.2         652    2791.532          0   \n4           6.8        1510    2702.593  125000000   \n\n                                production_companies     revenue  runtime  \n0  ['Screen Gems', '2.0 Entertainment', 'Jesus & ...    65675816      103  \n1      ['Marvel Studios', 'Kevin Feige Productions']   464566092      125  \n2  ['Universal Pictures', 'Illumination', 'Ninten...  1121048165       92  \n3                ['Skydance Media', 'Apple Studios']           0      120  \n4  ['New Line Cinema', 'The Safran Company', 'DC ...   133437105      130  ",
      "text/html": "<div>\n<style scoped>\n    .dataframe tbody tr th:only-of-type {\n        vertical-align: middle;\n    }\n\n    .dataframe tbody tr th {\n        vertical-align: top;\n    }\n\n    .dataframe thead th {\n        text-align: right;\n    }\n</style>\n<table border=\"1\" class=\"dataframe\">\n  <thead>\n    <tr style=\"text-align: right;\">\n      <th></th>\n      <th>id</th>\n      <th>title</th>\n      <th>genres</th>\n      <th>original_language</th>\n      <th>vote_average</th>\n      <th>vote_count</th>\n      <th>popularity</th>\n      <th>budget</th>\n      <th>production_companies</th>\n      <th>revenue</th>\n      <th>runtime</th>\n    </tr>\n  </thead>\n  <tbody>\n    <tr>\n      <th>0</th>\n      <td>758323</td>\n      <td>The Pope's Exorcist</td>\n      <td>['Horror', 'Mystery', 'Thriller']</td>\n      <td>English</td>\n      <td>7.4</td>\n      <td>619</td>\n      <td>5089.969</td>\n      <td>18000000</td>\n      <td>['Screen Gems', '2.0 Entertainment', 'Jesus &amp; ...</td>\n      <td>65675816</td>\n      <td>103</td>\n    </tr>\n    <tr>\n      <th>1</th>\n      <td>640146</td>\n      <td>Ant-Man and the Wasp: Quantumania</td>\n      <td>['Action', 'Adventure', 'Science Fiction']</td>\n      <td>English</td>\n      <td>6.6</td>\n      <td>2294</td>\n      <td>4665.438</td>\n      <td>200000000</td>\n      <td>['Marvel Studios', 'Kevin Feige Productions']</td>\n      <td>464566092</td>\n      <td>125</td>\n    </tr>\n    <tr>\n      <th>2</th>\n      <td>502356</td>\n      <td>The Super Mario Bros. Movie</td>\n      <td>['Animation', 'Adventure', 'Family', 'Fantasy'...</td>\n      <td>English</td>\n      <td>7.5</td>\n      <td>1861</td>\n      <td>3935.550</td>\n      <td>100000000</td>\n      <td>['Universal Pictures', 'Illumination', 'Ninten...</td>\n      <td>1121048165</td>\n      <td>92</td>\n    </tr>\n    <tr>\n      <th>3</th>\n      <td>868759</td>\n      <td>Ghosted</td>\n      <td>['Action', 'Comedy', 'Romance']</td>\n      <td>English</td>\n      <td>7.2</td>\n      <td>652</td>\n      <td>2791.532</td>\n      <td>0</td>\n      <td>['Skydance Media', 'Apple Studios']</td>\n      <td>0</td>\n      <td>120</td>\n    </tr>\n    <tr>\n      <th>4</th>\n      <td>594767</td>\n      <td>Shazam! Fury of the Gods</td>\n      <td>['Action', 'Comedy', 'Fantasy', 'Adventure']</td>\n      <td>English</td>\n      <td>6.8</td>\n      <td>1510</td>\n      <td>2702.593</td>\n      <td>125000000</td>\n      <td>['New Line Cinema', 'The Safran Company', 'DC ...</td>\n      <td>133437105</td>\n      <td>130</td>\n    </tr>\n  </tbody>\n</table>\n</div>"
     },
     "execution_count": 9,
     "metadata": {},
     "output_type": "execute_result"
    }
   ],
   "source": [
    "df.head()"
   ],
   "metadata": {
    "collapsed": false,
    "ExecuteTime": {
     "end_time": "2023-08-24T20:18:20.553222100Z",
     "start_time": "2023-08-24T20:18:20.444511300Z"
    }
   }
  },
  {
   "cell_type": "code",
   "execution_count": 10,
   "outputs": [
    {
     "data": {
      "text/plain": "(10000, 11)"
     },
     "execution_count": 10,
     "metadata": {},
     "output_type": "execute_result"
    }
   ],
   "source": [
    "df.shape"
   ],
   "metadata": {
    "collapsed": false,
    "ExecuteTime": {
     "end_time": "2023-08-24T20:18:20.554218700Z",
     "start_time": "2023-08-24T20:18:20.460469600Z"
    }
   }
  },
  {
   "cell_type": "code",
   "execution_count": 67,
   "outputs": [
    {
     "data": {
      "text/plain": "<Figure size 640x480 with 2 Axes>",
      "image/png": "[encoded data removed]"
     },
     "metadata": {},
     "output_type": "display_data"
    }
   ],
   "source": [
    "sns.heatmap(df.corr(numeric_only=True))\n",
    "plt.show()"
   ],
   "metadata": {
    "collapsed": false,
    "ExecuteTime": {
     "end_time": "2023-08-24T20:28:59.234542700Z",
     "start_time": "2023-08-24T20:28:58.999171Z"
    }
   }
  },
  {
   "cell_type": "code",
   "execution_count": 12,
   "outputs": [
    {
     "data": {
      "text/plain": "id                        int64\ntitle                    object\ngenres                   object\noriginal_language        object\nvote_average            float64\nvote_count                int64\npopularity              float64\nbudget                    int64\nproduction_companies     object\nrevenue                   int64\nruntime                   int64\ndtype: object"
     },
     "execution_count": 12,
     "metadata": {},
     "output_type": "execute_result"
    }
   ],
   "source": [
    "df.dtypes"
   ],
   "metadata": {
    "collapsed": false,
    "ExecuteTime": {
     "end_time": "2023-08-24T20:18:20.555216Z",
     "start_time": "2023-08-24T20:18:20.492383400Z"
    }
   }
  },
  {
   "cell_type": "code",
   "execution_count": 13,
   "outputs": [
    {
     "data": {
      "text/plain": "       id                              title  \\\n0  758323                The Pope's Exorcist   \n1  640146  Ant-Man and the Wasp: Quantumania   \n2  502356        The Super Mario Bros. Movie   \n3  868759                            Ghosted   \n4  594767           Shazam! Fury of the Gods   \n\n                                              genres original_language  \\\n0                  ['Horror', 'Mystery', 'Thriller']           English   \n1         ['Action', 'Adventure', 'Science Fiction']           English   \n2  ['Animation', 'Adventure', 'Family', 'Fantasy'...           English   \n3                    ['Action', 'Comedy', 'Romance']           English   \n4       ['Action', 'Comedy', 'Fantasy', 'Adventure']           English   \n\n   vote_average  vote_count  popularity     budget  \\\n0           7.4         619    5089.969   18000000   \n1           6.6        2294    4665.438  200000000   \n2           7.5        1861    3935.550  100000000   \n3           7.2         652    2791.532          0   \n4           6.8        1510    2702.593  125000000   \n\n                                production_companies     revenue  runtime  \n0  ['Screen Gems', '2.0 Entertainment', 'Jesus & ...    65675816      103  \n1      ['Marvel Studios', 'Kevin Feige Productions']   464566092      125  \n2  ['Universal Pictures', 'Illumination', 'Ninten...  1121048165       92  \n3                ['Skydance Media', 'Apple Studios']           0      120  \n4  ['New Line Cinema', 'The Safran Company', 'DC ...   133437105      130  ",
      "text/html": "<div>\n<style scoped>\n    .dataframe tbody tr th:only-of-type {\n        vertical-align: middle;\n    }\n\n    .dataframe tbody tr th {\n        vertical-align: top;\n    }\n\n    .dataframe thead th {\n        text-align: right;\n    }\n</style>\n<table border=\"1\" class=\"dataframe\">\n  <thead>\n    <tr style=\"text-align: right;\">\n      <th></th>\n      <th>id</th>\n      <th>title</th>\n      <th>genres</th>\n      <th>original_language</th>\n      <th>vote_average</th>\n      <th>vote_count</th>\n      <th>popularity</th>\n      <th>budget</th>\n      <th>production_companies</th>\n      <th>revenue</th>\n      <th>runtime</th>\n    </tr>\n  </thead>\n  <tbody>\n    <tr>\n      <th>0</th>\n      <td>758323</td>\n      <td>The Pope's Exorcist</td>\n      <td>['Horror', 'Mystery', 'Thriller']</td>\n      <td>English</td>\n      <td>7.4</td>\n      <td>619</td>\n      <td>5089.969</td>\n      <td>18000000</td>\n      <td>['Screen Gems', '2.0 Entertainment', 'Jesus &amp; ...</td>\n      <td>65675816</td>\n      <td>103</td>\n    </tr>\n    <tr>\n      <th>1</th>\n      <td>640146</td>\n      <td>Ant-Man and the Wasp: Quantumania</td>\n      <td>['Action', 'Adventure', 'Science Fiction']</td>\n      <td>English</td>\n      <td>6.6</td>\n      <td>2294</td>\n      <td>4665.438</td>\n      <td>200000000</td>\n      <td>['Marvel Studios', 'Kevin Feige Productions']</td>\n      <td>464566092</td>\n      <td>125</td>\n    </tr>\n    <tr>\n      <th>2</th>\n      <td>502356</td>\n      <td>The Super Mario Bros. Movie</td>\n      <td>['Animation', 'Adventure', 'Family', 'Fantasy'...</td>\n      <td>English</td>\n      <td>7.5</td>\n      <td>1861</td>\n      <td>3935.550</td>\n      <td>100000000</td>\n      <td>['Universal Pictures', 'Illumination', 'Ninten...</td>\n      <td>1121048165</td>\n      <td>92</td>\n    </tr>\n    <tr>\n      <th>3</th>\n      <td>868759</td>\n      <td>Ghosted</td>\n      <td>['Action', 'Comedy', 'Romance']</td>\n      <td>English</td>\n      <td>7.2</td>\n      <td>652</td>\n      <td>2791.532</td>\n      <td>0</td>\n      <td>['Skydance Media', 'Apple Studios']</td>\n      <td>0</td>\n      <td>120</td>\n    </tr>\n    <tr>\n      <th>4</th>\n      <td>594767</td>\n      <td>Shazam! Fury of the Gods</td>\n      <td>['Action', 'Comedy', 'Fantasy', 'Adventure']</td>\n      <td>English</td>\n      <td>6.8</td>\n      <td>1510</td>\n      <td>2702.593</td>\n      <td>125000000</td>\n      <td>['New Line Cinema', 'The Safran Company', 'DC ...</td>\n      <td>133437105</td>\n      <td>130</td>\n    </tr>\n  </tbody>\n</table>\n</div>"
     },
     "execution_count": 13,
     "metadata": {},
     "output_type": "execute_result"
    }
   ],
   "source": [
    "df.head()"
   ],
   "metadata": {
    "collapsed": false,
    "ExecuteTime": {
     "end_time": "2023-08-24T20:18:20.575162Z",
     "start_time": "2023-08-24T20:18:20.509338500Z"
    }
   }
  },
  {
   "cell_type": "code",
   "execution_count": 14,
   "outputs": [],
   "source": [
    "action_movies = df[df['genres'].str.contains('Action')] # will output rows with action genre in them"
   ],
   "metadata": {
    "collapsed": false,
    "ExecuteTime": {
     "end_time": "2023-08-24T20:18:20.576160300Z",
     "start_time": "2023-08-24T20:18:20.525296600Z"
    }
   }
  },
  {
   "cell_type": "code",
   "execution_count": 15,
   "outputs": [],
   "source": [
    "action_movies = df[df['genres'] == 'Action']# will output rows with ONLY action genre in them. - there are none."
   ],
   "metadata": {
    "collapsed": false,
    "ExecuteTime": {
     "end_time": "2023-08-24T20:18:20.576160300Z",
     "start_time": "2023-08-24T20:18:20.545242400Z"
    }
   }
  },
  {
   "cell_type": "code",
   "execution_count": 16,
   "outputs": [
    {
     "data": {
      "text/plain": "Empty DataFrame\nColumns: [id, title, genres, original_language, vote_average, vote_count, popularity, budget, production_companies, revenue, runtime]\nIndex: []",
      "text/html": "<div>\n<style scoped>\n    .dataframe tbody tr th:only-of-type {\n        vertical-align: middle;\n    }\n\n    .dataframe tbody tr th {\n        vertical-align: top;\n    }\n\n    .dataframe thead th {\n        text-align: right;\n    }\n</style>\n<table border=\"1\" class=\"dataframe\">\n  <thead>\n    <tr style=\"text-align: right;\">\n      <th></th>\n      <th>id</th>\n      <th>title</th>\n      <th>genres</th>\n      <th>original_language</th>\n      <th>vote_average</th>\n      <th>vote_count</th>\n      <th>popularity</th>\n      <th>budget</th>\n      <th>production_companies</th>\n      <th>revenue</th>\n      <th>runtime</th>\n    </tr>\n  </thead>\n  <tbody>\n  </tbody>\n</table>\n</div>"
     },
     "execution_count": 16,
     "metadata": {},
     "output_type": "execute_result"
    }
   ],
   "source": [
    "action_movies"
   ],
   "metadata": {
    "collapsed": false,
    "ExecuteTime": {
     "end_time": "2023-08-24T20:18:20.577157900Z",
     "start_time": "2023-08-24T20:18:20.555216Z"
    }
   }
  },
  {
   "cell_type": "code",
   "execution_count": 17,
   "outputs": [],
   "source": [
    "# Convert string representations to actual lists\n",
    "df['genres'] = df['genres'].apply(literal_eval)\n"
   ],
   "metadata": {
    "collapsed": false,
    "ExecuteTime": {
     "end_time": "2023-08-24T20:18:20.833335600Z",
     "start_time": "2023-08-24T20:18:20.571173300Z"
    }
   }
  },
  {
   "cell_type": "code",
   "execution_count": 18,
   "outputs": [
    {
     "data": {
      "text/plain": "       id                              title  \\\n0  758323                The Pope's Exorcist   \n1  640146  Ant-Man and the Wasp: Quantumania   \n2  502356        The Super Mario Bros. Movie   \n3  868759                            Ghosted   \n4  594767           Shazam! Fury of the Gods   \n\n                                            genres original_language  \\\n0                      [Horror, Mystery, Thriller]           English   \n1             [Action, Adventure, Science Fiction]           English   \n2  [Animation, Adventure, Family, Fantasy, Comedy]           English   \n3                        [Action, Comedy, Romance]           English   \n4             [Action, Comedy, Fantasy, Adventure]           English   \n\n   vote_average  vote_count  popularity     budget  \\\n0           7.4         619    5089.969   18000000   \n1           6.6        2294    4665.438  200000000   \n2           7.5        1861    3935.550  100000000   \n3           7.2         652    2791.532          0   \n4           6.8        1510    2702.593  125000000   \n\n                                production_companies     revenue  runtime  \n0  ['Screen Gems', '2.0 Entertainment', 'Jesus & ...    65675816      103  \n1      ['Marvel Studios', 'Kevin Feige Productions']   464566092      125  \n2  ['Universal Pictures', 'Illumination', 'Ninten...  1121048165       92  \n3                ['Skydance Media', 'Apple Studios']           0      120  \n4  ['New Line Cinema', 'The Safran Company', 'DC ...   133437105      130  ",
      "text/html": "<div>\n<style scoped>\n    .dataframe tbody tr th:only-of-type {\n        vertical-align: middle;\n    }\n\n    .dataframe tbody tr th {\n        vertical-align: top;\n    }\n\n    .dataframe thead th {\n        text-align: right;\n    }\n</style>\n<table border=\"1\" class=\"dataframe\">\n  <thead>\n    <tr style=\"text-align: right;\">\n      <th></th>\n      <th>id</th>\n      <th>title</th>\n      <th>genres</th>\n      <th>original_language</th>\n      <th>vote_average</th>\n      <th>vote_count</th>\n      <th>popularity</th>\n      <th>budget</th>\n      <th>production_companies</th>\n      <th>revenue</th>\n      <th>runtime</th>\n    </tr>\n  </thead>\n  <tbody>\n    <tr>\n      <th>0</th>\n      <td>758323</td>\n      <td>The Pope's Exorcist</td>\n      <td>[Horror, Mystery, Thriller]</td>\n      <td>English</td>\n      <td>7.4</td>\n      <td>619</td>\n      <td>5089.969</td>\n      <td>18000000</td>\n      <td>['Screen Gems', '2.0 Entertainment', 'Jesus &amp; ...</td>\n      <td>65675816</td>\n      <td>103</td>\n    </tr>\n    <tr>\n      <th>1</th>\n      <td>640146</td>\n      <td>Ant-Man and the Wasp: Quantumania</td>\n      <td>[Action, Adventure, Science Fiction]</td>\n      <td>English</td>\n      <td>6.6</td>\n      <td>2294</td>\n      <td>4665.438</td>\n      <td>200000000</td>\n      <td>['Marvel Studios', 'Kevin Feige Productions']</td>\n      <td>464566092</td>\n      <td>125</td>\n    </tr>\n    <tr>\n      <th>2</th>\n      <td>502356</td>\n      <td>The Super Mario Bros. Movie</td>\n      <td>[Animation, Adventure, Family, Fantasy, Comedy]</td>\n      <td>English</td>\n      <td>7.5</td>\n      <td>1861</td>\n      <td>3935.550</td>\n      <td>100000000</td>\n      <td>['Universal Pictures', 'Illumination', 'Ninten...</td>\n      <td>1121048165</td>\n      <td>92</td>\n    </tr>\n    <tr>\n      <th>3</th>\n      <td>868759</td>\n      <td>Ghosted</td>\n      <td>[Action, Comedy, Romance]</td>\n      <td>English</td>\n      <td>7.2</td>\n      <td>652</td>\n      <td>2791.532</td>\n      <td>0</td>\n      <td>['Skydance Media', 'Apple Studios']</td>\n      <td>0</td>\n      <td>120</td>\n    </tr>\n    <tr>\n      <th>4</th>\n      <td>594767</td>\n      <td>Shazam! Fury of the Gods</td>\n      <td>[Action, Comedy, Fantasy, Adventure]</td>\n      <td>English</td>\n      <td>6.8</td>\n      <td>1510</td>\n      <td>2702.593</td>\n      <td>125000000</td>\n      <td>['New Line Cinema', 'The Safran Company', 'DC ...</td>\n      <td>133437105</td>\n      <td>130</td>\n    </tr>\n  </tbody>\n</table>\n</div>"
     },
     "execution_count": 18,
     "metadata": {},
     "output_type": "execute_result"
    }
   ],
   "source": [
    "df.head()"
   ],
   "metadata": {
    "collapsed": false,
    "ExecuteTime": {
     "end_time": "2023-08-24T20:18:20.857270700Z",
     "start_time": "2023-08-24T20:18:20.687862700Z"
    }
   }
  },
  {
   "cell_type": "code",
   "execution_count": 19,
   "outputs": [
    {
     "name": "stdout",
     "output_type": "stream",
     "text": [
      "['Horror' 'Mystery' 'Thriller' 'Action' 'Adventure' 'Science Fiction'\n",
      " 'Animation' 'Family' 'Fantasy' 'Comedy' 'Romance' 'Drama' 'History' 'War'\n",
      " 'Crime' 'Music' 'Western' 'TV Movie' 'Documentary']\n"
     ]
    }
   ],
   "source": [
    "# Flatten the lists and convert to Series\n",
    "flattened_series = pd.Series(chain.from_iterable(df['genres']))\n",
    "\n",
    "# Get unique genres\n",
    "unique_genres = flattened_series.unique()\n",
    "\n",
    "print(unique_genres)"
   ],
   "metadata": {
    "collapsed": false,
    "ExecuteTime": {
     "end_time": "2023-08-24T20:18:20.887192400Z",
     "start_time": "2023-08-24T20:18:20.695813700Z"
    }
   }
  },
  {
   "cell_type": "code",
   "execution_count": 20,
   "outputs": [
    {
     "data": {
      "text/plain": "19"
     },
     "execution_count": 20,
     "metadata": {},
     "output_type": "execute_result"
    }
   ],
   "source": [
    "len(unique_genres) #This will be my k cluster number"
   ],
   "metadata": {
    "collapsed": false,
    "ExecuteTime": {
     "end_time": "2023-08-24T20:18:20.888188800Z",
     "start_time": "2023-08-24T20:18:20.711770700Z"
    }
   }
  },
  {
   "cell_type": "markdown",
   "source": [
    "### Basic Movie Recommender\n",
    "\n",
    "So the essential idea of my movie recommender is to generate a list of movies to the user based on their genre of interest."
   ],
   "metadata": {
    "collapsed": false
   }
  },
  {
   "cell_type": "code",
   "execution_count": 21,
   "outputs": [
    {
     "name": "stdout",
     "output_type": "stream",
     "text": [
      "Here are the list of genres. ['Horror' 'Mystery' 'Thriller' 'Action' 'Adventure' 'Science Fiction'\n",
      " 'Animation' 'Family' 'Fantasy' 'Comedy' 'Romance' 'Drama' 'History' 'War'\n",
      " 'Crime' 'Music' 'Western' 'TV Movie' 'Documentary']\n",
      "Great choice! Action is a popular genre.\n",
      "Exiting the program.\n"
     ]
    }
   ],
   "source": [
    "#Create a user prompt.\n",
    "print (f\"Here are the list of genres. {unique_genres}\")\n",
    "goi = [] #genres of interest\n",
    "str = \"\"\n",
    "while True:\n",
    "    user_genre = input(\"Please enter a genre of interest (or 'exit' to quit): \").capitalize().strip() # strip in case a user will enter white spaces by accident.\n",
    "\n",
    "    if user_genre == 'Exit':\n",
    "        print(\"Exiting the program.\")\n",
    "\n",
    "        break\n",
    "    elif user_genre in unique_genres:\n",
    "        print(f\"Great choice! {user_genre} is a popular genre.\")\n",
    "        str += user_genre\n",
    "        goi.append(user_genre)\n",
    "    else:\n",
    "        print(\"Sorry, that's not a valid genre. Please choose from the following genres:\")\n",
    "        print(', '.join(unique_genres))"
   ],
   "metadata": {
    "collapsed": false,
    "ExecuteTime": {
     "end_time": "2023-08-24T20:18:26.118645600Z",
     "start_time": "2023-08-24T20:18:20.741690800Z"
    }
   }
  },
  {
   "cell_type": "code",
   "execution_count": 22,
   "outputs": [],
   "source": [
    "# Convert list genres to string for TF-IDF vectorization later on but also to\n",
    "df['genres_str'] = df['genres'].apply(', '.join)"
   ],
   "metadata": {
    "collapsed": false,
    "ExecuteTime": {
     "end_time": "2023-08-24T20:18:26.119643800Z",
     "start_time": "2023-08-24T20:18:26.047252900Z"
    }
   }
  },
  {
   "cell_type": "code",
   "execution_count": 23,
   "outputs": [
    {
     "data": {
      "text/plain": "['Action']"
     },
     "execution_count": 23,
     "metadata": {},
     "output_type": "execute_result"
    }
   ],
   "source": [
    "goi #Our genres of interest from the user."
   ],
   "metadata": {
    "collapsed": false,
    "ExecuteTime": {
     "end_time": "2023-08-24T20:18:26.119643800Z",
     "start_time": "2023-08-24T20:18:26.063208800Z"
    }
   }
  },
  {
   "cell_type": "code",
   "execution_count": 24,
   "outputs": [],
   "source": [
    "# df.groupby('vote_average')['title','genres','vote_average'].head(100).sort_values('vote_average',ascending=False) ## checking how to use sort_values."
   ],
   "metadata": {
    "collapsed": false,
    "ExecuteTime": {
     "end_time": "2023-08-24T20:18:26.217409900Z",
     "start_time": "2023-08-24T20:18:26.078001900Z"
    }
   }
  },
  {
   "cell_type": "code",
   "execution_count": 25,
   "outputs": [
    {
     "name": "stdout",
     "output_type": "stream",
     "text": [
      "0          Guardians of the Galaxy Volume 3\n",
      "1                      John Wick: Chapter 4\n",
      "2                  Avatar: The Way of Water\n",
      "3                                 Creed III\n",
      "4    The Last Kingdom: Seven Kings Must Die\n",
      "5                                   Ghosted\n",
      "6                                       AKA\n",
      "7                  Shazam! Fury of the Gods\n",
      "8         Ant-Man and the Wasp: Quantumania\n",
      "9                         Peter Pan & Wendy\n",
      "Name: title, dtype: object\n"
     ]
    }
   ],
   "source": [
    "\n",
    "# Create a boolean mask using str.contains for each genre\n",
    "genre_masks = [df['genres_str'].str.contains(genre) for genre in goi]\n",
    "\n",
    "# Combine the masks using logical OR (|)\n",
    "combined_mask = pd.concat(genre_masks, axis=1).any(axis=1)\n",
    "\n",
    "# Apply the combined mask to filter the DataFrame\n",
    "filtered_df = df[combined_mask]\n",
    "#\n",
    "filter10 = filtered_df.head(10).sort_values('vote_average',ascending=False)\n",
    "\n",
    "filter10['title'].reset_index(drop=True, inplace=True)\n",
    "print(filter10['title'])"
   ],
   "metadata": {
    "collapsed": false,
    "ExecuteTime": {
     "end_time": "2023-08-24T20:18:26.228352900Z",
     "start_time": "2023-08-24T20:18:26.093710900Z"
    }
   }
  },
  {
   "cell_type": "code",
   "execution_count": 68,
   "outputs": [],
   "source": [
    "###Filtering Function\n",
    "\n",
    "def filter():\n",
    "    #Create a user prompt.\n",
    "    print (f\"Here are the list of genres. {unique_genres}\")\n",
    "    goi = [] #genres of interest\n",
    "    str = \"\"\n",
    "    while True:\n",
    "        user_genre = input(\"Please enter a genre of interest (or 'exit' to quit): \").capitalize().strip() # strip in case a user will enter white spaces by accident.\n",
    "\n",
    "        if user_genre == 'Exit':\n",
    "            print(\"Exiting the program.\")\n",
    "\n",
    "            break\n",
    "        elif user_genre in unique_genres:\n",
    "            print(f\"Great choice! {user_genre} is a popular genre.\")\n",
    "            str += user_genre\n",
    "            goi.append(user_genre)\n",
    "        else:\n",
    "            print(\"Sorry, that's not a valid genre. Please choose from the following genres:\")\n",
    "            print(', '.join(unique_genres))\n",
    "\n",
    "\n",
    "    # Create a boolean mask using str.contains for each genre\n",
    "    genre_masks = [df['genres_str'].str.contains(genre) for genre in goi]\n",
    "\n",
    "    # Combine the masks using logical OR (|)\n",
    "    combined_mask = pd.concat(genre_masks, axis=1).any(axis=1)\n",
    "\n",
    "    # Apply the combined mask to filter the DataFrame\n",
    "    filtered_df = df[combined_mask]\n",
    "    #\n",
    "    filter10 = filtered_df.head(10).sort_values('vote_average',ascending=False)\n",
    "\n",
    "    filter10['title'].reset_index(drop=True, inplace=True)\n",
    "    return print(filter10['title'])\n"
   ],
   "metadata": {
    "collapsed": false,
    "ExecuteTime": {
     "end_time": "2023-08-24T20:40:37.025624300Z",
     "start_time": "2023-08-24T20:40:36.964544100Z"
    }
   }
  },
  {
   "cell_type": "code",
   "execution_count": 72,
   "outputs": [
    {
     "name": "stdout",
     "output_type": "stream",
     "text": [
      "Here are the list of genres. ['Horror' 'Mystery' 'Thriller' 'Action' 'Adventure' 'Science Fiction'\n",
      " 'Animation' 'Family' 'Fantasy' 'Comedy' 'Romance' 'Drama' 'History' 'War'\n",
      " 'Crime' 'Music' 'Western' 'TV Movie' 'Documentary']\n",
      "Great choice! Mystery is a popular genre.\n",
      "Exiting the program.\n",
      "0                              The Batman\n",
      "1                     The Pope's Exorcist\n",
      "2                               Scream VI\n",
      "3                                Disquiet\n",
      "4                                   Smile\n",
      "5                                  Scream\n",
      "6    Batman: The Doom That Came to Gotham\n",
      "7                                   Clock\n",
      "8                  Invitation to a Murder\n",
      "9                 Huesera: The Bone Woman\n",
      "Name: title, dtype: object\n"
     ]
    }
   ],
   "source": [
    "filter()"
   ],
   "metadata": {
    "collapsed": false,
    "ExecuteTime": {
     "end_time": "2023-08-24T20:41:33.452336600Z",
     "start_time": "2023-08-24T20:41:28.747073800Z"
    }
   }
  },
  {
   "cell_type": "markdown",
   "source": [
    "### Applying Clustering\n",
    "Now that the basic idea of the movie recommender is created. How can we make a better movie recommender? What if we wanted to find movies similar to other movies rather than by genre? What if we were to include all the features we have such as vote_average, popularity, profit (revenue - budget), runtime, and production companies with genre this time?"
   ],
   "metadata": {
    "collapsed": false
   }
  },
  {
   "cell_type": "markdown",
   "source": [
    "##### Revamping the dataframe"
   ],
   "metadata": {
    "collapsed": false
   }
  },
  {
   "cell_type": "code",
   "execution_count": 26,
   "outputs": [],
   "source": [
    "df1 = df.copy()"
   ],
   "metadata": {
    "collapsed": false,
    "ExecuteTime": {
     "end_time": "2023-08-24T20:18:26.228352900Z",
     "start_time": "2023-08-24T20:18:26.109670Z"
    }
   }
  },
  {
   "cell_type": "code",
   "execution_count": 27,
   "outputs": [],
   "source": [
    "df1['genres'] = df1['genres'].apply(', '.join) # converting the lists of genres into strings.\n",
    "df1['production_companies'] = df1['production_companies'].apply(literal_eval) #Converting the column of list of strings (json like)into actual (python) lists\n",
    "df1['production_companies'] = df1['production_companies'].apply(', '.join) #converting the lists into strings"
   ],
   "metadata": {
    "collapsed": false,
    "ExecuteTime": {
     "end_time": "2023-08-24T20:18:26.328084900Z",
     "start_time": "2023-08-24T20:18:26.125625800Z"
    }
   }
  },
  {
   "cell_type": "code",
   "execution_count": 28,
   "outputs": [
    {
     "data": {
      "text/plain": "       id                              title  \\\n0  758323                The Pope's Exorcist   \n1  640146  Ant-Man and the Wasp: Quantumania   \n2  502356        The Super Mario Bros. Movie   \n3  868759                            Ghosted   \n4  594767           Shazam! Fury of the Gods   \n\n                                          genres original_language  \\\n0                      Horror, Mystery, Thriller           English   \n1             Action, Adventure, Science Fiction           English   \n2  Animation, Adventure, Family, Fantasy, Comedy           English   \n3                        Action, Comedy, Romance           English   \n4             Action, Comedy, Fantasy, Adventure           English   \n\n   vote_average  vote_count  popularity     budget  \\\n0           7.4         619    5089.969   18000000   \n1           6.6        2294    4665.438  200000000   \n2           7.5        1861    3935.550  100000000   \n3           7.2         652    2791.532          0   \n4           6.8        1510    2702.593  125000000   \n\n                                production_companies     revenue  runtime  \\\n0  Screen Gems, 2.0 Entertainment, Jesus & Mary, ...    65675816      103   \n1            Marvel Studios, Kevin Feige Productions   464566092      125   \n2         Universal Pictures, Illumination, Nintendo  1121048165       92   \n3                      Skydance Media, Apple Studios           0      120   \n4  New Line Cinema, The Safran Company, DC Films,...   133437105      130   \n\n                                      genres_str  \n0                      Horror, Mystery, Thriller  \n1             Action, Adventure, Science Fiction  \n2  Animation, Adventure, Family, Fantasy, Comedy  \n3                        Action, Comedy, Romance  \n4             Action, Comedy, Fantasy, Adventure  ",
      "text/html": "<div>\n<style scoped>\n    .dataframe tbody tr th:only-of-type {\n        vertical-align: middle;\n    }\n\n    .dataframe tbody tr th {\n        vertical-align: top;\n    }\n\n    .dataframe thead th {\n        text-align: right;\n    }\n</style>\n<table border=\"1\" class=\"dataframe\">\n  <thead>\n    <tr style=\"text-align: right;\">\n      <th></th>\n      <th>id</th>\n      <th>title</th>\n      <th>genres</th>\n      <th>original_language</th>\n      <th>vote_average</th>\n      <th>vote_count</th>\n      <th>popularity</th>\n      <th>budget</th>\n      <th>production_companies</th>\n      <th>revenue</th>\n      <th>runtime</th>\n      <th>genres_str</th>\n    </tr>\n  </thead>\n  <tbody>\n    <tr>\n      <th>0</th>\n      <td>758323</td>\n      <td>The Pope's Exorcist</td>\n      <td>Horror, Mystery, Thriller</td>\n      <td>English</td>\n      <td>7.4</td>\n      <td>619</td>\n      <td>5089.969</td>\n      <td>18000000</td>\n      <td>Screen Gems, 2.0 Entertainment, Jesus &amp; Mary, ...</td>\n      <td>65675816</td>\n      <td>103</td>\n      <td>Horror, Mystery, Thriller</td>\n    </tr>\n    <tr>\n      <th>1</th>\n      <td>640146</td>\n      <td>Ant-Man and the Wasp: Quantumania</td>\n      <td>Action, Adventure, Science Fiction</td>\n      <td>English</td>\n      <td>6.6</td>\n      <td>2294</td>\n      <td>4665.438</td>\n      <td>200000000</td>\n      <td>Marvel Studios, Kevin Feige Productions</td>\n      <td>464566092</td>\n      <td>125</td>\n      <td>Action, Adventure, Science Fiction</td>\n    </tr>\n    <tr>\n      <th>2</th>\n      <td>502356</td>\n      <td>The Super Mario Bros. Movie</td>\n      <td>Animation, Adventure, Family, Fantasy, Comedy</td>\n      <td>English</td>\n      <td>7.5</td>\n      <td>1861</td>\n      <td>3935.550</td>\n      <td>100000000</td>\n      <td>Universal Pictures, Illumination, Nintendo</td>\n      <td>1121048165</td>\n      <td>92</td>\n      <td>Animation, Adventure, Family, Fantasy, Comedy</td>\n    </tr>\n    <tr>\n      <th>3</th>\n      <td>868759</td>\n      <td>Ghosted</td>\n      <td>Action, Comedy, Romance</td>\n      <td>English</td>\n      <td>7.2</td>\n      <td>652</td>\n      <td>2791.532</td>\n      <td>0</td>\n      <td>Skydance Media, Apple Studios</td>\n      <td>0</td>\n      <td>120</td>\n      <td>Action, Comedy, Romance</td>\n    </tr>\n    <tr>\n      <th>4</th>\n      <td>594767</td>\n      <td>Shazam! Fury of the Gods</td>\n      <td>Action, Comedy, Fantasy, Adventure</td>\n      <td>English</td>\n      <td>6.8</td>\n      <td>1510</td>\n      <td>2702.593</td>\n      <td>125000000</td>\n      <td>New Line Cinema, The Safran Company, DC Films,...</td>\n      <td>133437105</td>\n      <td>130</td>\n      <td>Action, Comedy, Fantasy, Adventure</td>\n    </tr>\n  </tbody>\n</table>\n</div>"
     },
     "execution_count": 28,
     "metadata": {},
     "output_type": "execute_result"
    }
   ],
   "source": [
    "df1.head() #"
   ],
   "metadata": {
    "collapsed": false,
    "ExecuteTime": {
     "end_time": "2023-08-24T20:18:26.343044300Z",
     "start_time": "2023-08-24T20:18:26.330079700Z"
    }
   }
  },
  {
   "cell_type": "code",
   "execution_count": 29,
   "outputs": [],
   "source": [
    "#making a net profit feature\n",
    "df1['net_profit'] = df1['revenue'] - df1['budget']"
   ],
   "metadata": {
    "collapsed": false,
    "ExecuteTime": {
     "end_time": "2023-08-24T20:18:26.388921900Z",
     "start_time": "2023-08-24T20:18:26.343044300Z"
    }
   }
  },
  {
   "cell_type": "code",
   "execution_count": 30,
   "outputs": [
    {
     "data": {
      "text/plain": "       id                              title  \\\n0  758323                The Pope's Exorcist   \n1  640146  Ant-Man and the Wasp: Quantumania   \n2  502356        The Super Mario Bros. Movie   \n3  868759                            Ghosted   \n4  594767           Shazam! Fury of the Gods   \n\n                                          genres original_language  \\\n0                      Horror, Mystery, Thriller           English   \n1             Action, Adventure, Science Fiction           English   \n2  Animation, Adventure, Family, Fantasy, Comedy           English   \n3                        Action, Comedy, Romance           English   \n4             Action, Comedy, Fantasy, Adventure           English   \n\n   vote_average  vote_count  popularity     budget  \\\n0           7.4         619    5089.969   18000000   \n1           6.6        2294    4665.438  200000000   \n2           7.5        1861    3935.550  100000000   \n3           7.2         652    2791.532          0   \n4           6.8        1510    2702.593  125000000   \n\n                                production_companies     revenue  runtime  \\\n0  Screen Gems, 2.0 Entertainment, Jesus & Mary, ...    65675816      103   \n1            Marvel Studios, Kevin Feige Productions   464566092      125   \n2         Universal Pictures, Illumination, Nintendo  1121048165       92   \n3                      Skydance Media, Apple Studios           0      120   \n4  New Line Cinema, The Safran Company, DC Films,...   133437105      130   \n\n                                      genres_str  net_profit  \n0                      Horror, Mystery, Thriller    47675816  \n1             Action, Adventure, Science Fiction   264566092  \n2  Animation, Adventure, Family, Fantasy, Comedy  1021048165  \n3                        Action, Comedy, Romance           0  \n4             Action, Comedy, Fantasy, Adventure     8437105  ",
      "text/html": "<div>\n<style scoped>\n    .dataframe tbody tr th:only-of-type {\n        vertical-align: middle;\n    }\n\n    .dataframe tbody tr th {\n        vertical-align: top;\n    }\n\n    .dataframe thead th {\n        text-align: right;\n    }\n</style>\n<table border=\"1\" class=\"dataframe\">\n  <thead>\n    <tr style=\"text-align: right;\">\n      <th></th>\n      <th>id</th>\n      <th>title</th>\n      <th>genres</th>\n      <th>original_language</th>\n      <th>vote_average</th>\n      <th>vote_count</th>\n      <th>popularity</th>\n      <th>budget</th>\n      <th>production_companies</th>\n      <th>revenue</th>\n      <th>runtime</th>\n      <th>genres_str</th>\n      <th>net_profit</th>\n    </tr>\n  </thead>\n  <tbody>\n    <tr>\n      <th>0</th>\n      <td>758323</td>\n      <td>The Pope's Exorcist</td>\n      <td>Horror, Mystery, Thriller</td>\n      <td>English</td>\n      <td>7.4</td>\n      <td>619</td>\n      <td>5089.969</td>\n      <td>18000000</td>\n      <td>Screen Gems, 2.0 Entertainment, Jesus &amp; Mary, ...</td>\n      <td>65675816</td>\n      <td>103</td>\n      <td>Horror, Mystery, Thriller</td>\n      <td>47675816</td>\n    </tr>\n    <tr>\n      <th>1</th>\n      <td>640146</td>\n      <td>Ant-Man and the Wasp: Quantumania</td>\n      <td>Action, Adventure, Science Fiction</td>\n      <td>English</td>\n      <td>6.6</td>\n      <td>2294</td>\n      <td>4665.438</td>\n      <td>200000000</td>\n      <td>Marvel Studios, Kevin Feige Productions</td>\n      <td>464566092</td>\n      <td>125</td>\n      <td>Action, Adventure, Science Fiction</td>\n      <td>264566092</td>\n    </tr>\n    <tr>\n      <th>2</th>\n      <td>502356</td>\n      <td>The Super Mario Bros. Movie</td>\n      <td>Animation, Adventure, Family, Fantasy, Comedy</td>\n      <td>English</td>\n      <td>7.5</td>\n      <td>1861</td>\n      <td>3935.550</td>\n      <td>100000000</td>\n      <td>Universal Pictures, Illumination, Nintendo</td>\n      <td>1121048165</td>\n      <td>92</td>\n      <td>Animation, Adventure, Family, Fantasy, Comedy</td>\n      <td>1021048165</td>\n    </tr>\n    <tr>\n      <th>3</th>\n      <td>868759</td>\n      <td>Ghosted</td>\n      <td>Action, Comedy, Romance</td>\n      <td>English</td>\n      <td>7.2</td>\n      <td>652</td>\n      <td>2791.532</td>\n      <td>0</td>\n      <td>Skydance Media, Apple Studios</td>\n      <td>0</td>\n      <td>120</td>\n      <td>Action, Comedy, Romance</td>\n      <td>0</td>\n    </tr>\n    <tr>\n      <th>4</th>\n      <td>594767</td>\n      <td>Shazam! Fury of the Gods</td>\n      <td>Action, Comedy, Fantasy, Adventure</td>\n      <td>English</td>\n      <td>6.8</td>\n      <td>1510</td>\n      <td>2702.593</td>\n      <td>125000000</td>\n      <td>New Line Cinema, The Safran Company, DC Films,...</td>\n      <td>133437105</td>\n      <td>130</td>\n      <td>Action, Comedy, Fantasy, Adventure</td>\n      <td>8437105</td>\n    </tr>\n  </tbody>\n</table>\n</div>"
     },
     "execution_count": 30,
     "metadata": {},
     "output_type": "execute_result"
    }
   ],
   "source": [
    "df1.head()"
   ],
   "metadata": {
    "collapsed": false,
    "ExecuteTime": {
     "end_time": "2023-08-24T20:18:26.445769900Z",
     "start_time": "2023-08-24T20:18:26.359999600Z"
    }
   }
  },
  {
   "cell_type": "code",
   "execution_count": 31,
   "outputs": [],
   "source": [
    "#removing unnecessary columns\n",
    "df1.drop(columns = ['genres_str', 'budget','revenue'], inplace = True)\n"
   ],
   "metadata": {
    "collapsed": false,
    "ExecuteTime": {
     "end_time": "2023-08-24T20:18:26.445769900Z",
     "start_time": "2023-08-24T20:18:26.376954500Z"
    }
   }
  },
  {
   "cell_type": "code",
   "execution_count": 32,
   "outputs": [],
   "source": [
    "df1['tags'] = df1['genres'] + df1['original_language'] + df1['production_companies']"
   ],
   "metadata": {
    "collapsed": false,
    "ExecuteTime": {
     "end_time": "2023-08-24T20:18:26.475691800Z",
     "start_time": "2023-08-24T20:18:26.392911700Z"
    }
   }
  },
  {
   "cell_type": "code",
   "execution_count": 33,
   "outputs": [
    {
     "data": {
      "text/plain": "       id                              title  \\\n0  758323                The Pope's Exorcist   \n1  640146  Ant-Man and the Wasp: Quantumania   \n2  502356        The Super Mario Bros. Movie   \n3  868759                            Ghosted   \n4  594767           Shazam! Fury of the Gods   \n\n                                          genres original_language  \\\n0                      Horror, Mystery, Thriller           English   \n1             Action, Adventure, Science Fiction           English   \n2  Animation, Adventure, Family, Fantasy, Comedy           English   \n3                        Action, Comedy, Romance           English   \n4             Action, Comedy, Fantasy, Adventure           English   \n\n   vote_average  vote_count  popularity  \\\n0           7.4         619    5089.969   \n1           6.6        2294    4665.438   \n2           7.5        1861    3935.550   \n3           7.2         652    2791.532   \n4           6.8        1510    2702.593   \n\n                                production_companies  runtime  net_profit  \\\n0  Screen Gems, 2.0 Entertainment, Jesus & Mary, ...      103    47675816   \n1            Marvel Studios, Kevin Feige Productions      125   264566092   \n2         Universal Pictures, Illumination, Nintendo       92  1021048165   \n3                      Skydance Media, Apple Studios      120           0   \n4  New Line Cinema, The Safran Company, DC Films,...      130     8437105   \n\n                                                tags  \n0  Horror, Mystery, ThrillerEnglishScreen Gems, 2...  \n1  Action, Adventure, Science FictionEnglishMarve...  \n2  Animation, Adventure, Family, Fantasy, ComedyE...  \n3  Action, Comedy, RomanceEnglishSkydance Media, ...  \n4  Action, Comedy, Fantasy, AdventureEnglishNew L...  ",
      "text/html": "<div>\n<style scoped>\n    .dataframe tbody tr th:only-of-type {\n        vertical-align: middle;\n    }\n\n    .dataframe tbody tr th {\n        vertical-align: top;\n    }\n\n    .dataframe thead th {\n        text-align: right;\n    }\n</style>\n<table border=\"1\" class=\"dataframe\">\n  <thead>\n    <tr style=\"text-align: right;\">\n      <th></th>\n      <th>id</th>\n      <th>title</th>\n      <th>genres</th>\n      <th>original_language</th>\n      <th>vote_average</th>\n      <th>vote_count</th>\n      <th>popularity</th>\n      <th>production_companies</th>\n      <th>runtime</th>\n      <th>net_profit</th>\n      <th>tags</th>\n    </tr>\n  </thead>\n  <tbody>\n    <tr>\n      <th>0</th>\n      <td>758323</td>\n      <td>The Pope's Exorcist</td>\n      <td>Horror, Mystery, Thriller</td>\n      <td>English</td>\n      <td>7.4</td>\n      <td>619</td>\n      <td>5089.969</td>\n      <td>Screen Gems, 2.0 Entertainment, Jesus &amp; Mary, ...</td>\n      <td>103</td>\n      <td>47675816</td>\n      <td>Horror, Mystery, ThrillerEnglishScreen Gems, 2...</td>\n    </tr>\n    <tr>\n      <th>1</th>\n      <td>640146</td>\n      <td>Ant-Man and the Wasp: Quantumania</td>\n      <td>Action, Adventure, Science Fiction</td>\n      <td>English</td>\n      <td>6.6</td>\n      <td>2294</td>\n      <td>4665.438</td>\n      <td>Marvel Studios, Kevin Feige Productions</td>\n      <td>125</td>\n      <td>264566092</td>\n      <td>Action, Adventure, Science FictionEnglishMarve...</td>\n    </tr>\n    <tr>\n      <th>2</th>\n      <td>502356</td>\n      <td>The Super Mario Bros. Movie</td>\n      <td>Animation, Adventure, Family, Fantasy, Comedy</td>\n      <td>English</td>\n      <td>7.5</td>\n      <td>1861</td>\n      <td>3935.550</td>\n      <td>Universal Pictures, Illumination, Nintendo</td>\n      <td>92</td>\n      <td>1021048165</td>\n      <td>Animation, Adventure, Family, Fantasy, ComedyE...</td>\n    </tr>\n    <tr>\n      <th>3</th>\n      <td>868759</td>\n      <td>Ghosted</td>\n      <td>Action, Comedy, Romance</td>\n      <td>English</td>\n      <td>7.2</td>\n      <td>652</td>\n      <td>2791.532</td>\n      <td>Skydance Media, Apple Studios</td>\n      <td>120</td>\n      <td>0</td>\n      <td>Action, Comedy, RomanceEnglishSkydance Media, ...</td>\n    </tr>\n    <tr>\n      <th>4</th>\n      <td>594767</td>\n      <td>Shazam! Fury of the Gods</td>\n      <td>Action, Comedy, Fantasy, Adventure</td>\n      <td>English</td>\n      <td>6.8</td>\n      <td>1510</td>\n      <td>2702.593</td>\n      <td>New Line Cinema, The Safran Company, DC Films,...</td>\n      <td>130</td>\n      <td>8437105</td>\n      <td>Action, Comedy, Fantasy, AdventureEnglishNew L...</td>\n    </tr>\n  </tbody>\n</table>\n</div>"
     },
     "execution_count": 33,
     "metadata": {},
     "output_type": "execute_result"
    }
   ],
   "source": [
    "df1.head()"
   ],
   "metadata": {
    "collapsed": false,
    "ExecuteTime": {
     "end_time": "2023-08-24T20:18:26.518575500Z",
     "start_time": "2023-08-24T20:18:26.420836500Z"
    }
   }
  },
  {
   "cell_type": "code",
   "execution_count": 34,
   "outputs": [],
   "source": [
    "import re\n",
    "\n",
    "def separate_words_by_capitals(input_string):\n",
    "    # Use regular expression to split words by two consecutive capital letters\n",
    "    words = re.findall('[A-Z]{2}(?=[a-z])|[A-Z][a-z]*', input_string)\n",
    "    return ', '.join(words)"
   ],
   "metadata": {
    "collapsed": false,
    "ExecuteTime": {
     "end_time": "2023-08-24T20:18:26.518575500Z",
     "start_time": "2023-08-24T20:18:26.424826900Z"
    }
   }
  },
  {
   "cell_type": "code",
   "execution_count": 35,
   "outputs": [],
   "source": [
    "df1['tags'] = df1['tags'].apply(separate_words_by_capitals)"
   ],
   "metadata": {
    "collapsed": false,
    "ExecuteTime": {
     "end_time": "2023-08-24T20:18:26.560492200Z",
     "start_time": "2023-08-24T20:18:26.440784900Z"
    }
   }
  },
  {
   "cell_type": "code",
   "execution_count": 36,
   "outputs": [
    {
     "data": {
      "text/plain": "       id                              title  \\\n0  758323                The Pope's Exorcist   \n1  640146  Ant-Man and the Wasp: Quantumania   \n2  502356        The Super Mario Bros. Movie   \n3  868759                            Ghosted   \n4  594767           Shazam! Fury of the Gods   \n\n                                          genres original_language  \\\n0                      Horror, Mystery, Thriller           English   \n1             Action, Adventure, Science Fiction           English   \n2  Animation, Adventure, Family, Fantasy, Comedy           English   \n3                        Action, Comedy, Romance           English   \n4             Action, Comedy, Fantasy, Adventure           English   \n\n   vote_average  vote_count  popularity  \\\n0           7.4         619    5089.969   \n1           6.6        2294    4665.438   \n2           7.5        1861    3935.550   \n3           7.2         652    2791.532   \n4           6.8        1510    2702.593   \n\n                                production_companies  runtime  net_profit  \\\n0  Screen Gems, 2.0 Entertainment, Jesus & Mary, ...      103    47675816   \n1            Marvel Studios, Kevin Feige Productions      125   264566092   \n2         Universal Pictures, Illumination, Nintendo       92  1021048165   \n3                      Skydance Media, Apple Studios      120           0   \n4  New Line Cinema, The Safran Company, DC Films,...      130     8437105   \n\n                                                tags  \n0  Horror, Mystery, Thriller, English, Screen, Ge...  \n1  Action, Adventure, Science, Fiction, English, ...  \n2  Animation, Adventure, Family, Fantasy, Comedy,...  \n3  Action, Comedy, Romance, English, Skydance, Me...  \n4  Action, Comedy, Fantasy, Adventure, English, N...  ",
      "text/html": "<div>\n<style scoped>\n    .dataframe tbody tr th:only-of-type {\n        vertical-align: middle;\n    }\n\n    .dataframe tbody tr th {\n        vertical-align: top;\n    }\n\n    .dataframe thead th {\n        text-align: right;\n    }\n</style>\n<table border=\"1\" class=\"dataframe\">\n  <thead>\n    <tr style=\"text-align: right;\">\n      <th></th>\n      <th>id</th>\n      <th>title</th>\n      <th>genres</th>\n      <th>original_language</th>\n      <th>vote_average</th>\n      <th>vote_count</th>\n      <th>popularity</th>\n      <th>production_companies</th>\n      <th>runtime</th>\n      <th>net_profit</th>\n      <th>tags</th>\n    </tr>\n  </thead>\n  <tbody>\n    <tr>\n      <th>0</th>\n      <td>758323</td>\n      <td>The Pope's Exorcist</td>\n      <td>Horror, Mystery, Thriller</td>\n      <td>English</td>\n      <td>7.4</td>\n      <td>619</td>\n      <td>5089.969</td>\n      <td>Screen Gems, 2.0 Entertainment, Jesus &amp; Mary, ...</td>\n      <td>103</td>\n      <td>47675816</td>\n      <td>Horror, Mystery, Thriller, English, Screen, Ge...</td>\n    </tr>\n    <tr>\n      <th>1</th>\n      <td>640146</td>\n      <td>Ant-Man and the Wasp: Quantumania</td>\n      <td>Action, Adventure, Science Fiction</td>\n      <td>English</td>\n      <td>6.6</td>\n      <td>2294</td>\n      <td>4665.438</td>\n      <td>Marvel Studios, Kevin Feige Productions</td>\n      <td>125</td>\n      <td>264566092</td>\n      <td>Action, Adventure, Science, Fiction, English, ...</td>\n    </tr>\n    <tr>\n      <th>2</th>\n      <td>502356</td>\n      <td>The Super Mario Bros. Movie</td>\n      <td>Animation, Adventure, Family, Fantasy, Comedy</td>\n      <td>English</td>\n      <td>7.5</td>\n      <td>1861</td>\n      <td>3935.550</td>\n      <td>Universal Pictures, Illumination, Nintendo</td>\n      <td>92</td>\n      <td>1021048165</td>\n      <td>Animation, Adventure, Family, Fantasy, Comedy,...</td>\n    </tr>\n    <tr>\n      <th>3</th>\n      <td>868759</td>\n      <td>Ghosted</td>\n      <td>Action, Comedy, Romance</td>\n      <td>English</td>\n      <td>7.2</td>\n      <td>652</td>\n      <td>2791.532</td>\n      <td>Skydance Media, Apple Studios</td>\n      <td>120</td>\n      <td>0</td>\n      <td>Action, Comedy, Romance, English, Skydance, Me...</td>\n    </tr>\n    <tr>\n      <th>4</th>\n      <td>594767</td>\n      <td>Shazam! Fury of the Gods</td>\n      <td>Action, Comedy, Fantasy, Adventure</td>\n      <td>English</td>\n      <td>6.8</td>\n      <td>1510</td>\n      <td>2702.593</td>\n      <td>New Line Cinema, The Safran Company, DC Films,...</td>\n      <td>130</td>\n      <td>8437105</td>\n      <td>Action, Comedy, Fantasy, Adventure, English, N...</td>\n    </tr>\n  </tbody>\n</table>\n</div>"
     },
     "execution_count": 36,
     "metadata": {},
     "output_type": "execute_result"
    }
   ],
   "source": [
    "df1.head()"
   ],
   "metadata": {
    "collapsed": false,
    "ExecuteTime": {
     "end_time": "2023-08-24T20:18:26.586395600Z",
     "start_time": "2023-08-24T20:18:26.503616900Z"
    }
   }
  },
  {
   "cell_type": "code",
   "execution_count": 37,
   "outputs": [],
   "source": [
    "df1.drop(columns=['genres','production_companies','original_language'], inplace=True)"
   ],
   "metadata": {
    "collapsed": false,
    "ExecuteTime": {
     "end_time": "2023-08-24T20:18:26.588392Z",
     "start_time": "2023-08-24T20:18:26.517577900Z"
    }
   }
  },
  {
   "cell_type": "code",
   "execution_count": 38,
   "outputs": [
    {
     "data": {
      "text/plain": "       id                              title  vote_average  vote_count  \\\n0  758323                The Pope's Exorcist           7.4         619   \n1  640146  Ant-Man and the Wasp: Quantumania           6.6        2294   \n2  502356        The Super Mario Bros. Movie           7.5        1861   \n3  868759                            Ghosted           7.2         652   \n4  594767           Shazam! Fury of the Gods           6.8        1510   \n\n   popularity  runtime  net_profit  \\\n0    5089.969      103    47675816   \n1    4665.438      125   264566092   \n2    3935.550       92  1021048165   \n3    2791.532      120           0   \n4    2702.593      130     8437105   \n\n                                                tags  \n0  Horror, Mystery, Thriller, English, Screen, Ge...  \n1  Action, Adventure, Science, Fiction, English, ...  \n2  Animation, Adventure, Family, Fantasy, Comedy,...  \n3  Action, Comedy, Romance, English, Skydance, Me...  \n4  Action, Comedy, Fantasy, Adventure, English, N...  ",
      "text/html": "<div>\n<style scoped>\n    .dataframe tbody tr th:only-of-type {\n        vertical-align: middle;\n    }\n\n    .dataframe tbody tr th {\n        vertical-align: top;\n    }\n\n    .dataframe thead th {\n        text-align: right;\n    }\n</style>\n<table border=\"1\" class=\"dataframe\">\n  <thead>\n    <tr style=\"text-align: right;\">\n      <th></th>\n      <th>id</th>\n      <th>title</th>\n      <th>vote_average</th>\n      <th>vote_count</th>\n      <th>popularity</th>\n      <th>runtime</th>\n      <th>net_profit</th>\n      <th>tags</th>\n    </tr>\n  </thead>\n  <tbody>\n    <tr>\n      <th>0</th>\n      <td>758323</td>\n      <td>The Pope's Exorcist</td>\n      <td>7.4</td>\n      <td>619</td>\n      <td>5089.969</td>\n      <td>103</td>\n      <td>47675816</td>\n      <td>Horror, Mystery, Thriller, English, Screen, Ge...</td>\n    </tr>\n    <tr>\n      <th>1</th>\n      <td>640146</td>\n      <td>Ant-Man and the Wasp: Quantumania</td>\n      <td>6.6</td>\n      <td>2294</td>\n      <td>4665.438</td>\n      <td>125</td>\n      <td>264566092</td>\n      <td>Action, Adventure, Science, Fiction, English, ...</td>\n    </tr>\n    <tr>\n      <th>2</th>\n      <td>502356</td>\n      <td>The Super Mario Bros. Movie</td>\n      <td>7.5</td>\n      <td>1861</td>\n      <td>3935.550</td>\n      <td>92</td>\n      <td>1021048165</td>\n      <td>Animation, Adventure, Family, Fantasy, Comedy,...</td>\n    </tr>\n    <tr>\n      <th>3</th>\n      <td>868759</td>\n      <td>Ghosted</td>\n      <td>7.2</td>\n      <td>652</td>\n      <td>2791.532</td>\n      <td>120</td>\n      <td>0</td>\n      <td>Action, Comedy, Romance, English, Skydance, Me...</td>\n    </tr>\n    <tr>\n      <th>4</th>\n      <td>594767</td>\n      <td>Shazam! Fury of the Gods</td>\n      <td>6.8</td>\n      <td>1510</td>\n      <td>2702.593</td>\n      <td>130</td>\n      <td>8437105</td>\n      <td>Action, Comedy, Fantasy, Adventure, English, N...</td>\n    </tr>\n  </tbody>\n</table>\n</div>"
     },
     "execution_count": 38,
     "metadata": {},
     "output_type": "execute_result"
    }
   ],
   "source": [
    "df1.head()"
   ],
   "metadata": {
    "collapsed": false,
    "ExecuteTime": {
     "end_time": "2023-08-24T20:18:26.657872500Z",
     "start_time": "2023-08-24T20:18:26.539519700Z"
    }
   }
  },
  {
   "cell_type": "code",
   "execution_count": 39,
   "outputs": [],
   "source": [
    "df1['title'] = df1['title'].str.strip()## getting rid of any unnecssary white spaces"
   ],
   "metadata": {
    "collapsed": false,
    "ExecuteTime": {
     "end_time": "2023-08-24T20:18:26.658869600Z",
     "start_time": "2023-08-24T20:18:26.560492200Z"
    }
   }
  },
  {
   "cell_type": "code",
   "execution_count": 40,
   "outputs": [],
   "source": [
    "import pandas as pd\n",
    "import numpy as np\n",
    "import matplotlib.pyplot as plt\n",
    "import seaborn as sns\n",
    "import os\n",
    "import ast\n",
    "from sklearn.feature_extraction.text import CountVectorizer\n",
    "from sklearn.metrics.pairwise import cosine_similarity"
   ],
   "metadata": {
    "collapsed": false,
    "ExecuteTime": {
     "end_time": "2023-08-24T20:18:26.687792600Z",
     "start_time": "2023-08-24T20:18:26.564452900Z"
    }
   }
  },
  {
   "cell_type": "code",
   "execution_count": 41,
   "outputs": [
    {
     "name": "stdout",
     "output_type": "stream",
     "text": [
      "8420\n"
     ]
    }
   ],
   "source": [
    "# Extract all words from the 'tags' column\n",
    "all_words = ' '.join(df1['tags']).split()\n",
    "\n",
    "# Create a set of unique words\n",
    "unique_words_set = set(all_words)\n",
    "\n",
    "# Calculate the total number of unique words\n",
    "total_unique_words = len(unique_words_set)\n",
    "\n",
    "print(total_unique_words) # set as our max features"
   ],
   "metadata": {
    "collapsed": false,
    "ExecuteTime": {
     "end_time": "2023-08-24T20:18:26.783536100Z",
     "start_time": "2023-08-24T20:18:26.627285Z"
    }
   }
  },
  {
   "cell_type": "code",
   "execution_count": 42,
   "outputs": [],
   "source": [
    "\n",
    "from sklearn.feature_extraction.text import CountVectorizer\n"
   ],
   "metadata": {
    "collapsed": false,
    "ExecuteTime": {
     "end_time": "2023-08-24T20:18:26.798497100Z",
     "start_time": "2023-08-24T20:18:26.647899100Z"
    }
   }
  },
  {
   "cell_type": "code",
   "execution_count": 43,
   "outputs": [
    {
     "data": {
      "text/plain": "(10000, 7590)"
     },
     "execution_count": 43,
     "metadata": {},
     "output_type": "execute_result"
    }
   ],
   "source": [
    "cv=CountVectorizer(max_features=8420,stop_words='english')\n",
    "vector=cv.fit_transform(df1['tags']).toarray()\n",
    "vector.shape"
   ],
   "metadata": {
    "collapsed": false,
    "ExecuteTime": {
     "end_time": "2023-08-24T20:18:26.992004100Z",
     "start_time": "2023-08-24T20:18:26.658869600Z"
    }
   }
  },
  {
   "cell_type": "code",
   "execution_count": 44,
   "outputs": [
    {
     "data": {
      "text/plain": "array([[1.        , 0.1754116 , 0.0877058 , ..., 0.39223227, 0.        ,\n        0.09245003],\n       [0.1754116 , 1.        , 0.2       , ..., 0.1118034 , 0.        ,\n        0.10540926],\n       [0.0877058 , 0.2       , 1.        , ..., 0.1118034 , 0.        ,\n        0.10540926],\n       ...,\n       [0.39223227, 0.1118034 , 0.1118034 , ..., 1.        , 0.        ,\n        0.11785113],\n       [0.        , 0.        , 0.        , ..., 0.        , 1.        ,\n        0.19245009],\n       [0.09245003, 0.10540926, 0.10540926, ..., 0.11785113, 0.19245009,\n        1.        ]])"
     },
     "execution_count": 44,
     "metadata": {},
     "output_type": "execute_result"
    }
   ],
   "source": [
    "similarity=cosine_similarity(vector)\n",
    "similarity"
   ],
   "metadata": {
    "collapsed": false,
    "ExecuteTime": {
     "end_time": "2023-08-24T20:18:31.819923700Z",
     "start_time": "2023-08-24T20:18:26.881276100Z"
    }
   }
  },
  {
   "cell_type": "code",
   "execution_count": 45,
   "outputs": [],
   "source": [
    "def recommend(movie):\n",
    "    index=df1[df1['title']==movie].index[0]\n",
    "    distances=sorted(list(enumerate(similarity[index])),reverse=True,key=lambda x:x[1])\n",
    "    for i in distances[1:5]: #1 - 5 is the similarity. 0 being the \"movie\" recommended e.g. Aladdin below. Can also use the furthest by changing index to -5, -1 for example to get last 5.\n",
    "        print(df1.iloc[i[0]].title)\n"
   ],
   "metadata": {
    "collapsed": false,
    "ExecuteTime": {
     "end_time": "2023-08-24T20:18:31.867978800Z",
     "start_time": "2023-08-24T20:18:31.821920900Z"
    }
   }
  },
  {
   "cell_type": "code",
   "execution_count": 46,
   "outputs": [
    {
     "name": "stdout",
     "output_type": "stream",
     "text": [
      "Christopher Robin\n",
      "Darby O'Gill and the Little People\n",
      "Tuck Everlasting\n",
      "Togo\n"
     ]
    }
   ],
   "source": [
    "recommend('Aladdin')"
   ],
   "metadata": {
    "collapsed": false,
    "ExecuteTime": {
     "end_time": "2023-08-24T20:18:31.868976800Z",
     "start_time": "2023-08-24T20:18:31.836123700Z"
    }
   }
  },
  {
   "cell_type": "code",
   "execution_count": 46,
   "outputs": [],
   "source": [],
   "metadata": {
    "collapsed": false,
    "ExecuteTime": {
     "end_time": "2023-08-24T20:18:31.868976800Z",
     "start_time": "2023-08-24T20:18:31.853113400Z"
    }
   }
  },
  {
   "cell_type": "code",
   "execution_count": 47,
   "outputs": [],
   "source": [
    "from sklearn.preprocessing import StandardScaler"
   ],
   "metadata": {
    "collapsed": false,
    "ExecuteTime": {
     "end_time": "2023-08-24T20:18:31.896498Z",
     "start_time": "2023-08-24T20:18:31.868976800Z"
    }
   }
  },
  {
   "cell_type": "code",
   "execution_count": 48,
   "outputs": [
    {
     "name": "stderr",
     "output_type": "stream",
     "text": [
      "C:\\Users\\Richard\\Anaconda june 2023\\lib\\site-packages\\sklearn\\cluster\\_kmeans.py:870: FutureWarning: The default value of `n_init` will change from 10 to 'auto' in 1.4. Set the value of `n_init` explicitly to suppress the warning\n",
      "  warnings.warn(\n"
     ]
    }
   ],
   "source": [
    "# Select features for clustering\n",
    "selected_features = ['vote_average', 'vote_count', 'popularity', 'runtime', 'net_profit']\n",
    "data_subset = df1[selected_features]\n",
    "\n",
    "# Normalize features\n",
    "scaler = StandardScaler()\n",
    "data_scaled = scaler.fit_transform(data_subset)\n",
    "\n",
    "# Apply K-means clustering\n",
    "num_clusters = 6  # Adjust the number of clusters based on your data\n",
    "kmeans = KMeans(n_clusters=num_clusters, random_state=0)\n",
    "df1['cluster'] = kmeans.fit_predict(data_scaled)\n",
    "\n",
    "# Text vectorization for movie tags\n",
    "cv = CountVectorizer(max_features=8420, stop_words='english')\n",
    "tags_tfidf = cv.fit_transform(df1['tags'])\n",
    "\n",
    "# Calculate cosine similarity between tag vectors\n",
    "similarity = cosine_similarity(tags_tfidf)\n",
    "\n",
    "# Define a function to recommend movies based on clustering and cosine similarity\n",
    "def recommend_movies(movie_title):\n",
    "    index = df1[df1['title'] == movie_title].index[0]\n",
    "    cluster = df1.loc[index, 'cluster']\n",
    "\n",
    "    # Find movies in the same cluster\n",
    "    similar_movies = df1[df1['cluster'] == cluster]\n",
    "\n",
    "    # Calculate cosine similarity scores for the user input movie\n",
    "    movie_similarity_scores = similarity[index]\n",
    "\n",
    "    # Sort movies based on a combination of cluster membership and cosine similarity\n",
    "    similar_movies['similarity_score'] = movie_similarity_scores[similar_movies.index]\n",
    "    recommended_movies = similar_movies.sort_values(by=['cluster', 'similarity_score'], ascending=[True, False])\n",
    "\n",
    "    return recommended_movies[['title', 'vote_average', 'vote_count', 'popularity', 'runtime', 'net_profit']]\n",
    "\n",
    "# # User inputs a movie title\n",
    "# user_input_movie = \"Avatar\"\n",
    "#\n",
    "# # Get movie recommendations for the user input movie\n",
    "# recommendations = recommend_movies(user_input_movie)\n",
    "# print(recommendations.tail(10))  # Print the top recommended movies"
   ],
   "metadata": {
    "collapsed": false,
    "ExecuteTime": {
     "end_time": "2023-08-24T20:18:34.507173100Z",
     "start_time": "2023-08-24T20:18:31.896498Z"
    }
   }
  },
  {
   "cell_type": "code",
   "execution_count": 49,
   "outputs": [],
   "source": [
    "def recommender():\n",
    "    inp = input(\"Please enter a movie:\").title()\n",
    "    return recommend_movies(inp).head(10) #Remove the first entry as it will be the users movie suggestion.\n"
   ],
   "metadata": {
    "collapsed": false,
    "ExecuteTime": {
     "end_time": "2023-08-24T20:18:34.523131200Z",
     "start_time": "2023-08-24T20:18:34.510166100Z"
    }
   }
  },
  {
   "cell_type": "code",
   "execution_count": 50,
   "outputs": [
    {
     "name": "stderr",
     "output_type": "stream",
     "text": [
      "C:\\Users\\Richard\\AppData\\Local\\Temp\\ipykernel_29052\\3284944462.py:33: SettingWithCopyWarning: \n",
      "A value is trying to be set on a copy of a slice from a DataFrame.\n",
      "Try using .loc[row_indexer,col_indexer] = value instead\n",
      "\n",
      "See the caveats in the documentation: https://pandas.pydata.org/pandas-docs/stable/user_guide/indexing.html#returning-a-view-versus-a-copy\n",
      "  similar_movies['similarity_score'] = movie_similarity_scores[similar_movies.index]\n"
     ]
    },
    {
     "data": {
      "text/plain": "                        title  vote_average  vote_count  popularity  runtime  \\\n163                     Shrek           7.7       15254     152.468       90   \n314                   Shrek 2           7.2       10970      94.815       93   \n474           Shrek the Third           6.3        8056      70.102       93   \n467             Kung Fu Panda           7.2       10186      75.488       90   \n459               Toy Story 4           7.5        8799      68.042      100   \n2160                  Minions           6.4        9797      26.062       91   \n7196  The Secret Life of Pets           6.3        7527      11.553       86   \n293                 Toy Story           8.0       16655      92.768       81   \n488                        Up           7.9       18365      69.609       96   \n320                      Coco           8.2       17159      86.284      105   \n\n      net_profit  \n163    427853320  \n314    778760770  \n474    653367380  \n467    501744560  \n459    898394593  \n2160  1082730962  \n7196   800457937  \n293    343554033  \n488    560099082  \n320    625526015  ",
      "text/html": "<div>\n<style scoped>\n    .dataframe tbody tr th:only-of-type {\n        vertical-align: middle;\n    }\n\n    .dataframe tbody tr th {\n        vertical-align: top;\n    }\n\n    .dataframe thead th {\n        text-align: right;\n    }\n</style>\n<table border=\"1\" class=\"dataframe\">\n  <thead>\n    <tr style=\"text-align: right;\">\n      <th></th>\n      <th>title</th>\n      <th>vote_average</th>\n      <th>vote_count</th>\n      <th>popularity</th>\n      <th>runtime</th>\n      <th>net_profit</th>\n    </tr>\n  </thead>\n  <tbody>\n    <tr>\n      <th>163</th>\n      <td>Shrek</td>\n      <td>7.7</td>\n      <td>15254</td>\n      <td>152.468</td>\n      <td>90</td>\n      <td>427853320</td>\n    </tr>\n    <tr>\n      <th>314</th>\n      <td>Shrek 2</td>\n      <td>7.2</td>\n      <td>10970</td>\n      <td>94.815</td>\n      <td>93</td>\n      <td>778760770</td>\n    </tr>\n    <tr>\n      <th>474</th>\n      <td>Shrek the Third</td>\n      <td>6.3</td>\n      <td>8056</td>\n      <td>70.102</td>\n      <td>93</td>\n      <td>653367380</td>\n    </tr>\n    <tr>\n      <th>467</th>\n      <td>Kung Fu Panda</td>\n      <td>7.2</td>\n      <td>10186</td>\n      <td>75.488</td>\n      <td>90</td>\n      <td>501744560</td>\n    </tr>\n    <tr>\n      <th>459</th>\n      <td>Toy Story 4</td>\n      <td>7.5</td>\n      <td>8799</td>\n      <td>68.042</td>\n      <td>100</td>\n      <td>898394593</td>\n    </tr>\n    <tr>\n      <th>2160</th>\n      <td>Minions</td>\n      <td>6.4</td>\n      <td>9797</td>\n      <td>26.062</td>\n      <td>91</td>\n      <td>1082730962</td>\n    </tr>\n    <tr>\n      <th>7196</th>\n      <td>The Secret Life of Pets</td>\n      <td>6.3</td>\n      <td>7527</td>\n      <td>11.553</td>\n      <td>86</td>\n      <td>800457937</td>\n    </tr>\n    <tr>\n      <th>293</th>\n      <td>Toy Story</td>\n      <td>8.0</td>\n      <td>16655</td>\n      <td>92.768</td>\n      <td>81</td>\n      <td>343554033</td>\n    </tr>\n    <tr>\n      <th>488</th>\n      <td>Up</td>\n      <td>7.9</td>\n      <td>18365</td>\n      <td>69.609</td>\n      <td>96</td>\n      <td>560099082</td>\n    </tr>\n    <tr>\n      <th>320</th>\n      <td>Coco</td>\n      <td>8.2</td>\n      <td>17159</td>\n      <td>86.284</td>\n      <td>105</td>\n      <td>625526015</td>\n    </tr>\n  </tbody>\n</table>\n</div>"
     },
     "execution_count": 50,
     "metadata": {},
     "output_type": "execute_result"
    }
   ],
   "source": [
    "recommender()"
   ],
   "metadata": {
    "collapsed": false,
    "ExecuteTime": {
     "end_time": "2023-08-24T20:18:37.496149500Z",
     "start_time": "2023-08-24T20:18:34.526122700Z"
    }
   }
  },
  {
   "cell_type": "code",
   "execution_count": 51,
   "outputs": [
    {
     "name": "stdout",
     "output_type": "stream",
     "text": [
      "Requirement already satisfied: fuzzywuzzy in c:\\users\\richard\\anaconda june 2023\\lib\\site-packages (0.18.0)\n"
     ]
    }
   ],
   "source": [
    "!pip install fuzzywuzzy"
   ],
   "metadata": {
    "collapsed": false,
    "ExecuteTime": {
     "end_time": "2023-08-24T20:18:42.831414300Z",
     "start_time": "2023-08-24T20:18:37.485178300Z"
    }
   }
  },
  {
   "cell_type": "code",
   "execution_count": 52,
   "outputs": [
    {
     "name": "stderr",
     "output_type": "stream",
     "text": [
      "C:\\Users\\Richard\\Anaconda june 2023\\lib\\site-packages\\fuzzywuzzy\\fuzz.py:11: UserWarning: Using slow pure-python SequenceMatcher. Install python-Levenshtein to remove this warning\n",
      "  warnings.warn('Using slow pure-python SequenceMatcher. Install python-Levenshtein to remove this warning')\n"
     ]
    }
   ],
   "source": [
    "import re\n",
    "from fuzzywuzzy import fuzz"
   ],
   "metadata": {
    "collapsed": false,
    "ExecuteTime": {
     "end_time": "2023-08-24T20:18:42.902877700Z",
     "start_time": "2023-08-24T20:18:42.834381600Z"
    }
   }
  },
  {
   "cell_type": "code",
   "execution_count": 53,
   "outputs": [],
   "source": [
    "def preprocess_title(title):\n",
    "    # Convert to lowercase and remove punctuation\n",
    "    normalized_title = re.sub(r'[^\\w\\s]', '', title).lower()\n",
    "    return normalized_title\n",
    "\n",
    "def find_best_match(user_input, movie_titles):\n",
    "    user_input = preprocess_title(user_input)\n",
    "    best_match = max(movie_titles, key=lambda x: fuzz.ratio(user_input, x)) #Fuzzy wuzzy things\n",
    "    return best_match\n",
    "\n",
    "def recommender():\n",
    "    inp = input(\"Please enter a movie:\").title()\n",
    "\n",
    "    # Find the best matching movie title from your dataset\n",
    "    movie_titles = df1['title'] #.tolist()\n",
    "    best_matching_title = find_best_match(inp, movie_titles)\n",
    "\n",
    "    # Get recommendations based on the best matching title\n",
    "    return recommend_movies(best_matching_title).head(10)[1:]# Remove the first entry as it will be the user's movie suggestion."
   ],
   "metadata": {
    "collapsed": false,
    "ExecuteTime": {
     "end_time": "2023-08-24T20:18:42.903875300Z",
     "start_time": "2023-08-24T20:18:42.865766600Z"
    }
   }
  },
  {
   "cell_type": "code",
   "execution_count": 54,
   "outputs": [
    {
     "name": "stderr",
     "output_type": "stream",
     "text": [
      "C:\\Users\\Richard\\AppData\\Local\\Temp\\ipykernel_29052\\3284944462.py:33: SettingWithCopyWarning: \n",
      "A value is trying to be set on a copy of a slice from a DataFrame.\n",
      "Try using .loc[row_indexer,col_indexer] = value instead\n",
      "\n",
      "See the caveats in the documentation: https://pandas.pydata.org/pandas-docs/stable/user_guide/indexing.html#returning-a-view-versus-a-copy\n",
      "  similar_movies['similarity_score'] = movie_similarity_scores[similar_movies.index]\n"
     ]
    },
    {
     "data": {
      "text/plain": "                        title  vote_average  vote_count  popularity  runtime  \\\n314                   Shrek 2           7.2       10970      94.815       93   \n474           Shrek the Third           6.3        8056      70.102       93   \n467             Kung Fu Panda           7.2       10186      75.488       90   \n459               Toy Story 4           7.5        8799      68.042      100   \n2160                  Minions           6.4        9797      26.062       91   \n7196  The Secret Life of Pets           6.3        7527      11.553       86   \n293                 Toy Story           8.0       16655      92.768       81   \n488                        Up           7.9       18365      69.609       96   \n320                      Coco           8.2       17159      86.284      105   \n\n      net_profit  \n314    778760770  \n474    653367380  \n467    501744560  \n459    898394593  \n2160  1082730962  \n7196   800457937  \n293    343554033  \n488    560099082  \n320    625526015  ",
      "text/html": "<div>\n<style scoped>\n    .dataframe tbody tr th:only-of-type {\n        vertical-align: middle;\n    }\n\n    .dataframe tbody tr th {\n        vertical-align: top;\n    }\n\n    .dataframe thead th {\n        text-align: right;\n    }\n</style>\n<table border=\"1\" class=\"dataframe\">\n  <thead>\n    <tr style=\"text-align: right;\">\n      <th></th>\n      <th>title</th>\n      <th>vote_average</th>\n      <th>vote_count</th>\n      <th>popularity</th>\n      <th>runtime</th>\n      <th>net_profit</th>\n    </tr>\n  </thead>\n  <tbody>\n    <tr>\n      <th>314</th>\n      <td>Shrek 2</td>\n      <td>7.2</td>\n      <td>10970</td>\n      <td>94.815</td>\n      <td>93</td>\n      <td>778760770</td>\n    </tr>\n    <tr>\n      <th>474</th>\n      <td>Shrek the Third</td>\n      <td>6.3</td>\n      <td>8056</td>\n      <td>70.102</td>\n      <td>93</td>\n      <td>653367380</td>\n    </tr>\n    <tr>\n      <th>467</th>\n      <td>Kung Fu Panda</td>\n      <td>7.2</td>\n      <td>10186</td>\n      <td>75.488</td>\n      <td>90</td>\n      <td>501744560</td>\n    </tr>\n    <tr>\n      <th>459</th>\n      <td>Toy Story 4</td>\n      <td>7.5</td>\n      <td>8799</td>\n      <td>68.042</td>\n      <td>100</td>\n      <td>898394593</td>\n    </tr>\n    <tr>\n      <th>2160</th>\n      <td>Minions</td>\n      <td>6.4</td>\n      <td>9797</td>\n      <td>26.062</td>\n      <td>91</td>\n      <td>1082730962</td>\n    </tr>\n    <tr>\n      <th>7196</th>\n      <td>The Secret Life of Pets</td>\n      <td>6.3</td>\n      <td>7527</td>\n      <td>11.553</td>\n      <td>86</td>\n      <td>800457937</td>\n    </tr>\n    <tr>\n      <th>293</th>\n      <td>Toy Story</td>\n      <td>8.0</td>\n      <td>16655</td>\n      <td>92.768</td>\n      <td>81</td>\n      <td>343554033</td>\n    </tr>\n    <tr>\n      <th>488</th>\n      <td>Up</td>\n      <td>7.9</td>\n      <td>18365</td>\n      <td>69.609</td>\n      <td>96</td>\n      <td>560099082</td>\n    </tr>\n    <tr>\n      <th>320</th>\n      <td>Coco</td>\n      <td>8.2</td>\n      <td>17159</td>\n      <td>86.284</td>\n      <td>105</td>\n      <td>625526015</td>\n    </tr>\n  </tbody>\n</table>\n</div>"
     },
     "execution_count": 54,
     "metadata": {},
     "output_type": "execute_result"
    }
   ],
   "source": [
    "recommender()"
   ],
   "metadata": {
    "collapsed": false,
    "ExecuteTime": {
     "end_time": "2023-08-24T20:18:45.829116300Z",
     "start_time": "2023-08-24T20:18:42.880721500Z"
    }
   }
  },
  {
   "cell_type": "markdown",
   "source": [
    "# The least recommended movie"
   ],
   "metadata": {
    "collapsed": false
   }
  },
  {
   "cell_type": "code",
   "execution_count": 55,
   "outputs": [],
   "source": [
    "\n",
    "\n",
    "def recommenderNOT():\n",
    "    inp = input(\"Please enter a movie:\").title()\n",
    "\n",
    "    # Find the best matching movie title from your dataset\n",
    "    movie_titles = df1['title'] #.tolist()\n",
    "    best_matching_title = find_best_match(inp, movie_titles)\n",
    "\n",
    "    # Get recommendations based on the best matching title\n",
    "    return recommend_movies(best_matching_title).tail(10)"
   ],
   "metadata": {
    "collapsed": false,
    "ExecuteTime": {
     "end_time": "2023-08-24T20:18:45.843061200Z",
     "start_time": "2023-08-24T20:18:45.831111900Z"
    }
   }
  },
  {
   "cell_type": "code",
   "execution_count": 56,
   "outputs": [
    {
     "name": "stderr",
     "output_type": "stream",
     "text": [
      "C:\\Users\\Richard\\AppData\\Local\\Temp\\ipykernel_29052\\3284944462.py:33: SettingWithCopyWarning: \n",
      "A value is trying to be set on a copy of a slice from a DataFrame.\n",
      "Try using .loc[row_indexer,col_indexer] = value instead\n",
      "\n",
      "See the caveats in the documentation: https://pandas.pydata.org/pandas-docs/stable/user_guide/indexing.html#returning-a-view-versus-a-copy\n",
      "  similar_movies['similarity_score'] = movie_similarity_scores[similar_movies.index]\n"
     ]
    },
    {
     "data": {
      "text/plain": "                               title  vote_average  vote_count  popularity  \\\n338                          Titanic           7.9       22838     108.782   \n715                     Pulp Fiction           8.5       25104      59.938   \n927                             Lucy           6.4       14849      42.338   \n64                 Top Gun: Maverick           8.3        6759     277.473   \n617   Dawn of the Planet of the Apes           7.3       10089      63.929   \n229             Fifty Shades of Grey           5.9       10888     124.447   \n1053                           Logan           7.8       17718      48.728   \n1228                The Intouchables           8.3       15681      36.040   \n345                  The Maze Runner           7.2       15543      85.947   \n6261                  Wolf Warrior 2           6.6         223      17.135   \n\n      runtime  net_profit  \n338       194  2064162353  \n715       154   206179088  \n927        89   418863600  \n64        131  1318732821  \n617       130   540644566  \n229       125   531006128  \n1053      137   522021436  \n1228      113   413588510  \n345       113   314319861  \n6261      124   840622670  ",
      "text/html": "<div>\n<style scoped>\n    .dataframe tbody tr th:only-of-type {\n        vertical-align: middle;\n    }\n\n    .dataframe tbody tr th {\n        vertical-align: top;\n    }\n\n    .dataframe thead th {\n        text-align: right;\n    }\n</style>\n<table border=\"1\" class=\"dataframe\">\n  <thead>\n    <tr style=\"text-align: right;\">\n      <th></th>\n      <th>title</th>\n      <th>vote_average</th>\n      <th>vote_count</th>\n      <th>popularity</th>\n      <th>runtime</th>\n      <th>net_profit</th>\n    </tr>\n  </thead>\n  <tbody>\n    <tr>\n      <th>338</th>\n      <td>Titanic</td>\n      <td>7.9</td>\n      <td>22838</td>\n      <td>108.782</td>\n      <td>194</td>\n      <td>2064162353</td>\n    </tr>\n    <tr>\n      <th>715</th>\n      <td>Pulp Fiction</td>\n      <td>8.5</td>\n      <td>25104</td>\n      <td>59.938</td>\n      <td>154</td>\n      <td>206179088</td>\n    </tr>\n    <tr>\n      <th>927</th>\n      <td>Lucy</td>\n      <td>6.4</td>\n      <td>14849</td>\n      <td>42.338</td>\n      <td>89</td>\n      <td>418863600</td>\n    </tr>\n    <tr>\n      <th>64</th>\n      <td>Top Gun: Maverick</td>\n      <td>8.3</td>\n      <td>6759</td>\n      <td>277.473</td>\n      <td>131</td>\n      <td>1318732821</td>\n    </tr>\n    <tr>\n      <th>617</th>\n      <td>Dawn of the Planet of the Apes</td>\n      <td>7.3</td>\n      <td>10089</td>\n      <td>63.929</td>\n      <td>130</td>\n      <td>540644566</td>\n    </tr>\n    <tr>\n      <th>229</th>\n      <td>Fifty Shades of Grey</td>\n      <td>5.9</td>\n      <td>10888</td>\n      <td>124.447</td>\n      <td>125</td>\n      <td>531006128</td>\n    </tr>\n    <tr>\n      <th>1053</th>\n      <td>Logan</td>\n      <td>7.8</td>\n      <td>17718</td>\n      <td>48.728</td>\n      <td>137</td>\n      <td>522021436</td>\n    </tr>\n    <tr>\n      <th>1228</th>\n      <td>The Intouchables</td>\n      <td>8.3</td>\n      <td>15681</td>\n      <td>36.040</td>\n      <td>113</td>\n      <td>413588510</td>\n    </tr>\n    <tr>\n      <th>345</th>\n      <td>The Maze Runner</td>\n      <td>7.2</td>\n      <td>15543</td>\n      <td>85.947</td>\n      <td>113</td>\n      <td>314319861</td>\n    </tr>\n    <tr>\n      <th>6261</th>\n      <td>Wolf Warrior 2</td>\n      <td>6.6</td>\n      <td>223</td>\n      <td>17.135</td>\n      <td>124</td>\n      <td>840622670</td>\n    </tr>\n  </tbody>\n</table>\n</div>"
     },
     "execution_count": 56,
     "metadata": {},
     "output_type": "execute_result"
    }
   ],
   "source": [
    "recommenderNOT()"
   ],
   "metadata": {
    "collapsed": false,
    "ExecuteTime": {
     "end_time": "2023-08-24T20:18:47.996594600Z",
     "start_time": "2023-08-24T20:18:45.846053100Z"
    }
   }
  },
  {
   "cell_type": "markdown",
   "source": [
    "### Main Issues with this model\n",
    "\n",
    "The user input needs to be accurate. If the movie title doesn't match a movie in the dataset, it won't run, so if the user types it in wrong by adding an extra space it wont run.\n",
    "\n",
    "Going further with this point, the user's movie may not be in the dataset, so it wouldn't work with their movie. Dataset needs to be larger. perhaps move onto the 20M dataset.\n",
    "\n",
    "The prompt doesn't take into consideration multiple movies, just one movie.\n"
   ],
   "metadata": {
    "collapsed": false
   }
  },
  {
   "cell_type": "markdown",
   "source": [
    "### Evaluating the performance of this model\n",
    "\n",
    "Evaluating the performance of unsupervised learning models are different to supervised learning cases. You can't use traditional metrics such as Accuracy to determine the models performance as there is no target. For my model, I used K-Means clustering"
   ],
   "metadata": {
    "collapsed": false
   }
  },
  {
   "cell_type": "markdown",
   "source": [
    "#Things to investigate\n",
    "#precision at k\n",
    "#recall at k\n",
    "#mean average precision at k"
   ],
   "metadata": {
    "collapsed": false
   }
  },
  {
   "cell_type": "markdown",
   "source": [
    "#Precision at K\n"
   ],
   "metadata": {
    "collapsed": false
   }
  },
  {
   "cell_type": "markdown",
   "source": [
    "#look at the vectorizor and change the number of features\n",
    "#silhouette coefficient to evaluate the performance of K\n"
   ],
   "metadata": {
    "collapsed": false
   }
  },
  {
   "cell_type": "code",
   "execution_count": 57,
   "outputs": [],
   "source": [
    "#Looking at K\n",
    "#Silhouete Method\n"
   ],
   "metadata": {
    "collapsed": false,
    "ExecuteTime": {
     "end_time": "2023-08-24T20:18:48.012844200Z",
     "start_time": "2023-08-24T20:18:47.999573600Z"
    }
   }
  },
  {
   "cell_type": "code",
   "execution_count": 58,
   "outputs": [],
   "source": [
    "from sklearn.cluster import KMeans\n",
    "from sklearn.metrics import silhouette_score"
   ],
   "metadata": {
    "collapsed": false,
    "ExecuteTime": {
     "end_time": "2023-08-24T20:18:48.074194400Z",
     "start_time": "2023-08-24T20:18:48.013840200Z"
    }
   }
  },
  {
   "cell_type": "code",
   "execution_count": 59,
   "outputs": [
    {
     "name": "stderr",
     "output_type": "stream",
     "text": [
      "C:\\Users\\Richard\\Anaconda june 2023\\lib\\site-packages\\sklearn\\cluster\\_kmeans.py:870: FutureWarning: The default value of `n_init` will change from 10 to 'auto' in 1.4. Set the value of `n_init` explicitly to suppress the warning\n",
      "  warnings.warn(\n",
      "C:\\Users\\Richard\\Anaconda june 2023\\lib\\site-packages\\sklearn\\cluster\\_kmeans.py:870: FutureWarning: The default value of `n_init` will change from 10 to 'auto' in 1.4. Set the value of `n_init` explicitly to suppress the warning\n",
      "  warnings.warn(\n",
      "C:\\Users\\Richard\\Anaconda june 2023\\lib\\site-packages\\sklearn\\cluster\\_kmeans.py:870: FutureWarning: The default value of `n_init` will change from 10 to 'auto' in 1.4. Set the value of `n_init` explicitly to suppress the warning\n",
      "  warnings.warn(\n",
      "C:\\Users\\Richard\\Anaconda june 2023\\lib\\site-packages\\sklearn\\cluster\\_kmeans.py:870: FutureWarning: The default value of `n_init` will change from 10 to 'auto' in 1.4. Set the value of `n_init` explicitly to suppress the warning\n",
      "  warnings.warn(\n",
      "C:\\Users\\Richard\\Anaconda june 2023\\lib\\site-packages\\sklearn\\cluster\\_kmeans.py:870: FutureWarning: The default value of `n_init` will change from 10 to 'auto' in 1.4. Set the value of `n_init` explicitly to suppress the warning\n",
      "  warnings.warn(\n",
      "C:\\Users\\Richard\\Anaconda june 2023\\lib\\site-packages\\sklearn\\cluster\\_kmeans.py:870: FutureWarning: The default value of `n_init` will change from 10 to 'auto' in 1.4. Set the value of `n_init` explicitly to suppress the warning\n",
      "  warnings.warn(\n",
      "C:\\Users\\Richard\\Anaconda june 2023\\lib\\site-packages\\sklearn\\cluster\\_kmeans.py:870: FutureWarning: The default value of `n_init` will change from 10 to 'auto' in 1.4. Set the value of `n_init` explicitly to suppress the warning\n",
      "  warnings.warn(\n",
      "C:\\Users\\Richard\\Anaconda june 2023\\lib\\site-packages\\sklearn\\cluster\\_kmeans.py:870: FutureWarning: The default value of `n_init` will change from 10 to 'auto' in 1.4. Set the value of `n_init` explicitly to suppress the warning\n",
      "  warnings.warn(\n",
      "C:\\Users\\Richard\\Anaconda june 2023\\lib\\site-packages\\sklearn\\cluster\\_kmeans.py:870: FutureWarning: The default value of `n_init` will change from 10 to 'auto' in 1.4. Set the value of `n_init` explicitly to suppress the warning\n",
      "  warnings.warn(\n",
      "C:\\Users\\Richard\\Anaconda june 2023\\lib\\site-packages\\sklearn\\cluster\\_kmeans.py:870: FutureWarning: The default value of `n_init` will change from 10 to 'auto' in 1.4. Set the value of `n_init` explicitly to suppress the warning\n",
      "  warnings.warn(\n",
      "C:\\Users\\Richard\\Anaconda june 2023\\lib\\site-packages\\sklearn\\cluster\\_kmeans.py:870: FutureWarning: The default value of `n_init` will change from 10 to 'auto' in 1.4. Set the value of `n_init` explicitly to suppress the warning\n",
      "  warnings.warn(\n",
      "C:\\Users\\Richard\\Anaconda june 2023\\lib\\site-packages\\sklearn\\cluster\\_kmeans.py:870: FutureWarning: The default value of `n_init` will change from 10 to 'auto' in 1.4. Set the value of `n_init` explicitly to suppress the warning\n",
      "  warnings.warn(\n",
      "C:\\Users\\Richard\\Anaconda june 2023\\lib\\site-packages\\sklearn\\cluster\\_kmeans.py:870: FutureWarning: The default value of `n_init` will change from 10 to 'auto' in 1.4. Set the value of `n_init` explicitly to suppress the warning\n",
      "  warnings.warn(\n",
      "C:\\Users\\Richard\\Anaconda june 2023\\lib\\site-packages\\sklearn\\cluster\\_kmeans.py:870: FutureWarning: The default value of `n_init` will change from 10 to 'auto' in 1.4. Set the value of `n_init` explicitly to suppress the warning\n",
      "  warnings.warn(\n",
      "C:\\Users\\Richard\\Anaconda june 2023\\lib\\site-packages\\sklearn\\cluster\\_kmeans.py:870: FutureWarning: The default value of `n_init` will change from 10 to 'auto' in 1.4. Set the value of `n_init` explicitly to suppress the warning\n",
      "  warnings.warn(\n",
      "C:\\Users\\Richard\\Anaconda june 2023\\lib\\site-packages\\sklearn\\cluster\\_kmeans.py:870: FutureWarning: The default value of `n_init` will change from 10 to 'auto' in 1.4. Set the value of `n_init` explicitly to suppress the warning\n",
      "  warnings.warn(\n",
      "C:\\Users\\Richard\\Anaconda june 2023\\lib\\site-packages\\sklearn\\cluster\\_kmeans.py:870: FutureWarning: The default value of `n_init` will change from 10 to 'auto' in 1.4. Set the value of `n_init` explicitly to suppress the warning\n",
      "  warnings.warn(\n",
      "C:\\Users\\Richard\\Anaconda june 2023\\lib\\site-packages\\sklearn\\cluster\\_kmeans.py:870: FutureWarning: The default value of `n_init` will change from 10 to 'auto' in 1.4. Set the value of `n_init` explicitly to suppress the warning\n",
      "  warnings.warn(\n",
      "C:\\Users\\Richard\\Anaconda june 2023\\lib\\site-packages\\sklearn\\cluster\\_kmeans.py:870: FutureWarning: The default value of `n_init` will change from 10 to 'auto' in 1.4. Set the value of `n_init` explicitly to suppress the warning\n",
      "  warnings.warn(\n",
      "C:\\Users\\Richard\\Anaconda june 2023\\lib\\site-packages\\sklearn\\cluster\\_kmeans.py:870: FutureWarning: The default value of `n_init` will change from 10 to 'auto' in 1.4. Set the value of `n_init` explicitly to suppress the warning\n",
      "  warnings.warn(\n",
      "C:\\Users\\Richard\\Anaconda june 2023\\lib\\site-packages\\sklearn\\cluster\\_kmeans.py:870: FutureWarning: The default value of `n_init` will change from 10 to 'auto' in 1.4. Set the value of `n_init` explicitly to suppress the warning\n",
      "  warnings.warn(\n",
      "C:\\Users\\Richard\\Anaconda june 2023\\lib\\site-packages\\sklearn\\cluster\\_kmeans.py:870: FutureWarning: The default value of `n_init` will change from 10 to 'auto' in 1.4. Set the value of `n_init` explicitly to suppress the warning\n",
      "  warnings.warn(\n",
      "C:\\Users\\Richard\\Anaconda june 2023\\lib\\site-packages\\sklearn\\cluster\\_kmeans.py:870: FutureWarning: The default value of `n_init` will change from 10 to 'auto' in 1.4. Set the value of `n_init` explicitly to suppress the warning\n",
      "  warnings.warn(\n",
      "C:\\Users\\Richard\\Anaconda june 2023\\lib\\site-packages\\sklearn\\cluster\\_kmeans.py:870: FutureWarning: The default value of `n_init` will change from 10 to 'auto' in 1.4. Set the value of `n_init` explicitly to suppress the warning\n",
      "  warnings.warn(\n",
      "C:\\Users\\Richard\\Anaconda june 2023\\lib\\site-packages\\sklearn\\cluster\\_kmeans.py:870: FutureWarning: The default value of `n_init` will change from 10 to 'auto' in 1.4. Set the value of `n_init` explicitly to suppress the warning\n",
      "  warnings.warn(\n",
      "C:\\Users\\Richard\\Anaconda june 2023\\lib\\site-packages\\sklearn\\cluster\\_kmeans.py:870: FutureWarning: The default value of `n_init` will change from 10 to 'auto' in 1.4. Set the value of `n_init` explicitly to suppress the warning\n",
      "  warnings.warn(\n",
      "C:\\Users\\Richard\\Anaconda june 2023\\lib\\site-packages\\sklearn\\cluster\\_kmeans.py:870: FutureWarning: The default value of `n_init` will change from 10 to 'auto' in 1.4. Set the value of `n_init` explicitly to suppress the warning\n",
      "  warnings.warn(\n",
      "C:\\Users\\Richard\\Anaconda june 2023\\lib\\site-packages\\sklearn\\cluster\\_kmeans.py:870: FutureWarning: The default value of `n_init` will change from 10 to 'auto' in 1.4. Set the value of `n_init` explicitly to suppress the warning\n",
      "  warnings.warn(\n"
     ]
    },
    {
     "data": {
      "text/plain": "<Figure size 800x600 with 1 Axes>",
      "image/png": "[encoded data removed]"
     },
     "metadata": {},
     "output_type": "display_data"
    }
   ],
   "source": [
    "silhouette_scores = []\n",
    "for k in range(2, 30):  # Try different k values\n",
    "    kmeans = KMeans(n_clusters=k, random_state=0)\n",
    "    kmeans.fit(data_subset)\n",
    "    labels = kmeans.labels_\n",
    "    silhouette_avg = silhouette_score(data_subset, labels)\n",
    "    silhouette_scores.append(silhouette_avg)\n",
    "# Plotting the silhouette scores\n",
    "plt.figure(figsize=(8, 6))\n",
    "plt.plot(range(2, 30), silhouette_scores, marker='o')\n",
    "plt.title('Silhouette Score for Different k Values')\n",
    "plt.xlabel('Number of Clusters (k)')\n",
    "plt.ylabel('Silhouette Score')\n",
    "plt.xticks(np.arange(2, 30))\n",
    "plt.grid(True)\n",
    "plt.show()"
   ],
   "metadata": {
    "collapsed": false,
    "ExecuteTime": {
     "end_time": "2023-08-24T20:19:54.318295500Z",
     "start_time": "2023-08-24T20:18:48.033281300Z"
    }
   }
  },
  {
   "cell_type": "code",
   "execution_count": 60,
   "outputs": [],
   "source": [
    "best_k = np.argmax(silhouette_scores) + 2  # Adding 2 since k loop starts from 2\n",
    "#bubbles split."
   ],
   "metadata": {
    "collapsed": false,
    "ExecuteTime": {
     "end_time": "2023-08-24T20:19:54.334275500Z",
     "start_time": "2023-08-24T20:19:54.319293100Z"
    }
   }
  },
  {
   "cell_type": "code",
   "execution_count": 61,
   "outputs": [
    {
     "name": "stdout",
     "output_type": "stream",
     "text": [
      "2\n"
     ]
    }
   ],
   "source": [
    "print(best_k)"
   ],
   "metadata": {
    "collapsed": false,
    "ExecuteTime": {
     "end_time": "2023-08-24T20:19:54.519811400Z",
     "start_time": "2023-08-24T20:19:54.336271200Z"
    }
   }
  },
  {
   "cell_type": "code",
   "execution_count": 62,
   "outputs": [
    {
     "name": "stderr",
     "output_type": "stream",
     "text": [
      "C:\\Users\\Richard\\Anaconda june 2023\\lib\\site-packages\\sklearn\\cluster\\_kmeans.py:870: FutureWarning: The default value of `n_init` will change from 10 to 'auto' in 1.4. Set the value of `n_init` explicitly to suppress the warning\n",
      "  warnings.warn(\n",
      "C:\\Users\\Richard\\Anaconda june 2023\\lib\\site-packages\\sklearn\\cluster\\_kmeans.py:870: FutureWarning: The default value of `n_init` will change from 10 to 'auto' in 1.4. Set the value of `n_init` explicitly to suppress the warning\n",
      "  warnings.warn(\n",
      "C:\\Users\\Richard\\Anaconda june 2023\\lib\\site-packages\\sklearn\\cluster\\_kmeans.py:870: FutureWarning: The default value of `n_init` will change from 10 to 'auto' in 1.4. Set the value of `n_init` explicitly to suppress the warning\n",
      "  warnings.warn(\n",
      "C:\\Users\\Richard\\Anaconda june 2023\\lib\\site-packages\\sklearn\\cluster\\_kmeans.py:870: FutureWarning: The default value of `n_init` will change from 10 to 'auto' in 1.4. Set the value of `n_init` explicitly to suppress the warning\n",
      "  warnings.warn(\n",
      "C:\\Users\\Richard\\Anaconda june 2023\\lib\\site-packages\\sklearn\\cluster\\_kmeans.py:870: FutureWarning: The default value of `n_init` will change from 10 to 'auto' in 1.4. Set the value of `n_init` explicitly to suppress the warning\n",
      "  warnings.warn(\n",
      "C:\\Users\\Richard\\Anaconda june 2023\\lib\\site-packages\\sklearn\\cluster\\_kmeans.py:870: FutureWarning: The default value of `n_init` will change from 10 to 'auto' in 1.4. Set the value of `n_init` explicitly to suppress the warning\n",
      "  warnings.warn(\n",
      "C:\\Users\\Richard\\Anaconda june 2023\\lib\\site-packages\\sklearn\\cluster\\_kmeans.py:870: FutureWarning: The default value of `n_init` will change from 10 to 'auto' in 1.4. Set the value of `n_init` explicitly to suppress the warning\n",
      "  warnings.warn(\n",
      "C:\\Users\\Richard\\Anaconda june 2023\\lib\\site-packages\\sklearn\\cluster\\_kmeans.py:870: FutureWarning: The default value of `n_init` will change from 10 to 'auto' in 1.4. Set the value of `n_init` explicitly to suppress the warning\n",
      "  warnings.warn(\n",
      "C:\\Users\\Richard\\Anaconda june 2023\\lib\\site-packages\\sklearn\\cluster\\_kmeans.py:870: FutureWarning: The default value of `n_init` will change from 10 to 'auto' in 1.4. Set the value of `n_init` explicitly to suppress the warning\n",
      "  warnings.warn(\n",
      "C:\\Users\\Richard\\Anaconda june 2023\\lib\\site-packages\\sklearn\\cluster\\_kmeans.py:870: FutureWarning: The default value of `n_init` will change from 10 to 'auto' in 1.4. Set the value of `n_init` explicitly to suppress the warning\n",
      "  warnings.warn(\n",
      "C:\\Users\\Richard\\Anaconda june 2023\\lib\\site-packages\\sklearn\\cluster\\_kmeans.py:870: FutureWarning: The default value of `n_init` will change from 10 to 'auto' in 1.4. Set the value of `n_init` explicitly to suppress the warning\n",
      "  warnings.warn(\n",
      "C:\\Users\\Richard\\Anaconda june 2023\\lib\\site-packages\\sklearn\\cluster\\_kmeans.py:870: FutureWarning: The default value of `n_init` will change from 10 to 'auto' in 1.4. Set the value of `n_init` explicitly to suppress the warning\n",
      "  warnings.warn(\n",
      "C:\\Users\\Richard\\Anaconda june 2023\\lib\\site-packages\\sklearn\\cluster\\_kmeans.py:870: FutureWarning: The default value of `n_init` will change from 10 to 'auto' in 1.4. Set the value of `n_init` explicitly to suppress the warning\n",
      "  warnings.warn(\n",
      "C:\\Users\\Richard\\Anaconda june 2023\\lib\\site-packages\\sklearn\\cluster\\_kmeans.py:870: FutureWarning: The default value of `n_init` will change from 10 to 'auto' in 1.4. Set the value of `n_init` explicitly to suppress the warning\n",
      "  warnings.warn(\n",
      "C:\\Users\\Richard\\Anaconda june 2023\\lib\\site-packages\\sklearn\\cluster\\_kmeans.py:870: FutureWarning: The default value of `n_init` will change from 10 to 'auto' in 1.4. Set the value of `n_init` explicitly to suppress the warning\n",
      "  warnings.warn(\n",
      "C:\\Users\\Richard\\Anaconda june 2023\\lib\\site-packages\\sklearn\\cluster\\_kmeans.py:870: FutureWarning: The default value of `n_init` will change from 10 to 'auto' in 1.4. Set the value of `n_init` explicitly to suppress the warning\n",
      "  warnings.warn(\n",
      "C:\\Users\\Richard\\Anaconda june 2023\\lib\\site-packages\\sklearn\\cluster\\_kmeans.py:870: FutureWarning: The default value of `n_init` will change from 10 to 'auto' in 1.4. Set the value of `n_init` explicitly to suppress the warning\n",
      "  warnings.warn(\n",
      "C:\\Users\\Richard\\Anaconda june 2023\\lib\\site-packages\\sklearn\\cluster\\_kmeans.py:870: FutureWarning: The default value of `n_init` will change from 10 to 'auto' in 1.4. Set the value of `n_init` explicitly to suppress the warning\n",
      "  warnings.warn(\n",
      "C:\\Users\\Richard\\Anaconda june 2023\\lib\\site-packages\\sklearn\\cluster\\_kmeans.py:870: FutureWarning: The default value of `n_init` will change from 10 to 'auto' in 1.4. Set the value of `n_init` explicitly to suppress the warning\n",
      "  warnings.warn(\n",
      "C:\\Users\\Richard\\Anaconda june 2023\\lib\\site-packages\\sklearn\\cluster\\_kmeans.py:870: FutureWarning: The default value of `n_init` will change from 10 to 'auto' in 1.4. Set the value of `n_init` explicitly to suppress the warning\n",
      "  warnings.warn(\n",
      "C:\\Users\\Richard\\Anaconda june 2023\\lib\\site-packages\\sklearn\\cluster\\_kmeans.py:870: FutureWarning: The default value of `n_init` will change from 10 to 'auto' in 1.4. Set the value of `n_init` explicitly to suppress the warning\n",
      "  warnings.warn(\n",
      "C:\\Users\\Richard\\Anaconda june 2023\\lib\\site-packages\\sklearn\\cluster\\_kmeans.py:870: FutureWarning: The default value of `n_init` will change from 10 to 'auto' in 1.4. Set the value of `n_init` explicitly to suppress the warning\n",
      "  warnings.warn(\n",
      "C:\\Users\\Richard\\Anaconda june 2023\\lib\\site-packages\\sklearn\\cluster\\_kmeans.py:870: FutureWarning: The default value of `n_init` will change from 10 to 'auto' in 1.4. Set the value of `n_init` explicitly to suppress the warning\n",
      "  warnings.warn(\n",
      "C:\\Users\\Richard\\Anaconda june 2023\\lib\\site-packages\\sklearn\\cluster\\_kmeans.py:870: FutureWarning: The default value of `n_init` will change from 10 to 'auto' in 1.4. Set the value of `n_init` explicitly to suppress the warning\n",
      "  warnings.warn(\n",
      "C:\\Users\\Richard\\Anaconda june 2023\\lib\\site-packages\\sklearn\\cluster\\_kmeans.py:870: FutureWarning: The default value of `n_init` will change from 10 to 'auto' in 1.4. Set the value of `n_init` explicitly to suppress the warning\n",
      "  warnings.warn(\n",
      "C:\\Users\\Richard\\Anaconda june 2023\\lib\\site-packages\\sklearn\\cluster\\_kmeans.py:870: FutureWarning: The default value of `n_init` will change from 10 to 'auto' in 1.4. Set the value of `n_init` explicitly to suppress the warning\n",
      "  warnings.warn(\n",
      "C:\\Users\\Richard\\Anaconda june 2023\\lib\\site-packages\\sklearn\\cluster\\_kmeans.py:870: FutureWarning: The default value of `n_init` will change from 10 to 'auto' in 1.4. Set the value of `n_init` explicitly to suppress the warning\n",
      "  warnings.warn(\n",
      "C:\\Users\\Richard\\Anaconda june 2023\\lib\\site-packages\\sklearn\\cluster\\_kmeans.py:870: FutureWarning: The default value of `n_init` will change from 10 to 'auto' in 1.4. Set the value of `n_init` explicitly to suppress the warning\n",
      "  warnings.warn(\n"
     ]
    },
    {
     "data": {
      "text/plain": "<Figure size 800x600 with 1 Axes>",
      "image/png": "[encoded data removed]"
     },
     "metadata": {},
     "output_type": "display_data"
    }
   ],
   "source": [
    "# Calculate WCSS for different k values\n",
    "wcss = []\n",
    "for k in range(2, 30):\n",
    "    kmeans = KMeans(n_clusters=k, random_state=42)\n",
    "    kmeans.fit(data_subset)\n",
    "    wcss.append(kmeans.inertia_)  # Inertia is the WCSS value\n",
    "\n",
    "# Plotting the elbow curve\n",
    "plt.figure(figsize=(8, 6))\n",
    "plt.plot(range(2, 30), wcss, marker='o')\n",
    "plt.title('Elbow Method for Optimal k')\n",
    "plt.xlabel('Number of Clusters (k)')\n",
    "plt.ylabel('Within-Cluster Sum of Squares (WCSS)')\n",
    "plt.xticks(np.arange(2, 30))\n",
    "plt.grid(True)\n",
    "plt.show()"
   ],
   "metadata": {
    "collapsed": false,
    "ExecuteTime": {
     "end_time": "2023-08-24T20:20:25.538340900Z",
     "start_time": "2023-08-24T20:19:54.355252600Z"
    }
   }
  },
  {
   "cell_type": "code",
   "execution_count": 62,
   "outputs": [],
   "source": [],
   "metadata": {
    "collapsed": false,
    "ExecuteTime": {
     "end_time": "2023-08-24T20:20:25.620184600Z",
     "start_time": "2023-08-24T20:20:25.539307300Z"
    }
   }
  }
 ],
 "metadata": {
  "kernelspec": {
   "display_name": "Python 3",
   "language": "python",
   "name": "python3"
  },
  "language_info": {
   "codemirror_mode": {
    "name": "ipython",
    "version": 2
   },
   "file_extension": ".py",
   "mimetype": "text/x-python",
   "name": "python",
   "nbconvert_exporter": "python",
   "pygments_lexer": "ipython2",
   "version": "2.7.6"
  }
 },
 "nbformat": 4,
 "nbformat_minor": 0
}
